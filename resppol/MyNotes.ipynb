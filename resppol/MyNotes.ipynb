{
  "cells": [
    {
      "cell_type": "code",
      "execution_count": null,
      "outputs": [],
      "source": "",
      "metadata": {
        "pycharm": {
          "metadata": false,
          "name": "#%%\n"
        }
      }
    },
    {
      "cell_type": "markdown",
      "source": "# Notes for reimplemtation\n## Goals\nFit charges for multiple molecules and multiple conformation\nFit polarization for multiple molecule and multiple conformations\nFit charges and polarizabilities for multiple conf/ molecules\nFit BCCs for multiple molecules\nFit BCCs and polarizaibilities for multiple molecule and conformations\n## Things to consider\nCharges are a per atom property\nBCCs are a bond property and is limited by the number of different bonds in the offxml file\nPolarizations parameters are limited by the number of atom types I allow in the forcefield file\n\nFor BCC POL and BCCPOL the logic idea is to build a matrix from size (len(bcc)+len(pol)) and buid this matrix \nfor every molecule independently. The drawback is that a lot of the entries are zero but it is super is to \nparallize with dask.\n\nFor charges the the number of matrix elemnts is not obvious. Every charge gets its own row. Therefore the same approach is impractical. I can still follow the route of building one matrix and then combine the matrices with \nlagrange multiplicators. \n\nI want to build the matrix from the bottom up. So make sure for polarized molecules to build the matrix for 1 conformation including all ESP (base and pol) first and then go on. Speedup of a factor of 7 possible\n\ninclude timing\n\ninclude logging\n\nInclude units via package Pint\n\n## Open Questions\nDo I want to include more than 1 molecule per ESP --\u003e probably not now. \n\n\n## Classes\n\n### Traingset\n1 class per instance. Defines what type of optimization we are performing. \n\nvector qpol\n\ncalc qpol\nupdate qpol\n\nwrite results to offxml\n\n- parmeters:\n    - tzpe of optimization (q/d/qd/bcc/bccpol/pol)\n    \n- attributes:\n    - the main matrix which is optimized (at least for bccpol and pol) \n\n### Molecule\nConstist of multiple conformations.\n \n init(mol2):\n    self.offmol \u003d openforcefield.Molecule(mol2)\n    self._T \u003d self._create_T()\n    self._qll \u003d self._create_qll()\n    self._Tpol \u003d self._create_Tpol()\n    self._S \u003d self._create_S()\n    self._conformers \u003d list() # Important that we don\u0027t take confs from mol2\n    \n    \n \n openff.Molecule\n qll \n T\n Tpol\n ScalingMatrix S\n conformers\n \nproperties:\n- T\n- qll\n- Tpol\n\nfunctions:\n- build_A\n- build_B\n- get_charges_including_bccs(bccvector)\n- add_conformer_from_mol2(self, mol2)\n    Check atom ordering\n    get coordinates from mol2\n    self._conformers.append(coordinates)\n\n\n### Conformation\n\ndef __init__(self, mol2_file):\n   self._atom_positions \u003d (get atom positions here)\n\nattributes: \n    baseESP\n    polESPs\n    atompositions (natoms*3 numpy array)\n    \nfunctions:\n    distances \u003d get_distances()\n    combine_grids()\n    del_cached_data()*\n    add_grid\n    \n\n# Creating the data structure example\ndataset \u003d MolDataSet()\nfor mol_file in top_folder:\n  new_mol \u003d Molecule(mol_file)\n  for conf_file in folder_2:\n    new_conf \u003d Conformer(conf_file)\n    for esp_file, grid_file in folder_3:\n      e_field \u003d (somehow figure out efield here)\n      new_conf.add_grid(esp_file, grid_file, e_field)\n    new_mol.add_conformer(new_conf)\n  dataset.add_molecule(new_mol)\n    \n\n\n### Atom\n    ext_efield\n\n### Bond\n\n### (possibly) GridCollection\ninfo:\n  grid_positions\n\n\n### ESPGRID\ndef __init__(self, esp_file, grid_file):\n  self._esp_values \u003d load_grid_file(esp_file)\n  self._grid_positions \u003d load_positions(grid_file)\n  \n    Information:\n    esp_values (Pint-wrapped numpy array)\n    grid_positions (Pint-wrapped n*3 numpy array)\n    @property Efield vector\n    \n    Functions:\n    None\n    \n##### BCCUnpolESP (ESPGRID)\n     \n##### BCCPolESP (ESPGRID)\ndef __init__(self, esp_file, grid_file, ext_field):\n  super().__init__(esp_file, grid_file)\n  self._ext_field \u003d ext_field\n    ext_field\n    \n      \n## Functions\n\n### equil_atoms\nReturns the atomic number of equivalent atoms (intramolecular)\n\n\n\n\n### Input files required\nList of atom names\n\n### Open Questions:\n - How to i link the molecules and the esp file in the input. \n     - Should i think about a predefinied order structure \n - Should I split the trainingset class into 2 subclasses one for charges and one for bccs\n     \n",
      "metadata": {
        "pycharm": {
          "metadata": false
        }
      }
    },
    {
      "cell_type": "code",
      "execution_count": null,
      "metadata": {
        "collapsed": true,
        "pycharm": {}
      },
      "outputs": [],
      "source": ""
    }
  ],
  "metadata": {
    "language_info": {
      "codemirror_mode": {
        "name": "ipython",
        "version": 2
      },
      "file_extension": ".py",
      "mimetype": "text/x-python",
      "name": "python",
      "nbconvert_exporter": "python",
      "pygments_lexer": "ipython2",
      "version": "2.7.6"
    },
    "kernelspec": {
      "name": "python3",
      "language": "python",
      "display_name": "Python 3"
    },
    "stem_cell": {
      "cell_type": "raw",
      "source": "",
      "metadata": {
        "pycharm": {
          "metadata": false
        }
      }
    }
  },
  "nbformat": 4,
  "nbformat_minor": 0
}