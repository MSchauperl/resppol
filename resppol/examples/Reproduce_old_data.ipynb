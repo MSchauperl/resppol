{
 "cells": [
  {
   "cell_type": "markdown",
   "metadata": {},
   "source": [
    "# Reproduce old data\n",
    "I rewrote the whole code. This is for comparison if the new code agrees with the old code. I have some examples in the tests but i wanted to make sure it actually agrees also for real examples. I find some disrepancies earlier not sure if I fixed them. "
   ]
  },
  {
   "cell_type": "code",
   "execution_count": 1,
   "metadata": {
    "pycharm": {
     "is_executing": false
    }
   },
   "outputs": [
    {
     "data": {
      "text/plain": [
       "'/home/mschauperl/programs/resppol/resppol/resppol.py'"
      ]
     },
     "execution_count": 1,
     "metadata": {},
     "output_type": "execute_result"
    }
   ],
   "source": [
    "#import resppol\n",
    "import resppol.resppol\n",
    "import os\n",
    "from pint import UnitRegistry\n",
    "ureg = UnitRegistry()\n",
    "Q_ = ureg.Quantity\n",
    "ureg.define('bohr = 0.52917721067 * angstrom')\n",
    "dir(resppol.resppol)\n",
    "resppol.resppol.__file__"
   ]
  },
  {
   "cell_type": "markdown",
   "metadata": {},
   "source": [
    "A quite simple example. Only fitting charges. This is to test the fixed charge unit of the new and old code. And with testing I actually mean comparing."
   ]
  },
  {
   "cell_type": "code",
   "execution_count": 3,
   "metadata": {
    "pycharm": {
     "is_executing": false
    }
   },
   "outputs": [
    {
     "name": "stderr",
     "output_type": "stream",
     "text": [
      "2019-11-13 10:23:19,882  - INFO - Charge Dipole interactions are scaled using the following parameters None. \n"
     ]
    },
    {
     "name": "stdout",
     "output_type": "stream",
     "text": [
      "Charge Dipole interactions are scaled using the following parameters None. \n"
     ]
    },
    {
     "name": "stderr",
     "output_type": "stream",
     "text": [
      "2019-11-13 10:23:19,883  - INFO - If non are specified the default is 0.0, 0.0, 0.8333. This means that 1-2 and 1-3 interactions are neglected and 1-4 are scaled by a factor 0.8333. \n"
     ]
    },
    {
     "name": "stdout",
     "output_type": "stream",
     "text": [
      "If non are specified the default is 0.0, 0.0, 0.8333. This means that 1-2 and 1-3 interactions are neglected and 1-4 are scaled by a factor 0.8333. \n"
     ]
    },
    {
     "name": "stderr",
     "output_type": "stream",
     "text": [
      "2019-11-13 10:23:19,884  - INFO - Running in Mode: q_alpha\n"
     ]
    },
    {
     "name": "stdout",
     "output_type": "stream",
     "text": [
      "Running in Mode: q_alpha\n"
     ]
    },
    {
     "name": "stderr",
     "output_type": "stream",
     "text": [
      "2019-11-13 10:23:19,935  - INFO - The forcefield used for this run is /home/mschauperl/programs/resppol/resppol/../resppol/data/test_data/BCCelementPOL.offxml \n"
     ]
    },
    {
     "name": "stdout",
     "output_type": "stream",
     "text": [
      "The forcefield used for this run is /home/mschauperl/programs/resppol/resppol/../resppol/data/test_data/BCCelementPOL.offxml \n"
     ]
    },
    {
     "name": "stderr",
     "output_type": "stream",
     "text": [
      "2019-11-13 10:23:20,069  - INFO - Add bond with type b1 between atom 0 and atom 1\n"
     ]
    },
    {
     "name": "stdout",
     "output_type": "stream",
     "text": [
      "Read in Molecule 1\n",
      "Add bond with type b1 between atom 0 and atom 1\n"
     ]
    },
    {
     "name": "stderr",
     "output_type": "stream",
     "text": [
      "2019-11-13 10:23:20,070  - INFO - Add bond with type b83 between atom 0 and atom 4\n"
     ]
    },
    {
     "name": "stdout",
     "output_type": "stream",
     "text": [
      "Add bond with type b83 between atom 0 and atom 4\n"
     ]
    },
    {
     "name": "stderr",
     "output_type": "stream",
     "text": [
      "2019-11-13 10:23:20,071  - INFO - Add bond with type b83 between atom 0 and atom 5\n"
     ]
    },
    {
     "name": "stdout",
     "output_type": "stream",
     "text": [
      "Add bond with type b83 between atom 0 and atom 5\n"
     ]
    },
    {
     "name": "stderr",
     "output_type": "stream",
     "text": [
      "2019-11-13 10:23:20,071  - INFO - Add bond with type b83 between atom 0 and atom 6\n"
     ]
    },
    {
     "name": "stdout",
     "output_type": "stream",
     "text": [
      "Add bond with type b83 between atom 0 and atom 6\n"
     ]
    },
    {
     "name": "stderr",
     "output_type": "stream",
     "text": [
      "2019-11-13 10:23:20,072  - INFO - Add bond with type b1 between atom 1 and atom 2\n"
     ]
    },
    {
     "name": "stdout",
     "output_type": "stream",
     "text": [
      "Add bond with type b1 between atom 1 and atom 2\n"
     ]
    },
    {
     "name": "stderr",
     "output_type": "stream",
     "text": [
      "2019-11-13 10:23:20,073  - INFO - Add bond with type b83 between atom 1 and atom 7\n"
     ]
    },
    {
     "name": "stdout",
     "output_type": "stream",
     "text": [
      "Add bond with type b83 between atom 1 and atom 7\n"
     ]
    },
    {
     "name": "stderr",
     "output_type": "stream",
     "text": [
      "2019-11-13 10:23:20,074  - INFO - Add bond with type b83 between atom 1 and atom 8\n"
     ]
    },
    {
     "name": "stdout",
     "output_type": "stream",
     "text": [
      "Add bond with type b83 between atom 1 and atom 8\n"
     ]
    },
    {
     "name": "stderr",
     "output_type": "stream",
     "text": [
      "2019-11-13 10:23:20,075  - INFO - Add bond with type b14 between atom 2 and atom 3\n"
     ]
    },
    {
     "name": "stdout",
     "output_type": "stream",
     "text": [
      "Add bond with type b14 between atom 2 and atom 3\n"
     ]
    },
    {
     "name": "stderr",
     "output_type": "stream",
     "text": [
      "2019-11-13 10:23:20,075  - INFO - Add bond with type b83 between atom 2 and atom 9\n"
     ]
    },
    {
     "name": "stdout",
     "output_type": "stream",
     "text": [
      "Add bond with type b83 between atom 2 and atom 9\n"
     ]
    },
    {
     "name": "stderr",
     "output_type": "stream",
     "text": [
      "2019-11-13 10:23:20,078  - INFO - Add bond with type b83 between atom 2 and atom 10\n"
     ]
    },
    {
     "name": "stdout",
     "output_type": "stream",
     "text": [
      "Add bond with type b83 between atom 2 and atom 10\n"
     ]
    },
    {
     "name": "stderr",
     "output_type": "stream",
     "text": [
      "2019-11-13 10:23:20,080  - INFO - Add bond with type b87 between atom 3 and atom 11\n"
     ]
    },
    {
     "name": "stdout",
     "output_type": "stream",
     "text": [
      "Add bond with type b87 between atom 3 and atom 11\n"
     ]
    },
    {
     "name": "stderr",
     "output_type": "stream",
     "text": [
      "2019-11-13 10:23:20,081  - INFO - Add atom type n3 on atom 0\n"
     ]
    },
    {
     "name": "stdout",
     "output_type": "stream",
     "text": [
      "Add atom type n3 on atom 0\n"
     ]
    },
    {
     "name": "stderr",
     "output_type": "stream",
     "text": [
      "2019-11-13 10:23:20,083  - INFO - Add atom type n3 on atom 1\n"
     ]
    },
    {
     "name": "stdout",
     "output_type": "stream",
     "text": [
      "Add atom type n3 on atom 1\n"
     ]
    },
    {
     "name": "stderr",
     "output_type": "stream",
     "text": [
      "2019-11-13 10:23:20,084  - INFO - Add atom type n3 on atom 2\n"
     ]
    },
    {
     "name": "stdout",
     "output_type": "stream",
     "text": [
      "Add atom type n3 on atom 2\n"
     ]
    },
    {
     "name": "stderr",
     "output_type": "stream",
     "text": [
      "2019-11-13 10:23:20,084  - INFO - Add atom type n5 on atom 3\n"
     ]
    },
    {
     "name": "stdout",
     "output_type": "stream",
     "text": [
      "Add atom type n5 on atom 3\n"
     ]
    },
    {
     "name": "stderr",
     "output_type": "stream",
     "text": [
      "2019-11-13 10:23:20,087  - INFO - Add atom type n1 on atom 4\n"
     ]
    },
    {
     "name": "stdout",
     "output_type": "stream",
     "text": [
      "Add atom type n1 on atom 4\n"
     ]
    },
    {
     "name": "stderr",
     "output_type": "stream",
     "text": [
      "2019-11-13 10:23:20,088  - INFO - Add atom type n1 on atom 5\n"
     ]
    },
    {
     "name": "stdout",
     "output_type": "stream",
     "text": [
      "Add atom type n1 on atom 5\n"
     ]
    },
    {
     "name": "stderr",
     "output_type": "stream",
     "text": [
      "2019-11-13 10:23:20,089  - INFO - Add atom type n1 on atom 6\n"
     ]
    },
    {
     "name": "stdout",
     "output_type": "stream",
     "text": [
      "Add atom type n1 on atom 6\n"
     ]
    },
    {
     "name": "stderr",
     "output_type": "stream",
     "text": [
      "2019-11-13 10:23:20,089  - INFO - Add atom type n1 on atom 7\n"
     ]
    },
    {
     "name": "stdout",
     "output_type": "stream",
     "text": [
      "Add atom type n1 on atom 7\n"
     ]
    },
    {
     "name": "stderr",
     "output_type": "stream",
     "text": [
      "2019-11-13 10:23:20,090  - INFO - Add atom type n1 on atom 8\n"
     ]
    },
    {
     "name": "stdout",
     "output_type": "stream",
     "text": [
      "Add atom type n1 on atom 8\n"
     ]
    },
    {
     "name": "stderr",
     "output_type": "stream",
     "text": [
      "2019-11-13 10:23:20,091  - INFO - Add atom type n1 on atom 9\n"
     ]
    },
    {
     "name": "stdout",
     "output_type": "stream",
     "text": [
      "Add atom type n1 on atom 9\n"
     ]
    },
    {
     "name": "stderr",
     "output_type": "stream",
     "text": [
      "2019-11-13 10:23:20,092  - INFO - Add atom type n1 on atom 10\n"
     ]
    },
    {
     "name": "stdout",
     "output_type": "stream",
     "text": [
      "Add atom type n1 on atom 10\n"
     ]
    },
    {
     "name": "stderr",
     "output_type": "stream",
     "text": [
      "2019-11-13 10:23:20,094  - INFO - Add atom type n1 on atom 11\n"
     ]
    },
    {
     "name": "stdout",
     "output_type": "stream",
     "text": [
      "Add atom type n1 on atom 11\n"
     ]
    },
    {
     "name": "stderr",
     "output_type": "stream",
     "text": [
      "2019-11-13 10:23:20,101  - INFO - Added molecule number 0 from file /home/mschauperl/kirk/charge_method/medium_set/molecule1/conf0/mp2_0.mol2.\n"
     ]
    },
    {
     "name": "stdout",
     "output_type": "stream",
     "text": [
      "Added molecule number 0 from file /home/mschauperl/kirk/charge_method/medium_set/molecule1/conf0/mp2_0.mol2.\n"
     ]
    },
    {
     "name": "stderr",
     "output_type": "stream",
     "text": [
      "2019-11-13 10:23:20,116  - INFO - Added conformation 0 to molecule 0\n"
     ]
    },
    {
     "name": "stdout",
     "output_type": "stream",
     "text": [
      "Added conformation 0 to molecule 0\n"
     ]
    },
    {
     "name": "stderr",
     "output_type": "stream",
     "text": [
      "2019-11-13 10:23:21,920  - INFO - Added conformation 1 to molecule 0\n"
     ]
    },
    {
     "name": "stdout",
     "output_type": "stream",
     "text": [
      "Added conformation 1 to molecule 0\n"
     ]
    },
    {
     "name": "stderr",
     "output_type": "stream",
     "text": [
      "2019-11-13 10:23:23,735  - INFO - Added conformation 2 to molecule 0\n"
     ]
    },
    {
     "name": "stdout",
     "output_type": "stream",
     "text": [
      "Added conformation 2 to molecule 0\n"
     ]
    },
    {
     "name": "stderr",
     "output_type": "stream",
     "text": [
      "2019-11-13 10:23:25,512  - INFO - Added conformation 3 to molecule 0\n"
     ]
    },
    {
     "name": "stdout",
     "output_type": "stream",
     "text": [
      "Added conformation 3 to molecule 0\n"
     ]
    },
    {
     "name": "stderr",
     "output_type": "stream",
     "text": [
      "2019-11-13 10:23:27,306  - INFO - Added conformation 4 to molecule 0\n"
     ]
    },
    {
     "name": "stdout",
     "output_type": "stream",
     "text": [
      "Added conformation 4 to molecule 0\n"
     ]
    },
    {
     "name": "stderr",
     "output_type": "stream",
     "text": [
      "2019-11-13 10:23:29,233  - INFO - Build matrix A (only charge optimization) for molecule 0\n"
     ]
    },
    {
     "name": "stdout",
     "output_type": "stream",
     "text": [
      "Build matrix A (only charge optimization) for molecule 0\n"
     ]
    },
    {
     "name": "stderr",
     "output_type": "stream",
     "text": [
      "2019-11-13 10:23:29,368  - INFO - Build vector B (only charge optimization) for molecule 0\n"
     ]
    },
    {
     "name": "stdout",
     "output_type": "stream",
     "text": [
      "Build vector B (only charge optimization) for molecule 0\n",
      "[-0.08919635  0.1370444   0.2032554  -0.55391132  0.01755167  0.01755167  0.01755167 -0.03314256 -0.03314256 -0.00794214 -0.00794214  0.33232226  2.39338683 -0.08841168  0.01484838 -0.15332037  0.60207582] elementary_charge\n"
     ]
    }
   ],
   "source": [
    "alldirections=[['X+',[-0.01,0.0,0.0]],['X-',[0.01,0.0,0.0]],['Y+',[0.0,-0.01,0.0]],['Y-',[0.0,0.01,0.0]],['Z+',[0.0,0.0,-0.01]],['Z-',[0.0,0.0,0.01]]]\n",
    "ROOT_DIR_PATH='/home/mschauperl/kirk/charge_method/medium_set/'\n",
    "test = resppol.resppol.TrainingSet(mode='q_alpha',SCF= False, thole = False, FF='resppol/data/test_data/BCCelementPOL.offxml')\n",
    "\n",
    "\n",
    "for nmol in range(1,2,1):\n",
    "    print('Read in Molecule {}'.format(nmol))\n",
    "    nconf=0\n",
    "    datei = os.path.join(ROOT_DIR_PATH, 'molecule{}/conf0/mp2_0.mol2'.format(nmol))\n",
    "    test.add_molecule(datei)\n",
    "    directory=os.path.join(ROOT_DIR_PATH,'molecule{}'.format(nmol))\n",
    "    for dire in os.listdir(directory):\n",
    "        if os.path.isdir(os.path.join(directory,dire)):\n",
    "            datei = os.path.join(ROOT_DIR_PATH, 'molecule{0}/conf{1}/mp2_{1}.mol2'.format(nmol,nconf))\n",
    "            test.molecules[nmol-1].add_conformer_from_mol2(datei)\n",
    "            espfile = os.path.join(ROOT_DIR_PATH, 'molecule{0}/conf{1}/molecule{1}.gesp'.format(nmol,nconf))\n",
    "            test.molecules[nmol-1].conformers[nconf].add_baseESP(espfile)\n",
    "            for direction,vector in alldirections:\n",
    "                espfile = os.path.join(ROOT_DIR_PATH, 'molecule{}/conf{}/molecule_{}.gesp'.format(nmol,nconf,direction))\n",
    "                test.molecules[nmol-1].conformers[nconf].add_polESP(espfile, e_field=Q_(vector, 'elementary_charge / bohr / bohr'))\n",
    "            nconf+=1\n",
    "test.optimize_charges()\n",
    "print(test.q)"
   ]
  },
  {
   "cell_type": "code",
   "execution_count": 4,
   "metadata": {
    "pycharm": {
     "is_executing": true
    },
    "scrolled": true
   },
   "outputs": [
    {
     "name": "stderr",
     "output_type": "stream",
     "text": [
      "2019-11-13 10:23:49,922  - INFO - Charge Dipole interactions are scaled using the following parameters None. \n"
     ]
    },
    {
     "name": "stdout",
     "output_type": "stream",
     "text": [
      "Charge Dipole interactions are scaled using the following parameters None. \n"
     ]
    },
    {
     "name": "stderr",
     "output_type": "stream",
     "text": [
      "2019-11-13 10:23:49,924  - INFO - If non are specified the default is 0.0, 0.0, 0.8333. This means that 1-2 and 1-3 interactions are neglected and 1-4 are scaled by a factor 0.8333. \n"
     ]
    },
    {
     "name": "stdout",
     "output_type": "stream",
     "text": [
      "If non are specified the default is 0.0, 0.0, 0.8333. This means that 1-2 and 1-3 interactions are neglected and 1-4 are scaled by a factor 0.8333. \n"
     ]
    },
    {
     "name": "stderr",
     "output_type": "stream",
     "text": [
      "2019-11-13 10:23:49,924  - INFO - Running in Mode: q_alpha\n"
     ]
    },
    {
     "name": "stdout",
     "output_type": "stream",
     "text": [
      "Running in Mode: q_alpha\n"
     ]
    },
    {
     "name": "stderr",
     "output_type": "stream",
     "text": [
      "2019-11-13 10:23:49,996  - INFO - The forcefield used for this run is /home/mschauperl/programs/resppol/resppol/../resppol/data/test_data/BCCelementPOL.offxml \n"
     ]
    },
    {
     "name": "stdout",
     "output_type": "stream",
     "text": [
      "The forcefield used for this run is /home/mschauperl/programs/resppol/resppol/../resppol/data/test_data/BCCelementPOL.offxml \n",
      "Read in Molecule 1\n"
     ]
    },
    {
     "name": "stderr",
     "output_type": "stream",
     "text": [
      "2019-11-13 10:23:50,242  - INFO - Add bond with type b1 between atom 0 and atom 1\n"
     ]
    },
    {
     "name": "stdout",
     "output_type": "stream",
     "text": [
      "Add bond with type b1 between atom 0 and atom 1\n"
     ]
    },
    {
     "name": "stderr",
     "output_type": "stream",
     "text": [
      "2019-11-13 10:23:50,243  - INFO - Add bond with type b83 between atom 0 and atom 4\n"
     ]
    },
    {
     "name": "stdout",
     "output_type": "stream",
     "text": [
      "Add bond with type b83 between atom 0 and atom 4\n"
     ]
    },
    {
     "name": "stderr",
     "output_type": "stream",
     "text": [
      "2019-11-13 10:23:50,243  - INFO - Add bond with type b83 between atom 0 and atom 5\n"
     ]
    },
    {
     "name": "stdout",
     "output_type": "stream",
     "text": [
      "Add bond with type b83 between atom 0 and atom 5\n"
     ]
    },
    {
     "name": "stderr",
     "output_type": "stream",
     "text": [
      "2019-11-13 10:23:50,244  - INFO - Add bond with type b83 between atom 0 and atom 6\n"
     ]
    },
    {
     "name": "stdout",
     "output_type": "stream",
     "text": [
      "Add bond with type b83 between atom 0 and atom 6\n"
     ]
    },
    {
     "name": "stderr",
     "output_type": "stream",
     "text": [
      "2019-11-13 10:23:50,245  - INFO - Add bond with type b1 between atom 1 and atom 2\n"
     ]
    },
    {
     "name": "stdout",
     "output_type": "stream",
     "text": [
      "Add bond with type b1 between atom 1 and atom 2\n"
     ]
    },
    {
     "name": "stderr",
     "output_type": "stream",
     "text": [
      "2019-11-13 10:23:50,245  - INFO - Add bond with type b83 between atom 1 and atom 7\n"
     ]
    },
    {
     "name": "stdout",
     "output_type": "stream",
     "text": [
      "Add bond with type b83 between atom 1 and atom 7\n"
     ]
    },
    {
     "name": "stderr",
     "output_type": "stream",
     "text": [
      "2019-11-13 10:23:50,246  - INFO - Add bond with type b83 between atom 1 and atom 8\n"
     ]
    },
    {
     "name": "stdout",
     "output_type": "stream",
     "text": [
      "Add bond with type b83 between atom 1 and atom 8\n"
     ]
    },
    {
     "name": "stderr",
     "output_type": "stream",
     "text": [
      "2019-11-13 10:23:50,247  - INFO - Add bond with type b14 between atom 2 and atom 3\n"
     ]
    },
    {
     "name": "stdout",
     "output_type": "stream",
     "text": [
      "Add bond with type b14 between atom 2 and atom 3\n"
     ]
    },
    {
     "name": "stderr",
     "output_type": "stream",
     "text": [
      "2019-11-13 10:23:50,247  - INFO - Add bond with type b83 between atom 2 and atom 9\n"
     ]
    },
    {
     "name": "stdout",
     "output_type": "stream",
     "text": [
      "Add bond with type b83 between atom 2 and atom 9\n"
     ]
    },
    {
     "name": "stderr",
     "output_type": "stream",
     "text": [
      "2019-11-13 10:23:50,248  - INFO - Add bond with type b83 between atom 2 and atom 10\n"
     ]
    },
    {
     "name": "stdout",
     "output_type": "stream",
     "text": [
      "Add bond with type b83 between atom 2 and atom 10\n"
     ]
    },
    {
     "name": "stderr",
     "output_type": "stream",
     "text": [
      "2019-11-13 10:23:50,249  - INFO - Add bond with type b87 between atom 3 and atom 11\n"
     ]
    },
    {
     "name": "stdout",
     "output_type": "stream",
     "text": [
      "Add bond with type b87 between atom 3 and atom 11\n"
     ]
    },
    {
     "name": "stderr",
     "output_type": "stream",
     "text": [
      "2019-11-13 10:23:50,249  - INFO - Add atom type n3 on atom 0\n"
     ]
    },
    {
     "name": "stdout",
     "output_type": "stream",
     "text": [
      "Add atom type n3 on atom 0\n"
     ]
    },
    {
     "name": "stderr",
     "output_type": "stream",
     "text": [
      "2019-11-13 10:23:50,250  - INFO - Add atom type n3 on atom 1\n"
     ]
    },
    {
     "name": "stdout",
     "output_type": "stream",
     "text": [
      "Add atom type n3 on atom 1\n"
     ]
    },
    {
     "name": "stderr",
     "output_type": "stream",
     "text": [
      "2019-11-13 10:23:50,251  - INFO - Add atom type n3 on atom 2\n"
     ]
    },
    {
     "name": "stdout",
     "output_type": "stream",
     "text": [
      "Add atom type n3 on atom 2\n"
     ]
    },
    {
     "name": "stderr",
     "output_type": "stream",
     "text": [
      "2019-11-13 10:23:50,252  - INFO - Add atom type n5 on atom 3\n"
     ]
    },
    {
     "name": "stdout",
     "output_type": "stream",
     "text": [
      "Add atom type n5 on atom 3\n"
     ]
    },
    {
     "name": "stderr",
     "output_type": "stream",
     "text": [
      "2019-11-13 10:23:50,252  - INFO - Add atom type n1 on atom 4\n"
     ]
    },
    {
     "name": "stdout",
     "output_type": "stream",
     "text": [
      "Add atom type n1 on atom 4\n"
     ]
    },
    {
     "name": "stderr",
     "output_type": "stream",
     "text": [
      "2019-11-13 10:23:50,253  - INFO - Add atom type n1 on atom 5\n"
     ]
    },
    {
     "name": "stdout",
     "output_type": "stream",
     "text": [
      "Add atom type n1 on atom 5\n"
     ]
    },
    {
     "name": "stderr",
     "output_type": "stream",
     "text": [
      "2019-11-13 10:23:50,254  - INFO - Add atom type n1 on atom 6\n"
     ]
    },
    {
     "name": "stdout",
     "output_type": "stream",
     "text": [
      "Add atom type n1 on atom 6\n"
     ]
    },
    {
     "name": "stderr",
     "output_type": "stream",
     "text": [
      "2019-11-13 10:23:50,255  - INFO - Add atom type n1 on atom 7\n"
     ]
    },
    {
     "name": "stdout",
     "output_type": "stream",
     "text": [
      "Add atom type n1 on atom 7\n"
     ]
    },
    {
     "name": "stderr",
     "output_type": "stream",
     "text": [
      "2019-11-13 10:23:50,255  - INFO - Add atom type n1 on atom 8\n"
     ]
    },
    {
     "name": "stdout",
     "output_type": "stream",
     "text": [
      "Add atom type n1 on atom 8\n"
     ]
    },
    {
     "name": "stderr",
     "output_type": "stream",
     "text": [
      "2019-11-13 10:23:50,256  - INFO - Add atom type n1 on atom 9\n"
     ]
    },
    {
     "name": "stdout",
     "output_type": "stream",
     "text": [
      "Add atom type n1 on atom 9\n"
     ]
    },
    {
     "name": "stderr",
     "output_type": "stream",
     "text": [
      "2019-11-13 10:23:50,257  - INFO - Add atom type n1 on atom 10\n"
     ]
    },
    {
     "name": "stdout",
     "output_type": "stream",
     "text": [
      "Add atom type n1 on atom 10\n"
     ]
    },
    {
     "name": "stderr",
     "output_type": "stream",
     "text": [
      "2019-11-13 10:23:50,257  - INFO - Add atom type n1 on atom 11\n"
     ]
    },
    {
     "name": "stdout",
     "output_type": "stream",
     "text": [
      "Add atom type n1 on atom 11\n"
     ]
    },
    {
     "name": "stderr",
     "output_type": "stream",
     "text": [
      "2019-11-13 10:23:50,270  - INFO - Added molecule number 0 from file /home/mschauperl/kirk/charge_method/medium_set/molecule1/conf0/mp2_0.mol2.\n"
     ]
    },
    {
     "name": "stdout",
     "output_type": "stream",
     "text": [
      "Added molecule number 0 from file /home/mschauperl/kirk/charge_method/medium_set/molecule1/conf0/mp2_0.mol2.\n"
     ]
    },
    {
     "name": "stderr",
     "output_type": "stream",
     "text": [
      "2019-11-13 10:23:50,284  - INFO - Added conformation 0 to molecule 0\n"
     ]
    },
    {
     "name": "stdout",
     "output_type": "stream",
     "text": [
      "Added conformation 0 to molecule 0\n",
      "Read in /home/mschauperl/kirk/charge_method/medium_set/molecule1/conf0/molecule0.gesp\n",
      "Read in /home/mschauperl/kirk/charge_method/medium_set/molecule1/conf0/molecule_X+.gesp [-0.01, 0.0, 0.0]\n",
      "Read in /home/mschauperl/kirk/charge_method/medium_set/molecule1/conf0/molecule_X-.gesp [0.01, 0.0, 0.0]\n",
      "Read in /home/mschauperl/kirk/charge_method/medium_set/molecule1/conf0/molecule_Y+.gesp [0.0, -0.01, 0.0]\n",
      "Read in /home/mschauperl/kirk/charge_method/medium_set/molecule1/conf0/molecule_Y-.gesp [0.0, 0.01, 0.0]\n",
      "Read in /home/mschauperl/kirk/charge_method/medium_set/molecule1/conf0/molecule_Z+.gesp [0.0, 0.0, -0.01]\n"
     ]
    },
    {
     "name": "stderr",
     "output_type": "stream",
     "text": [
      "2019-11-13 10:23:51,642  - INFO - Added conformation 1 to molecule 0\n"
     ]
    },
    {
     "name": "stdout",
     "output_type": "stream",
     "text": [
      "Read in /home/mschauperl/kirk/charge_method/medium_set/molecule1/conf0/molecule_Z-.gesp [0.0, 0.0, 0.01]\n",
      "Added conformation 1 to molecule 0\n",
      "Read in /home/mschauperl/kirk/charge_method/medium_set/molecule1/conf1/molecule1.gesp\n",
      "Read in /home/mschauperl/kirk/charge_method/medium_set/molecule1/conf1/molecule_X+.gesp [-0.01, 0.0, 0.0]\n",
      "Read in /home/mschauperl/kirk/charge_method/medium_set/molecule1/conf1/molecule_X-.gesp [0.01, 0.0, 0.0]\n",
      "Read in /home/mschauperl/kirk/charge_method/medium_set/molecule1/conf1/molecule_Y+.gesp [0.0, -0.01, 0.0]\n"
     ]
    },
    {
     "name": "stderr",
     "output_type": "stream",
     "text": [
      "2019-11-13 10:23:52,389  - INFO - Added conformation 2 to molecule 0\n"
     ]
    },
    {
     "name": "stdout",
     "output_type": "stream",
     "text": [
      "Read in /home/mschauperl/kirk/charge_method/medium_set/molecule1/conf1/molecule_Y-.gesp [0.0, 0.01, 0.0]\n",
      "Read in /home/mschauperl/kirk/charge_method/medium_set/molecule1/conf1/molecule_Z+.gesp [0.0, 0.0, -0.01]\n",
      "Read in /home/mschauperl/kirk/charge_method/medium_set/molecule1/conf1/molecule_Z-.gesp [0.0, 0.0, 0.01]\n",
      "Added conformation 2 to molecule 0\n",
      "Read in /home/mschauperl/kirk/charge_method/medium_set/molecule1/conf2/molecule2.gesp\n",
      "Read in /home/mschauperl/kirk/charge_method/medium_set/molecule1/conf2/molecule_X+.gesp [-0.01, 0.0, 0.0]\n",
      "Read in /home/mschauperl/kirk/charge_method/medium_set/molecule1/conf2/molecule_X-.gesp [0.01, 0.0, 0.0]\n",
      "Read in /home/mschauperl/kirk/charge_method/medium_set/molecule1/conf2/molecule_Y+.gesp [0.0, -0.01, 0.0]\n",
      "Read in /home/mschauperl/kirk/charge_method/medium_set/molecule1/conf2/molecule_Y-.gesp [0.0, 0.01, 0.0]\n",
      "Read in /home/mschauperl/kirk/charge_method/medium_set/molecule1/conf2/molecule_Z+.gesp [0.0, 0.0, -0.01]\n"
     ]
    },
    {
     "name": "stderr",
     "output_type": "stream",
     "text": [
      "2019-11-13 10:23:52,999  - INFO - Added conformation 3 to molecule 0\n"
     ]
    },
    {
     "name": "stdout",
     "output_type": "stream",
     "text": [
      "Read in /home/mschauperl/kirk/charge_method/medium_set/molecule1/conf2/molecule_Z-.gesp [0.0, 0.0, 0.01]\n",
      "Added conformation 3 to molecule 0\n",
      "Read in /home/mschauperl/kirk/charge_method/medium_set/molecule1/conf3/molecule3.gesp\n",
      "Read in /home/mschauperl/kirk/charge_method/medium_set/molecule1/conf3/molecule_X+.gesp [-0.01, 0.0, 0.0]\n",
      "Read in /home/mschauperl/kirk/charge_method/medium_set/molecule1/conf3/molecule_X-.gesp [0.01, 0.0, 0.0]\n",
      "Read in /home/mschauperl/kirk/charge_method/medium_set/molecule1/conf3/molecule_Y+.gesp [0.0, -0.01, 0.0]\n",
      "Read in /home/mschauperl/kirk/charge_method/medium_set/molecule1/conf3/molecule_Y-.gesp [0.0, 0.01, 0.0]\n",
      "Read in /home/mschauperl/kirk/charge_method/medium_set/molecule1/conf3/molecule_Z+.gesp [0.0, 0.0, -0.01]\n"
     ]
    },
    {
     "name": "stderr",
     "output_type": "stream",
     "text": [
      "2019-11-13 10:23:53,572  - INFO - Added conformation 4 to molecule 0\n"
     ]
    },
    {
     "name": "stdout",
     "output_type": "stream",
     "text": [
      "Read in /home/mschauperl/kirk/charge_method/medium_set/molecule1/conf3/molecule_Z-.gesp [0.0, 0.0, 0.01]\n",
      "Added conformation 4 to molecule 0\n",
      "Read in /home/mschauperl/kirk/charge_method/medium_set/molecule1/conf4/molecule4.gesp\n",
      "Read in /home/mschauperl/kirk/charge_method/medium_set/molecule1/conf4/molecule_X+.gesp [-0.01, 0.0, 0.0]\n",
      "Read in /home/mschauperl/kirk/charge_method/medium_set/molecule1/conf4/molecule_X-.gesp [0.01, 0.0, 0.0]\n",
      "Read in /home/mschauperl/kirk/charge_method/medium_set/molecule1/conf4/molecule_Y+.gesp [0.0, -0.01, 0.0]\n",
      "Read in /home/mschauperl/kirk/charge_method/medium_set/molecule1/conf4/molecule_Y-.gesp [0.0, 0.01, 0.0]\n",
      "Read in /home/mschauperl/kirk/charge_method/medium_set/molecule1/conf4/molecule_Z+.gesp [0.0, 0.0, -0.01]\n"
     ]
    },
    {
     "name": "stderr",
     "output_type": "stream",
     "text": [
      "2019-11-13 10:23:54,164  - WARNING - Optimization Step 0\n"
     ]
    },
    {
     "name": "stdout",
     "output_type": "stream",
     "text": [
      "Read in /home/mschauperl/kirk/charge_method/medium_set/molecule1/conf4/molecule_Z-.gesp [0.0, 0.0, 0.01]\n",
      "Optimization Step 0\n"
     ]
    },
    {
     "name": "stderr",
     "output_type": "stream",
     "text": [
      "2019-11-13 10:23:54,203  - WARNING - I do not have AM1-type charges\n"
     ]
    },
    {
     "name": "stdout",
     "output_type": "stream",
     "text": [
      "I do not have AM1-type charges\n"
     ]
    },
    {
     "name": "stderr",
     "output_type": "stream",
     "text": [
      "2019-11-13 10:23:54,525  - WARNING - I do not have AM1-type charges\n"
     ]
    },
    {
     "name": "stdout",
     "output_type": "stream",
     "text": [
      "I do not have AM1-type charges\n"
     ]
    },
    {
     "name": "stderr",
     "output_type": "stream",
     "text": [
      "2019-11-13 10:23:54,975  - WARNING - I do not have AM1-type charges\n"
     ]
    },
    {
     "name": "stdout",
     "output_type": "stream",
     "text": [
      "I do not have AM1-type charges\n"
     ]
    },
    {
     "name": "stderr",
     "output_type": "stream",
     "text": [
      "2019-11-13 10:23:55,394  - WARNING - I do not have AM1-type charges\n"
     ]
    },
    {
     "name": "stdout",
     "output_type": "stream",
     "text": [
      "I do not have AM1-type charges\n"
     ]
    },
    {
     "name": "stderr",
     "output_type": "stream",
     "text": [
      "2019-11-13 10:23:55,985  - WARNING - I do not have AM1-type charges\n"
     ]
    },
    {
     "name": "stdout",
     "output_type": "stream",
     "text": [
      "I do not have AM1-type charges\n"
     ]
    },
    {
     "name": "stderr",
     "output_type": "stream",
     "text": [
      "2019-11-13 10:23:56,343  - INFO - Build matrix X for molecule 0\n"
     ]
    },
    {
     "name": "stdout",
     "output_type": "stream",
     "text": [
      "Build matrix X for molecule 0\n"
     ]
    },
    {
     "name": "stderr",
     "output_type": "stream",
     "text": [
      "2019-11-13 10:23:56,345  - INFO - Apply the following intramolecular polarization restaraints [[17, 18], [17, 19], [21, 22], [21, 23], [21, 24], [21, 25], [21, 26], [21, 27], [21, 28]]\n"
     ]
    },
    {
     "name": "stdout",
     "output_type": "stream",
     "text": [
      "Apply the following intramolecular polarization restaraints [[17, 18], [17, 19], [21, 22], [21, 23], [21, 24], [21, 25], [21, 26], [21, 27], [21, 28]]\n"
     ]
    },
    {
     "name": "stderr",
     "output_type": "stream",
     "text": [
      "2019-11-13 10:23:56,354  - INFO - Apply the following intramolecular polarization restaraints [[17, 18], [17, 19], [21, 22], [21, 23], [21, 24], [21, 25], [21, 26], [21, 27], [21, 28]]\n"
     ]
    },
    {
     "name": "stdout",
     "output_type": "stream",
     "text": [
      "Apply the following intramolecular polarization restaraints [[17, 18], [17, 19], [21, 22], [21, 23], [21, 24], [21, 25], [21, 26], [21, 27], [21, 28]]\n"
     ]
    },
    {
     "name": "stderr",
     "output_type": "stream",
     "text": [
      "2019-11-13 10:23:56,363  - INFO - Apply the following intramolecular polarization restaraints [[17, 18], [17, 19], [21, 22], [21, 23], [21, 24], [21, 25], [21, 26], [21, 27], [21, 28]]\n"
     ]
    },
    {
     "name": "stdout",
     "output_type": "stream",
     "text": [
      "Apply the following intramolecular polarization restaraints [[17, 18], [17, 19], [21, 22], [21, 23], [21, 24], [21, 25], [21, 26], [21, 27], [21, 28]]\n"
     ]
    },
    {
     "name": "stderr",
     "output_type": "stream",
     "text": [
      "2019-11-13 10:23:56,365  - INFO - Apply the following intramolecular polarization restaraints [[17, 18], [17, 19], [21, 22], [21, 23], [21, 24], [21, 25], [21, 26], [21, 27], [21, 28]]\n"
     ]
    },
    {
     "name": "stdout",
     "output_type": "stream",
     "text": [
      "Apply the following intramolecular polarization restaraints [[17, 18], [17, 19], [21, 22], [21, 23], [21, 24], [21, 25], [21, 26], [21, 27], [21, 28]]\n"
     ]
    },
    {
     "name": "stderr",
     "output_type": "stream",
     "text": [
      "2019-11-13 10:23:56,521  - INFO - Build vector Y for molecule 0\n"
     ]
    },
    {
     "name": "stdout",
     "output_type": "stream",
     "text": [
      "Build vector Y for molecule 0\n"
     ]
    },
    {
     "name": "stderr",
     "output_type": "stream",
     "text": [
      "2019-11-13 10:23:56,523  - INFO - Apply the following intramolecular polarization restaraints [[17, 18], [17, 19], [21, 22], [21, 23], [21, 24], [21, 25], [21, 26], [21, 27], [21, 28]]\n"
     ]
    },
    {
     "name": "stdout",
     "output_type": "stream",
     "text": [
      "Apply the following intramolecular polarization restaraints [[17, 18], [17, 19], [21, 22], [21, 23], [21, 24], [21, 25], [21, 26], [21, 27], [21, 28]]\n"
     ]
    },
    {
     "name": "stderr",
     "output_type": "stream",
     "text": [
      "2019-11-13 10:23:56,543  - INFO - Updating charges and polarization parameters for all molecules\n"
     ]
    },
    {
     "name": "stdout",
     "output_type": "stream",
     "text": [
      "Updating charges and polarization parameters for all molecules\n"
     ]
    },
    {
     "name": "stderr",
     "output_type": "stream",
     "text": [
      "2019-11-13 10:23:56,548  - INFO - Optimization step 1: Molekule 0: Charges\n"
     ]
    },
    {
     "name": "stdout",
     "output_type": "stream",
     "text": [
      "Optimization step 1: Molekule 0: Charges\n"
     ]
    },
    {
     "name": "stderr",
     "output_type": "stream",
     "text": [
      "2019-11-13 10:23:56,551  - INFO - [-0.08919635  0.1370444   0.2032554  -0.55391132  0.01755167  0.01755167\n",
      "  0.01755167 -0.03314256 -0.03314256 -0.00794214 -0.00794214  0.33232226]\n"
     ]
    },
    {
     "name": "stdout",
     "output_type": "stream",
     "text": [
      "[-0.08919635  0.1370444   0.2032554  -0.55391132  0.01755167  0.01755167\n",
      "  0.01755167 -0.03314256 -0.03314256 -0.00794214 -0.00794214  0.33232226]\n"
     ]
    },
    {
     "name": "stderr",
     "output_type": "stream",
     "text": [
      "2019-11-13 10:23:56,554  - INFO - Optimization step 1: Molekule 0: Dipoles\n"
     ]
    },
    {
     "name": "stdout",
     "output_type": "stream",
     "text": [
      "Optimization step 1: Molekule 0: Dipoles\n"
     ]
    },
    {
     "name": "stderr",
     "output_type": "stream",
     "text": [
      "2019-11-13 10:23:56,555  - INFO - [0.88228427 0.88228427 0.88228427 0.70506675 0.377814   0.377814\n",
      " 0.377814   0.377814   0.377814   0.377814   0.377814   0.377814\n",
      " 0.88228427 0.88228427 0.88228427 0.70506675 0.377814   0.377814\n",
      " 0.377814   0.377814   0.377814   0.377814   0.377814   0.377814\n",
      " 0.88228427 0.88228427 0.88228427 0.70506675 0.377814   0.377814\n",
      " 0.377814   0.377814   0.377814   0.377814   0.377814   0.377814  ]\n"
     ]
    },
    {
     "name": "stdout",
     "output_type": "stream",
     "text": [
      "[0.88228427 0.88228427 0.88228427 0.70506675 0.377814   0.377814\n",
      " 0.377814   0.377814   0.377814   0.377814   0.377814   0.377814\n",
      " 0.88228427 0.88228427 0.88228427 0.70506675 0.377814   0.377814\n",
      " 0.377814   0.377814   0.377814   0.377814   0.377814   0.377814\n",
      " 0.88228427 0.88228427 0.88228427 0.70506675 0.377814   0.377814\n",
      " 0.377814   0.377814   0.377814   0.377814   0.377814   0.377814  ]\n"
     ]
    },
    {
     "name": "stderr",
     "output_type": "stream",
     "text": [
      "2019-11-13 10:23:56,559  - WARNING - Optimization Step 1\n"
     ]
    },
    {
     "name": "stdout",
     "output_type": "stream",
     "text": [
      "Optimization Step 1\n"
     ]
    },
    {
     "name": "stderr",
     "output_type": "stream",
     "text": [
      "2019-11-13 10:24:01,609  - INFO - Build matrix X for molecule 0\n"
     ]
    },
    {
     "name": "stdout",
     "output_type": "stream",
     "text": [
      "Build matrix X for molecule 0\n"
     ]
    },
    {
     "name": "stderr",
     "output_type": "stream",
     "text": [
      "2019-11-13 10:24:01,614  - INFO - Apply the following intramolecular polarization restaraints [[17, 18], [17, 19], [21, 22], [21, 23], [21, 24], [21, 25], [21, 26], [21, 27], [21, 28]]\n"
     ]
    },
    {
     "name": "stdout",
     "output_type": "stream",
     "text": [
      "Apply the following intramolecular polarization restaraints [[17, 18], [17, 19], [21, 22], [21, 23], [21, 24], [21, 25], [21, 26], [21, 27], [21, 28]]\n"
     ]
    },
    {
     "name": "stderr",
     "output_type": "stream",
     "text": [
      "2019-11-13 10:24:01,619  - INFO - Apply the following intramolecular polarization restaraints [[17, 18], [17, 19], [21, 22], [21, 23], [21, 24], [21, 25], [21, 26], [21, 27], [21, 28]]\n"
     ]
    },
    {
     "name": "stdout",
     "output_type": "stream",
     "text": [
      "Apply the following intramolecular polarization restaraints [[17, 18], [17, 19], [21, 22], [21, 23], [21, 24], [21, 25], [21, 26], [21, 27], [21, 28]]\n"
     ]
    },
    {
     "name": "stderr",
     "output_type": "stream",
     "text": [
      "2019-11-13 10:24:01,624  - INFO - Apply the following intramolecular polarization restaraints [[17, 18], [17, 19], [21, 22], [21, 23], [21, 24], [21, 25], [21, 26], [21, 27], [21, 28]]\n"
     ]
    },
    {
     "name": "stdout",
     "output_type": "stream",
     "text": [
      "Apply the following intramolecular polarization restaraints [[17, 18], [17, 19], [21, 22], [21, 23], [21, 24], [21, 25], [21, 26], [21, 27], [21, 28]]\n"
     ]
    },
    {
     "name": "stderr",
     "output_type": "stream",
     "text": [
      "2019-11-13 10:24:01,629  - INFO - Apply the following intramolecular polarization restaraints [[17, 18], [17, 19], [21, 22], [21, 23], [21, 24], [21, 25], [21, 26], [21, 27], [21, 28]]\n"
     ]
    },
    {
     "name": "stdout",
     "output_type": "stream",
     "text": [
      "Apply the following intramolecular polarization restaraints [[17, 18], [17, 19], [21, 22], [21, 23], [21, 24], [21, 25], [21, 26], [21, 27], [21, 28]]\n"
     ]
    },
    {
     "name": "stderr",
     "output_type": "stream",
     "text": [
      "2019-11-13 10:24:01,715  - INFO - Build vector Y for molecule 0\n"
     ]
    },
    {
     "name": "stdout",
     "output_type": "stream",
     "text": [
      "Build vector Y for molecule 0\n"
     ]
    },
    {
     "name": "stderr",
     "output_type": "stream",
     "text": [
      "2019-11-13 10:24:01,720  - INFO - Apply the following intramolecular polarization restaraints [[17, 18], [17, 19], [21, 22], [21, 23], [21, 24], [21, 25], [21, 26], [21, 27], [21, 28]]\n"
     ]
    },
    {
     "name": "stdout",
     "output_type": "stream",
     "text": [
      "Apply the following intramolecular polarization restaraints [[17, 18], [17, 19], [21, 22], [21, 23], [21, 24], [21, 25], [21, 26], [21, 27], [21, 28]]\n"
     ]
    },
    {
     "name": "stderr",
     "output_type": "stream",
     "text": [
      "2019-11-13 10:24:01,733  - INFO - Updating charges and polarization parameters for all molecules\n"
     ]
    },
    {
     "name": "stdout",
     "output_type": "stream",
     "text": [
      "Updating charges and polarization parameters for all molecules\n"
     ]
    },
    {
     "name": "stderr",
     "output_type": "stream",
     "text": [
      "2019-11-13 10:24:01,738  - INFO - Optimization step 2: Molekule 0: Charges\n"
     ]
    },
    {
     "name": "stdout",
     "output_type": "stream",
     "text": [
      "Optimization step 2: Molekule 0: Charges\n"
     ]
    },
    {
     "name": "stderr",
     "output_type": "stream",
     "text": [
      "2019-11-13 10:24:01,742  - INFO - [-0.10394774  0.05026772  0.26206679 -0.56343692  0.02815558  0.02815558\n",
      "  0.02815558 -0.01468522 -0.01468522 -0.02324953 -0.02324953  0.34645292]\n"
     ]
    },
    {
     "name": "stdout",
     "output_type": "stream",
     "text": [
      "[-0.10394774  0.05026772  0.26206679 -0.56343692  0.02815558  0.02815558\n",
      "  0.02815558 -0.01468522 -0.01468522 -0.02324953 -0.02324953  0.34645292]\n"
     ]
    },
    {
     "name": "stderr",
     "output_type": "stream",
     "text": [
      "2019-11-13 10:24:01,743  - INFO - Optimization step 2: Molekule 0: Dipoles\n"
     ]
    },
    {
     "name": "stdout",
     "output_type": "stream",
     "text": [
      "Optimization step 2: Molekule 0: Dipoles\n"
     ]
    },
    {
     "name": "stderr",
     "output_type": "stream",
     "text": [
      "2019-11-13 10:24:01,748  - INFO - [1.61168935 1.61168935 1.61168935 1.11333785 0.03565162 0.03565162\n",
      " 0.03565162 0.03565162 0.03565162 0.03565162 0.03565162 0.03565162\n",
      " 1.61168935 1.61168935 1.61168935 1.11333785 0.03565162 0.03565162\n",
      " 0.03565162 0.03565162 0.03565162 0.03565162 0.03565162 0.03565162\n",
      " 1.61168935 1.61168935 1.61168935 1.11333785 0.03565162 0.03565162\n",
      " 0.03565162 0.03565162 0.03565162 0.03565162 0.03565162 0.03565162]\n"
     ]
    },
    {
     "name": "stdout",
     "output_type": "stream",
     "text": [
      "[1.61168935 1.61168935 1.61168935 1.11333785 0.03565162 0.03565162\n",
      " 0.03565162 0.03565162 0.03565162 0.03565162 0.03565162 0.03565162\n",
      " 1.61168935 1.61168935 1.61168935 1.11333785 0.03565162 0.03565162\n",
      " 0.03565162 0.03565162 0.03565162 0.03565162 0.03565162 0.03565162\n",
      " 1.61168935 1.61168935 1.61168935 1.11333785 0.03565162 0.03565162\n",
      " 0.03565162 0.03565162 0.03565162 0.03565162 0.03565162 0.03565162]\n"
     ]
    },
    {
     "name": "stderr",
     "output_type": "stream",
     "text": [
      "2019-11-13 10:24:01,751  - WARNING - Optimization Step 2\n"
     ]
    },
    {
     "name": "stdout",
     "output_type": "stream",
     "text": [
      "Optimization Step 2\n"
     ]
    },
    {
     "name": "stderr",
     "output_type": "stream",
     "text": [
      "2019-11-13 10:24:06,157  - INFO - Build matrix X for molecule 0\n"
     ]
    },
    {
     "name": "stdout",
     "output_type": "stream",
     "text": [
      "Build matrix X for molecule 0\n"
     ]
    },
    {
     "name": "stderr",
     "output_type": "stream",
     "text": [
      "2019-11-13 10:24:06,165  - INFO - Apply the following intramolecular polarization restaraints [[17, 18], [17, 19], [21, 22], [21, 23], [21, 24], [21, 25], [21, 26], [21, 27], [21, 28]]\n"
     ]
    },
    {
     "name": "stdout",
     "output_type": "stream",
     "text": [
      "Apply the following intramolecular polarization restaraints [[17, 18], [17, 19], [21, 22], [21, 23], [21, 24], [21, 25], [21, 26], [21, 27], [21, 28]]\n"
     ]
    },
    {
     "name": "stderr",
     "output_type": "stream",
     "text": [
      "2019-11-13 10:24:06,172  - INFO - Apply the following intramolecular polarization restaraints [[17, 18], [17, 19], [21, 22], [21, 23], [21, 24], [21, 25], [21, 26], [21, 27], [21, 28]]\n"
     ]
    },
    {
     "name": "stdout",
     "output_type": "stream",
     "text": [
      "Apply the following intramolecular polarization restaraints [[17, 18], [17, 19], [21, 22], [21, 23], [21, 24], [21, 25], [21, 26], [21, 27], [21, 28]]\n"
     ]
    },
    {
     "name": "stderr",
     "output_type": "stream",
     "text": [
      "2019-11-13 10:24:06,179  - INFO - Apply the following intramolecular polarization restaraints [[17, 18], [17, 19], [21, 22], [21, 23], [21, 24], [21, 25], [21, 26], [21, 27], [21, 28]]\n"
     ]
    },
    {
     "name": "stdout",
     "output_type": "stream",
     "text": [
      "Apply the following intramolecular polarization restaraints [[17, 18], [17, 19], [21, 22], [21, 23], [21, 24], [21, 25], [21, 26], [21, 27], [21, 28]]\n"
     ]
    },
    {
     "name": "stderr",
     "output_type": "stream",
     "text": [
      "2019-11-13 10:24:06,184  - INFO - Apply the following intramolecular polarization restaraints [[17, 18], [17, 19], [21, 22], [21, 23], [21, 24], [21, 25], [21, 26], [21, 27], [21, 28]]\n"
     ]
    },
    {
     "name": "stdout",
     "output_type": "stream",
     "text": [
      "Apply the following intramolecular polarization restaraints [[17, 18], [17, 19], [21, 22], [21, 23], [21, 24], [21, 25], [21, 26], [21, 27], [21, 28]]\n"
     ]
    },
    {
     "name": "stderr",
     "output_type": "stream",
     "text": [
      "2019-11-13 10:24:06,548  - INFO - Build vector Y for molecule 0\n"
     ]
    },
    {
     "name": "stdout",
     "output_type": "stream",
     "text": [
      "Build vector Y for molecule 0\n"
     ]
    },
    {
     "name": "stderr",
     "output_type": "stream",
     "text": [
      "2019-11-13 10:24:06,556  - INFO - Apply the following intramolecular polarization restaraints [[17, 18], [17, 19], [21, 22], [21, 23], [21, 24], [21, 25], [21, 26], [21, 27], [21, 28]]\n"
     ]
    },
    {
     "name": "stdout",
     "output_type": "stream",
     "text": [
      "Apply the following intramolecular polarization restaraints [[17, 18], [17, 19], [21, 22], [21, 23], [21, 24], [21, 25], [21, 26], [21, 27], [21, 28]]\n"
     ]
    },
    {
     "name": "stderr",
     "output_type": "stream",
     "text": [
      "2019-11-13 10:24:06,617  - INFO - Updating charges and polarization parameters for all molecules\n"
     ]
    },
    {
     "name": "stdout",
     "output_type": "stream",
     "text": [
      "Updating charges and polarization parameters for all molecules\n"
     ]
    },
    {
     "name": "stderr",
     "output_type": "stream",
     "text": [
      "2019-11-13 10:24:06,626  - INFO - Optimization step 3: Molekule 0: Charges\n"
     ]
    },
    {
     "name": "stdout",
     "output_type": "stream",
     "text": [
      "Optimization step 3: Molekule 0: Charges\n"
     ]
    },
    {
     "name": "stderr",
     "output_type": "stream",
     "text": [
      "2019-11-13 10:24:06,633  - INFO - [-0.1033085   0.05982179  0.27458801 -0.56835339  0.02805349  0.02805349\n",
      "  0.02805349 -0.01778079 -0.01778079 -0.02898186 -0.02898186  0.34661691]\n"
     ]
    },
    {
     "name": "stdout",
     "output_type": "stream",
     "text": [
      "[-0.1033085   0.05982179  0.27458801 -0.56835339  0.02805349  0.02805349\n",
      "  0.02805349 -0.01778079 -0.01778079 -0.02898186 -0.02898186  0.34661691]\n"
     ]
    },
    {
     "name": "stderr",
     "output_type": "stream",
     "text": [
      "2019-11-13 10:24:06,644  - INFO - Optimization step 3: Molekule 0: Dipoles\n"
     ]
    },
    {
     "name": "stdout",
     "output_type": "stream",
     "text": [
      "Optimization step 3: Molekule 0: Dipoles\n"
     ]
    },
    {
     "name": "stderr",
     "output_type": "stream",
     "text": [
      "2019-11-13 10:24:06,650  - INFO - [1.59891232 1.59891232 1.59891232 1.06268322 0.04216702 0.04216702\n",
      " 0.04216702 0.04216702 0.04216702 0.04216702 0.04216702 0.04216702\n",
      " 1.59891232 1.59891232 1.59891232 1.06268322 0.04216702 0.04216702\n",
      " 0.04216702 0.04216702 0.04216702 0.04216702 0.04216702 0.04216702\n",
      " 1.59891232 1.59891232 1.59891232 1.06268322 0.04216702 0.04216702\n",
      " 0.04216702 0.04216702 0.04216702 0.04216702 0.04216702 0.04216702]\n"
     ]
    },
    {
     "name": "stdout",
     "output_type": "stream",
     "text": [
      "[1.59891232 1.59891232 1.59891232 1.06268322 0.04216702 0.04216702\n",
      " 0.04216702 0.04216702 0.04216702 0.04216702 0.04216702 0.04216702\n",
      " 1.59891232 1.59891232 1.59891232 1.06268322 0.04216702 0.04216702\n",
      " 0.04216702 0.04216702 0.04216702 0.04216702 0.04216702 0.04216702\n",
      " 1.59891232 1.59891232 1.59891232 1.06268322 0.04216702 0.04216702\n",
      " 0.04216702 0.04216702 0.04216702 0.04216702 0.04216702 0.04216702]\n"
     ]
    },
    {
     "name": "stderr",
     "output_type": "stream",
     "text": [
      "2019-11-13 10:24:06,665  - WARNING - Optimization Step 3\n"
     ]
    },
    {
     "name": "stdout",
     "output_type": "stream",
     "text": [
      "Optimization Step 3\n"
     ]
    },
    {
     "name": "stderr",
     "output_type": "stream",
     "text": [
      "2019-11-13 10:24:09,408  - INFO - Build matrix X for molecule 0\n"
     ]
    },
    {
     "name": "stdout",
     "output_type": "stream",
     "text": [
      "Build matrix X for molecule 0\n"
     ]
    },
    {
     "name": "stderr",
     "output_type": "stream",
     "text": [
      "2019-11-13 10:24:09,411  - INFO - Apply the following intramolecular polarization restaraints [[17, 18], [17, 19], [21, 22], [21, 23], [21, 24], [21, 25], [21, 26], [21, 27], [21, 28]]\n"
     ]
    },
    {
     "name": "stdout",
     "output_type": "stream",
     "text": [
      "Apply the following intramolecular polarization restaraints [[17, 18], [17, 19], [21, 22], [21, 23], [21, 24], [21, 25], [21, 26], [21, 27], [21, 28]]\n"
     ]
    },
    {
     "name": "stderr",
     "output_type": "stream",
     "text": [
      "2019-11-13 10:24:09,414  - INFO - Apply the following intramolecular polarization restaraints [[17, 18], [17, 19], [21, 22], [21, 23], [21, 24], [21, 25], [21, 26], [21, 27], [21, 28]]\n"
     ]
    },
    {
     "name": "stdout",
     "output_type": "stream",
     "text": [
      "Apply the following intramolecular polarization restaraints [[17, 18], [17, 19], [21, 22], [21, 23], [21, 24], [21, 25], [21, 26], [21, 27], [21, 28]]\n"
     ]
    },
    {
     "name": "stderr",
     "output_type": "stream",
     "text": [
      "2019-11-13 10:24:09,417  - INFO - Apply the following intramolecular polarization restaraints [[17, 18], [17, 19], [21, 22], [21, 23], [21, 24], [21, 25], [21, 26], [21, 27], [21, 28]]\n"
     ]
    },
    {
     "name": "stdout",
     "output_type": "stream",
     "text": [
      "Apply the following intramolecular polarization restaraints [[17, 18], [17, 19], [21, 22], [21, 23], [21, 24], [21, 25], [21, 26], [21, 27], [21, 28]]\n"
     ]
    },
    {
     "name": "stderr",
     "output_type": "stream",
     "text": [
      "2019-11-13 10:24:09,420  - INFO - Apply the following intramolecular polarization restaraints [[17, 18], [17, 19], [21, 22], [21, 23], [21, 24], [21, 25], [21, 26], [21, 27], [21, 28]]\n"
     ]
    },
    {
     "name": "stdout",
     "output_type": "stream",
     "text": [
      "Apply the following intramolecular polarization restaraints [[17, 18], [17, 19], [21, 22], [21, 23], [21, 24], [21, 25], [21, 26], [21, 27], [21, 28]]\n"
     ]
    },
    {
     "name": "stderr",
     "output_type": "stream",
     "text": [
      "2019-11-13 10:24:09,601  - INFO - Build vector Y for molecule 0\n"
     ]
    },
    {
     "name": "stdout",
     "output_type": "stream",
     "text": [
      "Build vector Y for molecule 0\n"
     ]
    },
    {
     "name": "stderr",
     "output_type": "stream",
     "text": [
      "2019-11-13 10:24:09,604  - INFO - Apply the following intramolecular polarization restaraints [[17, 18], [17, 19], [21, 22], [21, 23], [21, 24], [21, 25], [21, 26], [21, 27], [21, 28]]\n"
     ]
    },
    {
     "name": "stdout",
     "output_type": "stream",
     "text": [
      "Apply the following intramolecular polarization restaraints [[17, 18], [17, 19], [21, 22], [21, 23], [21, 24], [21, 25], [21, 26], [21, 27], [21, 28]]\n"
     ]
    },
    {
     "name": "stderr",
     "output_type": "stream",
     "text": [
      "2019-11-13 10:24:09,628  - INFO - Updating charges and polarization parameters for all molecules\n"
     ]
    },
    {
     "name": "stdout",
     "output_type": "stream",
     "text": [
      "Updating charges and polarization parameters for all molecules\n"
     ]
    },
    {
     "name": "stderr",
     "output_type": "stream",
     "text": [
      "2019-11-13 10:24:09,631  - INFO - Optimization step 4: Molekule 0: Charges\n"
     ]
    },
    {
     "name": "stdout",
     "output_type": "stream",
     "text": [
      "Optimization step 4: Molekule 0: Charges\n"
     ]
    },
    {
     "name": "stderr",
     "output_type": "stream",
     "text": [
      "2019-11-13 10:24:09,634  - INFO - [-0.10498087  0.05537987  0.27134898 -0.56735205  0.02907321  0.02907321\n",
      "  0.02907321 -0.01627125 -0.01627125 -0.02783743 -0.02783743  0.34660179]\n"
     ]
    },
    {
     "name": "stdout",
     "output_type": "stream",
     "text": [
      "[-0.10498087  0.05537987  0.27134898 -0.56735205  0.02907321  0.02907321\n",
      "  0.02907321 -0.01627125 -0.01627125 -0.02783743 -0.02783743  0.34660179]\n"
     ]
    },
    {
     "name": "stderr",
     "output_type": "stream",
     "text": [
      "2019-11-13 10:24:09,638  - INFO - Optimization step 4: Molekule 0: Dipoles\n"
     ]
    },
    {
     "name": "stdout",
     "output_type": "stream",
     "text": [
      "Optimization step 4: Molekule 0: Dipoles\n"
     ]
    },
    {
     "name": "stderr",
     "output_type": "stream",
     "text": [
      "2019-11-13 10:24:09,641  - INFO - [1.61548832 1.61548832 1.61548832 1.07896438 0.03366193 0.03366193\n",
      " 0.03366193 0.03366193 0.03366193 0.03366193 0.03366193 0.03366193\n",
      " 1.61548832 1.61548832 1.61548832 1.07896438 0.03366193 0.03366193\n",
      " 0.03366193 0.03366193 0.03366193 0.03366193 0.03366193 0.03366193\n",
      " 1.61548832 1.61548832 1.61548832 1.07896438 0.03366193 0.03366193\n",
      " 0.03366193 0.03366193 0.03366193 0.03366193 0.03366193 0.03366193]\n"
     ]
    },
    {
     "name": "stdout",
     "output_type": "stream",
     "text": [
      "[1.61548832 1.61548832 1.61548832 1.07896438 0.03366193 0.03366193\n",
      " 0.03366193 0.03366193 0.03366193 0.03366193 0.03366193 0.03366193\n",
      " 1.61548832 1.61548832 1.61548832 1.07896438 0.03366193 0.03366193\n",
      " 0.03366193 0.03366193 0.03366193 0.03366193 0.03366193 0.03366193\n",
      " 1.61548832 1.61548832 1.61548832 1.07896438 0.03366193 0.03366193\n",
      " 0.03366193 0.03366193 0.03366193 0.03366193 0.03366193 0.03366193]\n"
     ]
    },
    {
     "name": "stderr",
     "output_type": "stream",
     "text": [
      "2019-11-13 10:24:09,647  - WARNING - Optimization Step 4\n"
     ]
    },
    {
     "name": "stdout",
     "output_type": "stream",
     "text": [
      "Optimization Step 4\n"
     ]
    },
    {
     "name": "stderr",
     "output_type": "stream",
     "text": [
      "2019-11-13 10:24:14,166  - INFO - Build matrix X for molecule 0\n"
     ]
    },
    {
     "name": "stdout",
     "output_type": "stream",
     "text": [
      "Build matrix X for molecule 0\n"
     ]
    },
    {
     "name": "stderr",
     "output_type": "stream",
     "text": [
      "2019-11-13 10:24:14,169  - INFO - Apply the following intramolecular polarization restaraints [[17, 18], [17, 19], [21, 22], [21, 23], [21, 24], [21, 25], [21, 26], [21, 27], [21, 28]]\n"
     ]
    },
    {
     "name": "stdout",
     "output_type": "stream",
     "text": [
      "Apply the following intramolecular polarization restaraints [[17, 18], [17, 19], [21, 22], [21, 23], [21, 24], [21, 25], [21, 26], [21, 27], [21, 28]]\n"
     ]
    },
    {
     "name": "stderr",
     "output_type": "stream",
     "text": [
      "2019-11-13 10:24:14,170  - INFO - Apply the following intramolecular polarization restaraints [[17, 18], [17, 19], [21, 22], [21, 23], [21, 24], [21, 25], [21, 26], [21, 27], [21, 28]]\n"
     ]
    },
    {
     "name": "stdout",
     "output_type": "stream",
     "text": [
      "Apply the following intramolecular polarization restaraints [[17, 18], [17, 19], [21, 22], [21, 23], [21, 24], [21, 25], [21, 26], [21, 27], [21, 28]]\n"
     ]
    },
    {
     "name": "stderr",
     "output_type": "stream",
     "text": [
      "2019-11-13 10:24:14,172  - INFO - Apply the following intramolecular polarization restaraints [[17, 18], [17, 19], [21, 22], [21, 23], [21, 24], [21, 25], [21, 26], [21, 27], [21, 28]]\n"
     ]
    },
    {
     "name": "stdout",
     "output_type": "stream",
     "text": [
      "Apply the following intramolecular polarization restaraints [[17, 18], [17, 19], [21, 22], [21, 23], [21, 24], [21, 25], [21, 26], [21, 27], [21, 28]]\n"
     ]
    },
    {
     "name": "stderr",
     "output_type": "stream",
     "text": [
      "2019-11-13 10:24:14,174  - INFO - Apply the following intramolecular polarization restaraints [[17, 18], [17, 19], [21, 22], [21, 23], [21, 24], [21, 25], [21, 26], [21, 27], [21, 28]]\n"
     ]
    },
    {
     "name": "stdout",
     "output_type": "stream",
     "text": [
      "Apply the following intramolecular polarization restaraints [[17, 18], [17, 19], [21, 22], [21, 23], [21, 24], [21, 25], [21, 26], [21, 27], [21, 28]]\n"
     ]
    },
    {
     "name": "stderr",
     "output_type": "stream",
     "text": [
      "2019-11-13 10:24:14,600  - INFO - Build vector Y for molecule 0\n"
     ]
    },
    {
     "name": "stdout",
     "output_type": "stream",
     "text": [
      "Build vector Y for molecule 0\n"
     ]
    },
    {
     "name": "stderr",
     "output_type": "stream",
     "text": [
      "2019-11-13 10:24:14,602  - INFO - Apply the following intramolecular polarization restaraints [[17, 18], [17, 19], [21, 22], [21, 23], [21, 24], [21, 25], [21, 26], [21, 27], [21, 28]]\n"
     ]
    },
    {
     "name": "stdout",
     "output_type": "stream",
     "text": [
      "Apply the following intramolecular polarization restaraints [[17, 18], [17, 19], [21, 22], [21, 23], [21, 24], [21, 25], [21, 26], [21, 27], [21, 28]]\n"
     ]
    },
    {
     "name": "stderr",
     "output_type": "stream",
     "text": [
      "2019-11-13 10:24:14,621  - INFO - Updating charges and polarization parameters for all molecules\n"
     ]
    },
    {
     "name": "stdout",
     "output_type": "stream",
     "text": [
      "Updating charges and polarization parameters for all molecules\n"
     ]
    },
    {
     "name": "stderr",
     "output_type": "stream",
     "text": [
      "2019-11-13 10:24:14,623  - INFO - Optimization step 5: Molekule 0: Charges\n"
     ]
    },
    {
     "name": "stdout",
     "output_type": "stream",
     "text": [
      "Optimization step 5: Molekule 0: Charges\n"
     ]
    },
    {
     "name": "stderr",
     "output_type": "stream",
     "text": [
      "2019-11-13 10:24:14,625  - INFO - [-0.10401933  0.05742503  0.27251059 -0.56783359  0.02866895  0.02866895\n",
      "  0.02866895 -0.0169553  -0.0169553  -0.02838127 -0.02838127  0.34658359]\n"
     ]
    },
    {
     "name": "stdout",
     "output_type": "stream",
     "text": [
      "[-0.10401933  0.05742503  0.27251059 -0.56783359  0.02866895  0.02866895\n",
      "  0.02866895 -0.0169553  -0.0169553  -0.02838127 -0.02838127  0.34658359]\n"
     ]
    },
    {
     "name": "stderr",
     "output_type": "stream",
     "text": [
      "2019-11-13 10:24:14,627  - INFO - Optimization step 5: Molekule 0: Dipoles\n"
     ]
    },
    {
     "name": "stdout",
     "output_type": "stream",
     "text": [
      "Optimization step 5: Molekule 0: Dipoles\n"
     ]
    },
    {
     "name": "stderr",
     "output_type": "stream",
     "text": [
      "2019-11-13 10:24:14,629  - INFO - [1.60964476 1.60964476 1.60964476 1.06997125 0.03688741 0.03688741\n",
      " 0.03688741 0.03688741 0.03688741 0.03688741 0.03688741 0.03688741\n",
      " 1.60964476 1.60964476 1.60964476 1.06997125 0.03688741 0.03688741\n",
      " 0.03688741 0.03688741 0.03688741 0.03688741 0.03688741 0.03688741\n",
      " 1.60964476 1.60964476 1.60964476 1.06997125 0.03688741 0.03688741\n",
      " 0.03688741 0.03688741 0.03688741 0.03688741 0.03688741 0.03688741]\n"
     ]
    },
    {
     "name": "stdout",
     "output_type": "stream",
     "text": [
      "[1.60964476 1.60964476 1.60964476 1.06997125 0.03688741 0.03688741\n",
      " 0.03688741 0.03688741 0.03688741 0.03688741 0.03688741 0.03688741\n",
      " 1.60964476 1.60964476 1.60964476 1.06997125 0.03688741 0.03688741\n",
      " 0.03688741 0.03688741 0.03688741 0.03688741 0.03688741 0.03688741\n",
      " 1.60964476 1.60964476 1.60964476 1.06997125 0.03688741 0.03688741\n",
      " 0.03688741 0.03688741 0.03688741 0.03688741 0.03688741 0.03688741]\n"
     ]
    },
    {
     "name": "stderr",
     "output_type": "stream",
     "text": [
      "2019-11-13 10:24:14,633  - WARNING - Optimization Step 5\n"
     ]
    },
    {
     "name": "stdout",
     "output_type": "stream",
     "text": [
      "Optimization Step 5\n"
     ]
    },
    {
     "name": "stderr",
     "output_type": "stream",
     "text": [
      "2019-11-13 10:24:19,535  - INFO - Build matrix X for molecule 0\n"
     ]
    },
    {
     "name": "stdout",
     "output_type": "stream",
     "text": [
      "Build matrix X for molecule 0\n"
     ]
    },
    {
     "name": "stderr",
     "output_type": "stream",
     "text": [
      "2019-11-13 10:24:19,543  - INFO - Apply the following intramolecular polarization restaraints [[17, 18], [17, 19], [21, 22], [21, 23], [21, 24], [21, 25], [21, 26], [21, 27], [21, 28]]\n"
     ]
    },
    {
     "name": "stdout",
     "output_type": "stream",
     "text": [
      "Apply the following intramolecular polarization restaraints [[17, 18], [17, 19], [21, 22], [21, 23], [21, 24], [21, 25], [21, 26], [21, 27], [21, 28]]\n"
     ]
    },
    {
     "name": "stderr",
     "output_type": "stream",
     "text": [
      "2019-11-13 10:24:19,549  - INFO - Apply the following intramolecular polarization restaraints [[17, 18], [17, 19], [21, 22], [21, 23], [21, 24], [21, 25], [21, 26], [21, 27], [21, 28]]\n"
     ]
    },
    {
     "name": "stdout",
     "output_type": "stream",
     "text": [
      "Apply the following intramolecular polarization restaraints [[17, 18], [17, 19], [21, 22], [21, 23], [21, 24], [21, 25], [21, 26], [21, 27], [21, 28]]\n"
     ]
    },
    {
     "name": "stderr",
     "output_type": "stream",
     "text": [
      "2019-11-13 10:24:19,556  - INFO - Apply the following intramolecular polarization restaraints [[17, 18], [17, 19], [21, 22], [21, 23], [21, 24], [21, 25], [21, 26], [21, 27], [21, 28]]\n"
     ]
    },
    {
     "name": "stdout",
     "output_type": "stream",
     "text": [
      "Apply the following intramolecular polarization restaraints [[17, 18], [17, 19], [21, 22], [21, 23], [21, 24], [21, 25], [21, 26], [21, 27], [21, 28]]\n"
     ]
    },
    {
     "name": "stderr",
     "output_type": "stream",
     "text": [
      "2019-11-13 10:24:19,562  - INFO - Apply the following intramolecular polarization restaraints [[17, 18], [17, 19], [21, 22], [21, 23], [21, 24], [21, 25], [21, 26], [21, 27], [21, 28]]\n"
     ]
    },
    {
     "name": "stdout",
     "output_type": "stream",
     "text": [
      "Apply the following intramolecular polarization restaraints [[17, 18], [17, 19], [21, 22], [21, 23], [21, 24], [21, 25], [21, 26], [21, 27], [21, 28]]\n"
     ]
    },
    {
     "name": "stderr",
     "output_type": "stream",
     "text": [
      "2019-11-13 10:24:19,850  - INFO - Build vector Y for molecule 0\n"
     ]
    },
    {
     "name": "stdout",
     "output_type": "stream",
     "text": [
      "Build vector Y for molecule 0\n"
     ]
    },
    {
     "name": "stderr",
     "output_type": "stream",
     "text": [
      "2019-11-13 10:24:19,852  - INFO - Apply the following intramolecular polarization restaraints [[17, 18], [17, 19], [21, 22], [21, 23], [21, 24], [21, 25], [21, 26], [21, 27], [21, 28]]\n"
     ]
    },
    {
     "name": "stdout",
     "output_type": "stream",
     "text": [
      "Apply the following intramolecular polarization restaraints [[17, 18], [17, 19], [21, 22], [21, 23], [21, 24], [21, 25], [21, 26], [21, 27], [21, 28]]\n"
     ]
    },
    {
     "name": "stderr",
     "output_type": "stream",
     "text": [
      "2019-11-13 10:24:19,873  - INFO - Updating charges and polarization parameters for all molecules\n"
     ]
    },
    {
     "name": "stdout",
     "output_type": "stream",
     "text": [
      "Updating charges and polarization parameters for all molecules\n"
     ]
    },
    {
     "name": "stderr",
     "output_type": "stream",
     "text": [
      "2019-11-13 10:24:19,875  - INFO - Optimization step 6: Molekule 0: Charges\n"
     ]
    },
    {
     "name": "stdout",
     "output_type": "stream",
     "text": [
      "Optimization step 6: Molekule 0: Charges\n"
     ]
    },
    {
     "name": "stderr",
     "output_type": "stream",
     "text": [
      "2019-11-13 10:24:19,876  - INFO - [-0.10437455  0.05651628  0.27202067 -0.56763715  0.02883509  0.02883509\n",
      "  0.02883509 -0.01665418 -0.01665418 -0.0281561  -0.0281561   0.34659004]\n"
     ]
    },
    {
     "name": "stdout",
     "output_type": "stream",
     "text": [
      "[-0.10437455  0.05651628  0.27202067 -0.56763715  0.02883509  0.02883509\n",
      "  0.02883509 -0.01665418 -0.01665418 -0.0281561  -0.0281561   0.34659004]\n"
     ]
    },
    {
     "name": "stderr",
     "output_type": "stream",
     "text": [
      "2019-11-13 10:24:19,878  - INFO - Optimization step 6: Molekule 0: Dipoles\n"
     ]
    },
    {
     "name": "stdout",
     "output_type": "stream",
     "text": [
      "Optimization step 6: Molekule 0: Dipoles\n"
     ]
    },
    {
     "name": "stderr",
     "output_type": "stream",
     "text": [
      "2019-11-13 10:24:19,880  - INFO - [1.61199942 1.61199942 1.61199942 1.07325338 0.03562624 0.03562624\n",
      " 0.03562624 0.03562624 0.03562624 0.03562624 0.03562624 0.03562624\n",
      " 1.61199942 1.61199942 1.61199942 1.07325338 0.03562624 0.03562624\n",
      " 0.03562624 0.03562624 0.03562624 0.03562624 0.03562624 0.03562624\n",
      " 1.61199942 1.61199942 1.61199942 1.07325338 0.03562624 0.03562624\n",
      " 0.03562624 0.03562624 0.03562624 0.03562624 0.03562624 0.03562624]\n"
     ]
    },
    {
     "name": "stdout",
     "output_type": "stream",
     "text": [
      "[1.61199942 1.61199942 1.61199942 1.07325338 0.03562624 0.03562624\n",
      " 0.03562624 0.03562624 0.03562624 0.03562624 0.03562624 0.03562624\n",
      " 1.61199942 1.61199942 1.61199942 1.07325338 0.03562624 0.03562624\n",
      " 0.03562624 0.03562624 0.03562624 0.03562624 0.03562624 0.03562624\n",
      " 1.61199942 1.61199942 1.61199942 1.07325338 0.03562624 0.03562624\n",
      " 0.03562624 0.03562624 0.03562624 0.03562624 0.03562624 0.03562624]\n"
     ]
    },
    {
     "name": "stderr",
     "output_type": "stream",
     "text": [
      "2019-11-13 10:24:19,883  - WARNING - Optimization Step 6\n"
     ]
    },
    {
     "name": "stdout",
     "output_type": "stream",
     "text": [
      "Optimization Step 6\n"
     ]
    },
    {
     "name": "stderr",
     "output_type": "stream",
     "text": [
      "2019-11-13 10:24:22,017  - INFO - Build matrix X for molecule 0\n"
     ]
    },
    {
     "name": "stdout",
     "output_type": "stream",
     "text": [
      "Build matrix X for molecule 0\n"
     ]
    },
    {
     "name": "stderr",
     "output_type": "stream",
     "text": [
      "2019-11-13 10:24:22,019  - INFO - Apply the following intramolecular polarization restaraints [[17, 18], [17, 19], [21, 22], [21, 23], [21, 24], [21, 25], [21, 26], [21, 27], [21, 28]]\n"
     ]
    },
    {
     "name": "stdout",
     "output_type": "stream",
     "text": [
      "Apply the following intramolecular polarization restaraints [[17, 18], [17, 19], [21, 22], [21, 23], [21, 24], [21, 25], [21, 26], [21, 27], [21, 28]]\n"
     ]
    },
    {
     "name": "stderr",
     "output_type": "stream",
     "text": [
      "2019-11-13 10:24:22,021  - INFO - Apply the following intramolecular polarization restaraints [[17, 18], [17, 19], [21, 22], [21, 23], [21, 24], [21, 25], [21, 26], [21, 27], [21, 28]]\n"
     ]
    },
    {
     "name": "stdout",
     "output_type": "stream",
     "text": [
      "Apply the following intramolecular polarization restaraints [[17, 18], [17, 19], [21, 22], [21, 23], [21, 24], [21, 25], [21, 26], [21, 27], [21, 28]]\n"
     ]
    },
    {
     "name": "stderr",
     "output_type": "stream",
     "text": [
      "2019-11-13 10:24:22,023  - INFO - Apply the following intramolecular polarization restaraints [[17, 18], [17, 19], [21, 22], [21, 23], [21, 24], [21, 25], [21, 26], [21, 27], [21, 28]]\n"
     ]
    },
    {
     "name": "stdout",
     "output_type": "stream",
     "text": [
      "Apply the following intramolecular polarization restaraints [[17, 18], [17, 19], [21, 22], [21, 23], [21, 24], [21, 25], [21, 26], [21, 27], [21, 28]]\n"
     ]
    },
    {
     "name": "stderr",
     "output_type": "stream",
     "text": [
      "2019-11-13 10:24:22,025  - INFO - Apply the following intramolecular polarization restaraints [[17, 18], [17, 19], [21, 22], [21, 23], [21, 24], [21, 25], [21, 26], [21, 27], [21, 28]]\n"
     ]
    },
    {
     "name": "stdout",
     "output_type": "stream",
     "text": [
      "Apply the following intramolecular polarization restaraints [[17, 18], [17, 19], [21, 22], [21, 23], [21, 24], [21, 25], [21, 26], [21, 27], [21, 28]]\n"
     ]
    },
    {
     "name": "stderr",
     "output_type": "stream",
     "text": [
      "2019-11-13 10:24:22,135  - INFO - Build vector Y for molecule 0\n"
     ]
    },
    {
     "name": "stdout",
     "output_type": "stream",
     "text": [
      "Build vector Y for molecule 0\n"
     ]
    },
    {
     "name": "stderr",
     "output_type": "stream",
     "text": [
      "2019-11-13 10:24:22,137  - INFO - Apply the following intramolecular polarization restaraints [[17, 18], [17, 19], [21, 22], [21, 23], [21, 24], [21, 25], [21, 26], [21, 27], [21, 28]]\n"
     ]
    },
    {
     "name": "stdout",
     "output_type": "stream",
     "text": [
      "Apply the following intramolecular polarization restaraints [[17, 18], [17, 19], [21, 22], [21, 23], [21, 24], [21, 25], [21, 26], [21, 27], [21, 28]]\n"
     ]
    },
    {
     "name": "stderr",
     "output_type": "stream",
     "text": [
      "2019-11-13 10:24:22,169  - INFO - Updating charges and polarization parameters for all molecules\n"
     ]
    },
    {
     "name": "stdout",
     "output_type": "stream",
     "text": [
      "Updating charges and polarization parameters for all molecules\n"
     ]
    },
    {
     "name": "stderr",
     "output_type": "stream",
     "text": [
      "2019-11-13 10:24:22,171  - INFO - Optimization step 7: Molekule 0: Charges\n"
     ]
    },
    {
     "name": "stdout",
     "output_type": "stream",
     "text": [
      "Optimization step 7: Molekule 0: Charges\n"
     ]
    },
    {
     "name": "stderr",
     "output_type": "stream",
     "text": [
      "2019-11-13 10:24:22,173  - INFO - [-0.10422236  0.05689195  0.27223914 -0.56772477  0.02876496  0.02876496\n",
      "  0.02876496 -0.01677858 -0.01677858 -0.02825465 -0.02825465  0.34658764]\n"
     ]
    },
    {
     "name": "stdout",
     "output_type": "stream",
     "text": [
      "[-0.10422236  0.05689195  0.27223914 -0.56772477  0.02876496  0.02876496\n",
      "  0.02876496 -0.01677858 -0.01677858 -0.02825465 -0.02825465  0.34658764]\n"
     ]
    },
    {
     "name": "stderr",
     "output_type": "stream",
     "text": [
      "2019-11-13 10:24:22,175  - INFO - Optimization step 7: Molekule 0: Dipoles\n"
     ]
    },
    {
     "name": "stdout",
     "output_type": "stream",
     "text": [
      "Optimization step 7: Molekule 0: Dipoles\n"
     ]
    },
    {
     "name": "stderr",
     "output_type": "stream",
     "text": [
      "2019-11-13 10:24:22,177  - INFO - [1.61097657 1.61097657 1.61097657 1.07174385 0.03618334 0.03618334\n",
      " 0.03618334 0.03618334 0.03618334 0.03618334 0.03618334 0.03618334\n",
      " 1.61097657 1.61097657 1.61097657 1.07174385 0.03618334 0.03618334\n",
      " 0.03618334 0.03618334 0.03618334 0.03618334 0.03618334 0.03618334\n",
      " 1.61097657 1.61097657 1.61097657 1.07174385 0.03618334 0.03618334\n",
      " 0.03618334 0.03618334 0.03618334 0.03618334 0.03618334 0.03618334]\n"
     ]
    },
    {
     "name": "stdout",
     "output_type": "stream",
     "text": [
      "[1.61097657 1.61097657 1.61097657 1.07174385 0.03618334 0.03618334\n",
      " 0.03618334 0.03618334 0.03618334 0.03618334 0.03618334 0.03618334\n",
      " 1.61097657 1.61097657 1.61097657 1.07174385 0.03618334 0.03618334\n",
      " 0.03618334 0.03618334 0.03618334 0.03618334 0.03618334 0.03618334\n",
      " 1.61097657 1.61097657 1.61097657 1.07174385 0.03618334 0.03618334\n",
      " 0.03618334 0.03618334 0.03618334 0.03618334 0.03618334 0.03618334]\n"
     ]
    },
    {
     "name": "stderr",
     "output_type": "stream",
     "text": [
      "2019-11-13 10:24:22,180  - WARNING - Optimization Step 7\n"
     ]
    },
    {
     "name": "stdout",
     "output_type": "stream",
     "text": [
      "Optimization Step 7\n"
     ]
    },
    {
     "name": "stderr",
     "output_type": "stream",
     "text": [
      "2019-11-13 10:24:25,844  - INFO - Build matrix X for molecule 0\n"
     ]
    },
    {
     "name": "stdout",
     "output_type": "stream",
     "text": [
      "Build matrix X for molecule 0\n"
     ]
    },
    {
     "name": "stderr",
     "output_type": "stream",
     "text": [
      "2019-11-13 10:24:25,852  - INFO - Apply the following intramolecular polarization restaraints [[17, 18], [17, 19], [21, 22], [21, 23], [21, 24], [21, 25], [21, 26], [21, 27], [21, 28]]\n"
     ]
    },
    {
     "name": "stdout",
     "output_type": "stream",
     "text": [
      "Apply the following intramolecular polarization restaraints [[17, 18], [17, 19], [21, 22], [21, 23], [21, 24], [21, 25], [21, 26], [21, 27], [21, 28]]\n"
     ]
    },
    {
     "name": "stderr",
     "output_type": "stream",
     "text": [
      "2019-11-13 10:24:25,860  - INFO - Apply the following intramolecular polarization restaraints [[17, 18], [17, 19], [21, 22], [21, 23], [21, 24], [21, 25], [21, 26], [21, 27], [21, 28]]\n"
     ]
    },
    {
     "name": "stdout",
     "output_type": "stream",
     "text": [
      "Apply the following intramolecular polarization restaraints [[17, 18], [17, 19], [21, 22], [21, 23], [21, 24], [21, 25], [21, 26], [21, 27], [21, 28]]\n"
     ]
    },
    {
     "name": "stderr",
     "output_type": "stream",
     "text": [
      "2019-11-13 10:24:25,866  - INFO - Apply the following intramolecular polarization restaraints [[17, 18], [17, 19], [21, 22], [21, 23], [21, 24], [21, 25], [21, 26], [21, 27], [21, 28]]\n"
     ]
    },
    {
     "name": "stdout",
     "output_type": "stream",
     "text": [
      "Apply the following intramolecular polarization restaraints [[17, 18], [17, 19], [21, 22], [21, 23], [21, 24], [21, 25], [21, 26], [21, 27], [21, 28]]\n"
     ]
    },
    {
     "name": "stderr",
     "output_type": "stream",
     "text": [
      "2019-11-13 10:24:25,871  - INFO - Apply the following intramolecular polarization restaraints [[17, 18], [17, 19], [21, 22], [21, 23], [21, 24], [21, 25], [21, 26], [21, 27], [21, 28]]\n"
     ]
    },
    {
     "name": "stdout",
     "output_type": "stream",
     "text": [
      "Apply the following intramolecular polarization restaraints [[17, 18], [17, 19], [21, 22], [21, 23], [21, 24], [21, 25], [21, 26], [21, 27], [21, 28]]\n"
     ]
    },
    {
     "name": "stderr",
     "output_type": "stream",
     "text": [
      "2019-11-13 10:24:26,311  - INFO - Build vector Y for molecule 0\n"
     ]
    },
    {
     "name": "stdout",
     "output_type": "stream",
     "text": [
      "Build vector Y for molecule 0\n"
     ]
    },
    {
     "name": "stderr",
     "output_type": "stream",
     "text": [
      "2019-11-13 10:24:26,320  - INFO - Apply the following intramolecular polarization restaraints [[17, 18], [17, 19], [21, 22], [21, 23], [21, 24], [21, 25], [21, 26], [21, 27], [21, 28]]\n"
     ]
    },
    {
     "name": "stdout",
     "output_type": "stream",
     "text": [
      "Apply the following intramolecular polarization restaraints [[17, 18], [17, 19], [21, 22], [21, 23], [21, 24], [21, 25], [21, 26], [21, 27], [21, 28]]\n"
     ]
    },
    {
     "name": "stderr",
     "output_type": "stream",
     "text": [
      "2019-11-13 10:24:26,361  - INFO - Updating charges and polarization parameters for all molecules\n"
     ]
    },
    {
     "name": "stdout",
     "output_type": "stream",
     "text": [
      "Updating charges and polarization parameters for all molecules\n"
     ]
    },
    {
     "name": "stderr",
     "output_type": "stream",
     "text": [
      "2019-11-13 10:24:26,369  - INFO - Optimization step 8: Molekule 0: Charges\n"
     ]
    },
    {
     "name": "stdout",
     "output_type": "stream",
     "text": [
      "Optimization step 8: Molekule 0: Charges\n"
     ]
    },
    {
     "name": "stderr",
     "output_type": "stream",
     "text": [
      "2019-11-13 10:24:26,377  - INFO - [-0.10428749  0.056731    0.27214757 -0.56768829  0.02879512  0.02879512\n",
      "  0.02879512 -0.01672517 -0.01672517 -0.02821325 -0.02821325  0.3465887 ]\n"
     ]
    },
    {
     "name": "stdout",
     "output_type": "stream",
     "text": [
      "[-0.10428749  0.056731    0.27214757 -0.56768829  0.02879512  0.02879512\n",
      "  0.02879512 -0.01672517 -0.01672517 -0.02821325 -0.02821325  0.3465887 ]\n"
     ]
    },
    {
     "name": "stderr",
     "output_type": "stream",
     "text": [
      "2019-11-13 10:24:26,387  - INFO - Optimization step 8: Molekule 0: Dipoles\n"
     ]
    },
    {
     "name": "stdout",
     "output_type": "stream",
     "text": [
      "Optimization step 8: Molekule 0: Dipoles\n"
     ]
    },
    {
     "name": "stderr",
     "output_type": "stream",
     "text": [
      "2019-11-13 10:24:26,393  - INFO - [1.61141258 1.61141258 1.61141258 1.07237066 0.03594734 0.03594734\n",
      " 0.03594734 0.03594734 0.03594734 0.03594734 0.03594734 0.03594734\n",
      " 1.61141258 1.61141258 1.61141258 1.07237066 0.03594734 0.03594734\n",
      " 0.03594734 0.03594734 0.03594734 0.03594734 0.03594734 0.03594734\n",
      " 1.61141258 1.61141258 1.61141258 1.07237066 0.03594734 0.03594734\n",
      " 0.03594734 0.03594734 0.03594734 0.03594734 0.03594734 0.03594734]\n"
     ]
    },
    {
     "name": "stdout",
     "output_type": "stream",
     "text": [
      "[1.61141258 1.61141258 1.61141258 1.07237066 0.03594734 0.03594734\n",
      " 0.03594734 0.03594734 0.03594734 0.03594734 0.03594734 0.03594734\n",
      " 1.61141258 1.61141258 1.61141258 1.07237066 0.03594734 0.03594734\n",
      " 0.03594734 0.03594734 0.03594734 0.03594734 0.03594734 0.03594734\n",
      " 1.61141258 1.61141258 1.61141258 1.07237066 0.03594734 0.03594734\n",
      " 0.03594734 0.03594734 0.03594734 0.03594734 0.03594734 0.03594734]\n"
     ]
    },
    {
     "name": "stderr",
     "output_type": "stream",
     "text": [
      "2019-11-13 10:24:26,407  - WARNING - Optimization Step 8\n"
     ]
    },
    {
     "name": "stdout",
     "output_type": "stream",
     "text": [
      "Optimization Step 8\n"
     ]
    },
    {
     "name": "stderr",
     "output_type": "stream",
     "text": [
      "2019-11-13 10:24:29,090  - INFO - Build matrix X for molecule 0\n"
     ]
    },
    {
     "name": "stdout",
     "output_type": "stream",
     "text": [
      "Build matrix X for molecule 0\n"
     ]
    },
    {
     "name": "stderr",
     "output_type": "stream",
     "text": [
      "2019-11-13 10:24:29,092  - INFO - Apply the following intramolecular polarization restaraints [[17, 18], [17, 19], [21, 22], [21, 23], [21, 24], [21, 25], [21, 26], [21, 27], [21, 28]]\n"
     ]
    },
    {
     "name": "stdout",
     "output_type": "stream",
     "text": [
      "Apply the following intramolecular polarization restaraints [[17, 18], [17, 19], [21, 22], [21, 23], [21, 24], [21, 25], [21, 26], [21, 27], [21, 28]]\n"
     ]
    },
    {
     "name": "stderr",
     "output_type": "stream",
     "text": [
      "2019-11-13 10:24:29,094  - INFO - Apply the following intramolecular polarization restaraints [[17, 18], [17, 19], [21, 22], [21, 23], [21, 24], [21, 25], [21, 26], [21, 27], [21, 28]]\n"
     ]
    },
    {
     "name": "stdout",
     "output_type": "stream",
     "text": [
      "Apply the following intramolecular polarization restaraints [[17, 18], [17, 19], [21, 22], [21, 23], [21, 24], [21, 25], [21, 26], [21, 27], [21, 28]]\n"
     ]
    },
    {
     "name": "stderr",
     "output_type": "stream",
     "text": [
      "2019-11-13 10:24:29,095  - INFO - Apply the following intramolecular polarization restaraints [[17, 18], [17, 19], [21, 22], [21, 23], [21, 24], [21, 25], [21, 26], [21, 27], [21, 28]]\n"
     ]
    },
    {
     "name": "stdout",
     "output_type": "stream",
     "text": [
      "Apply the following intramolecular polarization restaraints [[17, 18], [17, 19], [21, 22], [21, 23], [21, 24], [21, 25], [21, 26], [21, 27], [21, 28]]\n"
     ]
    },
    {
     "name": "stderr",
     "output_type": "stream",
     "text": [
      "2019-11-13 10:24:29,098  - INFO - Apply the following intramolecular polarization restaraints [[17, 18], [17, 19], [21, 22], [21, 23], [21, 24], [21, 25], [21, 26], [21, 27], [21, 28]]\n"
     ]
    },
    {
     "name": "stdout",
     "output_type": "stream",
     "text": [
      "Apply the following intramolecular polarization restaraints [[17, 18], [17, 19], [21, 22], [21, 23], [21, 24], [21, 25], [21, 26], [21, 27], [21, 28]]\n"
     ]
    },
    {
     "name": "stderr",
     "output_type": "stream",
     "text": [
      "2019-11-13 10:24:29,248  - INFO - Build vector Y for molecule 0\n"
     ]
    },
    {
     "name": "stdout",
     "output_type": "stream",
     "text": [
      "Build vector Y for molecule 0\n"
     ]
    },
    {
     "name": "stderr",
     "output_type": "stream",
     "text": [
      "2019-11-13 10:24:29,251  - INFO - Apply the following intramolecular polarization restaraints [[17, 18], [17, 19], [21, 22], [21, 23], [21, 24], [21, 25], [21, 26], [21, 27], [21, 28]]\n"
     ]
    },
    {
     "name": "stdout",
     "output_type": "stream",
     "text": [
      "Apply the following intramolecular polarization restaraints [[17, 18], [17, 19], [21, 22], [21, 23], [21, 24], [21, 25], [21, 26], [21, 27], [21, 28]]\n"
     ]
    },
    {
     "name": "stderr",
     "output_type": "stream",
     "text": [
      "2019-11-13 10:24:29,269  - INFO - Updating charges and polarization parameters for all molecules\n"
     ]
    },
    {
     "name": "stdout",
     "output_type": "stream",
     "text": [
      "Updating charges and polarization parameters for all molecules\n"
     ]
    },
    {
     "name": "stderr",
     "output_type": "stream",
     "text": [
      "2019-11-13 10:24:29,270  - INFO - Optimization step 9: Molekule 0: Charges\n"
     ]
    },
    {
     "name": "stdout",
     "output_type": "stream",
     "text": [
      "Optimization step 9: Molekule 0: Charges\n"
     ]
    },
    {
     "name": "stderr",
     "output_type": "stream",
     "text": [
      "2019-11-13 10:24:29,272  - INFO - [-0.10425974  0.05679942  0.27218663 -0.56770391  0.02878232  0.02878232\n",
      "  0.02878232 -0.01674786 -0.01674786 -0.02823094 -0.02823094  0.34658825]\n"
     ]
    },
    {
     "name": "stdout",
     "output_type": "stream",
     "text": [
      "[-0.10425974  0.05679942  0.27218663 -0.56770391  0.02878232  0.02878232\n",
      "  0.02878232 -0.01674786 -0.01674786 -0.02823094 -0.02823094  0.34658825]\n"
     ]
    },
    {
     "name": "stderr",
     "output_type": "stream",
     "text": [
      "2019-11-13 10:24:29,275  - INFO - Optimization step 9: Molekule 0: Dipoles\n"
     ]
    },
    {
     "name": "stdout",
     "output_type": "stream",
     "text": [
      "Optimization step 9: Molekule 0: Dipoles\n"
     ]
    },
    {
     "name": "stderr",
     "output_type": "stream",
     "text": [
      "2019-11-13 10:24:29,276  - INFO - [1.61122728 1.61122728 1.61122728 1.07210178 0.03604785 0.03604785\n",
      " 0.03604785 0.03604785 0.03604785 0.03604785 0.03604785 0.03604785\n",
      " 1.61122728 1.61122728 1.61122728 1.07210178 0.03604785 0.03604785\n",
      " 0.03604785 0.03604785 0.03604785 0.03604785 0.03604785 0.03604785\n",
      " 1.61122728 1.61122728 1.61122728 1.07210178 0.03604785 0.03604785\n",
      " 0.03604785 0.03604785 0.03604785 0.03604785 0.03604785 0.03604785]\n"
     ]
    },
    {
     "name": "stdout",
     "output_type": "stream",
     "text": [
      "[1.61122728 1.61122728 1.61122728 1.07210178 0.03604785 0.03604785\n",
      " 0.03604785 0.03604785 0.03604785 0.03604785 0.03604785 0.03604785\n",
      " 1.61122728 1.61122728 1.61122728 1.07210178 0.03604785 0.03604785\n",
      " 0.03604785 0.03604785 0.03604785 0.03604785 0.03604785 0.03604785\n",
      " 1.61122728 1.61122728 1.61122728 1.07210178 0.03604785 0.03604785\n",
      " 0.03604785 0.03604785 0.03604785 0.03604785 0.03604785 0.03604785]\n"
     ]
    },
    {
     "name": "stderr",
     "output_type": "stream",
     "text": [
      "2019-11-13 10:24:29,288  - WARNING - Optimization Step 9\n"
     ]
    },
    {
     "name": "stdout",
     "output_type": "stream",
     "text": [
      "Optimization Step 9\n"
     ]
    },
    {
     "name": "stderr",
     "output_type": "stream",
     "text": [
      "2019-11-13 10:24:31,810  - INFO - Build matrix X for molecule 0\n"
     ]
    },
    {
     "name": "stdout",
     "output_type": "stream",
     "text": [
      "Build matrix X for molecule 0\n"
     ]
    },
    {
     "name": "stderr",
     "output_type": "stream",
     "text": [
      "2019-11-13 10:24:31,817  - INFO - Apply the following intramolecular polarization restaraints [[17, 18], [17, 19], [21, 22], [21, 23], [21, 24], [21, 25], [21, 26], [21, 27], [21, 28]]\n"
     ]
    },
    {
     "name": "stdout",
     "output_type": "stream",
     "text": [
      "Apply the following intramolecular polarization restaraints [[17, 18], [17, 19], [21, 22], [21, 23], [21, 24], [21, 25], [21, 26], [21, 27], [21, 28]]\n"
     ]
    },
    {
     "name": "stderr",
     "output_type": "stream",
     "text": [
      "2019-11-13 10:24:31,823  - INFO - Apply the following intramolecular polarization restaraints [[17, 18], [17, 19], [21, 22], [21, 23], [21, 24], [21, 25], [21, 26], [21, 27], [21, 28]]\n"
     ]
    },
    {
     "name": "stdout",
     "output_type": "stream",
     "text": [
      "Apply the following intramolecular polarization restaraints [[17, 18], [17, 19], [21, 22], [21, 23], [21, 24], [21, 25], [21, 26], [21, 27], [21, 28]]\n"
     ]
    },
    {
     "name": "stderr",
     "output_type": "stream",
     "text": [
      "2019-11-13 10:24:31,829  - INFO - Apply the following intramolecular polarization restaraints [[17, 18], [17, 19], [21, 22], [21, 23], [21, 24], [21, 25], [21, 26], [21, 27], [21, 28]]\n"
     ]
    },
    {
     "name": "stdout",
     "output_type": "stream",
     "text": [
      "Apply the following intramolecular polarization restaraints [[17, 18], [17, 19], [21, 22], [21, 23], [21, 24], [21, 25], [21, 26], [21, 27], [21, 28]]\n"
     ]
    },
    {
     "name": "stderr",
     "output_type": "stream",
     "text": [
      "2019-11-13 10:24:31,834  - INFO - Apply the following intramolecular polarization restaraints [[17, 18], [17, 19], [21, 22], [21, 23], [21, 24], [21, 25], [21, 26], [21, 27], [21, 28]]\n"
     ]
    },
    {
     "name": "stdout",
     "output_type": "stream",
     "text": [
      "Apply the following intramolecular polarization restaraints [[17, 18], [17, 19], [21, 22], [21, 23], [21, 24], [21, 25], [21, 26], [21, 27], [21, 28]]\n"
     ]
    },
    {
     "name": "stderr",
     "output_type": "stream",
     "text": [
      "2019-11-13 10:24:32,212  - INFO - Build vector Y for molecule 0\n"
     ]
    },
    {
     "name": "stdout",
     "output_type": "stream",
     "text": [
      "Build vector Y for molecule 0\n"
     ]
    },
    {
     "name": "stderr",
     "output_type": "stream",
     "text": [
      "2019-11-13 10:24:32,233  - INFO - Apply the following intramolecular polarization restaraints [[17, 18], [17, 19], [21, 22], [21, 23], [21, 24], [21, 25], [21, 26], [21, 27], [21, 28]]\n"
     ]
    },
    {
     "name": "stdout",
     "output_type": "stream",
     "text": [
      "Apply the following intramolecular polarization restaraints [[17, 18], [17, 19], [21, 22], [21, 23], [21, 24], [21, 25], [21, 26], [21, 27], [21, 28]]\n"
     ]
    },
    {
     "name": "stderr",
     "output_type": "stream",
     "text": [
      "2019-11-13 10:24:32,402  - INFO - Updating charges and polarization parameters for all molecules\n"
     ]
    },
    {
     "name": "stdout",
     "output_type": "stream",
     "text": [
      "Updating charges and polarization parameters for all molecules\n"
     ]
    },
    {
     "name": "stderr",
     "output_type": "stream",
     "text": [
      "2019-11-13 10:24:32,423  - INFO - Optimization step 10: Molekule 0: Charges\n"
     ]
    },
    {
     "name": "stdout",
     "output_type": "stream",
     "text": [
      "Optimization step 10: Molekule 0: Charges\n"
     ]
    },
    {
     "name": "stderr",
     "output_type": "stream",
     "text": [
      "2019-11-13 10:24:32,428  - INFO - [-0.10427153  0.05677028  0.27217002 -0.56769728  0.02878777  0.02878777\n",
      "  0.02878777 -0.0167382  -0.0167382  -0.02822342 -0.02822342  0.34658844]\n"
     ]
    },
    {
     "name": "stdout",
     "output_type": "stream",
     "text": [
      "[-0.10427153  0.05677028  0.27217002 -0.56769728  0.02878777  0.02878777\n",
      "  0.02878777 -0.0167382  -0.0167382  -0.02822342 -0.02822342  0.34658844]\n"
     ]
    },
    {
     "name": "stderr",
     "output_type": "stream",
     "text": [
      "2019-11-13 10:24:32,437  - INFO - Optimization step 10: Molekule 0: Dipoles\n"
     ]
    },
    {
     "name": "stdout",
     "output_type": "stream",
     "text": [
      "Optimization step 10: Molekule 0: Dipoles\n"
     ]
    },
    {
     "name": "stderr",
     "output_type": "stream",
     "text": [
      "2019-11-13 10:24:32,442  - INFO - [1.61130613 1.61130613 1.61130613 1.07221584 0.03600511 0.03600511\n",
      " 0.03600511 0.03600511 0.03600511 0.03600511 0.03600511 0.03600511\n",
      " 1.61130613 1.61130613 1.61130613 1.07221584 0.03600511 0.03600511\n",
      " 0.03600511 0.03600511 0.03600511 0.03600511 0.03600511 0.03600511\n",
      " 1.61130613 1.61130613 1.61130613 1.07221584 0.03600511 0.03600511\n",
      " 0.03600511 0.03600511 0.03600511 0.03600511 0.03600511 0.03600511]\n"
     ]
    },
    {
     "name": "stdout",
     "output_type": "stream",
     "text": [
      "[1.61130613 1.61130613 1.61130613 1.07221584 0.03600511 0.03600511\n",
      " 0.03600511 0.03600511 0.03600511 0.03600511 0.03600511 0.03600511\n",
      " 1.61130613 1.61130613 1.61130613 1.07221584 0.03600511 0.03600511\n",
      " 0.03600511 0.03600511 0.03600511 0.03600511 0.03600511 0.03600511\n",
      " 1.61130613 1.61130613 1.61130613 1.07221584 0.03600511 0.03600511\n",
      " 0.03600511 0.03600511 0.03600511 0.03600511 0.03600511 0.03600511]\n"
     ]
    },
    {
     "name": "stderr",
     "output_type": "stream",
     "text": [
      "2019-11-13 10:24:32,452  - WARNING - Optimization Step 10\n"
     ]
    },
    {
     "name": "stdout",
     "output_type": "stream",
     "text": [
      "Optimization Step 10\n"
     ]
    },
    {
     "name": "stderr",
     "output_type": "stream",
     "text": [
      "2019-11-13 10:24:35,851  - INFO - Build matrix X for molecule 0\n"
     ]
    },
    {
     "name": "stdout",
     "output_type": "stream",
     "text": [
      "Build matrix X for molecule 0\n"
     ]
    },
    {
     "name": "stderr",
     "output_type": "stream",
     "text": [
      "2019-11-13 10:24:35,854  - INFO - Apply the following intramolecular polarization restaraints [[17, 18], [17, 19], [21, 22], [21, 23], [21, 24], [21, 25], [21, 26], [21, 27], [21, 28]]\n"
     ]
    },
    {
     "name": "stdout",
     "output_type": "stream",
     "text": [
      "Apply the following intramolecular polarization restaraints [[17, 18], [17, 19], [21, 22], [21, 23], [21, 24], [21, 25], [21, 26], [21, 27], [21, 28]]\n"
     ]
    },
    {
     "name": "stderr",
     "output_type": "stream",
     "text": [
      "2019-11-13 10:24:35,855  - INFO - Apply the following intramolecular polarization restaraints [[17, 18], [17, 19], [21, 22], [21, 23], [21, 24], [21, 25], [21, 26], [21, 27], [21, 28]]\n"
     ]
    },
    {
     "name": "stdout",
     "output_type": "stream",
     "text": [
      "Apply the following intramolecular polarization restaraints [[17, 18], [17, 19], [21, 22], [21, 23], [21, 24], [21, 25], [21, 26], [21, 27], [21, 28]]\n"
     ]
    },
    {
     "name": "stderr",
     "output_type": "stream",
     "text": [
      "2019-11-13 10:24:35,857  - INFO - Apply the following intramolecular polarization restaraints [[17, 18], [17, 19], [21, 22], [21, 23], [21, 24], [21, 25], [21, 26], [21, 27], [21, 28]]\n"
     ]
    },
    {
     "name": "stdout",
     "output_type": "stream",
     "text": [
      "Apply the following intramolecular polarization restaraints [[17, 18], [17, 19], [21, 22], [21, 23], [21, 24], [21, 25], [21, 26], [21, 27], [21, 28]]\n"
     ]
    },
    {
     "name": "stderr",
     "output_type": "stream",
     "text": [
      "2019-11-13 10:24:35,859  - INFO - Apply the following intramolecular polarization restaraints [[17, 18], [17, 19], [21, 22], [21, 23], [21, 24], [21, 25], [21, 26], [21, 27], [21, 28]]\n"
     ]
    },
    {
     "name": "stdout",
     "output_type": "stream",
     "text": [
      "Apply the following intramolecular polarization restaraints [[17, 18], [17, 19], [21, 22], [21, 23], [21, 24], [21, 25], [21, 26], [21, 27], [21, 28]]\n"
     ]
    },
    {
     "name": "stderr",
     "output_type": "stream",
     "text": [
      "2019-11-13 10:24:35,973  - INFO - Build vector Y for molecule 0\n"
     ]
    },
    {
     "name": "stdout",
     "output_type": "stream",
     "text": [
      "Build vector Y for molecule 0\n"
     ]
    },
    {
     "name": "stderr",
     "output_type": "stream",
     "text": [
      "2019-11-13 10:24:35,975  - INFO - Apply the following intramolecular polarization restaraints [[17, 18], [17, 19], [21, 22], [21, 23], [21, 24], [21, 25], [21, 26], [21, 27], [21, 28]]\n"
     ]
    },
    {
     "name": "stdout",
     "output_type": "stream",
     "text": [
      "Apply the following intramolecular polarization restaraints [[17, 18], [17, 19], [21, 22], [21, 23], [21, 24], [21, 25], [21, 26], [21, 27], [21, 28]]\n"
     ]
    },
    {
     "name": "stderr",
     "output_type": "stream",
     "text": [
      "2019-11-13 10:24:35,995  - INFO - Updating charges and polarization parameters for all molecules\n"
     ]
    },
    {
     "name": "stdout",
     "output_type": "stream",
     "text": [
      "Updating charges and polarization parameters for all molecules\n"
     ]
    }
   ],
   "source": [
    "alldirections=[['X+',[-0.01,0.0,0.0]],['X-',[0.01,0.0,0.0]],['Y+',[0.0,-0.01,0.0]],['Y-',[0.0,0.01,0.0]],['Z+',[0.0,0.0,-0.01]],['Z-',[0.0,0.0,0.01]]]\n",
    "ROOT_DIR_PATH='/home/mschauperl/kirk/charge_method/medium_set/'\n",
    "test = resppol.resppol.TrainingSet(mode='q_alpha',SCF= False, thole = False, FF='resppol/data/test_data/BCCelementPOL.offxml')\n",
    "\n",
    "\n",
    "for nmol in range(1,2,1):\n",
    "    print('Read in Molecule {}'.format(nmol))\n",
    "    nconf=0\n",
    "    datei = os.path.join(ROOT_DIR_PATH, 'molecule{}/conf0/mp2_0.mol2'.format(nmol))\n",
    "    test.add_molecule(datei)\n",
    "    directory=os.path.join(ROOT_DIR_PATH,'molecule{}'.format(nmol))\n",
    "    for dire in os.listdir(directory):\n",
    "        if os.path.isdir(os.path.join(directory,dire)):\n",
    "            datei = os.path.join(ROOT_DIR_PATH, 'molecule{0}/conf{1}/mp2_{1}.mol2'.format(nmol,nconf))\n",
    "            test.molecules[nmol-1].add_conformer_from_mol2(datei)\n",
    "            espfile = os.path.join(ROOT_DIR_PATH, 'molecule{0}/conf{1}/molecule{1}.gesp'.format(nmol,nconf))\n",
    "            test.molecules[nmol-1].conformers[nconf].add_baseESP(espfile)\n",
    "            print(\"Read in {}\".format(espfile))\n",
    "            for direction,vector in alldirections:\n",
    "                espfile = os.path.join(ROOT_DIR_PATH, 'molecule{}/conf{}/molecule_{}.gesp'.format(nmol,nconf,direction))\n",
    "                test.molecules[nmol-1].conformers[nconf].add_polESP(espfile, e_field=Q_(vector, 'elementary_charge / bohr / bohr'))\n",
    "                print(\"Read in {} {}\".format(espfile,vector))\n",
    "            nconf+=1\n",
    "test.optimize_charges_alpha()"
   ]
  },
  {
   "cell_type": "code",
   "execution_count": 5,
   "metadata": {},
   "outputs": [
    {
     "name": "stderr",
     "output_type": "stream",
     "text": [
      "2019-11-13 10:24:36,011  - INFO - Charge Dipole interactions are scaled using the following parameters None. \n"
     ]
    },
    {
     "name": "stdout",
     "output_type": "stream",
     "text": [
      "Charge Dipole interactions are scaled using the following parameters None. \n"
     ]
    },
    {
     "name": "stderr",
     "output_type": "stream",
     "text": [
      "2019-11-13 10:24:36,018  - INFO - If non are specified the default is 0.0, 0.0, 0.8333. This means that 1-2 and 1-3 interactions are neglected and 1-4 are scaled by a factor 0.8333. \n"
     ]
    },
    {
     "name": "stdout",
     "output_type": "stream",
     "text": [
      "If non are specified the default is 0.0, 0.0, 0.8333. This means that 1-2 and 1-3 interactions are neglected and 1-4 are scaled by a factor 0.8333. \n"
     ]
    },
    {
     "name": "stderr",
     "output_type": "stream",
     "text": [
      "2019-11-13 10:24:36,023  - INFO - Running in Mode: q_alpha\n"
     ]
    },
    {
     "name": "stdout",
     "output_type": "stream",
     "text": [
      "Running in Mode: q_alpha\n"
     ]
    },
    {
     "name": "stderr",
     "output_type": "stream",
     "text": [
      "2019-11-13 10:24:36,120  - INFO - The forcefield used for this run is /home/mschauperl/programs/resppol/resppol/../resppol/data/test_data/BCCelementPOL.offxml \n"
     ]
    },
    {
     "name": "stdout",
     "output_type": "stream",
     "text": [
      "The forcefield used for this run is /home/mschauperl/programs/resppol/resppol/../resppol/data/test_data/BCCelementPOL.offxml \n",
      "Read in Molecule 1\n"
     ]
    },
    {
     "name": "stderr",
     "output_type": "stream",
     "text": [
      "2019-11-13 10:24:36,251  - INFO - Add bond with type b1 between atom 0 and atom 1\n"
     ]
    },
    {
     "name": "stdout",
     "output_type": "stream",
     "text": [
      "Add bond with type b1 between atom 0 and atom 1\n"
     ]
    },
    {
     "name": "stderr",
     "output_type": "stream",
     "text": [
      "2019-11-13 10:24:36,252  - INFO - Add bond with type b83 between atom 0 and atom 4\n"
     ]
    },
    {
     "name": "stdout",
     "output_type": "stream",
     "text": [
      "Add bond with type b83 between atom 0 and atom 4\n"
     ]
    },
    {
     "name": "stderr",
     "output_type": "stream",
     "text": [
      "2019-11-13 10:24:36,253  - INFO - Add bond with type b83 between atom 0 and atom 5\n"
     ]
    },
    {
     "name": "stdout",
     "output_type": "stream",
     "text": [
      "Add bond with type b83 between atom 0 and atom 5\n"
     ]
    },
    {
     "name": "stderr",
     "output_type": "stream",
     "text": [
      "2019-11-13 10:24:36,253  - INFO - Add bond with type b83 between atom 0 and atom 6\n"
     ]
    },
    {
     "name": "stdout",
     "output_type": "stream",
     "text": [
      "Add bond with type b83 between atom 0 and atom 6\n"
     ]
    },
    {
     "name": "stderr",
     "output_type": "stream",
     "text": [
      "2019-11-13 10:24:36,254  - INFO - Add bond with type b1 between atom 1 and atom 2\n"
     ]
    },
    {
     "name": "stdout",
     "output_type": "stream",
     "text": [
      "Add bond with type b1 between atom 1 and atom 2\n"
     ]
    },
    {
     "name": "stderr",
     "output_type": "stream",
     "text": [
      "2019-11-13 10:24:36,255  - INFO - Add bond with type b83 between atom 1 and atom 7\n"
     ]
    },
    {
     "name": "stdout",
     "output_type": "stream",
     "text": [
      "Add bond with type b83 between atom 1 and atom 7\n"
     ]
    },
    {
     "name": "stderr",
     "output_type": "stream",
     "text": [
      "2019-11-13 10:24:36,255  - INFO - Add bond with type b83 between atom 1 and atom 8\n"
     ]
    },
    {
     "name": "stdout",
     "output_type": "stream",
     "text": [
      "Add bond with type b83 between atom 1 and atom 8\n"
     ]
    },
    {
     "name": "stderr",
     "output_type": "stream",
     "text": [
      "2019-11-13 10:24:36,256  - INFO - Add bond with type b14 between atom 2 and atom 3\n"
     ]
    },
    {
     "name": "stdout",
     "output_type": "stream",
     "text": [
      "Add bond with type b14 between atom 2 and atom 3\n"
     ]
    },
    {
     "name": "stderr",
     "output_type": "stream",
     "text": [
      "2019-11-13 10:24:36,256  - INFO - Add bond with type b83 between atom 2 and atom 9\n"
     ]
    },
    {
     "name": "stdout",
     "output_type": "stream",
     "text": [
      "Add bond with type b83 between atom 2 and atom 9\n"
     ]
    },
    {
     "name": "stderr",
     "output_type": "stream",
     "text": [
      "2019-11-13 10:24:36,257  - INFO - Add bond with type b83 between atom 2 and atom 10\n"
     ]
    },
    {
     "name": "stdout",
     "output_type": "stream",
     "text": [
      "Add bond with type b83 between atom 2 and atom 10\n"
     ]
    },
    {
     "name": "stderr",
     "output_type": "stream",
     "text": [
      "2019-11-13 10:24:36,257  - INFO - Add bond with type b87 between atom 3 and atom 11\n"
     ]
    },
    {
     "name": "stdout",
     "output_type": "stream",
     "text": [
      "Add bond with type b87 between atom 3 and atom 11\n"
     ]
    },
    {
     "name": "stderr",
     "output_type": "stream",
     "text": [
      "2019-11-13 10:24:36,258  - INFO - Add atom type n3 on atom 0\n"
     ]
    },
    {
     "name": "stdout",
     "output_type": "stream",
     "text": [
      "Add atom type n3 on atom 0\n"
     ]
    },
    {
     "name": "stderr",
     "output_type": "stream",
     "text": [
      "2019-11-13 10:24:36,259  - INFO - Add atom type n3 on atom 1\n"
     ]
    },
    {
     "name": "stdout",
     "output_type": "stream",
     "text": [
      "Add atom type n3 on atom 1\n"
     ]
    },
    {
     "name": "stderr",
     "output_type": "stream",
     "text": [
      "2019-11-13 10:24:36,263  - INFO - Add atom type n3 on atom 2\n"
     ]
    },
    {
     "name": "stdout",
     "output_type": "stream",
     "text": [
      "Add atom type n3 on atom 2\n"
     ]
    },
    {
     "name": "stderr",
     "output_type": "stream",
     "text": [
      "2019-11-13 10:24:36,264  - INFO - Add atom type n5 on atom 3\n"
     ]
    },
    {
     "name": "stdout",
     "output_type": "stream",
     "text": [
      "Add atom type n5 on atom 3\n"
     ]
    },
    {
     "name": "stderr",
     "output_type": "stream",
     "text": [
      "2019-11-13 10:24:36,264  - INFO - Add atom type n1 on atom 4\n"
     ]
    },
    {
     "name": "stdout",
     "output_type": "stream",
     "text": [
      "Add atom type n1 on atom 4\n"
     ]
    },
    {
     "name": "stderr",
     "output_type": "stream",
     "text": [
      "2019-11-13 10:24:36,265  - INFO - Add atom type n1 on atom 5\n"
     ]
    },
    {
     "name": "stdout",
     "output_type": "stream",
     "text": [
      "Add atom type n1 on atom 5\n"
     ]
    },
    {
     "name": "stderr",
     "output_type": "stream",
     "text": [
      "2019-11-13 10:24:36,266  - INFO - Add atom type n1 on atom 6\n"
     ]
    },
    {
     "name": "stdout",
     "output_type": "stream",
     "text": [
      "Add atom type n1 on atom 6\n"
     ]
    },
    {
     "name": "stderr",
     "output_type": "stream",
     "text": [
      "2019-11-13 10:24:36,267  - INFO - Add atom type n1 on atom 7\n"
     ]
    },
    {
     "name": "stdout",
     "output_type": "stream",
     "text": [
      "Add atom type n1 on atom 7\n"
     ]
    },
    {
     "name": "stderr",
     "output_type": "stream",
     "text": [
      "2019-11-13 10:24:36,269  - INFO - Add atom type n1 on atom 8\n"
     ]
    },
    {
     "name": "stdout",
     "output_type": "stream",
     "text": [
      "Add atom type n1 on atom 8\n"
     ]
    },
    {
     "name": "stderr",
     "output_type": "stream",
     "text": [
      "2019-11-13 10:24:36,270  - INFO - Add atom type n1 on atom 9\n"
     ]
    },
    {
     "name": "stdout",
     "output_type": "stream",
     "text": [
      "Add atom type n1 on atom 9\n"
     ]
    },
    {
     "name": "stderr",
     "output_type": "stream",
     "text": [
      "2019-11-13 10:24:36,271  - INFO - Add atom type n1 on atom 10\n"
     ]
    },
    {
     "name": "stdout",
     "output_type": "stream",
     "text": [
      "Add atom type n1 on atom 10\n"
     ]
    },
    {
     "name": "stderr",
     "output_type": "stream",
     "text": [
      "2019-11-13 10:24:36,272  - INFO - Add atom type n1 on atom 11\n"
     ]
    },
    {
     "name": "stdout",
     "output_type": "stream",
     "text": [
      "Add atom type n1 on atom 11\n"
     ]
    },
    {
     "name": "stderr",
     "output_type": "stream",
     "text": [
      "2019-11-13 10:24:36,281  - INFO - Added molecule number 0 from file /home/mschauperl/kirk/charge_method/medium_set/molecule1/conf0/mp2_0.mol2.\n"
     ]
    },
    {
     "name": "stdout",
     "output_type": "stream",
     "text": [
      "Added molecule number 0 from file /home/mschauperl/kirk/charge_method/medium_set/molecule1/conf0/mp2_0.mol2.\n"
     ]
    },
    {
     "name": "stderr",
     "output_type": "stream",
     "text": [
      "2019-11-13 10:24:36,302  - INFO - Added conformation 0 to molecule 0\n"
     ]
    },
    {
     "name": "stdout",
     "output_type": "stream",
     "text": [
      "Added conformation 0 to molecule 0\n"
     ]
    },
    {
     "name": "stderr",
     "output_type": "stream",
     "text": [
      "2019-11-13 10:24:36,891  - INFO - Added conformation 1 to molecule 0\n"
     ]
    },
    {
     "name": "stdout",
     "output_type": "stream",
     "text": [
      "Added conformation 1 to molecule 0\n"
     ]
    },
    {
     "name": "stderr",
     "output_type": "stream",
     "text": [
      "2019-11-13 10:24:37,449  - INFO - Added conformation 2 to molecule 0\n"
     ]
    },
    {
     "name": "stdout",
     "output_type": "stream",
     "text": [
      "Added conformation 2 to molecule 0\n"
     ]
    },
    {
     "name": "stderr",
     "output_type": "stream",
     "text": [
      "2019-11-13 10:24:37,978  - INFO - Added conformation 3 to molecule 0\n"
     ]
    },
    {
     "name": "stdout",
     "output_type": "stream",
     "text": [
      "Added conformation 3 to molecule 0\n"
     ]
    },
    {
     "name": "stderr",
     "output_type": "stream",
     "text": [
      "2019-11-13 10:24:38,551  - INFO - Added conformation 4 to molecule 0\n"
     ]
    },
    {
     "name": "stdout",
     "output_type": "stream",
     "text": [
      "Added conformation 4 to molecule 0\n"
     ]
    },
    {
     "name": "stderr",
     "output_type": "stream",
     "text": [
      "2019-11-13 10:24:39,231  - INFO - Add bond with type b5 between atom 0 and atom 1\n"
     ]
    },
    {
     "name": "stdout",
     "output_type": "stream",
     "text": [
      "Read in Molecule 2\n",
      "Add bond with type b5 between atom 0 and atom 1\n"
     ]
    },
    {
     "name": "stderr",
     "output_type": "stream",
     "text": [
      "2019-11-13 10:24:39,232  - INFO - Add bond with type b5 between atom 0 and atom 2\n"
     ]
    },
    {
     "name": "stdout",
     "output_type": "stream",
     "text": [
      "Add bond with type b5 between atom 0 and atom 2\n"
     ]
    },
    {
     "name": "stderr",
     "output_type": "stream",
     "text": [
      "2019-11-13 10:24:39,232  - INFO - Add bond with type b84 between atom 0 and atom 7\n"
     ]
    },
    {
     "name": "stdout",
     "output_type": "stream",
     "text": [
      "Add bond with type b84 between atom 0 and atom 7\n"
     ]
    },
    {
     "name": "stderr",
     "output_type": "stream",
     "text": [
      "2019-11-13 10:24:39,233  - INFO - Add bond with type b5 between atom 1 and atom 3\n"
     ]
    },
    {
     "name": "stdout",
     "output_type": "stream",
     "text": [
      "Add bond with type b5 between atom 1 and atom 3\n"
     ]
    },
    {
     "name": "stderr",
     "output_type": "stream",
     "text": [
      "2019-11-13 10:24:39,234  - INFO - Add bond with type b84 between atom 1 and atom 8\n"
     ]
    },
    {
     "name": "stdout",
     "output_type": "stream",
     "text": [
      "Add bond with type b84 between atom 1 and atom 8\n"
     ]
    },
    {
     "name": "stderr",
     "output_type": "stream",
     "text": [
      "2019-11-13 10:24:39,236  - INFO - Add bond with type b5 between atom 2 and atom 4\n"
     ]
    },
    {
     "name": "stdout",
     "output_type": "stream",
     "text": [
      "Add bond with type b5 between atom 2 and atom 4\n"
     ]
    },
    {
     "name": "stderr",
     "output_type": "stream",
     "text": [
      "2019-11-13 10:24:39,237  - INFO - Add bond with type b84 between atom 2 and atom 9\n"
     ]
    },
    {
     "name": "stdout",
     "output_type": "stream",
     "text": [
      "Add bond with type b84 between atom 2 and atom 9\n"
     ]
    },
    {
     "name": "stderr",
     "output_type": "stream",
     "text": [
      "2019-11-13 10:24:39,238  - INFO - Add bond with type b5 between atom 3 and atom 5\n"
     ]
    },
    {
     "name": "stdout",
     "output_type": "stream",
     "text": [
      "Add bond with type b5 between atom 3 and atom 5\n"
     ]
    },
    {
     "name": "stderr",
     "output_type": "stream",
     "text": [
      "2019-11-13 10:24:39,240  - INFO - Add bond with type b84 between atom 3 and atom 10\n"
     ]
    },
    {
     "name": "stdout",
     "output_type": "stream",
     "text": [
      "Add bond with type b84 between atom 3 and atom 10\n"
     ]
    },
    {
     "name": "stderr",
     "output_type": "stream",
     "text": [
      "2019-11-13 10:24:39,241  - INFO - Add bond with type b5 between atom 4 and atom 5\n"
     ]
    },
    {
     "name": "stdout",
     "output_type": "stream",
     "text": [
      "Add bond with type b5 between atom 4 and atom 5\n"
     ]
    },
    {
     "name": "stderr",
     "output_type": "stream",
     "text": [
      "2019-11-13 10:24:39,242  - INFO - Add bond with type b84 between atom 4 and atom 11\n"
     ]
    },
    {
     "name": "stdout",
     "output_type": "stream",
     "text": [
      "Add bond with type b84 between atom 4 and atom 11\n"
     ]
    },
    {
     "name": "stderr",
     "output_type": "stream",
     "text": [
      "2019-11-13 10:24:39,243  - INFO - Add bond with type b17 between atom 5 and atom 6\n"
     ]
    },
    {
     "name": "stdout",
     "output_type": "stream",
     "text": [
      "Add bond with type b17 between atom 5 and atom 6\n"
     ]
    },
    {
     "name": "stderr",
     "output_type": "stream",
     "text": [
      "2019-11-13 10:24:39,246  - INFO - Add bond with type b87 between atom 6 and atom 12\n"
     ]
    },
    {
     "name": "stdout",
     "output_type": "stream",
     "text": [
      "Add bond with type b87 between atom 6 and atom 12\n"
     ]
    },
    {
     "name": "stderr",
     "output_type": "stream",
     "text": [
      "2019-11-13 10:24:39,247  - INFO - Add atom type n3 on atom 0\n"
     ]
    },
    {
     "name": "stdout",
     "output_type": "stream",
     "text": [
      "Add atom type n3 on atom 0\n"
     ]
    },
    {
     "name": "stderr",
     "output_type": "stream",
     "text": [
      "2019-11-13 10:24:39,249  - INFO - Add atom type n3 on atom 1\n"
     ]
    },
    {
     "name": "stdout",
     "output_type": "stream",
     "text": [
      "Add atom type n3 on atom 1\n"
     ]
    },
    {
     "name": "stderr",
     "output_type": "stream",
     "text": [
      "2019-11-13 10:24:39,250  - INFO - Add atom type n3 on atom 2\n"
     ]
    },
    {
     "name": "stdout",
     "output_type": "stream",
     "text": [
      "Add atom type n3 on atom 2\n"
     ]
    },
    {
     "name": "stderr",
     "output_type": "stream",
     "text": [
      "2019-11-13 10:24:39,252  - INFO - Add atom type n3 on atom 3\n"
     ]
    },
    {
     "name": "stdout",
     "output_type": "stream",
     "text": [
      "Add atom type n3 on atom 3\n"
     ]
    },
    {
     "name": "stderr",
     "output_type": "stream",
     "text": [
      "2019-11-13 10:24:39,253  - INFO - Add atom type n3 on atom 4\n"
     ]
    },
    {
     "name": "stdout",
     "output_type": "stream",
     "text": [
      "Add atom type n3 on atom 4\n"
     ]
    },
    {
     "name": "stderr",
     "output_type": "stream",
     "text": [
      "2019-11-13 10:24:39,254  - INFO - Add atom type n3 on atom 5\n"
     ]
    },
    {
     "name": "stdout",
     "output_type": "stream",
     "text": [
      "Add atom type n3 on atom 5\n"
     ]
    },
    {
     "name": "stderr",
     "output_type": "stream",
     "text": [
      "2019-11-13 10:24:39,255  - INFO - Add atom type n5 on atom 6\n"
     ]
    },
    {
     "name": "stdout",
     "output_type": "stream",
     "text": [
      "Add atom type n5 on atom 6\n"
     ]
    },
    {
     "name": "stderr",
     "output_type": "stream",
     "text": [
      "2019-11-13 10:24:39,257  - INFO - Add atom type n1 on atom 7\n"
     ]
    },
    {
     "name": "stdout",
     "output_type": "stream",
     "text": [
      "Add atom type n1 on atom 7\n"
     ]
    },
    {
     "name": "stderr",
     "output_type": "stream",
     "text": [
      "2019-11-13 10:24:39,258  - INFO - Add atom type n1 on atom 8\n"
     ]
    },
    {
     "name": "stdout",
     "output_type": "stream",
     "text": [
      "Add atom type n1 on atom 8\n"
     ]
    },
    {
     "name": "stderr",
     "output_type": "stream",
     "text": [
      "2019-11-13 10:24:39,259  - INFO - Add atom type n1 on atom 9\n"
     ]
    },
    {
     "name": "stdout",
     "output_type": "stream",
     "text": [
      "Add atom type n1 on atom 9\n"
     ]
    },
    {
     "name": "stderr",
     "output_type": "stream",
     "text": [
      "2019-11-13 10:24:39,261  - INFO - Add atom type n1 on atom 10\n"
     ]
    },
    {
     "name": "stdout",
     "output_type": "stream",
     "text": [
      "Add atom type n1 on atom 10\n"
     ]
    },
    {
     "name": "stderr",
     "output_type": "stream",
     "text": [
      "2019-11-13 10:24:39,262  - INFO - Add atom type n1 on atom 11\n"
     ]
    },
    {
     "name": "stdout",
     "output_type": "stream",
     "text": [
      "Add atom type n1 on atom 11\n"
     ]
    },
    {
     "name": "stderr",
     "output_type": "stream",
     "text": [
      "2019-11-13 10:24:39,263  - INFO - Add atom type n1 on atom 12\n"
     ]
    },
    {
     "name": "stdout",
     "output_type": "stream",
     "text": [
      "Add atom type n1 on atom 12\n"
     ]
    },
    {
     "name": "stderr",
     "output_type": "stream",
     "text": [
      "2019-11-13 10:24:39,266  - INFO - Added molecule number 1 from file /home/mschauperl/kirk/charge_method/medium_set/molecule2/conf0/mp2_0.mol2.\n"
     ]
    },
    {
     "name": "stdout",
     "output_type": "stream",
     "text": [
      "Added molecule number 1 from file /home/mschauperl/kirk/charge_method/medium_set/molecule2/conf0/mp2_0.mol2.\n"
     ]
    },
    {
     "name": "stderr",
     "output_type": "stream",
     "text": [
      "2019-11-13 10:24:39,281  - INFO - Added conformation 0 to molecule 1\n"
     ]
    },
    {
     "name": "stdout",
     "output_type": "stream",
     "text": [
      "Added conformation 0 to molecule 1\n"
     ]
    },
    {
     "name": "stderr",
     "output_type": "stream",
     "text": [
      "2019-11-13 10:24:41,459  - WARNING - Optimization Step 0\n"
     ]
    },
    {
     "name": "stdout",
     "output_type": "stream",
     "text": [
      "Optimization Step 0\n"
     ]
    },
    {
     "name": "stderr",
     "output_type": "stream",
     "text": [
      "2019-11-13 10:24:41,490  - WARNING - I do not have AM1-type charges\n"
     ]
    },
    {
     "name": "stdout",
     "output_type": "stream",
     "text": [
      "I do not have AM1-type charges\n"
     ]
    },
    {
     "name": "stderr",
     "output_type": "stream",
     "text": [
      "2019-11-13 10:24:41,836  - WARNING - I do not have AM1-type charges\n"
     ]
    },
    {
     "name": "stdout",
     "output_type": "stream",
     "text": [
      "I do not have AM1-type charges\n"
     ]
    },
    {
     "name": "stderr",
     "output_type": "stream",
     "text": [
      "2019-11-13 10:24:42,386  - WARNING - I do not have AM1-type charges\n"
     ]
    },
    {
     "name": "stdout",
     "output_type": "stream",
     "text": [
      "I do not have AM1-type charges\n"
     ]
    },
    {
     "name": "stderr",
     "output_type": "stream",
     "text": [
      "2019-11-13 10:24:42,765  - WARNING - I do not have AM1-type charges\n"
     ]
    },
    {
     "name": "stdout",
     "output_type": "stream",
     "text": [
      "I do not have AM1-type charges\n"
     ]
    },
    {
     "name": "stderr",
     "output_type": "stream",
     "text": [
      "2019-11-13 10:24:43,137  - WARNING - I do not have AM1-type charges\n"
     ]
    },
    {
     "name": "stdout",
     "output_type": "stream",
     "text": [
      "I do not have AM1-type charges\n"
     ]
    },
    {
     "name": "stderr",
     "output_type": "stream",
     "text": [
      "2019-11-13 10:24:43,451  - INFO - Build matrix X for molecule 0\n"
     ]
    },
    {
     "name": "stdout",
     "output_type": "stream",
     "text": [
      "Build matrix X for molecule 0\n"
     ]
    },
    {
     "name": "stderr",
     "output_type": "stream",
     "text": [
      "2019-11-13 10:24:43,550  - WARNING - I do not have AM1-type charges\n"
     ]
    },
    {
     "name": "stdout",
     "output_type": "stream",
     "text": [
      "I do not have AM1-type charges\n"
     ]
    },
    {
     "name": "stderr",
     "output_type": "stream",
     "text": [
      "2019-11-13 10:24:43,943  - INFO - Build matrix X for molecule 1\n"
     ]
    },
    {
     "name": "stdout",
     "output_type": "stream",
     "text": [
      "Build matrix X for molecule 1\n"
     ]
    },
    {
     "name": "stderr",
     "output_type": "stream",
     "text": [
      "2019-11-13 10:24:43,946  - INFO - Apply the following intramolecular polarization restaraints [[17, 18], [17, 19], [21, 22], [21, 23], [21, 24], [21, 25], [21, 26], [21, 27], [21, 28], [17, 95], [17, 96], [17, 97], [17, 98], [17, 99], [17, 100], [20, 101], [21, 102], [21, 103], [21, 104], [21, 105], [21, 106], [21, 107]]\n"
     ]
    },
    {
     "name": "stdout",
     "output_type": "stream",
     "text": [
      "Apply the following intramolecular polarization restaraints [[17, 18], [17, 19], [21, 22], [21, 23], [21, 24], [21, 25], [21, 26], [21, 27], [21, 28], [17, 95], [17, 96], [17, 97], [17, 98], [17, 99], [17, 100], [20, 101], [21, 102], [21, 103], [21, 104], [21, 105], [21, 106], [21, 107]]\n"
     ]
    },
    {
     "name": "stderr",
     "output_type": "stream",
     "text": [
      "2019-11-13 10:24:43,948  - INFO - Apply the following intramolecular polarization restaraints [[17, 18], [17, 19], [21, 22], [21, 23], [21, 24], [21, 25], [21, 26], [21, 27], [21, 28], [17, 95], [17, 96], [17, 97], [17, 98], [17, 99], [17, 100], [20, 101], [21, 102], [21, 103], [21, 104], [21, 105], [21, 106], [21, 107]]\n"
     ]
    },
    {
     "name": "stdout",
     "output_type": "stream",
     "text": [
      "Apply the following intramolecular polarization restaraints [[17, 18], [17, 19], [21, 22], [21, 23], [21, 24], [21, 25], [21, 26], [21, 27], [21, 28], [17, 95], [17, 96], [17, 97], [17, 98], [17, 99], [17, 100], [20, 101], [21, 102], [21, 103], [21, 104], [21, 105], [21, 106], [21, 107]]\n"
     ]
    },
    {
     "name": "stderr",
     "output_type": "stream",
     "text": [
      "2019-11-13 10:24:43,950  - INFO - Apply the following intramolecular polarization restaraints [[17, 18], [17, 19], [21, 22], [21, 23], [21, 24], [21, 25], [21, 26], [21, 27], [21, 28], [17, 95], [17, 96], [17, 97], [17, 98], [17, 99], [17, 100], [20, 101], [21, 102], [21, 103], [21, 104], [21, 105], [21, 106], [21, 107]]\n"
     ]
    },
    {
     "name": "stdout",
     "output_type": "stream",
     "text": [
      "Apply the following intramolecular polarization restaraints [[17, 18], [17, 19], [21, 22], [21, 23], [21, 24], [21, 25], [21, 26], [21, 27], [21, 28], [17, 95], [17, 96], [17, 97], [17, 98], [17, 99], [17, 100], [20, 101], [21, 102], [21, 103], [21, 104], [21, 105], [21, 106], [21, 107]]\n"
     ]
    },
    {
     "name": "stderr",
     "output_type": "stream",
     "text": [
      "2019-11-13 10:24:43,951  - INFO - Apply the following intramolecular polarization restaraints [[17, 18], [17, 19], [21, 22], [21, 23], [21, 24], [21, 25], [21, 26], [21, 27], [21, 28], [17, 95], [17, 96], [17, 97], [17, 98], [17, 99], [17, 100], [20, 101], [21, 102], [21, 103], [21, 104], [21, 105], [21, 106], [21, 107]]\n"
     ]
    },
    {
     "name": "stdout",
     "output_type": "stream",
     "text": [
      "Apply the following intramolecular polarization restaraints [[17, 18], [17, 19], [21, 22], [21, 23], [21, 24], [21, 25], [21, 26], [21, 27], [21, 28], [17, 95], [17, 96], [17, 97], [17, 98], [17, 99], [17, 100], [20, 101], [21, 102], [21, 103], [21, 104], [21, 105], [21, 106], [21, 107]]\n"
     ]
    },
    {
     "name": "stderr",
     "output_type": "stream",
     "text": [
      "2019-11-13 10:24:44,066  - INFO - Build vector Y for molecule 0\n"
     ]
    },
    {
     "name": "stdout",
     "output_type": "stream",
     "text": [
      "Build vector Y for molecule 0\n"
     ]
    },
    {
     "name": "stderr",
     "output_type": "stream",
     "text": [
      "2019-11-13 10:24:44,102  - INFO - Build vector Y for molecule 1\n"
     ]
    },
    {
     "name": "stdout",
     "output_type": "stream",
     "text": [
      "Build vector Y for molecule 1\n"
     ]
    },
    {
     "name": "stderr",
     "output_type": "stream",
     "text": [
      "2019-11-13 10:24:44,104  - INFO - Apply the following intramolecular polarization restaraints [[17, 18], [17, 19], [21, 22], [21, 23], [21, 24], [21, 25], [21, 26], [21, 27], [21, 28], [17, 95], [17, 96], [17, 97], [17, 98], [17, 99], [17, 100], [20, 101], [21, 102], [21, 103], [21, 104], [21, 105], [21, 106], [21, 107]]\n"
     ]
    },
    {
     "name": "stdout",
     "output_type": "stream",
     "text": [
      "Apply the following intramolecular polarization restaraints [[17, 18], [17, 19], [21, 22], [21, 23], [21, 24], [21, 25], [21, 26], [21, 27], [21, 28], [17, 95], [17, 96], [17, 97], [17, 98], [17, 99], [17, 100], [20, 101], [21, 102], [21, 103], [21, 104], [21, 105], [21, 106], [21, 107]]\n"
     ]
    },
    {
     "name": "stderr",
     "output_type": "stream",
     "text": [
      "2019-11-13 10:24:44,126  - INFO - Updating charges and polarization parameters for all molecules\n"
     ]
    },
    {
     "name": "stdout",
     "output_type": "stream",
     "text": [
      "Updating charges and polarization parameters for all molecules\n"
     ]
    },
    {
     "name": "stderr",
     "output_type": "stream",
     "text": [
      "2019-11-13 10:24:44,128  - INFO - Optimization step 1: Molekule 0: Charges\n"
     ]
    },
    {
     "name": "stdout",
     "output_type": "stream",
     "text": [
      "Optimization step 1: Molekule 0: Charges\n"
     ]
    },
    {
     "name": "stderr",
     "output_type": "stream",
     "text": [
      "2019-11-13 10:24:44,130  - INFO - [-0.08919635  0.1370444   0.2032554  -0.55391132  0.01755167  0.01755167\n",
      "  0.01755167 -0.03314256 -0.03314256 -0.00794214 -0.00794214  0.33232226]\n"
     ]
    },
    {
     "name": "stdout",
     "output_type": "stream",
     "text": [
      "[-0.08919635  0.1370444   0.2032554  -0.55391132  0.01755167  0.01755167\n",
      "  0.01755167 -0.03314256 -0.03314256 -0.00794214 -0.00794214  0.33232226]\n"
     ]
    },
    {
     "name": "stderr",
     "output_type": "stream",
     "text": [
      "2019-11-13 10:24:44,132  - INFO - Optimization step 1: Molekule 0: Dipoles\n"
     ]
    },
    {
     "name": "stdout",
     "output_type": "stream",
     "text": [
      "Optimization step 1: Molekule 0: Dipoles\n"
     ]
    },
    {
     "name": "stderr",
     "output_type": "stream",
     "text": [
      "2019-11-13 10:24:44,134  - INFO - [1.39247737 1.39247737 1.39247737 0.7401913  0.18050453 0.18050453\n",
      " 0.18050453 0.18050453 0.18050453 0.18050453 0.18050453 0.18050453\n",
      " 1.39247737 1.39247737 1.39247737 0.7401913  0.18050453 0.18050453\n",
      " 0.18050453 0.18050453 0.18050453 0.18050453 0.18050453 0.18050453\n",
      " 1.39247737 1.39247737 1.39247737 0.7401913  0.18050453 0.18050453\n",
      " 0.18050453 0.18050453 0.18050453 0.18050453 0.18050453 0.18050453]\n"
     ]
    },
    {
     "name": "stdout",
     "output_type": "stream",
     "text": [
      "[1.39247737 1.39247737 1.39247737 0.7401913  0.18050453 0.18050453\n",
      " 0.18050453 0.18050453 0.18050453 0.18050453 0.18050453 0.18050453\n",
      " 1.39247737 1.39247737 1.39247737 0.7401913  0.18050453 0.18050453\n",
      " 0.18050453 0.18050453 0.18050453 0.18050453 0.18050453 0.18050453\n",
      " 1.39247737 1.39247737 1.39247737 0.7401913  0.18050453 0.18050453\n",
      " 0.18050453 0.18050453 0.18050453 0.18050453 0.18050453 0.18050453]\n"
     ]
    },
    {
     "name": "stderr",
     "output_type": "stream",
     "text": [
      "2019-11-13 10:24:44,137  - INFO - Optimization step 1: Molekule 1: Charges\n"
     ]
    },
    {
     "name": "stdout",
     "output_type": "stream",
     "text": [
      "Optimization step 1: Molekule 1: Charges\n"
     ]
    },
    {
     "name": "stderr",
     "output_type": "stream",
     "text": [
      "2019-11-13 10:24:44,139  - INFO - [-0.13235896 -0.13769006 -0.13769006 -0.23619701 -0.23619701  0.31832002\n",
      " -0.46868553  0.12270615  0.1312961   0.1312961   0.16006114  0.16006114\n",
      "  0.32507797]\n"
     ]
    },
    {
     "name": "stdout",
     "output_type": "stream",
     "text": [
      "[-0.13235896 -0.13769006 -0.13769006 -0.23619701 -0.23619701  0.31832002\n",
      " -0.46868553  0.12270615  0.1312961   0.1312961   0.16006114  0.16006114\n",
      "  0.32507797]\n"
     ]
    },
    {
     "name": "stderr",
     "output_type": "stream",
     "text": [
      "2019-11-13 10:24:44,141  - INFO - Optimization step 1: Molekule 1: Dipoles\n"
     ]
    },
    {
     "name": "stdout",
     "output_type": "stream",
     "text": [
      "Optimization step 1: Molekule 1: Dipoles\n"
     ]
    },
    {
     "name": "stderr",
     "output_type": "stream",
     "text": [
      "2019-11-13 10:24:44,143  - INFO - [1.39247737 1.39247737 1.39247737 1.39247737 1.39247737 1.39247737\n",
      " 0.7401913  0.18050453 0.18050453 0.18050453 0.18050453 0.18050453\n",
      " 0.18050453 1.39247737 1.39247737 1.39247737 1.39247737 1.39247737\n",
      " 1.39247737 0.7401913  0.18050453 0.18050453 0.18050453 0.18050453\n",
      " 0.18050453 0.18050453 1.39247737 1.39247737 1.39247737 1.39247737\n",
      " 1.39247737 1.39247737 0.7401913  0.18050453 0.18050453 0.18050453\n",
      " 0.18050453 0.18050453 0.18050453]\n"
     ]
    },
    {
     "name": "stdout",
     "output_type": "stream",
     "text": [
      "[1.39247737 1.39247737 1.39247737 1.39247737 1.39247737 1.39247737\n",
      " 0.7401913  0.18050453 0.18050453 0.18050453 0.18050453 0.18050453\n",
      " 0.18050453 1.39247737 1.39247737 1.39247737 1.39247737 1.39247737\n",
      " 1.39247737 0.7401913  0.18050453 0.18050453 0.18050453 0.18050453\n",
      " 0.18050453 0.18050453 1.39247737 1.39247737 1.39247737 1.39247737\n",
      " 1.39247737 1.39247737 0.7401913  0.18050453 0.18050453 0.18050453\n",
      " 0.18050453 0.18050453 0.18050453]\n"
     ]
    },
    {
     "name": "stderr",
     "output_type": "stream",
     "text": [
      "2019-11-13 10:24:44,147  - WARNING - Optimization Step 1\n"
     ]
    },
    {
     "name": "stdout",
     "output_type": "stream",
     "text": [
      "Optimization Step 1\n"
     ]
    },
    {
     "name": "stderr",
     "output_type": "stream",
     "text": [
      "2019-11-13 10:24:48,346  - INFO - Build matrix X for molecule 0\n"
     ]
    },
    {
     "name": "stdout",
     "output_type": "stream",
     "text": [
      "Build matrix X for molecule 0\n"
     ]
    },
    {
     "name": "stderr",
     "output_type": "stream",
     "text": [
      "2019-11-13 10:24:48,902  - INFO - Build matrix X for molecule 1\n"
     ]
    },
    {
     "name": "stdout",
     "output_type": "stream",
     "text": [
      "Build matrix X for molecule 1\n"
     ]
    },
    {
     "name": "stderr",
     "output_type": "stream",
     "text": [
      "2019-11-13 10:24:48,905  - INFO - Apply the following intramolecular polarization restaraints [[17, 18], [17, 19], [21, 22], [21, 23], [21, 24], [21, 25], [21, 26], [21, 27], [21, 28], [17, 95], [17, 96], [17, 97], [17, 98], [17, 99], [17, 100], [20, 101], [21, 102], [21, 103], [21, 104], [21, 105], [21, 106], [21, 107]]\n"
     ]
    },
    {
     "name": "stdout",
     "output_type": "stream",
     "text": [
      "Apply the following intramolecular polarization restaraints [[17, 18], [17, 19], [21, 22], [21, 23], [21, 24], [21, 25], [21, 26], [21, 27], [21, 28], [17, 95], [17, 96], [17, 97], [17, 98], [17, 99], [17, 100], [20, 101], [21, 102], [21, 103], [21, 104], [21, 105], [21, 106], [21, 107]]\n"
     ]
    },
    {
     "name": "stderr",
     "output_type": "stream",
     "text": [
      "2019-11-13 10:24:48,908  - INFO - Apply the following intramolecular polarization restaraints [[17, 18], [17, 19], [21, 22], [21, 23], [21, 24], [21, 25], [21, 26], [21, 27], [21, 28], [17, 95], [17, 96], [17, 97], [17, 98], [17, 99], [17, 100], [20, 101], [21, 102], [21, 103], [21, 104], [21, 105], [21, 106], [21, 107]]\n"
     ]
    },
    {
     "name": "stdout",
     "output_type": "stream",
     "text": [
      "Apply the following intramolecular polarization restaraints [[17, 18], [17, 19], [21, 22], [21, 23], [21, 24], [21, 25], [21, 26], [21, 27], [21, 28], [17, 95], [17, 96], [17, 97], [17, 98], [17, 99], [17, 100], [20, 101], [21, 102], [21, 103], [21, 104], [21, 105], [21, 106], [21, 107]]\n"
     ]
    },
    {
     "name": "stderr",
     "output_type": "stream",
     "text": [
      "2019-11-13 10:24:48,910  - INFO - Apply the following intramolecular polarization restaraints [[17, 18], [17, 19], [21, 22], [21, 23], [21, 24], [21, 25], [21, 26], [21, 27], [21, 28], [17, 95], [17, 96], [17, 97], [17, 98], [17, 99], [17, 100], [20, 101], [21, 102], [21, 103], [21, 104], [21, 105], [21, 106], [21, 107]]\n"
     ]
    },
    {
     "name": "stdout",
     "output_type": "stream",
     "text": [
      "Apply the following intramolecular polarization restaraints [[17, 18], [17, 19], [21, 22], [21, 23], [21, 24], [21, 25], [21, 26], [21, 27], [21, 28], [17, 95], [17, 96], [17, 97], [17, 98], [17, 99], [17, 100], [20, 101], [21, 102], [21, 103], [21, 104], [21, 105], [21, 106], [21, 107]]\n"
     ]
    },
    {
     "name": "stderr",
     "output_type": "stream",
     "text": [
      "2019-11-13 10:24:48,913  - INFO - Apply the following intramolecular polarization restaraints [[17, 18], [17, 19], [21, 22], [21, 23], [21, 24], [21, 25], [21, 26], [21, 27], [21, 28], [17, 95], [17, 96], [17, 97], [17, 98], [17, 99], [17, 100], [20, 101], [21, 102], [21, 103], [21, 104], [21, 105], [21, 106], [21, 107]]\n"
     ]
    },
    {
     "name": "stdout",
     "output_type": "stream",
     "text": [
      "Apply the following intramolecular polarization restaraints [[17, 18], [17, 19], [21, 22], [21, 23], [21, 24], [21, 25], [21, 26], [21, 27], [21, 28], [17, 95], [17, 96], [17, 97], [17, 98], [17, 99], [17, 100], [20, 101], [21, 102], [21, 103], [21, 104], [21, 105], [21, 106], [21, 107]]\n"
     ]
    },
    {
     "name": "stderr",
     "output_type": "stream",
     "text": [
      "2019-11-13 10:24:49,081  - INFO - Build vector Y for molecule 0\n"
     ]
    },
    {
     "name": "stdout",
     "output_type": "stream",
     "text": [
      "Build vector Y for molecule 0\n"
     ]
    },
    {
     "name": "stderr",
     "output_type": "stream",
     "text": [
      "2019-11-13 10:24:49,132  - INFO - Build vector Y for molecule 1\n"
     ]
    },
    {
     "name": "stdout",
     "output_type": "stream",
     "text": [
      "Build vector Y for molecule 1\n"
     ]
    },
    {
     "name": "stderr",
     "output_type": "stream",
     "text": [
      "2019-11-13 10:24:49,135  - INFO - Apply the following intramolecular polarization restaraints [[17, 18], [17, 19], [21, 22], [21, 23], [21, 24], [21, 25], [21, 26], [21, 27], [21, 28], [17, 95], [17, 96], [17, 97], [17, 98], [17, 99], [17, 100], [20, 101], [21, 102], [21, 103], [21, 104], [21, 105], [21, 106], [21, 107]]\n"
     ]
    },
    {
     "name": "stdout",
     "output_type": "stream",
     "text": [
      "Apply the following intramolecular polarization restaraints [[17, 18], [17, 19], [21, 22], [21, 23], [21, 24], [21, 25], [21, 26], [21, 27], [21, 28], [17, 95], [17, 96], [17, 97], [17, 98], [17, 99], [17, 100], [20, 101], [21, 102], [21, 103], [21, 104], [21, 105], [21, 106], [21, 107]]\n"
     ]
    },
    {
     "name": "stderr",
     "output_type": "stream",
     "text": [
      "2019-11-13 10:24:49,166  - INFO - Updating charges and polarization parameters for all molecules\n"
     ]
    },
    {
     "name": "stdout",
     "output_type": "stream",
     "text": [
      "Updating charges and polarization parameters for all molecules\n"
     ]
    },
    {
     "name": "stderr",
     "output_type": "stream",
     "text": [
      "2019-11-13 10:24:49,169  - INFO - Optimization step 2: Molekule 0: Charges\n"
     ]
    },
    {
     "name": "stdout",
     "output_type": "stream",
     "text": [
      "Optimization step 2: Molekule 0: Charges\n"
     ]
    },
    {
     "name": "stderr",
     "output_type": "stream",
     "text": [
      "2019-11-13 10:24:49,172  - INFO - [-0.09273477  0.03897868  0.2608944  -0.56334481  0.02583369  0.02583369\n",
      "  0.02583369 -0.01140371 -0.01140371 -0.02274292 -0.02274292  0.34699868]\n"
     ]
    },
    {
     "name": "stdout",
     "output_type": "stream",
     "text": [
      "[-0.09273477  0.03897868  0.2608944  -0.56334481  0.02583369  0.02583369\n",
      "  0.02583369 -0.01140371 -0.01140371 -0.02274292 -0.02274292  0.34699868]\n"
     ]
    },
    {
     "name": "stderr",
     "output_type": "stream",
     "text": [
      "2019-11-13 10:24:49,185  - INFO - Optimization step 2: Molekule 0: Dipoles\n"
     ]
    },
    {
     "name": "stdout",
     "output_type": "stream",
     "text": [
      "Optimization step 2: Molekule 0: Dipoles\n"
     ]
    },
    {
     "name": "stderr",
     "output_type": "stream",
     "text": [
      "2019-11-13 10:24:49,189  - INFO - [1.51633922 1.51633922 1.51633922 1.04668159 0.07211219 0.07211219\n",
      " 0.07211219 0.07211219 0.07211219 0.07211219 0.07211219 0.07211219\n",
      " 1.51633922 1.51633922 1.51633922 1.04668159 0.07211219 0.07211219\n",
      " 0.07211219 0.07211219 0.07211219 0.07211219 0.07211219 0.07211219\n",
      " 1.51633922 1.51633922 1.51633922 1.04668159 0.07211219 0.07211219\n",
      " 0.07211219 0.07211219 0.07211219 0.07211219 0.07211219 0.07211219]\n"
     ]
    },
    {
     "name": "stdout",
     "output_type": "stream",
     "text": [
      "[1.51633922 1.51633922 1.51633922 1.04668159 0.07211219 0.07211219\n",
      " 0.07211219 0.07211219 0.07211219 0.07211219 0.07211219 0.07211219\n",
      " 1.51633922 1.51633922 1.51633922 1.04668159 0.07211219 0.07211219\n",
      " 0.07211219 0.07211219 0.07211219 0.07211219 0.07211219 0.07211219\n",
      " 1.51633922 1.51633922 1.51633922 1.04668159 0.07211219 0.07211219\n",
      " 0.07211219 0.07211219 0.07211219 0.07211219 0.07211219 0.07211219]\n"
     ]
    },
    {
     "name": "stderr",
     "output_type": "stream",
     "text": [
      "2019-11-13 10:24:49,195  - INFO - Optimization step 2: Molekule 1: Charges\n"
     ]
    },
    {
     "name": "stdout",
     "output_type": "stream",
     "text": [
      "Optimization step 2: Molekule 1: Charges\n"
     ]
    },
    {
     "name": "stderr",
     "output_type": "stream",
     "text": [
      "2019-11-13 10:24:49,198  - INFO - [-0.11867548 -0.12942854 -0.12942854 -0.31167429 -0.31167429  0.48154645\n",
      " -0.52967377  0.09809108  0.13267027  0.13267027  0.16935995  0.16935995\n",
      "  0.34685694]\n"
     ]
    },
    {
     "name": "stdout",
     "output_type": "stream",
     "text": [
      "[-0.11867548 -0.12942854 -0.12942854 -0.31167429 -0.31167429  0.48154645\n",
      " -0.52967377  0.09809108  0.13267027  0.13267027  0.16935995  0.16935995\n",
      "  0.34685694]\n"
     ]
    },
    {
     "name": "stderr",
     "output_type": "stream",
     "text": [
      "2019-11-13 10:24:49,201  - INFO - Optimization step 2: Molekule 1: Dipoles\n"
     ]
    },
    {
     "name": "stdout",
     "output_type": "stream",
     "text": [
      "Optimization step 2: Molekule 1: Dipoles\n"
     ]
    },
    {
     "name": "stderr",
     "output_type": "stream",
     "text": [
      "2019-11-13 10:24:49,204  - INFO - [1.51633922 1.51633922 1.51633922 1.51633922 1.51633922 1.51633922\n",
      " 1.04668159 0.07211219 0.07211219 0.07211219 0.07211219 0.07211219\n",
      " 0.07211219 1.51633922 1.51633922 1.51633922 1.51633922 1.51633922\n",
      " 1.51633922 1.04668159 0.07211219 0.07211219 0.07211219 0.07211219\n",
      " 0.07211219 0.07211219 1.51633922 1.51633922 1.51633922 1.51633922\n",
      " 1.51633922 1.51633922 1.04668159 0.07211219 0.07211219 0.07211219\n",
      " 0.07211219 0.07211219 0.07211219]\n"
     ]
    },
    {
     "name": "stdout",
     "output_type": "stream",
     "text": [
      "[1.51633922 1.51633922 1.51633922 1.51633922 1.51633922 1.51633922\n",
      " 1.04668159 0.07211219 0.07211219 0.07211219 0.07211219 0.07211219\n",
      " 0.07211219 1.51633922 1.51633922 1.51633922 1.51633922 1.51633922\n",
      " 1.51633922 1.04668159 0.07211219 0.07211219 0.07211219 0.07211219\n",
      " 0.07211219 0.07211219 1.51633922 1.51633922 1.51633922 1.51633922\n",
      " 1.51633922 1.51633922 1.04668159 0.07211219 0.07211219 0.07211219\n",
      " 0.07211219 0.07211219 0.07211219]\n"
     ]
    },
    {
     "name": "stderr",
     "output_type": "stream",
     "text": [
      "2019-11-13 10:24:49,210  - WARNING - Optimization Step 2\n"
     ]
    },
    {
     "name": "stdout",
     "output_type": "stream",
     "text": [
      "Optimization Step 2\n"
     ]
    },
    {
     "name": "stderr",
     "output_type": "stream",
     "text": [
      "2019-11-13 10:24:51,333  - INFO - Build matrix X for molecule 0\n"
     ]
    },
    {
     "name": "stdout",
     "output_type": "stream",
     "text": [
      "Build matrix X for molecule 0\n"
     ]
    },
    {
     "name": "stderr",
     "output_type": "stream",
     "text": [
      "2019-11-13 10:24:51,818  - INFO - Build matrix X for molecule 1\n"
     ]
    },
    {
     "name": "stdout",
     "output_type": "stream",
     "text": [
      "Build matrix X for molecule 1\n"
     ]
    },
    {
     "name": "stderr",
     "output_type": "stream",
     "text": [
      "2019-11-13 10:24:51,820  - INFO - Apply the following intramolecular polarization restaraints [[17, 18], [17, 19], [21, 22], [21, 23], [21, 24], [21, 25], [21, 26], [21, 27], [21, 28], [17, 95], [17, 96], [17, 97], [17, 98], [17, 99], [17, 100], [20, 101], [21, 102], [21, 103], [21, 104], [21, 105], [21, 106], [21, 107]]\n"
     ]
    },
    {
     "name": "stdout",
     "output_type": "stream",
     "text": [
      "Apply the following intramolecular polarization restaraints [[17, 18], [17, 19], [21, 22], [21, 23], [21, 24], [21, 25], [21, 26], [21, 27], [21, 28], [17, 95], [17, 96], [17, 97], [17, 98], [17, 99], [17, 100], [20, 101], [21, 102], [21, 103], [21, 104], [21, 105], [21, 106], [21, 107]]\n"
     ]
    },
    {
     "name": "stderr",
     "output_type": "stream",
     "text": [
      "2019-11-13 10:24:51,823  - INFO - Apply the following intramolecular polarization restaraints [[17, 18], [17, 19], [21, 22], [21, 23], [21, 24], [21, 25], [21, 26], [21, 27], [21, 28], [17, 95], [17, 96], [17, 97], [17, 98], [17, 99], [17, 100], [20, 101], [21, 102], [21, 103], [21, 104], [21, 105], [21, 106], [21, 107]]\n"
     ]
    },
    {
     "name": "stdout",
     "output_type": "stream",
     "text": [
      "Apply the following intramolecular polarization restaraints [[17, 18], [17, 19], [21, 22], [21, 23], [21, 24], [21, 25], [21, 26], [21, 27], [21, 28], [17, 95], [17, 96], [17, 97], [17, 98], [17, 99], [17, 100], [20, 101], [21, 102], [21, 103], [21, 104], [21, 105], [21, 106], [21, 107]]\n"
     ]
    },
    {
     "name": "stderr",
     "output_type": "stream",
     "text": [
      "2019-11-13 10:24:51,825  - INFO - Apply the following intramolecular polarization restaraints [[17, 18], [17, 19], [21, 22], [21, 23], [21, 24], [21, 25], [21, 26], [21, 27], [21, 28], [17, 95], [17, 96], [17, 97], [17, 98], [17, 99], [17, 100], [20, 101], [21, 102], [21, 103], [21, 104], [21, 105], [21, 106], [21, 107]]\n"
     ]
    },
    {
     "name": "stdout",
     "output_type": "stream",
     "text": [
      "Apply the following intramolecular polarization restaraints [[17, 18], [17, 19], [21, 22], [21, 23], [21, 24], [21, 25], [21, 26], [21, 27], [21, 28], [17, 95], [17, 96], [17, 97], [17, 98], [17, 99], [17, 100], [20, 101], [21, 102], [21, 103], [21, 104], [21, 105], [21, 106], [21, 107]]\n"
     ]
    },
    {
     "name": "stderr",
     "output_type": "stream",
     "text": [
      "2019-11-13 10:24:51,827  - INFO - Apply the following intramolecular polarization restaraints [[17, 18], [17, 19], [21, 22], [21, 23], [21, 24], [21, 25], [21, 26], [21, 27], [21, 28], [17, 95], [17, 96], [17, 97], [17, 98], [17, 99], [17, 100], [20, 101], [21, 102], [21, 103], [21, 104], [21, 105], [21, 106], [21, 107]]\n"
     ]
    },
    {
     "name": "stdout",
     "output_type": "stream",
     "text": [
      "Apply the following intramolecular polarization restaraints [[17, 18], [17, 19], [21, 22], [21, 23], [21, 24], [21, 25], [21, 26], [21, 27], [21, 28], [17, 95], [17, 96], [17, 97], [17, 98], [17, 99], [17, 100], [20, 101], [21, 102], [21, 103], [21, 104], [21, 105], [21, 106], [21, 107]]\n"
     ]
    },
    {
     "name": "stderr",
     "output_type": "stream",
     "text": [
      "2019-11-13 10:24:51,944  - INFO - Build vector Y for molecule 0\n"
     ]
    },
    {
     "name": "stdout",
     "output_type": "stream",
     "text": [
      "Build vector Y for molecule 0\n"
     ]
    },
    {
     "name": "stderr",
     "output_type": "stream",
     "text": [
      "2019-11-13 10:24:51,980  - INFO - Build vector Y for molecule 1\n"
     ]
    },
    {
     "name": "stdout",
     "output_type": "stream",
     "text": [
      "Build vector Y for molecule 1\n"
     ]
    },
    {
     "name": "stderr",
     "output_type": "stream",
     "text": [
      "2019-11-13 10:24:51,983  - INFO - Apply the following intramolecular polarization restaraints [[17, 18], [17, 19], [21, 22], [21, 23], [21, 24], [21, 25], [21, 26], [21, 27], [21, 28], [17, 95], [17, 96], [17, 97], [17, 98], [17, 99], [17, 100], [20, 101], [21, 102], [21, 103], [21, 104], [21, 105], [21, 106], [21, 107]]\n"
     ]
    },
    {
     "name": "stdout",
     "output_type": "stream",
     "text": [
      "Apply the following intramolecular polarization restaraints [[17, 18], [17, 19], [21, 22], [21, 23], [21, 24], [21, 25], [21, 26], [21, 27], [21, 28], [17, 95], [17, 96], [17, 97], [17, 98], [17, 99], [17, 100], [20, 101], [21, 102], [21, 103], [21, 104], [21, 105], [21, 106], [21, 107]]\n"
     ]
    },
    {
     "name": "stderr",
     "output_type": "stream",
     "text": [
      "2019-11-13 10:24:52,016  - INFO - Updating charges and polarization parameters for all molecules\n"
     ]
    },
    {
     "name": "stdout",
     "output_type": "stream",
     "text": [
      "Updating charges and polarization parameters for all molecules\n"
     ]
    },
    {
     "name": "stderr",
     "output_type": "stream",
     "text": [
      "2019-11-13 10:24:52,019  - INFO - Optimization step 3: Molekule 0: Charges\n"
     ]
    },
    {
     "name": "stdout",
     "output_type": "stream",
     "text": [
      "Optimization step 3: Molekule 0: Charges\n"
     ]
    },
    {
     "name": "stderr",
     "output_type": "stream",
     "text": [
      "2019-11-13 10:24:52,021  - INFO - [-0.09469197  0.05293852  0.27506633 -0.56891487  0.02593103  0.02593103\n",
      "  0.02593103 -0.01559122 -0.01559122 -0.02911782 -0.02911782  0.34722696]\n"
     ]
    },
    {
     "name": "stdout",
     "output_type": "stream",
     "text": [
      "[-0.09469197  0.05293852  0.27506633 -0.56891487  0.02593103  0.02593103\n",
      "  0.02593103 -0.01559122 -0.01559122 -0.02911782 -0.02911782  0.34722696]\n"
     ]
    },
    {
     "name": "stderr",
     "output_type": "stream",
     "text": [
      "2019-11-13 10:24:52,025  - INFO - Optimization step 3: Molekule 0: Dipoles\n"
     ]
    },
    {
     "name": "stdout",
     "output_type": "stream",
     "text": [
      "Optimization step 3: Molekule 0: Dipoles\n"
     ]
    },
    {
     "name": "stderr",
     "output_type": "stream",
     "text": [
      "2019-11-13 10:24:52,027  - INFO - [1.52389862 1.52389862 1.52389862 0.99356592 0.0710816  0.0710816\n",
      " 0.0710816  0.0710816  0.0710816  0.0710816  0.0710816  0.0710816\n",
      " 1.52389862 1.52389862 1.52389862 0.99356592 0.0710816  0.0710816\n",
      " 0.0710816  0.0710816  0.0710816  0.0710816  0.0710816  0.0710816\n",
      " 1.52389862 1.52389862 1.52389862 0.99356592 0.0710816  0.0710816\n",
      " 0.0710816  0.0710816  0.0710816  0.0710816  0.0710816  0.0710816 ]\n"
     ]
    },
    {
     "name": "stdout",
     "output_type": "stream",
     "text": [
      "[1.52389862 1.52389862 1.52389862 0.99356592 0.0710816  0.0710816\n",
      " 0.0710816  0.0710816  0.0710816  0.0710816  0.0710816  0.0710816\n",
      " 1.52389862 1.52389862 1.52389862 0.99356592 0.0710816  0.0710816\n",
      " 0.0710816  0.0710816  0.0710816  0.0710816  0.0710816  0.0710816\n",
      " 1.52389862 1.52389862 1.52389862 0.99356592 0.0710816  0.0710816\n",
      " 0.0710816  0.0710816  0.0710816  0.0710816  0.0710816  0.0710816 ]\n"
     ]
    },
    {
     "name": "stderr",
     "output_type": "stream",
     "text": [
      "2019-11-13 10:24:52,035  - INFO - Optimization step 3: Molekule 1: Charges\n"
     ]
    },
    {
     "name": "stdout",
     "output_type": "stream",
     "text": [
      "Optimization step 3: Molekule 1: Charges\n"
     ]
    },
    {
     "name": "stderr",
     "output_type": "stream",
     "text": [
      "2019-11-13 10:24:52,038  - INFO - [-0.13403648 -0.11668619 -0.11668619 -0.32668878 -0.32668878  0.4983742\n",
      " -0.53395457  0.09209639  0.13521418  0.13521418  0.17251956  0.17251956\n",
      "  0.34880292]\n"
     ]
    },
    {
     "name": "stdout",
     "output_type": "stream",
     "text": [
      "[-0.13403648 -0.11668619 -0.11668619 -0.32668878 -0.32668878  0.4983742\n",
      " -0.53395457  0.09209639  0.13521418  0.13521418  0.17251956  0.17251956\n",
      "  0.34880292]\n"
     ]
    },
    {
     "name": "stderr",
     "output_type": "stream",
     "text": [
      "2019-11-13 10:24:52,041  - INFO - Optimization step 3: Molekule 1: Dipoles\n"
     ]
    },
    {
     "name": "stdout",
     "output_type": "stream",
     "text": [
      "Optimization step 3: Molekule 1: Dipoles\n"
     ]
    },
    {
     "name": "stderr",
     "output_type": "stream",
     "text": [
      "2019-11-13 10:24:52,043  - INFO - [1.52389862 1.52389862 1.52389862 1.52389862 1.52389862 1.52389862\n",
      " 0.99356592 0.0710816  0.0710816  0.0710816  0.0710816  0.0710816\n",
      " 0.0710816  1.52389862 1.52389862 1.52389862 1.52389862 1.52389862\n",
      " 1.52389862 0.99356592 0.0710816  0.0710816  0.0710816  0.0710816\n",
      " 0.0710816  0.0710816  1.52389862 1.52389862 1.52389862 1.52389862\n",
      " 1.52389862 1.52389862 0.99356592 0.0710816  0.0710816  0.0710816\n",
      " 0.0710816  0.0710816  0.0710816 ]\n"
     ]
    },
    {
     "name": "stdout",
     "output_type": "stream",
     "text": [
      "[1.52389862 1.52389862 1.52389862 1.52389862 1.52389862 1.52389862\n",
      " 0.99356592 0.0710816  0.0710816  0.0710816  0.0710816  0.0710816\n",
      " 0.0710816  1.52389862 1.52389862 1.52389862 1.52389862 1.52389862\n",
      " 1.52389862 0.99356592 0.0710816  0.0710816  0.0710816  0.0710816\n",
      " 0.0710816  0.0710816  1.52389862 1.52389862 1.52389862 1.52389862\n",
      " 1.52389862 1.52389862 0.99356592 0.0710816  0.0710816  0.0710816\n",
      " 0.0710816  0.0710816  0.0710816 ]\n"
     ]
    },
    {
     "name": "stderr",
     "output_type": "stream",
     "text": [
      "2019-11-13 10:24:52,050  - WARNING - Optimization Step 3\n"
     ]
    },
    {
     "name": "stdout",
     "output_type": "stream",
     "text": [
      "Optimization Step 3\n"
     ]
    },
    {
     "name": "stderr",
     "output_type": "stream",
     "text": [
      "2019-11-13 10:24:57,467  - INFO - Build matrix X for molecule 0\n"
     ]
    },
    {
     "name": "stdout",
     "output_type": "stream",
     "text": [
      "Build matrix X for molecule 0\n"
     ]
    },
    {
     "name": "stderr",
     "output_type": "stream",
     "text": [
      "2019-11-13 10:24:58,816  - INFO - Build matrix X for molecule 1\n"
     ]
    },
    {
     "name": "stdout",
     "output_type": "stream",
     "text": [
      "Build matrix X for molecule 1\n"
     ]
    },
    {
     "name": "stderr",
     "output_type": "stream",
     "text": [
      "2019-11-13 10:24:58,818  - INFO - Apply the following intramolecular polarization restaraints [[17, 18], [17, 19], [21, 22], [21, 23], [21, 24], [21, 25], [21, 26], [21, 27], [21, 28], [17, 95], [17, 96], [17, 97], [17, 98], [17, 99], [17, 100], [20, 101], [21, 102], [21, 103], [21, 104], [21, 105], [21, 106], [21, 107]]\n"
     ]
    },
    {
     "name": "stdout",
     "output_type": "stream",
     "text": [
      "Apply the following intramolecular polarization restaraints [[17, 18], [17, 19], [21, 22], [21, 23], [21, 24], [21, 25], [21, 26], [21, 27], [21, 28], [17, 95], [17, 96], [17, 97], [17, 98], [17, 99], [17, 100], [20, 101], [21, 102], [21, 103], [21, 104], [21, 105], [21, 106], [21, 107]]\n"
     ]
    },
    {
     "name": "stderr",
     "output_type": "stream",
     "text": [
      "2019-11-13 10:24:58,820  - INFO - Apply the following intramolecular polarization restaraints [[17, 18], [17, 19], [21, 22], [21, 23], [21, 24], [21, 25], [21, 26], [21, 27], [21, 28], [17, 95], [17, 96], [17, 97], [17, 98], [17, 99], [17, 100], [20, 101], [21, 102], [21, 103], [21, 104], [21, 105], [21, 106], [21, 107]]\n"
     ]
    },
    {
     "name": "stdout",
     "output_type": "stream",
     "text": [
      "Apply the following intramolecular polarization restaraints [[17, 18], [17, 19], [21, 22], [21, 23], [21, 24], [21, 25], [21, 26], [21, 27], [21, 28], [17, 95], [17, 96], [17, 97], [17, 98], [17, 99], [17, 100], [20, 101], [21, 102], [21, 103], [21, 104], [21, 105], [21, 106], [21, 107]]\n"
     ]
    },
    {
     "name": "stderr",
     "output_type": "stream",
     "text": [
      "2019-11-13 10:24:58,822  - INFO - Apply the following intramolecular polarization restaraints [[17, 18], [17, 19], [21, 22], [21, 23], [21, 24], [21, 25], [21, 26], [21, 27], [21, 28], [17, 95], [17, 96], [17, 97], [17, 98], [17, 99], [17, 100], [20, 101], [21, 102], [21, 103], [21, 104], [21, 105], [21, 106], [21, 107]]\n"
     ]
    },
    {
     "name": "stdout",
     "output_type": "stream",
     "text": [
      "Apply the following intramolecular polarization restaraints [[17, 18], [17, 19], [21, 22], [21, 23], [21, 24], [21, 25], [21, 26], [21, 27], [21, 28], [17, 95], [17, 96], [17, 97], [17, 98], [17, 99], [17, 100], [20, 101], [21, 102], [21, 103], [21, 104], [21, 105], [21, 106], [21, 107]]\n"
     ]
    },
    {
     "name": "stderr",
     "output_type": "stream",
     "text": [
      "2019-11-13 10:24:58,824  - INFO - Apply the following intramolecular polarization restaraints [[17, 18], [17, 19], [21, 22], [21, 23], [21, 24], [21, 25], [21, 26], [21, 27], [21, 28], [17, 95], [17, 96], [17, 97], [17, 98], [17, 99], [17, 100], [20, 101], [21, 102], [21, 103], [21, 104], [21, 105], [21, 106], [21, 107]]\n"
     ]
    },
    {
     "name": "stdout",
     "output_type": "stream",
     "text": [
      "Apply the following intramolecular polarization restaraints [[17, 18], [17, 19], [21, 22], [21, 23], [21, 24], [21, 25], [21, 26], [21, 27], [21, 28], [17, 95], [17, 96], [17, 97], [17, 98], [17, 99], [17, 100], [20, 101], [21, 102], [21, 103], [21, 104], [21, 105], [21, 106], [21, 107]]\n"
     ]
    },
    {
     "name": "stderr",
     "output_type": "stream",
     "text": [
      "2019-11-13 10:24:58,967  - INFO - Build vector Y for molecule 0\n"
     ]
    },
    {
     "name": "stdout",
     "output_type": "stream",
     "text": [
      "Build vector Y for molecule 0\n"
     ]
    },
    {
     "name": "stderr",
     "output_type": "stream",
     "text": [
      "2019-11-13 10:24:59,011  - INFO - Build vector Y for molecule 1\n"
     ]
    },
    {
     "name": "stdout",
     "output_type": "stream",
     "text": [
      "Build vector Y for molecule 1\n"
     ]
    },
    {
     "name": "stderr",
     "output_type": "stream",
     "text": [
      "2019-11-13 10:24:59,014  - INFO - Apply the following intramolecular polarization restaraints [[17, 18], [17, 19], [21, 22], [21, 23], [21, 24], [21, 25], [21, 26], [21, 27], [21, 28], [17, 95], [17, 96], [17, 97], [17, 98], [17, 99], [17, 100], [20, 101], [21, 102], [21, 103], [21, 104], [21, 105], [21, 106], [21, 107]]\n"
     ]
    },
    {
     "name": "stdout",
     "output_type": "stream",
     "text": [
      "Apply the following intramolecular polarization restaraints [[17, 18], [17, 19], [21, 22], [21, 23], [21, 24], [21, 25], [21, 26], [21, 27], [21, 28], [17, 95], [17, 96], [17, 97], [17, 98], [17, 99], [17, 100], [20, 101], [21, 102], [21, 103], [21, 104], [21, 105], [21, 106], [21, 107]]\n"
     ]
    },
    {
     "name": "stderr",
     "output_type": "stream",
     "text": [
      "2019-11-13 10:24:59,038  - INFO - Updating charges and polarization parameters for all molecules\n"
     ]
    },
    {
     "name": "stdout",
     "output_type": "stream",
     "text": [
      "Updating charges and polarization parameters for all molecules\n"
     ]
    },
    {
     "name": "stderr",
     "output_type": "stream",
     "text": [
      "2019-11-13 10:24:59,040  - INFO - Optimization step 4: Molekule 0: Charges\n"
     ]
    },
    {
     "name": "stdout",
     "output_type": "stream",
     "text": [
      "Optimization step 4: Molekule 0: Charges\n"
     ]
    },
    {
     "name": "stderr",
     "output_type": "stream",
     "text": [
      "2019-11-13 10:24:59,042  - INFO - [-0.09456992  0.04657609  0.26986941 -0.56736547  0.0266186   0.0266186\n",
      "  0.0266186  -0.01347592 -0.01347592 -0.02736396 -0.02736396  0.34731384]\n"
     ]
    },
    {
     "name": "stdout",
     "output_type": "stream",
     "text": [
      "[-0.09456992  0.04657609  0.26986941 -0.56736547  0.0266186   0.0266186\n",
      "  0.0266186  -0.01347592 -0.01347592 -0.02736396 -0.02736396  0.34731384]\n"
     ]
    },
    {
     "name": "stderr",
     "output_type": "stream",
     "text": [
      "2019-11-13 10:24:59,045  - INFO - Optimization step 4: Molekule 0: Dipoles\n"
     ]
    },
    {
     "name": "stdout",
     "output_type": "stream",
     "text": [
      "Optimization step 4: Molekule 0: Dipoles\n"
     ]
    },
    {
     "name": "stderr",
     "output_type": "stream",
     "text": [
      "2019-11-13 10:24:59,046  - INFO - [1.52987903 1.52987903 1.52987903 1.01482316 0.06532971 0.06532971\n",
      " 0.06532971 0.06532971 0.06532971 0.06532971 0.06532971 0.06532971\n",
      " 1.52987903 1.52987903 1.52987903 1.01482316 0.06532971 0.06532971\n",
      " 0.06532971 0.06532971 0.06532971 0.06532971 0.06532971 0.06532971\n",
      " 1.52987903 1.52987903 1.52987903 1.01482316 0.06532971 0.06532971\n",
      " 0.06532971 0.06532971 0.06532971 0.06532971 0.06532971 0.06532971]\n"
     ]
    },
    {
     "name": "stdout",
     "output_type": "stream",
     "text": [
      "[1.52987903 1.52987903 1.52987903 1.01482316 0.06532971 0.06532971\n",
      " 0.06532971 0.06532971 0.06532971 0.06532971 0.06532971 0.06532971\n",
      " 1.52987903 1.52987903 1.52987903 1.01482316 0.06532971 0.06532971\n",
      " 0.06532971 0.06532971 0.06532971 0.06532971 0.06532971 0.06532971\n",
      " 1.52987903 1.52987903 1.52987903 1.01482316 0.06532971 0.06532971\n",
      " 0.06532971 0.06532971 0.06532971 0.06532971 0.06532971 0.06532971]\n"
     ]
    },
    {
     "name": "stderr",
     "output_type": "stream",
     "text": [
      "2019-11-13 10:24:59,049  - INFO - Optimization step 4: Molekule 1: Charges\n"
     ]
    },
    {
     "name": "stdout",
     "output_type": "stream",
     "text": [
      "Optimization step 4: Molekule 1: Charges\n"
     ]
    },
    {
     "name": "stderr",
     "output_type": "stream",
     "text": [
      "2019-11-13 10:24:59,051  - INFO - [-0.13626964 -0.11413924 -0.11413924 -0.33241068 -0.33241068  0.5082052\n",
      " -0.53566009  0.09137044  0.13564653  0.13564653  0.17272124  0.17272124\n",
      "  0.34871838]\n"
     ]
    },
    {
     "name": "stdout",
     "output_type": "stream",
     "text": [
      "[-0.13626964 -0.11413924 -0.11413924 -0.33241068 -0.33241068  0.5082052\n",
      " -0.53566009  0.09137044  0.13564653  0.13564653  0.17272124  0.17272124\n",
      "  0.34871838]\n"
     ]
    },
    {
     "name": "stderr",
     "output_type": "stream",
     "text": [
      "2019-11-13 10:24:59,054  - INFO - Optimization step 4: Molekule 1: Dipoles\n"
     ]
    },
    {
     "name": "stdout",
     "output_type": "stream",
     "text": [
      "Optimization step 4: Molekule 1: Dipoles\n"
     ]
    },
    {
     "name": "stderr",
     "output_type": "stream",
     "text": [
      "2019-11-13 10:24:59,056  - INFO - [1.52987903 1.52987903 1.52987903 1.52987903 1.52987903 1.52987903\n",
      " 1.01482316 0.06532971 0.06532971 0.06532971 0.06532971 0.06532971\n",
      " 0.06532971 1.52987903 1.52987903 1.52987903 1.52987903 1.52987903\n",
      " 1.52987903 1.01482316 0.06532971 0.06532971 0.06532971 0.06532971\n",
      " 0.06532971 0.06532971 1.52987903 1.52987903 1.52987903 1.52987903\n",
      " 1.52987903 1.52987903 1.01482316 0.06532971 0.06532971 0.06532971\n",
      " 0.06532971 0.06532971 0.06532971]\n"
     ]
    },
    {
     "name": "stdout",
     "output_type": "stream",
     "text": [
      "[1.52987903 1.52987903 1.52987903 1.52987903 1.52987903 1.52987903\n",
      " 1.01482316 0.06532971 0.06532971 0.06532971 0.06532971 0.06532971\n",
      " 0.06532971 1.52987903 1.52987903 1.52987903 1.52987903 1.52987903\n",
      " 1.52987903 1.01482316 0.06532971 0.06532971 0.06532971 0.06532971\n",
      " 0.06532971 0.06532971 1.52987903 1.52987903 1.52987903 1.52987903\n",
      " 1.52987903 1.52987903 1.01482316 0.06532971 0.06532971 0.06532971\n",
      " 0.06532971 0.06532971 0.06532971]\n"
     ]
    },
    {
     "name": "stderr",
     "output_type": "stream",
     "text": [
      "2019-11-13 10:24:59,060  - WARNING - Optimization Step 4\n"
     ]
    },
    {
     "name": "stdout",
     "output_type": "stream",
     "text": [
      "Optimization Step 4\n"
     ]
    },
    {
     "name": "stderr",
     "output_type": "stream",
     "text": [
      "2019-11-13 10:25:05,902  - INFO - Build matrix X for molecule 0\n"
     ]
    },
    {
     "name": "stdout",
     "output_type": "stream",
     "text": [
      "Build matrix X for molecule 0\n"
     ]
    },
    {
     "name": "stderr",
     "output_type": "stream",
     "text": [
      "2019-11-13 10:25:06,513  - INFO - Build matrix X for molecule 1\n"
     ]
    },
    {
     "name": "stdout",
     "output_type": "stream",
     "text": [
      "Build matrix X for molecule 1\n"
     ]
    },
    {
     "name": "stderr",
     "output_type": "stream",
     "text": [
      "2019-11-13 10:25:06,516  - INFO - Apply the following intramolecular polarization restaraints [[17, 18], [17, 19], [21, 22], [21, 23], [21, 24], [21, 25], [21, 26], [21, 27], [21, 28], [17, 95], [17, 96], [17, 97], [17, 98], [17, 99], [17, 100], [20, 101], [21, 102], [21, 103], [21, 104], [21, 105], [21, 106], [21, 107]]\n"
     ]
    },
    {
     "name": "stdout",
     "output_type": "stream",
     "text": [
      "Apply the following intramolecular polarization restaraints [[17, 18], [17, 19], [21, 22], [21, 23], [21, 24], [21, 25], [21, 26], [21, 27], [21, 28], [17, 95], [17, 96], [17, 97], [17, 98], [17, 99], [17, 100], [20, 101], [21, 102], [21, 103], [21, 104], [21, 105], [21, 106], [21, 107]]\n"
     ]
    },
    {
     "name": "stderr",
     "output_type": "stream",
     "text": [
      "2019-11-13 10:25:06,517  - INFO - Apply the following intramolecular polarization restaraints [[17, 18], [17, 19], [21, 22], [21, 23], [21, 24], [21, 25], [21, 26], [21, 27], [21, 28], [17, 95], [17, 96], [17, 97], [17, 98], [17, 99], [17, 100], [20, 101], [21, 102], [21, 103], [21, 104], [21, 105], [21, 106], [21, 107]]\n"
     ]
    },
    {
     "name": "stdout",
     "output_type": "stream",
     "text": [
      "Apply the following intramolecular polarization restaraints [[17, 18], [17, 19], [21, 22], [21, 23], [21, 24], [21, 25], [21, 26], [21, 27], [21, 28], [17, 95], [17, 96], [17, 97], [17, 98], [17, 99], [17, 100], [20, 101], [21, 102], [21, 103], [21, 104], [21, 105], [21, 106], [21, 107]]\n"
     ]
    },
    {
     "name": "stderr",
     "output_type": "stream",
     "text": [
      "2019-11-13 10:25:06,519  - INFO - Apply the following intramolecular polarization restaraints [[17, 18], [17, 19], [21, 22], [21, 23], [21, 24], [21, 25], [21, 26], [21, 27], [21, 28], [17, 95], [17, 96], [17, 97], [17, 98], [17, 99], [17, 100], [20, 101], [21, 102], [21, 103], [21, 104], [21, 105], [21, 106], [21, 107]]\n"
     ]
    },
    {
     "name": "stdout",
     "output_type": "stream",
     "text": [
      "Apply the following intramolecular polarization restaraints [[17, 18], [17, 19], [21, 22], [21, 23], [21, 24], [21, 25], [21, 26], [21, 27], [21, 28], [17, 95], [17, 96], [17, 97], [17, 98], [17, 99], [17, 100], [20, 101], [21, 102], [21, 103], [21, 104], [21, 105], [21, 106], [21, 107]]\n"
     ]
    },
    {
     "name": "stderr",
     "output_type": "stream",
     "text": [
      "2019-11-13 10:25:06,522  - INFO - Apply the following intramolecular polarization restaraints [[17, 18], [17, 19], [21, 22], [21, 23], [21, 24], [21, 25], [21, 26], [21, 27], [21, 28], [17, 95], [17, 96], [17, 97], [17, 98], [17, 99], [17, 100], [20, 101], [21, 102], [21, 103], [21, 104], [21, 105], [21, 106], [21, 107]]\n"
     ]
    },
    {
     "name": "stdout",
     "output_type": "stream",
     "text": [
      "Apply the following intramolecular polarization restaraints [[17, 18], [17, 19], [21, 22], [21, 23], [21, 24], [21, 25], [21, 26], [21, 27], [21, 28], [17, 95], [17, 96], [17, 97], [17, 98], [17, 99], [17, 100], [20, 101], [21, 102], [21, 103], [21, 104], [21, 105], [21, 106], [21, 107]]\n"
     ]
    },
    {
     "name": "stderr",
     "output_type": "stream",
     "text": [
      "2019-11-13 10:25:06,663  - INFO - Build vector Y for molecule 0\n"
     ]
    },
    {
     "name": "stdout",
     "output_type": "stream",
     "text": [
      "Build vector Y for molecule 0\n"
     ]
    },
    {
     "name": "stderr",
     "output_type": "stream",
     "text": [
      "2019-11-13 10:25:06,685  - INFO - Build vector Y for molecule 1\n"
     ]
    },
    {
     "name": "stdout",
     "output_type": "stream",
     "text": [
      "Build vector Y for molecule 1\n"
     ]
    },
    {
     "name": "stderr",
     "output_type": "stream",
     "text": [
      "2019-11-13 10:25:06,687  - INFO - Apply the following intramolecular polarization restaraints [[17, 18], [17, 19], [21, 22], [21, 23], [21, 24], [21, 25], [21, 26], [21, 27], [21, 28], [17, 95], [17, 96], [17, 97], [17, 98], [17, 99], [17, 100], [20, 101], [21, 102], [21, 103], [21, 104], [21, 105], [21, 106], [21, 107]]\n"
     ]
    },
    {
     "name": "stdout",
     "output_type": "stream",
     "text": [
      "Apply the following intramolecular polarization restaraints [[17, 18], [17, 19], [21, 22], [21, 23], [21, 24], [21, 25], [21, 26], [21, 27], [21, 28], [17, 95], [17, 96], [17, 97], [17, 98], [17, 99], [17, 100], [20, 101], [21, 102], [21, 103], [21, 104], [21, 105], [21, 106], [21, 107]]\n"
     ]
    },
    {
     "name": "stderr",
     "output_type": "stream",
     "text": [
      "2019-11-13 10:25:06,706  - INFO - Updating charges and polarization parameters for all molecules\n"
     ]
    },
    {
     "name": "stdout",
     "output_type": "stream",
     "text": [
      "Updating charges and polarization parameters for all molecules\n"
     ]
    },
    {
     "name": "stderr",
     "output_type": "stream",
     "text": [
      "2019-11-13 10:25:06,708  - INFO - Optimization step 5: Molekule 0: Charges\n"
     ]
    },
    {
     "name": "stdout",
     "output_type": "stream",
     "text": [
      "Optimization step 5: Molekule 0: Charges\n"
     ]
    },
    {
     "name": "stderr",
     "output_type": "stream",
     "text": [
      "2019-11-13 10:25:06,710  - INFO - [-0.09449363  0.04957812  0.27207145 -0.56811848  0.02635039  0.02635039\n",
      "  0.02635039 -0.0144608  -0.0144608  -0.02821153 -0.02821153  0.34725604]\n"
     ]
    },
    {
     "name": "stdout",
     "output_type": "stream",
     "text": [
      "[-0.09449363  0.04957812  0.27207145 -0.56811848  0.02635039  0.02635039\n",
      "  0.02635039 -0.0144608  -0.0144608  -0.02821153 -0.02821153  0.34725604]\n"
     ]
    },
    {
     "name": "stderr",
     "output_type": "stream",
     "text": [
      "2019-11-13 10:25:06,713  - INFO - Optimization step 5: Molekule 0: Dipoles\n"
     ]
    },
    {
     "name": "stdout",
     "output_type": "stream",
     "text": [
      "Optimization step 5: Molekule 0: Dipoles\n"
     ]
    },
    {
     "name": "stderr",
     "output_type": "stream",
     "text": [
      "2019-11-13 10:25:06,715  - INFO - [1.52820785 1.52820785 1.52820785 1.00412357 0.06739093 0.06739093\n",
      " 0.06739093 0.06739093 0.06739093 0.06739093 0.06739093 0.06739093\n",
      " 1.52820785 1.52820785 1.52820785 1.00412357 0.06739093 0.06739093\n",
      " 0.06739093 0.06739093 0.06739093 0.06739093 0.06739093 0.06739093\n",
      " 1.52820785 1.52820785 1.52820785 1.00412357 0.06739093 0.06739093\n",
      " 0.06739093 0.06739093 0.06739093 0.06739093 0.06739093 0.06739093]\n"
     ]
    },
    {
     "name": "stdout",
     "output_type": "stream",
     "text": [
      "[1.52820785 1.52820785 1.52820785 1.00412357 0.06739093 0.06739093\n",
      " 0.06739093 0.06739093 0.06739093 0.06739093 0.06739093 0.06739093\n",
      " 1.52820785 1.52820785 1.52820785 1.00412357 0.06739093 0.06739093\n",
      " 0.06739093 0.06739093 0.06739093 0.06739093 0.06739093 0.06739093\n",
      " 1.52820785 1.52820785 1.52820785 1.00412357 0.06739093 0.06739093\n",
      " 0.06739093 0.06739093 0.06739093 0.06739093 0.06739093 0.06739093]\n"
     ]
    },
    {
     "name": "stderr",
     "output_type": "stream",
     "text": [
      "2019-11-13 10:25:06,719  - INFO - Optimization step 5: Molekule 1: Charges\n"
     ]
    },
    {
     "name": "stdout",
     "output_type": "stream",
     "text": [
      "Optimization step 5: Molekule 1: Charges\n"
     ]
    },
    {
     "name": "stderr",
     "output_type": "stream",
     "text": [
      "2019-11-13 10:25:06,721  - INFO - [-0.13774533 -0.11265173 -0.11265173 -0.33335407 -0.33335407  0.5084624\n",
      " -0.5355975   0.09109968  0.13566735  0.13566735  0.17282429  0.17282429\n",
      "  0.34880907]\n"
     ]
    },
    {
     "name": "stdout",
     "output_type": "stream",
     "text": [
      "[-0.13774533 -0.11265173 -0.11265173 -0.33335407 -0.33335407  0.5084624\n",
      " -0.5355975   0.09109968  0.13566735  0.13566735  0.17282429  0.17282429\n",
      "  0.34880907]\n"
     ]
    },
    {
     "name": "stderr",
     "output_type": "stream",
     "text": [
      "2019-11-13 10:25:06,725  - INFO - Optimization step 5: Molekule 1: Dipoles\n"
     ]
    },
    {
     "name": "stdout",
     "output_type": "stream",
     "text": [
      "Optimization step 5: Molekule 1: Dipoles\n"
     ]
    },
    {
     "name": "stderr",
     "output_type": "stream",
     "text": [
      "2019-11-13 10:25:06,727  - INFO - [1.52820785 1.52820785 1.52820785 1.52820785 1.52820785 1.52820785\n",
      " 1.00412357 0.06739093 0.06739093 0.06739093 0.06739093 0.06739093\n",
      " 0.06739093 1.52820785 1.52820785 1.52820785 1.52820785 1.52820785\n",
      " 1.52820785 1.00412357 0.06739093 0.06739093 0.06739093 0.06739093\n",
      " 0.06739093 0.06739093 1.52820785 1.52820785 1.52820785 1.52820785\n",
      " 1.52820785 1.52820785 1.00412357 0.06739093 0.06739093 0.06739093\n",
      " 0.06739093 0.06739093 0.06739093]\n"
     ]
    },
    {
     "name": "stdout",
     "output_type": "stream",
     "text": [
      "[1.52820785 1.52820785 1.52820785 1.52820785 1.52820785 1.52820785\n",
      " 1.00412357 0.06739093 0.06739093 0.06739093 0.06739093 0.06739093\n",
      " 0.06739093 1.52820785 1.52820785 1.52820785 1.52820785 1.52820785\n",
      " 1.52820785 1.00412357 0.06739093 0.06739093 0.06739093 0.06739093\n",
      " 0.06739093 0.06739093 1.52820785 1.52820785 1.52820785 1.52820785\n",
      " 1.52820785 1.52820785 1.00412357 0.06739093 0.06739093 0.06739093\n",
      " 0.06739093 0.06739093 0.06739093]\n"
     ]
    },
    {
     "name": "stderr",
     "output_type": "stream",
     "text": [
      "2019-11-13 10:25:06,730  - WARNING - Optimization Step 5\n"
     ]
    },
    {
     "name": "stdout",
     "output_type": "stream",
     "text": [
      "Optimization Step 5\n"
     ]
    },
    {
     "name": "stderr",
     "output_type": "stream",
     "text": [
      "2019-11-13 10:25:12,738  - INFO - Build matrix X for molecule 0\n"
     ]
    },
    {
     "name": "stdout",
     "output_type": "stream",
     "text": [
      "Build matrix X for molecule 0\n"
     ]
    },
    {
     "name": "stderr",
     "output_type": "stream",
     "text": [
      "2019-11-13 10:25:13,254  - INFO - Build matrix X for molecule 1\n"
     ]
    },
    {
     "name": "stdout",
     "output_type": "stream",
     "text": [
      "Build matrix X for molecule 1\n"
     ]
    },
    {
     "name": "stderr",
     "output_type": "stream",
     "text": [
      "2019-11-13 10:25:13,257  - INFO - Apply the following intramolecular polarization restaraints [[17, 18], [17, 19], [21, 22], [21, 23], [21, 24], [21, 25], [21, 26], [21, 27], [21, 28], [17, 95], [17, 96], [17, 97], [17, 98], [17, 99], [17, 100], [20, 101], [21, 102], [21, 103], [21, 104], [21, 105], [21, 106], [21, 107]]\n"
     ]
    },
    {
     "name": "stdout",
     "output_type": "stream",
     "text": [
      "Apply the following intramolecular polarization restaraints [[17, 18], [17, 19], [21, 22], [21, 23], [21, 24], [21, 25], [21, 26], [21, 27], [21, 28], [17, 95], [17, 96], [17, 97], [17, 98], [17, 99], [17, 100], [20, 101], [21, 102], [21, 103], [21, 104], [21, 105], [21, 106], [21, 107]]\n"
     ]
    },
    {
     "name": "stderr",
     "output_type": "stream",
     "text": [
      "2019-11-13 10:25:13,258  - INFO - Apply the following intramolecular polarization restaraints [[17, 18], [17, 19], [21, 22], [21, 23], [21, 24], [21, 25], [21, 26], [21, 27], [21, 28], [17, 95], [17, 96], [17, 97], [17, 98], [17, 99], [17, 100], [20, 101], [21, 102], [21, 103], [21, 104], [21, 105], [21, 106], [21, 107]]\n"
     ]
    },
    {
     "name": "stdout",
     "output_type": "stream",
     "text": [
      "Apply the following intramolecular polarization restaraints [[17, 18], [17, 19], [21, 22], [21, 23], [21, 24], [21, 25], [21, 26], [21, 27], [21, 28], [17, 95], [17, 96], [17, 97], [17, 98], [17, 99], [17, 100], [20, 101], [21, 102], [21, 103], [21, 104], [21, 105], [21, 106], [21, 107]]\n"
     ]
    },
    {
     "name": "stderr",
     "output_type": "stream",
     "text": [
      "2019-11-13 10:25:13,260  - INFO - Apply the following intramolecular polarization restaraints [[17, 18], [17, 19], [21, 22], [21, 23], [21, 24], [21, 25], [21, 26], [21, 27], [21, 28], [17, 95], [17, 96], [17, 97], [17, 98], [17, 99], [17, 100], [20, 101], [21, 102], [21, 103], [21, 104], [21, 105], [21, 106], [21, 107]]\n"
     ]
    },
    {
     "name": "stdout",
     "output_type": "stream",
     "text": [
      "Apply the following intramolecular polarization restaraints [[17, 18], [17, 19], [21, 22], [21, 23], [21, 24], [21, 25], [21, 26], [21, 27], [21, 28], [17, 95], [17, 96], [17, 97], [17, 98], [17, 99], [17, 100], [20, 101], [21, 102], [21, 103], [21, 104], [21, 105], [21, 106], [21, 107]]\n"
     ]
    },
    {
     "name": "stderr",
     "output_type": "stream",
     "text": [
      "2019-11-13 10:25:13,262  - INFO - Apply the following intramolecular polarization restaraints [[17, 18], [17, 19], [21, 22], [21, 23], [21, 24], [21, 25], [21, 26], [21, 27], [21, 28], [17, 95], [17, 96], [17, 97], [17, 98], [17, 99], [17, 100], [20, 101], [21, 102], [21, 103], [21, 104], [21, 105], [21, 106], [21, 107]]\n"
     ]
    },
    {
     "name": "stdout",
     "output_type": "stream",
     "text": [
      "Apply the following intramolecular polarization restaraints [[17, 18], [17, 19], [21, 22], [21, 23], [21, 24], [21, 25], [21, 26], [21, 27], [21, 28], [17, 95], [17, 96], [17, 97], [17, 98], [17, 99], [17, 100], [20, 101], [21, 102], [21, 103], [21, 104], [21, 105], [21, 106], [21, 107]]\n"
     ]
    },
    {
     "name": "stderr",
     "output_type": "stream",
     "text": [
      "2019-11-13 10:25:13,362  - INFO - Build vector Y for molecule 0\n"
     ]
    },
    {
     "name": "stdout",
     "output_type": "stream",
     "text": [
      "Build vector Y for molecule 0\n"
     ]
    },
    {
     "name": "stderr",
     "output_type": "stream",
     "text": [
      "2019-11-13 10:25:13,381  - INFO - Build vector Y for molecule 1\n"
     ]
    },
    {
     "name": "stdout",
     "output_type": "stream",
     "text": [
      "Build vector Y for molecule 1\n"
     ]
    },
    {
     "name": "stderr",
     "output_type": "stream",
     "text": [
      "2019-11-13 10:25:13,383  - INFO - Apply the following intramolecular polarization restaraints [[17, 18], [17, 19], [21, 22], [21, 23], [21, 24], [21, 25], [21, 26], [21, 27], [21, 28], [17, 95], [17, 96], [17, 97], [17, 98], [17, 99], [17, 100], [20, 101], [21, 102], [21, 103], [21, 104], [21, 105], [21, 106], [21, 107]]\n"
     ]
    },
    {
     "name": "stdout",
     "output_type": "stream",
     "text": [
      "Apply the following intramolecular polarization restaraints [[17, 18], [17, 19], [21, 22], [21, 23], [21, 24], [21, 25], [21, 26], [21, 27], [21, 28], [17, 95], [17, 96], [17, 97], [17, 98], [17, 99], [17, 100], [20, 101], [21, 102], [21, 103], [21, 104], [21, 105], [21, 106], [21, 107]]\n"
     ]
    },
    {
     "name": "stderr",
     "output_type": "stream",
     "text": [
      "2019-11-13 10:25:13,403  - INFO - Updating charges and polarization parameters for all molecules\n"
     ]
    },
    {
     "name": "stdout",
     "output_type": "stream",
     "text": [
      "Updating charges and polarization parameters for all molecules\n"
     ]
    },
    {
     "name": "stderr",
     "output_type": "stream",
     "text": [
      "2019-11-13 10:25:13,405  - INFO - Optimization step 6: Molekule 0: Charges\n"
     ]
    },
    {
     "name": "stdout",
     "output_type": "stream",
     "text": [
      "Optimization step 6: Molekule 0: Charges\n"
     ]
    },
    {
     "name": "stderr",
     "output_type": "stream",
     "text": [
      "2019-11-13 10:25:13,407  - INFO - [-0.09454471  0.04824954  0.27108174 -0.56778524  0.02648122  0.02648122\n",
      "  0.02648122 -0.01402478 -0.01402478 -0.02783545 -0.02783545  0.34727549]\n"
     ]
    },
    {
     "name": "stdout",
     "output_type": "stream",
     "text": [
      "[-0.09454471  0.04824954  0.27108174 -0.56778524  0.02648122  0.02648122\n",
      "  0.02648122 -0.01402478 -0.01402478 -0.02783545 -0.02783545  0.34727549]\n"
     ]
    },
    {
     "name": "stderr",
     "output_type": "stream",
     "text": [
      "2019-11-13 10:25:13,423  - INFO - Optimization step 6: Molekule 0: Dipoles\n"
     ]
    },
    {
     "name": "stdout",
     "output_type": "stream",
     "text": [
      "Optimization step 6: Molekule 0: Dipoles\n"
     ]
    },
    {
     "name": "stderr",
     "output_type": "stream",
     "text": [
      "2019-11-13 10:25:13,425  - INFO - [1.52915926 1.52915926 1.52915926 1.00884818 0.06636254 0.06636254\n",
      " 0.06636254 0.06636254 0.06636254 0.06636254 0.06636254 0.06636254\n",
      " 1.52915926 1.52915926 1.52915926 1.00884818 0.06636254 0.06636254\n",
      " 0.06636254 0.06636254 0.06636254 0.06636254 0.06636254 0.06636254\n",
      " 1.52915926 1.52915926 1.52915926 1.00884818 0.06636254 0.06636254\n",
      " 0.06636254 0.06636254 0.06636254 0.06636254 0.06636254 0.06636254]\n"
     ]
    },
    {
     "name": "stdout",
     "output_type": "stream",
     "text": [
      "[1.52915926 1.52915926 1.52915926 1.00884818 0.06636254 0.06636254\n",
      " 0.06636254 0.06636254 0.06636254 0.06636254 0.06636254 0.06636254\n",
      " 1.52915926 1.52915926 1.52915926 1.00884818 0.06636254 0.06636254\n",
      " 0.06636254 0.06636254 0.06636254 0.06636254 0.06636254 0.06636254\n",
      " 1.52915926 1.52915926 1.52915926 1.00884818 0.06636254 0.06636254\n",
      " 0.06636254 0.06636254 0.06636254 0.06636254 0.06636254 0.06636254]\n"
     ]
    },
    {
     "name": "stderr",
     "output_type": "stream",
     "text": [
      "2019-11-13 10:25:13,437  - INFO - Optimization step 6: Molekule 1: Charges\n"
     ]
    },
    {
     "name": "stdout",
     "output_type": "stream",
     "text": [
      "Optimization step 6: Molekule 1: Charges\n"
     ]
    },
    {
     "name": "stderr",
     "output_type": "stream",
     "text": [
      "2019-11-13 10:25:13,439  - INFO - [-0.13787877 -0.1125175  -0.1125175  -0.33389044 -0.33389044  0.50954441\n",
      " -0.53580811  0.09110069  0.13572891  0.13572891  0.17281444  0.17281444\n",
      "  0.34877098]\n"
     ]
    },
    {
     "name": "stdout",
     "output_type": "stream",
     "text": [
      "[-0.13787877 -0.1125175  -0.1125175  -0.33389044 -0.33389044  0.50954441\n",
      " -0.53580811  0.09110069  0.13572891  0.13572891  0.17281444  0.17281444\n",
      "  0.34877098]\n"
     ]
    },
    {
     "name": "stderr",
     "output_type": "stream",
     "text": [
      "2019-11-13 10:25:13,442  - INFO - Optimization step 6: Molekule 1: Dipoles\n"
     ]
    },
    {
     "name": "stdout",
     "output_type": "stream",
     "text": [
      "Optimization step 6: Molekule 1: Dipoles\n"
     ]
    },
    {
     "name": "stderr",
     "output_type": "stream",
     "text": [
      "2019-11-13 10:25:13,443  - INFO - [1.52915926 1.52915926 1.52915926 1.52915926 1.52915926 1.52915926\n",
      " 1.00884818 0.06636254 0.06636254 0.06636254 0.06636254 0.06636254\n",
      " 0.06636254 1.52915926 1.52915926 1.52915926 1.52915926 1.52915926\n",
      " 1.52915926 1.00884818 0.06636254 0.06636254 0.06636254 0.06636254\n",
      " 0.06636254 0.06636254 1.52915926 1.52915926 1.52915926 1.52915926\n",
      " 1.52915926 1.52915926 1.00884818 0.06636254 0.06636254 0.06636254\n",
      " 0.06636254 0.06636254 0.06636254]\n"
     ]
    },
    {
     "name": "stdout",
     "output_type": "stream",
     "text": [
      "[1.52915926 1.52915926 1.52915926 1.52915926 1.52915926 1.52915926\n",
      " 1.00884818 0.06636254 0.06636254 0.06636254 0.06636254 0.06636254\n",
      " 0.06636254 1.52915926 1.52915926 1.52915926 1.52915926 1.52915926\n",
      " 1.52915926 1.00884818 0.06636254 0.06636254 0.06636254 0.06636254\n",
      " 0.06636254 0.06636254 1.52915926 1.52915926 1.52915926 1.52915926\n",
      " 1.52915926 1.52915926 1.00884818 0.06636254 0.06636254 0.06636254\n",
      " 0.06636254 0.06636254 0.06636254]\n"
     ]
    },
    {
     "name": "stderr",
     "output_type": "stream",
     "text": [
      "2019-11-13 10:25:13,447  - WARNING - Optimization Step 6\n"
     ]
    },
    {
     "name": "stdout",
     "output_type": "stream",
     "text": [
      "Optimization Step 6\n"
     ]
    },
    {
     "name": "stderr",
     "output_type": "stream",
     "text": [
      "2019-11-13 10:25:18,287  - INFO - Build matrix X for molecule 0\n"
     ]
    },
    {
     "name": "stdout",
     "output_type": "stream",
     "text": [
      "Build matrix X for molecule 0\n"
     ]
    },
    {
     "name": "stderr",
     "output_type": "stream",
     "text": [
      "2019-11-13 10:25:18,922  - INFO - Build matrix X for molecule 1\n"
     ]
    },
    {
     "name": "stdout",
     "output_type": "stream",
     "text": [
      "Build matrix X for molecule 1\n"
     ]
    },
    {
     "name": "stderr",
     "output_type": "stream",
     "text": [
      "2019-11-13 10:25:18,925  - INFO - Apply the following intramolecular polarization restaraints [[17, 18], [17, 19], [21, 22], [21, 23], [21, 24], [21, 25], [21, 26], [21, 27], [21, 28], [17, 95], [17, 96], [17, 97], [17, 98], [17, 99], [17, 100], [20, 101], [21, 102], [21, 103], [21, 104], [21, 105], [21, 106], [21, 107]]\n"
     ]
    },
    {
     "name": "stdout",
     "output_type": "stream",
     "text": [
      "Apply the following intramolecular polarization restaraints [[17, 18], [17, 19], [21, 22], [21, 23], [21, 24], [21, 25], [21, 26], [21, 27], [21, 28], [17, 95], [17, 96], [17, 97], [17, 98], [17, 99], [17, 100], [20, 101], [21, 102], [21, 103], [21, 104], [21, 105], [21, 106], [21, 107]]\n"
     ]
    },
    {
     "name": "stderr",
     "output_type": "stream",
     "text": [
      "2019-11-13 10:25:18,928  - INFO - Apply the following intramolecular polarization restaraints [[17, 18], [17, 19], [21, 22], [21, 23], [21, 24], [21, 25], [21, 26], [21, 27], [21, 28], [17, 95], [17, 96], [17, 97], [17, 98], [17, 99], [17, 100], [20, 101], [21, 102], [21, 103], [21, 104], [21, 105], [21, 106], [21, 107]]\n"
     ]
    },
    {
     "name": "stdout",
     "output_type": "stream",
     "text": [
      "Apply the following intramolecular polarization restaraints [[17, 18], [17, 19], [21, 22], [21, 23], [21, 24], [21, 25], [21, 26], [21, 27], [21, 28], [17, 95], [17, 96], [17, 97], [17, 98], [17, 99], [17, 100], [20, 101], [21, 102], [21, 103], [21, 104], [21, 105], [21, 106], [21, 107]]\n"
     ]
    },
    {
     "name": "stderr",
     "output_type": "stream",
     "text": [
      "2019-11-13 10:25:18,930  - INFO - Apply the following intramolecular polarization restaraints [[17, 18], [17, 19], [21, 22], [21, 23], [21, 24], [21, 25], [21, 26], [21, 27], [21, 28], [17, 95], [17, 96], [17, 97], [17, 98], [17, 99], [17, 100], [20, 101], [21, 102], [21, 103], [21, 104], [21, 105], [21, 106], [21, 107]]\n"
     ]
    },
    {
     "name": "stdout",
     "output_type": "stream",
     "text": [
      "Apply the following intramolecular polarization restaraints [[17, 18], [17, 19], [21, 22], [21, 23], [21, 24], [21, 25], [21, 26], [21, 27], [21, 28], [17, 95], [17, 96], [17, 97], [17, 98], [17, 99], [17, 100], [20, 101], [21, 102], [21, 103], [21, 104], [21, 105], [21, 106], [21, 107]]\n"
     ]
    },
    {
     "name": "stderr",
     "output_type": "stream",
     "text": [
      "2019-11-13 10:25:18,933  - INFO - Apply the following intramolecular polarization restaraints [[17, 18], [17, 19], [21, 22], [21, 23], [21, 24], [21, 25], [21, 26], [21, 27], [21, 28], [17, 95], [17, 96], [17, 97], [17, 98], [17, 99], [17, 100], [20, 101], [21, 102], [21, 103], [21, 104], [21, 105], [21, 106], [21, 107]]\n"
     ]
    },
    {
     "name": "stdout",
     "output_type": "stream",
     "text": [
      "Apply the following intramolecular polarization restaraints [[17, 18], [17, 19], [21, 22], [21, 23], [21, 24], [21, 25], [21, 26], [21, 27], [21, 28], [17, 95], [17, 96], [17, 97], [17, 98], [17, 99], [17, 100], [20, 101], [21, 102], [21, 103], [21, 104], [21, 105], [21, 106], [21, 107]]\n"
     ]
    },
    {
     "name": "stderr",
     "output_type": "stream",
     "text": [
      "2019-11-13 10:25:19,076  - INFO - Build vector Y for molecule 0\n"
     ]
    },
    {
     "name": "stdout",
     "output_type": "stream",
     "text": [
      "Build vector Y for molecule 0\n"
     ]
    },
    {
     "name": "stderr",
     "output_type": "stream",
     "text": [
      "2019-11-13 10:25:19,105  - INFO - Build vector Y for molecule 1\n"
     ]
    },
    {
     "name": "stdout",
     "output_type": "stream",
     "text": [
      "Build vector Y for molecule 1\n"
     ]
    },
    {
     "name": "stderr",
     "output_type": "stream",
     "text": [
      "2019-11-13 10:25:19,108  - INFO - Apply the following intramolecular polarization restaraints [[17, 18], [17, 19], [21, 22], [21, 23], [21, 24], [21, 25], [21, 26], [21, 27], [21, 28], [17, 95], [17, 96], [17, 97], [17, 98], [17, 99], [17, 100], [20, 101], [21, 102], [21, 103], [21, 104], [21, 105], [21, 106], [21, 107]]\n"
     ]
    },
    {
     "name": "stdout",
     "output_type": "stream",
     "text": [
      "Apply the following intramolecular polarization restaraints [[17, 18], [17, 19], [21, 22], [21, 23], [21, 24], [21, 25], [21, 26], [21, 27], [21, 28], [17, 95], [17, 96], [17, 97], [17, 98], [17, 99], [17, 100], [20, 101], [21, 102], [21, 103], [21, 104], [21, 105], [21, 106], [21, 107]]\n"
     ]
    },
    {
     "name": "stderr",
     "output_type": "stream",
     "text": [
      "2019-11-13 10:25:19,141  - INFO - Updating charges and polarization parameters for all molecules\n"
     ]
    },
    {
     "name": "stdout",
     "output_type": "stream",
     "text": [
      "Updating charges and polarization parameters for all molecules\n"
     ]
    },
    {
     "name": "stderr",
     "output_type": "stream",
     "text": [
      "2019-11-13 10:25:19,144  - INFO - Optimization step 7: Molekule 0: Charges\n"
     ]
    },
    {
     "name": "stdout",
     "output_type": "stream",
     "text": [
      "Optimization step 7: Molekule 0: Charges\n"
     ]
    },
    {
     "name": "stderr",
     "output_type": "stream",
     "text": [
      "2019-11-13 10:25:19,147  - INFO - [-0.0945292   0.04886062  0.27152078 -0.56793404  0.02642461  0.02642461\n",
      "  0.02642461 -0.01422496 -0.01422496 -0.02800355 -0.02800355  0.34726502]\n"
     ]
    },
    {
     "name": "stdout",
     "output_type": "stream",
     "text": [
      "[-0.0945292   0.04886062  0.27152078 -0.56793404  0.02642461  0.02642461\n",
      "  0.02642461 -0.01422496 -0.01422496 -0.02800355 -0.02800355  0.34726502]\n"
     ]
    },
    {
     "name": "stderr",
     "output_type": "stream",
     "text": [
      "2019-11-13 10:25:19,150  - INFO - Optimization step 7: Molekule 0: Dipoles\n"
     ]
    },
    {
     "name": "stdout",
     "output_type": "stream",
     "text": [
      "Optimization step 7: Molekule 0: Dipoles\n"
     ]
    },
    {
     "name": "stderr",
     "output_type": "stream",
     "text": [
      "2019-11-13 10:25:19,155  - INFO - [1.52879282 1.52879282 1.52879282 1.00678158 0.06678489 0.06678489\n",
      " 0.06678489 0.06678489 0.06678489 0.06678489 0.06678489 0.06678489\n",
      " 1.52879282 1.52879282 1.52879282 1.00678158 0.06678489 0.06678489\n",
      " 0.06678489 0.06678489 0.06678489 0.06678489 0.06678489 0.06678489\n",
      " 1.52879282 1.52879282 1.52879282 1.00678158 0.06678489 0.06678489\n",
      " 0.06678489 0.06678489 0.06678489 0.06678489 0.06678489 0.06678489]\n"
     ]
    },
    {
     "name": "stdout",
     "output_type": "stream",
     "text": [
      "[1.52879282 1.52879282 1.52879282 1.00678158 0.06678489 0.06678489\n",
      " 0.06678489 0.06678489 0.06678489 0.06678489 0.06678489 0.06678489\n",
      " 1.52879282 1.52879282 1.52879282 1.00678158 0.06678489 0.06678489\n",
      " 0.06678489 0.06678489 0.06678489 0.06678489 0.06678489 0.06678489\n",
      " 1.52879282 1.52879282 1.52879282 1.00678158 0.06678489 0.06678489\n",
      " 0.06678489 0.06678489 0.06678489 0.06678489 0.06678489 0.06678489]\n"
     ]
    },
    {
     "name": "stderr",
     "output_type": "stream",
     "text": [
      "2019-11-13 10:25:19,160  - INFO - Optimization step 7: Molekule 1: Charges\n"
     ]
    },
    {
     "name": "stdout",
     "output_type": "stream",
     "text": [
      "Optimization step 7: Molekule 1: Charges\n"
     ]
    },
    {
     "name": "stderr",
     "output_type": "stream",
     "text": [
      "2019-11-13 10:25:19,163  - INFO - [-0.13803581 -0.11235163 -0.11235163 -0.33392744 -0.33392744  0.50940862\n",
      " -0.53576641  0.09107385  0.13572048  0.13572048  0.17282483  0.17282483\n",
      "  0.34878726]\n"
     ]
    },
    {
     "name": "stdout",
     "output_type": "stream",
     "text": [
      "[-0.13803581 -0.11235163 -0.11235163 -0.33392744 -0.33392744  0.50940862\n",
      " -0.53576641  0.09107385  0.13572048  0.13572048  0.17282483  0.17282483\n",
      "  0.34878726]\n"
     ]
    },
    {
     "name": "stderr",
     "output_type": "stream",
     "text": [
      "2019-11-13 10:25:19,167  - INFO - Optimization step 7: Molekule 1: Dipoles\n"
     ]
    },
    {
     "name": "stdout",
     "output_type": "stream",
     "text": [
      "Optimization step 7: Molekule 1: Dipoles\n"
     ]
    },
    {
     "name": "stderr",
     "output_type": "stream",
     "text": [
      "2019-11-13 10:25:19,169  - INFO - [1.52879282 1.52879282 1.52879282 1.52879282 1.52879282 1.52879282\n",
      " 1.00678158 0.06678489 0.06678489 0.06678489 0.06678489 0.06678489\n",
      " 0.06678489 1.52879282 1.52879282 1.52879282 1.52879282 1.52879282\n",
      " 1.52879282 1.00678158 0.06678489 0.06678489 0.06678489 0.06678489\n",
      " 0.06678489 0.06678489 1.52879282 1.52879282 1.52879282 1.52879282\n",
      " 1.52879282 1.52879282 1.00678158 0.06678489 0.06678489 0.06678489\n",
      " 0.06678489 0.06678489 0.06678489]\n"
     ]
    },
    {
     "name": "stdout",
     "output_type": "stream",
     "text": [
      "[1.52879282 1.52879282 1.52879282 1.52879282 1.52879282 1.52879282\n",
      " 1.00678158 0.06678489 0.06678489 0.06678489 0.06678489 0.06678489\n",
      " 0.06678489 1.52879282 1.52879282 1.52879282 1.52879282 1.52879282\n",
      " 1.52879282 1.00678158 0.06678489 0.06678489 0.06678489 0.06678489\n",
      " 0.06678489 0.06678489 1.52879282 1.52879282 1.52879282 1.52879282\n",
      " 1.52879282 1.52879282 1.00678158 0.06678489 0.06678489 0.06678489\n",
      " 0.06678489 0.06678489 0.06678489]\n"
     ]
    },
    {
     "name": "stderr",
     "output_type": "stream",
     "text": [
      "2019-11-13 10:25:19,174  - WARNING - Optimization Step 7\n"
     ]
    },
    {
     "name": "stdout",
     "output_type": "stream",
     "text": [
      "Optimization Step 7\n"
     ]
    },
    {
     "name": "stderr",
     "output_type": "stream",
     "text": [
      "2019-11-13 10:25:21,850  - INFO - Build matrix X for molecule 0\n"
     ]
    },
    {
     "name": "stdout",
     "output_type": "stream",
     "text": [
      "Build matrix X for molecule 0\n"
     ]
    },
    {
     "name": "stderr",
     "output_type": "stream",
     "text": [
      "2019-11-13 10:25:26,292  - INFO - Build matrix X for molecule 1\n"
     ]
    },
    {
     "name": "stdout",
     "output_type": "stream",
     "text": [
      "Build matrix X for molecule 1\n"
     ]
    },
    {
     "name": "stderr",
     "output_type": "stream",
     "text": [
      "2019-11-13 10:25:26,293  - INFO - Apply the following intramolecular polarization restaraints [[17, 18], [17, 19], [21, 22], [21, 23], [21, 24], [21, 25], [21, 26], [21, 27], [21, 28], [17, 95], [17, 96], [17, 97], [17, 98], [17, 99], [17, 100], [20, 101], [21, 102], [21, 103], [21, 104], [21, 105], [21, 106], [21, 107]]\n"
     ]
    },
    {
     "name": "stdout",
     "output_type": "stream",
     "text": [
      "Apply the following intramolecular polarization restaraints [[17, 18], [17, 19], [21, 22], [21, 23], [21, 24], [21, 25], [21, 26], [21, 27], [21, 28], [17, 95], [17, 96], [17, 97], [17, 98], [17, 99], [17, 100], [20, 101], [21, 102], [21, 103], [21, 104], [21, 105], [21, 106], [21, 107]]\n"
     ]
    },
    {
     "name": "stderr",
     "output_type": "stream",
     "text": [
      "2019-11-13 10:25:26,295  - INFO - Apply the following intramolecular polarization restaraints [[17, 18], [17, 19], [21, 22], [21, 23], [21, 24], [21, 25], [21, 26], [21, 27], [21, 28], [17, 95], [17, 96], [17, 97], [17, 98], [17, 99], [17, 100], [20, 101], [21, 102], [21, 103], [21, 104], [21, 105], [21, 106], [21, 107]]\n"
     ]
    },
    {
     "name": "stdout",
     "output_type": "stream",
     "text": [
      "Apply the following intramolecular polarization restaraints [[17, 18], [17, 19], [21, 22], [21, 23], [21, 24], [21, 25], [21, 26], [21, 27], [21, 28], [17, 95], [17, 96], [17, 97], [17, 98], [17, 99], [17, 100], [20, 101], [21, 102], [21, 103], [21, 104], [21, 105], [21, 106], [21, 107]]\n"
     ]
    },
    {
     "name": "stderr",
     "output_type": "stream",
     "text": [
      "2019-11-13 10:25:26,296  - INFO - Apply the following intramolecular polarization restaraints [[17, 18], [17, 19], [21, 22], [21, 23], [21, 24], [21, 25], [21, 26], [21, 27], [21, 28], [17, 95], [17, 96], [17, 97], [17, 98], [17, 99], [17, 100], [20, 101], [21, 102], [21, 103], [21, 104], [21, 105], [21, 106], [21, 107]]\n"
     ]
    },
    {
     "name": "stdout",
     "output_type": "stream",
     "text": [
      "Apply the following intramolecular polarization restaraints [[17, 18], [17, 19], [21, 22], [21, 23], [21, 24], [21, 25], [21, 26], [21, 27], [21, 28], [17, 95], [17, 96], [17, 97], [17, 98], [17, 99], [17, 100], [20, 101], [21, 102], [21, 103], [21, 104], [21, 105], [21, 106], [21, 107]]\n"
     ]
    },
    {
     "name": "stderr",
     "output_type": "stream",
     "text": [
      "2019-11-13 10:25:26,298  - INFO - Apply the following intramolecular polarization restaraints [[17, 18], [17, 19], [21, 22], [21, 23], [21, 24], [21, 25], [21, 26], [21, 27], [21, 28], [17, 95], [17, 96], [17, 97], [17, 98], [17, 99], [17, 100], [20, 101], [21, 102], [21, 103], [21, 104], [21, 105], [21, 106], [21, 107]]\n"
     ]
    },
    {
     "name": "stdout",
     "output_type": "stream",
     "text": [
      "Apply the following intramolecular polarization restaraints [[17, 18], [17, 19], [21, 22], [21, 23], [21, 24], [21, 25], [21, 26], [21, 27], [21, 28], [17, 95], [17, 96], [17, 97], [17, 98], [17, 99], [17, 100], [20, 101], [21, 102], [21, 103], [21, 104], [21, 105], [21, 106], [21, 107]]\n"
     ]
    },
    {
     "name": "stderr",
     "output_type": "stream",
     "text": [
      "2019-11-13 10:25:26,713  - INFO - Build vector Y for molecule 0\n"
     ]
    },
    {
     "name": "stdout",
     "output_type": "stream",
     "text": [
      "Build vector Y for molecule 0\n"
     ]
    },
    {
     "name": "stderr",
     "output_type": "stream",
     "text": [
      "2019-11-13 10:25:26,764  - INFO - Build vector Y for molecule 1\n"
     ]
    },
    {
     "name": "stdout",
     "output_type": "stream",
     "text": [
      "Build vector Y for molecule 1\n"
     ]
    },
    {
     "name": "stderr",
     "output_type": "stream",
     "text": [
      "2019-11-13 10:25:26,767  - INFO - Apply the following intramolecular polarization restaraints [[17, 18], [17, 19], [21, 22], [21, 23], [21, 24], [21, 25], [21, 26], [21, 27], [21, 28], [17, 95], [17, 96], [17, 97], [17, 98], [17, 99], [17, 100], [20, 101], [21, 102], [21, 103], [21, 104], [21, 105], [21, 106], [21, 107]]\n"
     ]
    },
    {
     "name": "stdout",
     "output_type": "stream",
     "text": [
      "Apply the following intramolecular polarization restaraints [[17, 18], [17, 19], [21, 22], [21, 23], [21, 24], [21, 25], [21, 26], [21, 27], [21, 28], [17, 95], [17, 96], [17, 97], [17, 98], [17, 99], [17, 100], [20, 101], [21, 102], [21, 103], [21, 104], [21, 105], [21, 106], [21, 107]]\n"
     ]
    },
    {
     "name": "stderr",
     "output_type": "stream",
     "text": [
      "2019-11-13 10:25:26,851  - INFO - Updating charges and polarization parameters for all molecules\n"
     ]
    },
    {
     "name": "stdout",
     "output_type": "stream",
     "text": [
      "Updating charges and polarization parameters for all molecules\n"
     ]
    },
    {
     "name": "stderr",
     "output_type": "stream",
     "text": [
      "2019-11-13 10:25:26,863  - INFO - Optimization step 8: Molekule 0: Charges\n"
     ]
    },
    {
     "name": "stdout",
     "output_type": "stream",
     "text": [
      "Optimization step 8: Molekule 0: Charges\n"
     ]
    },
    {
     "name": "stderr",
     "output_type": "stream",
     "text": [
      "2019-11-13 10:25:26,869  - INFO - [-0.09453866  0.0485903   0.27132105 -0.56786631  0.02645061  0.02645061\n",
      "  0.02645061 -0.0141364  -0.0141364  -0.02792733 -0.02792733  0.34726921]\n"
     ]
    },
    {
     "name": "stdout",
     "output_type": "stream",
     "text": [
      "[-0.09453866  0.0485903   0.27132105 -0.56786631  0.02645061  0.02645061\n",
      "  0.02645061 -0.0141364  -0.0141364  -0.02792733 -0.02792733  0.34726921]\n"
     ]
    },
    {
     "name": "stderr",
     "output_type": "stream",
     "text": [
      "2019-11-13 10:25:26,877  - INFO - Optimization step 8: Molekule 0: Dipoles\n"
     ]
    },
    {
     "name": "stdout",
     "output_type": "stream",
     "text": [
      "Optimization step 8: Molekule 0: Dipoles\n"
     ]
    },
    {
     "name": "stderr",
     "output_type": "stream",
     "text": [
      "2019-11-13 10:25:26,880  - INFO - [1.52897499 1.52897499 1.52897499 1.00774012 0.06658228 0.06658228\n",
      " 0.06658228 0.06658228 0.06658228 0.06658228 0.06658228 0.06658228\n",
      " 1.52897499 1.52897499 1.52897499 1.00774012 0.06658228 0.06658228\n",
      " 0.06658228 0.06658228 0.06658228 0.06658228 0.06658228 0.06658228\n",
      " 1.52897499 1.52897499 1.52897499 1.00774012 0.06658228 0.06658228\n",
      " 0.06658228 0.06658228 0.06658228 0.06658228 0.06658228 0.06658228]\n"
     ]
    },
    {
     "name": "stdout",
     "output_type": "stream",
     "text": [
      "[1.52897499 1.52897499 1.52897499 1.00774012 0.06658228 0.06658228\n",
      " 0.06658228 0.06658228 0.06658228 0.06658228 0.06658228 0.06658228\n",
      " 1.52897499 1.52897499 1.52897499 1.00774012 0.06658228 0.06658228\n",
      " 0.06658228 0.06658228 0.06658228 0.06658228 0.06658228 0.06658228\n",
      " 1.52897499 1.52897499 1.52897499 1.00774012 0.06658228 0.06658228\n",
      " 0.06658228 0.06658228 0.06658228 0.06658228 0.06658228 0.06658228]\n"
     ]
    },
    {
     "name": "stderr",
     "output_type": "stream",
     "text": [
      "2019-11-13 10:25:26,884  - INFO - Optimization step 8: Molekule 1: Charges\n"
     ]
    },
    {
     "name": "stdout",
     "output_type": "stream",
     "text": [
      "Optimization step 8: Molekule 1: Charges\n"
     ]
    },
    {
     "name": "stderr",
     "output_type": "stream",
     "text": [
      "2019-11-13 10:25:26,888  - INFO - [-0.13802882 -0.1123605  -0.1123605  -0.33398925 -0.33398925  0.50956688\n",
      " -0.53580057  0.09107865  0.13573024  0.13573024  0.17282167  0.17282167\n",
      "  0.34877953]\n"
     ]
    },
    {
     "name": "stdout",
     "output_type": "stream",
     "text": [
      "[-0.13802882 -0.1123605  -0.1123605  -0.33398925 -0.33398925  0.50956688\n",
      " -0.53580057  0.09107865  0.13573024  0.13573024  0.17282167  0.17282167\n",
      "  0.34877953]\n"
     ]
    },
    {
     "name": "stderr",
     "output_type": "stream",
     "text": [
      "2019-11-13 10:25:26,894  - INFO - Optimization step 8: Molekule 1: Dipoles\n"
     ]
    },
    {
     "name": "stdout",
     "output_type": "stream",
     "text": [
      "Optimization step 8: Molekule 1: Dipoles\n"
     ]
    },
    {
     "name": "stderr",
     "output_type": "stream",
     "text": [
      "2019-11-13 10:25:26,897  - INFO - [1.52897499 1.52897499 1.52897499 1.52897499 1.52897499 1.52897499\n",
      " 1.00774012 0.06658228 0.06658228 0.06658228 0.06658228 0.06658228\n",
      " 0.06658228 1.52897499 1.52897499 1.52897499 1.52897499 1.52897499\n",
      " 1.52897499 1.00774012 0.06658228 0.06658228 0.06658228 0.06658228\n",
      " 0.06658228 0.06658228 1.52897499 1.52897499 1.52897499 1.52897499\n",
      " 1.52897499 1.52897499 1.00774012 0.06658228 0.06658228 0.06658228\n",
      " 0.06658228 0.06658228 0.06658228]\n"
     ]
    },
    {
     "name": "stdout",
     "output_type": "stream",
     "text": [
      "[1.52897499 1.52897499 1.52897499 1.52897499 1.52897499 1.52897499\n",
      " 1.00774012 0.06658228 0.06658228 0.06658228 0.06658228 0.06658228\n",
      " 0.06658228 1.52897499 1.52897499 1.52897499 1.52897499 1.52897499\n",
      " 1.52897499 1.00774012 0.06658228 0.06658228 0.06658228 0.06658228\n",
      " 0.06658228 0.06658228 1.52897499 1.52897499 1.52897499 1.52897499\n",
      " 1.52897499 1.52897499 1.00774012 0.06658228 0.06658228 0.06658228\n",
      " 0.06658228 0.06658228 0.06658228]\n"
     ]
    },
    {
     "name": "stderr",
     "output_type": "stream",
     "text": [
      "2019-11-13 10:25:26,903  - WARNING - Optimization Step 8\n"
     ]
    },
    {
     "name": "stdout",
     "output_type": "stream",
     "text": [
      "Optimization Step 8\n"
     ]
    },
    {
     "name": "stderr",
     "output_type": "stream",
     "text": [
      "2019-11-13 10:25:33,893  - INFO - Build matrix X for molecule 0\n"
     ]
    },
    {
     "name": "stdout",
     "output_type": "stream",
     "text": [
      "Build matrix X for molecule 0\n"
     ]
    },
    {
     "name": "stderr",
     "output_type": "stream",
     "text": [
      "2019-11-13 10:25:34,520  - INFO - Build matrix X for molecule 1\n"
     ]
    },
    {
     "name": "stdout",
     "output_type": "stream",
     "text": [
      "Build matrix X for molecule 1\n"
     ]
    },
    {
     "name": "stderr",
     "output_type": "stream",
     "text": [
      "2019-11-13 10:25:34,523  - INFO - Apply the following intramolecular polarization restaraints [[17, 18], [17, 19], [21, 22], [21, 23], [21, 24], [21, 25], [21, 26], [21, 27], [21, 28], [17, 95], [17, 96], [17, 97], [17, 98], [17, 99], [17, 100], [20, 101], [21, 102], [21, 103], [21, 104], [21, 105], [21, 106], [21, 107]]\n"
     ]
    },
    {
     "name": "stdout",
     "output_type": "stream",
     "text": [
      "Apply the following intramolecular polarization restaraints [[17, 18], [17, 19], [21, 22], [21, 23], [21, 24], [21, 25], [21, 26], [21, 27], [21, 28], [17, 95], [17, 96], [17, 97], [17, 98], [17, 99], [17, 100], [20, 101], [21, 102], [21, 103], [21, 104], [21, 105], [21, 106], [21, 107]]\n"
     ]
    },
    {
     "name": "stderr",
     "output_type": "stream",
     "text": [
      "2019-11-13 10:25:34,525  - INFO - Apply the following intramolecular polarization restaraints [[17, 18], [17, 19], [21, 22], [21, 23], [21, 24], [21, 25], [21, 26], [21, 27], [21, 28], [17, 95], [17, 96], [17, 97], [17, 98], [17, 99], [17, 100], [20, 101], [21, 102], [21, 103], [21, 104], [21, 105], [21, 106], [21, 107]]\n"
     ]
    },
    {
     "name": "stdout",
     "output_type": "stream",
     "text": [
      "Apply the following intramolecular polarization restaraints [[17, 18], [17, 19], [21, 22], [21, 23], [21, 24], [21, 25], [21, 26], [21, 27], [21, 28], [17, 95], [17, 96], [17, 97], [17, 98], [17, 99], [17, 100], [20, 101], [21, 102], [21, 103], [21, 104], [21, 105], [21, 106], [21, 107]]\n"
     ]
    },
    {
     "name": "stderr",
     "output_type": "stream",
     "text": [
      "2019-11-13 10:25:34,526  - INFO - Apply the following intramolecular polarization restaraints [[17, 18], [17, 19], [21, 22], [21, 23], [21, 24], [21, 25], [21, 26], [21, 27], [21, 28], [17, 95], [17, 96], [17, 97], [17, 98], [17, 99], [17, 100], [20, 101], [21, 102], [21, 103], [21, 104], [21, 105], [21, 106], [21, 107]]\n"
     ]
    },
    {
     "name": "stdout",
     "output_type": "stream",
     "text": [
      "Apply the following intramolecular polarization restaraints [[17, 18], [17, 19], [21, 22], [21, 23], [21, 24], [21, 25], [21, 26], [21, 27], [21, 28], [17, 95], [17, 96], [17, 97], [17, 98], [17, 99], [17, 100], [20, 101], [21, 102], [21, 103], [21, 104], [21, 105], [21, 106], [21, 107]]\n"
     ]
    },
    {
     "name": "stderr",
     "output_type": "stream",
     "text": [
      "2019-11-13 10:25:34,528  - INFO - Apply the following intramolecular polarization restaraints [[17, 18], [17, 19], [21, 22], [21, 23], [21, 24], [21, 25], [21, 26], [21, 27], [21, 28], [17, 95], [17, 96], [17, 97], [17, 98], [17, 99], [17, 100], [20, 101], [21, 102], [21, 103], [21, 104], [21, 105], [21, 106], [21, 107]]\n"
     ]
    },
    {
     "name": "stdout",
     "output_type": "stream",
     "text": [
      "Apply the following intramolecular polarization restaraints [[17, 18], [17, 19], [21, 22], [21, 23], [21, 24], [21, 25], [21, 26], [21, 27], [21, 28], [17, 95], [17, 96], [17, 97], [17, 98], [17, 99], [17, 100], [20, 101], [21, 102], [21, 103], [21, 104], [21, 105], [21, 106], [21, 107]]\n"
     ]
    },
    {
     "name": "stderr",
     "output_type": "stream",
     "text": [
      "2019-11-13 10:25:34,736  - INFO - Build vector Y for molecule 0\n"
     ]
    },
    {
     "name": "stdout",
     "output_type": "stream",
     "text": [
      "Build vector Y for molecule 0\n"
     ]
    },
    {
     "name": "stderr",
     "output_type": "stream",
     "text": [
      "2019-11-13 10:25:34,776  - INFO - Build vector Y for molecule 1\n"
     ]
    },
    {
     "name": "stdout",
     "output_type": "stream",
     "text": [
      "Build vector Y for molecule 1\n"
     ]
    },
    {
     "name": "stderr",
     "output_type": "stream",
     "text": [
      "2019-11-13 10:25:34,779  - INFO - Apply the following intramolecular polarization restaraints [[17, 18], [17, 19], [21, 22], [21, 23], [21, 24], [21, 25], [21, 26], [21, 27], [21, 28], [17, 95], [17, 96], [17, 97], [17, 98], [17, 99], [17, 100], [20, 101], [21, 102], [21, 103], [21, 104], [21, 105], [21, 106], [21, 107]]\n"
     ]
    },
    {
     "name": "stdout",
     "output_type": "stream",
     "text": [
      "Apply the following intramolecular polarization restaraints [[17, 18], [17, 19], [21, 22], [21, 23], [21, 24], [21, 25], [21, 26], [21, 27], [21, 28], [17, 95], [17, 96], [17, 97], [17, 98], [17, 99], [17, 100], [20, 101], [21, 102], [21, 103], [21, 104], [21, 105], [21, 106], [21, 107]]\n"
     ]
    },
    {
     "name": "stderr",
     "output_type": "stream",
     "text": [
      "2019-11-13 10:25:34,796  - INFO - Updating charges and polarization parameters for all molecules\n"
     ]
    },
    {
     "name": "stdout",
     "output_type": "stream",
     "text": [
      "Updating charges and polarization parameters for all molecules\n"
     ]
    },
    {
     "name": "stderr",
     "output_type": "stream",
     "text": [
      "2019-11-13 10:25:34,797  - INFO - Optimization step 9: Molekule 0: Charges\n"
     ]
    },
    {
     "name": "stdout",
     "output_type": "stream",
     "text": [
      "Optimization step 9: Molekule 0: Charges\n"
     ]
    },
    {
     "name": "stderr",
     "output_type": "stream",
     "text": [
      "2019-11-13 10:25:34,797  - INFO - [-0.09453511  0.04871325  0.27141013 -0.56789646  0.02643905  0.02643905\n",
      "  0.02643905 -0.01417669 -0.01417669 -0.02796138 -0.02796138  0.34726718]\n"
     ]
    },
    {
     "name": "stdout",
     "output_type": "stream",
     "text": [
      "[-0.09453511  0.04871325  0.27141013 -0.56789646  0.02643905  0.02643905\n",
      "  0.02643905 -0.01417669 -0.01417669 -0.02796138 -0.02796138  0.34726718]\n"
     ]
    },
    {
     "name": "stderr",
     "output_type": "stream",
     "text": [
      "2019-11-13 10:25:34,800  - INFO - Optimization step 9: Molekule 0: Dipoles\n"
     ]
    },
    {
     "name": "stdout",
     "output_type": "stream",
     "text": [
      "Optimization step 9: Molekule 0: Dipoles\n"
     ]
    },
    {
     "name": "stderr",
     "output_type": "stream",
     "text": [
      "2019-11-13 10:25:34,802  - INFO - [1.52889783 1.52889783 1.52889783 1.00731887 0.06666973 0.06666973\n",
      " 0.06666973 0.06666973 0.06666973 0.06666973 0.06666973 0.06666973\n",
      " 1.52889783 1.52889783 1.52889783 1.00731887 0.06666973 0.06666973\n",
      " 0.06666973 0.06666973 0.06666973 0.06666973 0.06666973 0.06666973\n",
      " 1.52889783 1.52889783 1.52889783 1.00731887 0.06666973 0.06666973\n",
      " 0.06666973 0.06666973 0.06666973 0.06666973 0.06666973 0.06666973]\n"
     ]
    },
    {
     "name": "stdout",
     "output_type": "stream",
     "text": [
      "[1.52889783 1.52889783 1.52889783 1.00731887 0.06666973 0.06666973\n",
      " 0.06666973 0.06666973 0.06666973 0.06666973 0.06666973 0.06666973\n",
      " 1.52889783 1.52889783 1.52889783 1.00731887 0.06666973 0.06666973\n",
      " 0.06666973 0.06666973 0.06666973 0.06666973 0.06666973 0.06666973\n",
      " 1.52889783 1.52889783 1.52889783 1.00731887 0.06666973 0.06666973\n",
      " 0.06666973 0.06666973 0.06666973 0.06666973 0.06666973 0.06666973]\n"
     ]
    },
    {
     "name": "stderr",
     "output_type": "stream",
     "text": [
      "2019-11-13 10:25:34,805  - INFO - Optimization step 9: Molekule 1: Charges\n"
     ]
    },
    {
     "name": "stdout",
     "output_type": "stream",
     "text": [
      "Optimization step 9: Molekule 1: Charges\n"
     ]
    },
    {
     "name": "stderr",
     "output_type": "stream",
     "text": [
      "2019-11-13 10:25:34,807  - INFO - [-0.13804977 -0.11233788 -0.11233788 -0.33398402 -0.33398402  0.50952385\n",
      " -0.53578969  0.09107458  0.13572753  0.13572753  0.17282346  0.17282346\n",
      "  0.34878286]\n"
     ]
    },
    {
     "name": "stdout",
     "output_type": "stream",
     "text": [
      "[-0.13804977 -0.11233788 -0.11233788 -0.33398402 -0.33398402  0.50952385\n",
      " -0.53578969  0.09107458  0.13572753  0.13572753  0.17282346  0.17282346\n",
      "  0.34878286]\n"
     ]
    },
    {
     "name": "stderr",
     "output_type": "stream",
     "text": [
      "2019-11-13 10:25:34,810  - INFO - Optimization step 9: Molekule 1: Dipoles\n"
     ]
    },
    {
     "name": "stdout",
     "output_type": "stream",
     "text": [
      "Optimization step 9: Molekule 1: Dipoles\n"
     ]
    },
    {
     "name": "stderr",
     "output_type": "stream",
     "text": [
      "2019-11-13 10:25:34,812  - INFO - [1.52889783 1.52889783 1.52889783 1.52889783 1.52889783 1.52889783\n",
      " 1.00731887 0.06666973 0.06666973 0.06666973 0.06666973 0.06666973\n",
      " 0.06666973 1.52889783 1.52889783 1.52889783 1.52889783 1.52889783\n",
      " 1.52889783 1.00731887 0.06666973 0.06666973 0.06666973 0.06666973\n",
      " 0.06666973 0.06666973 1.52889783 1.52889783 1.52889783 1.52889783\n",
      " 1.52889783 1.52889783 1.00731887 0.06666973 0.06666973 0.06666973\n",
      " 0.06666973 0.06666973 0.06666973]\n"
     ]
    },
    {
     "name": "stdout",
     "output_type": "stream",
     "text": [
      "[1.52889783 1.52889783 1.52889783 1.52889783 1.52889783 1.52889783\n",
      " 1.00731887 0.06666973 0.06666973 0.06666973 0.06666973 0.06666973\n",
      " 0.06666973 1.52889783 1.52889783 1.52889783 1.52889783 1.52889783\n",
      " 1.52889783 1.00731887 0.06666973 0.06666973 0.06666973 0.06666973\n",
      " 0.06666973 0.06666973 1.52889783 1.52889783 1.52889783 1.52889783\n",
      " 1.52889783 1.52889783 1.00731887 0.06666973 0.06666973 0.06666973\n",
      " 0.06666973 0.06666973 0.06666973]\n"
     ]
    },
    {
     "name": "stderr",
     "output_type": "stream",
     "text": [
      "2019-11-13 10:25:34,817  - WARNING - Optimization Step 9\n"
     ]
    },
    {
     "name": "stdout",
     "output_type": "stream",
     "text": [
      "Optimization Step 9\n"
     ]
    },
    {
     "name": "stderr",
     "output_type": "stream",
     "text": [
      "2019-11-13 10:25:40,645  - INFO - Build matrix X for molecule 0\n"
     ]
    },
    {
     "name": "stdout",
     "output_type": "stream",
     "text": [
      "Build matrix X for molecule 0\n"
     ]
    },
    {
     "name": "stderr",
     "output_type": "stream",
     "text": [
      "2019-11-13 10:25:41,262  - INFO - Build matrix X for molecule 1\n"
     ]
    },
    {
     "name": "stdout",
     "output_type": "stream",
     "text": [
      "Build matrix X for molecule 1\n"
     ]
    },
    {
     "name": "stderr",
     "output_type": "stream",
     "text": [
      "2019-11-13 10:25:41,264  - INFO - Apply the following intramolecular polarization restaraints [[17, 18], [17, 19], [21, 22], [21, 23], [21, 24], [21, 25], [21, 26], [21, 27], [21, 28], [17, 95], [17, 96], [17, 97], [17, 98], [17, 99], [17, 100], [20, 101], [21, 102], [21, 103], [21, 104], [21, 105], [21, 106], [21, 107]]\n"
     ]
    },
    {
     "name": "stdout",
     "output_type": "stream",
     "text": [
      "Apply the following intramolecular polarization restaraints [[17, 18], [17, 19], [21, 22], [21, 23], [21, 24], [21, 25], [21, 26], [21, 27], [21, 28], [17, 95], [17, 96], [17, 97], [17, 98], [17, 99], [17, 100], [20, 101], [21, 102], [21, 103], [21, 104], [21, 105], [21, 106], [21, 107]]\n"
     ]
    },
    {
     "name": "stderr",
     "output_type": "stream",
     "text": [
      "2019-11-13 10:25:41,266  - INFO - Apply the following intramolecular polarization restaraints [[17, 18], [17, 19], [21, 22], [21, 23], [21, 24], [21, 25], [21, 26], [21, 27], [21, 28], [17, 95], [17, 96], [17, 97], [17, 98], [17, 99], [17, 100], [20, 101], [21, 102], [21, 103], [21, 104], [21, 105], [21, 106], [21, 107]]\n"
     ]
    },
    {
     "name": "stdout",
     "output_type": "stream",
     "text": [
      "Apply the following intramolecular polarization restaraints [[17, 18], [17, 19], [21, 22], [21, 23], [21, 24], [21, 25], [21, 26], [21, 27], [21, 28], [17, 95], [17, 96], [17, 97], [17, 98], [17, 99], [17, 100], [20, 101], [21, 102], [21, 103], [21, 104], [21, 105], [21, 106], [21, 107]]\n"
     ]
    },
    {
     "name": "stderr",
     "output_type": "stream",
     "text": [
      "2019-11-13 10:25:41,268  - INFO - Apply the following intramolecular polarization restaraints [[17, 18], [17, 19], [21, 22], [21, 23], [21, 24], [21, 25], [21, 26], [21, 27], [21, 28], [17, 95], [17, 96], [17, 97], [17, 98], [17, 99], [17, 100], [20, 101], [21, 102], [21, 103], [21, 104], [21, 105], [21, 106], [21, 107]]\n"
     ]
    },
    {
     "name": "stdout",
     "output_type": "stream",
     "text": [
      "Apply the following intramolecular polarization restaraints [[17, 18], [17, 19], [21, 22], [21, 23], [21, 24], [21, 25], [21, 26], [21, 27], [21, 28], [17, 95], [17, 96], [17, 97], [17, 98], [17, 99], [17, 100], [20, 101], [21, 102], [21, 103], [21, 104], [21, 105], [21, 106], [21, 107]]\n"
     ]
    },
    {
     "name": "stderr",
     "output_type": "stream",
     "text": [
      "2019-11-13 10:25:41,270  - INFO - Apply the following intramolecular polarization restaraints [[17, 18], [17, 19], [21, 22], [21, 23], [21, 24], [21, 25], [21, 26], [21, 27], [21, 28], [17, 95], [17, 96], [17, 97], [17, 98], [17, 99], [17, 100], [20, 101], [21, 102], [21, 103], [21, 104], [21, 105], [21, 106], [21, 107]]\n"
     ]
    },
    {
     "name": "stdout",
     "output_type": "stream",
     "text": [
      "Apply the following intramolecular polarization restaraints [[17, 18], [17, 19], [21, 22], [21, 23], [21, 24], [21, 25], [21, 26], [21, 27], [21, 28], [17, 95], [17, 96], [17, 97], [17, 98], [17, 99], [17, 100], [20, 101], [21, 102], [21, 103], [21, 104], [21, 105], [21, 106], [21, 107]]\n"
     ]
    },
    {
     "name": "stderr",
     "output_type": "stream",
     "text": [
      "2019-11-13 10:25:41,550  - INFO - Build vector Y for molecule 0\n"
     ]
    },
    {
     "name": "stdout",
     "output_type": "stream",
     "text": [
      "Build vector Y for molecule 0\n"
     ]
    },
    {
     "name": "stderr",
     "output_type": "stream",
     "text": [
      "2019-11-13 10:25:41,580  - INFO - Build vector Y for molecule 1\n"
     ]
    },
    {
     "name": "stdout",
     "output_type": "stream",
     "text": [
      "Build vector Y for molecule 1\n"
     ]
    },
    {
     "name": "stderr",
     "output_type": "stream",
     "text": [
      "2019-11-13 10:25:41,582  - INFO - Apply the following intramolecular polarization restaraints [[17, 18], [17, 19], [21, 22], [21, 23], [21, 24], [21, 25], [21, 26], [21, 27], [21, 28], [17, 95], [17, 96], [17, 97], [17, 98], [17, 99], [17, 100], [20, 101], [21, 102], [21, 103], [21, 104], [21, 105], [21, 106], [21, 107]]\n"
     ]
    },
    {
     "name": "stdout",
     "output_type": "stream",
     "text": [
      "Apply the following intramolecular polarization restaraints [[17, 18], [17, 19], [21, 22], [21, 23], [21, 24], [21, 25], [21, 26], [21, 27], [21, 28], [17, 95], [17, 96], [17, 97], [17, 98], [17, 99], [17, 100], [20, 101], [21, 102], [21, 103], [21, 104], [21, 105], [21, 106], [21, 107]]\n"
     ]
    },
    {
     "name": "stderr",
     "output_type": "stream",
     "text": [
      "2019-11-13 10:25:41,605  - INFO - Updating charges and polarization parameters for all molecules\n"
     ]
    },
    {
     "name": "stdout",
     "output_type": "stream",
     "text": [
      "Updating charges and polarization parameters for all molecules\n"
     ]
    },
    {
     "name": "stderr",
     "output_type": "stream",
     "text": [
      "2019-11-13 10:25:41,607  - INFO - Optimization step 10: Molekule 0: Charges\n"
     ]
    },
    {
     "name": "stdout",
     "output_type": "stream",
     "text": [
      "Optimization step 10: Molekule 0: Charges\n"
     ]
    },
    {
     "name": "stderr",
     "output_type": "stream",
     "text": [
      "2019-11-13 10:25:41,609  - INFO - [-0.09453692  0.04865835  0.27136985 -0.5678828   0.02644428  0.02644428\n",
      "  0.02644428 -0.0141587  -0.0141587  -0.02794599 -0.02794599  0.34726805]\n"
     ]
    },
    {
     "name": "stdout",
     "output_type": "stream",
     "text": [
      "[-0.09453692  0.04865835  0.27136985 -0.5678828   0.02644428  0.02644428\n",
      "  0.02644428 -0.0141587  -0.0141587  -0.02794599 -0.02794599  0.34726805]\n"
     ]
    },
    {
     "name": "stderr",
     "output_type": "stream",
     "text": [
      "2019-11-13 10:25:41,611  - INFO - Optimization step 10: Molekule 0: Dipoles\n"
     ]
    },
    {
     "name": "stdout",
     "output_type": "stream",
     "text": [
      "Optimization step 10: Molekule 0: Dipoles\n"
     ]
    },
    {
     "name": "stderr",
     "output_type": "stream",
     "text": [
      "2019-11-13 10:25:41,614  - INFO - [1.52893389 1.52893389 1.52893389 1.00751135 0.06662933 0.06662933\n",
      " 0.06662933 0.06662933 0.06662933 0.06662933 0.06662933 0.06662933\n",
      " 1.52893389 1.52893389 1.52893389 1.00751135 0.06662933 0.06662933\n",
      " 0.06662933 0.06662933 0.06662933 0.06662933 0.06662933 0.06662933\n",
      " 1.52893389 1.52893389 1.52893389 1.00751135 0.06662933 0.06662933\n",
      " 0.06662933 0.06662933 0.06662933 0.06662933 0.06662933 0.06662933]\n"
     ]
    },
    {
     "name": "stdout",
     "output_type": "stream",
     "text": [
      "[1.52893389 1.52893389 1.52893389 1.00751135 0.06662933 0.06662933\n",
      " 0.06662933 0.06662933 0.06662933 0.06662933 0.06662933 0.06662933\n",
      " 1.52893389 1.52893389 1.52893389 1.00751135 0.06662933 0.06662933\n",
      " 0.06662933 0.06662933 0.06662933 0.06662933 0.06662933 0.06662933\n",
      " 1.52893389 1.52893389 1.52893389 1.00751135 0.06662933 0.06662933\n",
      " 0.06662933 0.06662933 0.06662933 0.06662933 0.06662933 0.06662933]\n"
     ]
    },
    {
     "name": "stderr",
     "output_type": "stream",
     "text": [
      "2019-11-13 10:25:41,628  - INFO - Optimization step 10: Molekule 1: Charges\n"
     ]
    },
    {
     "name": "stdout",
     "output_type": "stream",
     "text": [
      "Optimization step 10: Molekule 1: Charges\n"
     ]
    },
    {
     "name": "stderr",
     "output_type": "stream",
     "text": [
      "2019-11-13 10:25:41,635  - INFO - [-0.13804548 -0.1123427  -0.1123427  -0.3339928  -0.3339928   0.50955117\n",
      " -0.53579588  0.09107586  0.13572924  0.13572924  0.17282276  0.17282276\n",
      "  0.34878132]\n"
     ]
    },
    {
     "name": "stdout",
     "output_type": "stream",
     "text": [
      "[-0.13804548 -0.1123427  -0.1123427  -0.3339928  -0.3339928   0.50955117\n",
      " -0.53579588  0.09107586  0.13572924  0.13572924  0.17282276  0.17282276\n",
      "  0.34878132]\n"
     ]
    },
    {
     "name": "stderr",
     "output_type": "stream",
     "text": [
      "2019-11-13 10:25:41,646  - INFO - Optimization step 10: Molekule 1: Dipoles\n"
     ]
    },
    {
     "name": "stdout",
     "output_type": "stream",
     "text": [
      "Optimization step 10: Molekule 1: Dipoles\n"
     ]
    },
    {
     "name": "stderr",
     "output_type": "stream",
     "text": [
      "2019-11-13 10:25:41,652  - INFO - [1.52893389 1.52893389 1.52893389 1.52893389 1.52893389 1.52893389\n",
      " 1.00751135 0.06662933 0.06662933 0.06662933 0.06662933 0.06662933\n",
      " 0.06662933 1.52893389 1.52893389 1.52893389 1.52893389 1.52893389\n",
      " 1.52893389 1.00751135 0.06662933 0.06662933 0.06662933 0.06662933\n",
      " 0.06662933 0.06662933 1.52893389 1.52893389 1.52893389 1.52893389\n",
      " 1.52893389 1.52893389 1.00751135 0.06662933 0.06662933 0.06662933\n",
      " 0.06662933 0.06662933 0.06662933]\n"
     ]
    },
    {
     "name": "stdout",
     "output_type": "stream",
     "text": [
      "[1.52893389 1.52893389 1.52893389 1.52893389 1.52893389 1.52893389\n",
      " 1.00751135 0.06662933 0.06662933 0.06662933 0.06662933 0.06662933\n",
      " 0.06662933 1.52893389 1.52893389 1.52893389 1.52893389 1.52893389\n",
      " 1.52893389 1.00751135 0.06662933 0.06662933 0.06662933 0.06662933\n",
      " 0.06662933 0.06662933 1.52893389 1.52893389 1.52893389 1.52893389\n",
      " 1.52893389 1.52893389 1.00751135 0.06662933 0.06662933 0.06662933\n",
      " 0.06662933 0.06662933 0.06662933]\n"
     ]
    },
    {
     "name": "stderr",
     "output_type": "stream",
     "text": [
      "2019-11-13 10:25:41,666  - WARNING - Optimization Step 10\n"
     ]
    },
    {
     "name": "stdout",
     "output_type": "stream",
     "text": [
      "Optimization Step 10\n"
     ]
    },
    {
     "name": "stderr",
     "output_type": "stream",
     "text": [
      "2019-11-13 10:25:46,399  - INFO - Build matrix X for molecule 0\n"
     ]
    },
    {
     "name": "stdout",
     "output_type": "stream",
     "text": [
      "Build matrix X for molecule 0\n"
     ]
    },
    {
     "name": "stderr",
     "output_type": "stream",
     "text": [
      "2019-11-13 10:25:47,455  - INFO - Build matrix X for molecule 1\n"
     ]
    },
    {
     "name": "stdout",
     "output_type": "stream",
     "text": [
      "Build matrix X for molecule 1\n"
     ]
    },
    {
     "name": "stderr",
     "output_type": "stream",
     "text": [
      "2019-11-13 10:25:47,464  - INFO - Apply the following intramolecular polarization restaraints [[17, 18], [17, 19], [21, 22], [21, 23], [21, 24], [21, 25], [21, 26], [21, 27], [21, 28], [17, 95], [17, 96], [17, 97], [17, 98], [17, 99], [17, 100], [20, 101], [21, 102], [21, 103], [21, 104], [21, 105], [21, 106], [21, 107]]\n"
     ]
    },
    {
     "name": "stdout",
     "output_type": "stream",
     "text": [
      "Apply the following intramolecular polarization restaraints [[17, 18], [17, 19], [21, 22], [21, 23], [21, 24], [21, 25], [21, 26], [21, 27], [21, 28], [17, 95], [17, 96], [17, 97], [17, 98], [17, 99], [17, 100], [20, 101], [21, 102], [21, 103], [21, 104], [21, 105], [21, 106], [21, 107]]\n"
     ]
    },
    {
     "name": "stderr",
     "output_type": "stream",
     "text": [
      "2019-11-13 10:25:47,473  - INFO - Apply the following intramolecular polarization restaraints [[17, 18], [17, 19], [21, 22], [21, 23], [21, 24], [21, 25], [21, 26], [21, 27], [21, 28], [17, 95], [17, 96], [17, 97], [17, 98], [17, 99], [17, 100], [20, 101], [21, 102], [21, 103], [21, 104], [21, 105], [21, 106], [21, 107]]\n"
     ]
    },
    {
     "name": "stdout",
     "output_type": "stream",
     "text": [
      "Apply the following intramolecular polarization restaraints [[17, 18], [17, 19], [21, 22], [21, 23], [21, 24], [21, 25], [21, 26], [21, 27], [21, 28], [17, 95], [17, 96], [17, 97], [17, 98], [17, 99], [17, 100], [20, 101], [21, 102], [21, 103], [21, 104], [21, 105], [21, 106], [21, 107]]\n"
     ]
    },
    {
     "name": "stderr",
     "output_type": "stream",
     "text": [
      "2019-11-13 10:25:47,480  - INFO - Apply the following intramolecular polarization restaraints [[17, 18], [17, 19], [21, 22], [21, 23], [21, 24], [21, 25], [21, 26], [21, 27], [21, 28], [17, 95], [17, 96], [17, 97], [17, 98], [17, 99], [17, 100], [20, 101], [21, 102], [21, 103], [21, 104], [21, 105], [21, 106], [21, 107]]\n"
     ]
    },
    {
     "name": "stdout",
     "output_type": "stream",
     "text": [
      "Apply the following intramolecular polarization restaraints [[17, 18], [17, 19], [21, 22], [21, 23], [21, 24], [21, 25], [21, 26], [21, 27], [21, 28], [17, 95], [17, 96], [17, 97], [17, 98], [17, 99], [17, 100], [20, 101], [21, 102], [21, 103], [21, 104], [21, 105], [21, 106], [21, 107]]\n"
     ]
    },
    {
     "name": "stderr",
     "output_type": "stream",
     "text": [
      "2019-11-13 10:25:47,487  - INFO - Apply the following intramolecular polarization restaraints [[17, 18], [17, 19], [21, 22], [21, 23], [21, 24], [21, 25], [21, 26], [21, 27], [21, 28], [17, 95], [17, 96], [17, 97], [17, 98], [17, 99], [17, 100], [20, 101], [21, 102], [21, 103], [21, 104], [21, 105], [21, 106], [21, 107]]\n"
     ]
    },
    {
     "name": "stdout",
     "output_type": "stream",
     "text": [
      "Apply the following intramolecular polarization restaraints [[17, 18], [17, 19], [21, 22], [21, 23], [21, 24], [21, 25], [21, 26], [21, 27], [21, 28], [17, 95], [17, 96], [17, 97], [17, 98], [17, 99], [17, 100], [20, 101], [21, 102], [21, 103], [21, 104], [21, 105], [21, 106], [21, 107]]\n"
     ]
    },
    {
     "name": "stderr",
     "output_type": "stream",
     "text": [
      "2019-11-13 10:25:48,167  - INFO - Build vector Y for molecule 0\n"
     ]
    },
    {
     "name": "stdout",
     "output_type": "stream",
     "text": [
      "Build vector Y for molecule 0\n"
     ]
    },
    {
     "name": "stderr",
     "output_type": "stream",
     "text": [
      "2019-11-13 10:25:48,320  - INFO - Build vector Y for molecule 1\n"
     ]
    },
    {
     "name": "stdout",
     "output_type": "stream",
     "text": [
      "Build vector Y for molecule 1\n"
     ]
    },
    {
     "name": "stderr",
     "output_type": "stream",
     "text": [
      "2019-11-13 10:25:48,330  - INFO - Apply the following intramolecular polarization restaraints [[17, 18], [17, 19], [21, 22], [21, 23], [21, 24], [21, 25], [21, 26], [21, 27], [21, 28], [17, 95], [17, 96], [17, 97], [17, 98], [17, 99], [17, 100], [20, 101], [21, 102], [21, 103], [21, 104], [21, 105], [21, 106], [21, 107]]\n"
     ]
    },
    {
     "name": "stdout",
     "output_type": "stream",
     "text": [
      "Apply the following intramolecular polarization restaraints [[17, 18], [17, 19], [21, 22], [21, 23], [21, 24], [21, 25], [21, 26], [21, 27], [21, 28], [17, 95], [17, 96], [17, 97], [17, 98], [17, 99], [17, 100], [20, 101], [21, 102], [21, 103], [21, 104], [21, 105], [21, 106], [21, 107]]\n"
     ]
    },
    {
     "name": "stderr",
     "output_type": "stream",
     "text": [
      "2019-11-13 10:25:48,431  - INFO - Updating charges and polarization parameters for all molecules\n"
     ]
    },
    {
     "name": "stdout",
     "output_type": "stream",
     "text": [
      "Updating charges and polarization parameters for all molecules\n"
     ]
    }
   ],
   "source": [
    "alldirections=[['X+',[-0.01,0.0,0.0]],['X-',[0.01,0.0,0.0]],['Y+',[0.0,-0.01,0.0]],['Y-',[0.0,0.01,0.0]],['Z+',[0.0,0.0,-0.01]],['Z-',[0.0,0.0,0.01]]]\n",
    "ROOT_DIR_PATH='/home/mschauperl/kirk/charge_method/medium_set/'\n",
    "test = resppol.resppol.TrainingSet(mode='q_alpha',SCF= False, thole = False, FF='resppol/data/test_data/BCCelementPOL.offxml')\n",
    "\n",
    "\n",
    "for nmol in range(1,3,1):\n",
    "    print('Read in Molecule {}'.format(nmol))\n",
    "    nconf=0\n",
    "    datei = os.path.join(ROOT_DIR_PATH, 'molecule{}/conf0/mp2_0.mol2'.format(nmol))\n",
    "    test.add_molecule(datei)\n",
    "    directory=os.path.join(ROOT_DIR_PATH,'molecule{}'.format(nmol))\n",
    "    for dire in os.listdir(directory):\n",
    "        if os.path.isdir(os.path.join(directory,dire)):\n",
    "            datei = os.path.join(ROOT_DIR_PATH, 'molecule{0}/conf{1}/mp2_{1}.mol2'.format(nmol,nconf))\n",
    "            test.molecules[nmol-1].add_conformer_from_mol2(datei)\n",
    "            espfile = os.path.join(ROOT_DIR_PATH, 'molecule{0}/conf{1}/molecule{1}.gesp'.format(nmol,nconf))\n",
    "            test.molecules[nmol-1].conformers[nconf].add_baseESP(espfile)\n",
    "            for direction,vector in alldirections:\n",
    "                espfile = os.path.join(ROOT_DIR_PATH, 'molecule{}/conf{}/molecule_{}.gesp'.format(nmol,nconf,direction))\n",
    "                test.molecules[nmol-1].conformers[nconf].add_polESP(espfile, e_field=Q_(vector, 'elementary_charge / bohr / bohr'))\n",
    "            nconf+=1\n",
    "test.optimize_charges_alpha()"
   ]
  },
  {
   "cell_type": "code",
   "execution_count": 7,
   "metadata": {
    "pycharm": {
     "is_executing": true
    }
   },
   "outputs": [
    {
     "name": "stdout",
     "output_type": "stream",
     "text": [
      "conf0\n"
     ]
    }
   ],
   "source": [
    "\n",
    "\n",
    "for dire in os.listdir(directory):\n",
    "    if os.path.isdir(os.path.join(directory,dire)):\n",
    "        print(dire)"
   ]
  },
  {
   "cell_type": "code",
   "execution_count": 8,
   "metadata": {
    "pycharm": {
     "is_executing": true
    }
   },
   "outputs": [],
   "source": [
    "import openforcefield.topology as openff"
   ]
  },
  {
   "cell_type": "code",
   "execution_count": 9,
   "metadata": {},
   "outputs": [
    {
     "name": "stdout",
     "output_type": "stream",
     "text": [
      "Molecule 10\n",
      "Molecule 11\n",
      "Molecule 12\n",
      "Molecule 13\n",
      "Molecule 14\n",
      "Molecule 15\n",
      "Molecule 16\n",
      "Molecule 17\n",
      "Molecule 18\n",
      "Molecule 19\n",
      "Molecule 20\n",
      "Molecule 21\n",
      "Molecule 22\n"
     ]
    }
   ],
   "source": [
    "from openeye import oechem\n",
    "for i in range(10,23,1):\n",
    "    \n",
    "    print('Molecule {}'.format(i))\n",
    "    oemol = oechem.OEMol()\n",
    "\n",
    "    # Open Input File Stream\n",
    "    ifs = oechem.oemolistream('/home/mschauperl/kirk/charge_method/medium_set/molecule{}/conf0/test.mol2'.format(i))\n",
    "\n",
    "    # Read from IFS to molecule\n",
    "    oechem.OEReadMol2File(ifs, oemol)\n",
    "\n",
    "    offmol = openff.Molecule.from_openeye(oemol)\n",
    "    offtop = openff.Topology.from_molecules(offmol)"
   ]
  },
  {
   "cell_type": "code",
   "execution_count": 10,
   "metadata": {},
   "outputs": [],
   "source": [
    "offmol=openff.Molecule.from_file('/home/mschauperl/kirk/charge_method/medium_set/molecule10/conf0/mp2_0.mol2')"
   ]
  },
  {
   "cell_type": "code",
   "execution_count": 11,
   "metadata": {},
   "outputs": [
    {
     "data": {
      "text/plain": [
       "''"
      ]
     },
     "execution_count": 11,
     "metadata": {},
     "output_type": "execute_result"
    }
   ],
   "source": [
    "oechem.OEMolToSmiles(oemol)"
   ]
  },
  {
   "cell_type": "code",
   "execution_count": 12,
   "metadata": {},
   "outputs": [],
   "source": [
    "offmol = openff.Molecule.from_openeye(oemol)\n",
    "offtop = openff.Topology.from_molecules(offmol)"
   ]
  },
  {
   "cell_type": "code",
   "execution_count": 17,
   "metadata": {},
   "outputs": [
    {
     "name": "stdout",
     "output_type": "stream",
     "text": [
      "Molecule 1\n"
     ]
    }
   ],
   "source": [
    "\n",
    "i=1\n",
    "print('Molecule {}'.format(i))\n",
    "oemol = oechem.OEMol()\n",
    "\n",
    "# Open Input File Stream\n",
    "ifs = oechem.oemolistream('/home/mschauperl/kirk/charge_method/medium_set/molecule{}/conf0/test.mol2'.format(i))\n",
    "\n",
    "# Read from IFS to molecule\n",
    "oechem.OEReadMol2File(ifs, oemol)\n",
    "\n",
    "offmol = openff.Molecule.from_openeye(oemol)\n",
    "offtop = openff.Topology.from_molecules(offmol)"
   ]
  },
  {
   "cell_type": "code",
   "execution_count": 23,
   "metadata": {},
   "outputs": [
    {
     "name": "stdout",
     "output_type": "stream",
     "text": [
      "-0.0940999984741211\n",
      "-0.08540000021457672\n",
      "0.131400004029274\n",
      "-0.6028000116348267\n",
      "0.034366998821496964\n",
      "0.034366998821496964\n",
      "0.034366998821496964\n",
      "0.05469999834895134\n",
      "0.05469999834895134\n",
      "0.019700000062584877\n",
      "0.019700000062584877\n",
      "0.39800000190734863\n"
     ]
    }
   ],
   "source": [
    "for atom in oemol.GetAtoms():\n",
    "    print(atom.GetPartialCharge())"
   ]
  },
  {
   "cell_type": "code",
   "execution_count": 21,
   "metadata": {
    "scrolled": false
   },
   "outputs": [
    {
     "data": {
      "text/plain": [
       "['AddBaseData',\n",
       " 'AddData',\n",
       " 'Clear',\n",
       " 'CreateCopy',\n",
       " 'DeleteData',\n",
       " 'GetAtomIter',\n",
       " 'GetAtomicNum',\n",
       " 'GetAtoms',\n",
       " 'GetAxial',\n",
       " 'GetBond',\n",
       " 'GetBondIter',\n",
       " 'GetBonds',\n",
       " 'GetBoolData',\n",
       " 'GetData',\n",
       " 'GetDataIter',\n",
       " 'GetDataType',\n",
       " 'GetDataTypeAsLong',\n",
       " 'GetDegree',\n",
       " 'GetDoubleData',\n",
       " 'GetExplicitDegree',\n",
       " 'GetExplicitHCount',\n",
       " 'GetExplicitValence',\n",
       " 'GetFloatData',\n",
       " 'GetFormalCharge',\n",
       " 'GetHvyDegree',\n",
       " 'GetHvyValence',\n",
       " 'GetHyb',\n",
       " 'GetIdx',\n",
       " 'GetImplicitHCount',\n",
       " 'GetIntData',\n",
       " 'GetIntType',\n",
       " 'GetIsotope',\n",
       " 'GetMapIdx',\n",
       " 'GetName',\n",
       " 'GetParent',\n",
       " 'GetPartialCharge',\n",
       " 'GetRadius',\n",
       " 'GetRxnRole',\n",
       " 'GetStereo',\n",
       " 'GetStringData',\n",
       " 'GetSymmetryClass',\n",
       " 'GetTotalHCount',\n",
       " 'GetType',\n",
       " 'GetValence',\n",
       " 'HasAlphaBetaUnsat',\n",
       " 'HasData',\n",
       " 'HasStereoSpecified',\n",
       " 'IsAromatic',\n",
       " 'IsCarbon',\n",
       " 'IsChiral',\n",
       " 'IsConnected',\n",
       " 'IsDataType',\n",
       " 'IsDeleted',\n",
       " 'IsHalogen',\n",
       " 'IsHydrogen',\n",
       " 'IsInRing',\n",
       " 'IsMetal',\n",
       " 'IsNitrogen',\n",
       " 'IsOxygen',\n",
       " 'IsPhosphorus',\n",
       " 'IsPolar',\n",
       " 'IsPolarHydrogen',\n",
       " 'IsSulfur',\n",
       " 'OrderBonds',\n",
       " 'SetAromatic',\n",
       " 'SetAtomicNum',\n",
       " 'SetAxial',\n",
       " 'SetBaseData',\n",
       " 'SetBoolData',\n",
       " 'SetChiral',\n",
       " 'SetData',\n",
       " 'SetDoubleData',\n",
       " 'SetFloatData',\n",
       " 'SetFormalCharge',\n",
       " 'SetHyb',\n",
       " 'SetImplicitHCount',\n",
       " 'SetInRing',\n",
       " 'SetIntData',\n",
       " 'SetIntType',\n",
       " 'SetIsotope',\n",
       " 'SetMapIdx',\n",
       " 'SetName',\n",
       " 'SetPartialCharge',\n",
       " 'SetRadius',\n",
       " 'SetRxnRole',\n",
       " 'SetStereo',\n",
       " 'SetStringData',\n",
       " 'SetSymmetryClass',\n",
       " 'SetType',\n",
       " '__class__',\n",
       " '__copy__',\n",
       " '__deepcopy__',\n",
       " '__del__',\n",
       " '__delattr__',\n",
       " '__dict__',\n",
       " '__dir__',\n",
       " '__doc__',\n",
       " '__eq__',\n",
       " '__format__',\n",
       " '__ge__',\n",
       " '__getattribute__',\n",
       " '__gethash__',\n",
       " '__gt__',\n",
       " '__hash__',\n",
       " '__init__',\n",
       " '__init_subclass__',\n",
       " '__le__',\n",
       " '__lt__',\n",
       " '__module__',\n",
       " '__ne__',\n",
       " '__new__',\n",
       " '__reduce__',\n",
       " '__reduce_ex__',\n",
       " '__repr__',\n",
       " '__setattr__',\n",
       " '__sizeof__',\n",
       " '__str__',\n",
       " '__subclasshook__',\n",
       " '__swig_destroy__',\n",
       " '__weakref__',\n",
       " '_itr',\n",
       " '_py_equal',\n",
       " 'this',\n",
       " 'thisown']"
      ]
     },
     "execution_count": 21,
     "metadata": {},
     "output_type": "execute_result"
    }
   ],
   "source": [
    "dir(atom)"
   ]
  },
  {
   "cell_type": "code",
   "execution_count": null,
   "metadata": {},
   "outputs": [],
   "source": []
  }
 ],
 "metadata": {
  "kernelspec": {
   "display_name": "Python (resppol)",
   "language": "python",
   "name": "resppol"
  },
  "language_info": {
   "codemirror_mode": {
    "name": "ipython",
    "version": 3
   },
   "file_extension": ".py",
   "mimetype": "text/x-python",
   "name": "python",
   "nbconvert_exporter": "python",
   "pygments_lexer": "ipython3",
   "version": "3.6.7"
  }
 },
 "nbformat": 4,
 "nbformat_minor": 2
}
