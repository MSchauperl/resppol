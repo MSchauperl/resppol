{
 "cells": [
  {
   "cell_type": "code",
   "execution_count": 1,
   "metadata": {
    "pycharm": {
     "is_executing": false
    }
   },
   "outputs": [],
   "source": [
    "\n",
    "\n",
    "import resppol.resppol as rp\n",
    "\n"
   ]
  },
  {
   "cell_type": "code",
   "execution_count": 2,
   "metadata": {
    "pycharm": {
     "is_executing": false
    }
   },
   "outputs": [],
   "source": [
    "datei='/home/mschauperl/programs/resppol/resppol/tmp/butanolsybyl.mol2'\n"
   ]
  },
  {
   "cell_type": "code",
   "execution_count": 3,
   "metadata": {
    "pycharm": {
     "is_executing": false
    }
   },
   "outputs": [
    {
     "ename": "AttributeError",
     "evalue": "'NoneType' object has no attribute '_FF'",
     "output_type": "error",
     "traceback": [
      "\u001b[0;31m---------------------------------------------------------------------------\u001b[0m",
      "\u001b[0;31mAttributeError\u001b[0m                            Traceback (most recent call last)",
      "\u001b[0;32m<ipython-input-3-be41c39d0271>\u001b[0m in \u001b[0;36m<module>\u001b[0;34m\u001b[0m\n\u001b[0;32m----> 1\u001b[0;31m \u001b[0mtest\u001b[0m\u001b[0;34m=\u001b[0m\u001b[0mrp\u001b[0m\u001b[0;34m.\u001b[0m\u001b[0mMolecule\u001b[0m\u001b[0;34m(\u001b[0m\u001b[0mdatei\u001b[0m\u001b[0;34m)\u001b[0m\u001b[0;34m\u001b[0m\u001b[0;34m\u001b[0m\u001b[0m\n\u001b[0m\u001b[1;32m      2\u001b[0m \u001b[0;34m\u001b[0m\u001b[0m\n\u001b[1;32m      3\u001b[0m \u001b[0mtest\u001b[0m\u001b[0;34m.\u001b[0m\u001b[0m_bonds\u001b[0m\u001b[0;34m\u001b[0m\u001b[0;34m\u001b[0m\u001b[0m\n\u001b[1;32m      4\u001b[0m \u001b[0mtest\u001b[0m\u001b[0;34m.\u001b[0m\u001b[0m_atoms\u001b[0m\u001b[0;34m\u001b[0m\u001b[0;34m\u001b[0m\u001b[0m\n",
      "\u001b[0;32m~/programs/resppol/resppol/resppol.py\u001b[0m in \u001b[0;36m__init__\u001b[0;34m(self, datei, position, trainingset)\u001b[0m\n\u001b[1;32m    422\u001b[0m \u001b[0;34m\u001b[0m\u001b[0m\n\u001b[1;32m    423\u001b[0m         \u001b[0;31m# Label the atoms and bonds using a offxml file\u001b[0m\u001b[0;34m\u001b[0m\u001b[0;34m\u001b[0m\u001b[0;34m\u001b[0m\u001b[0m\n\u001b[0;32m--> 424\u001b[0;31m         \u001b[0mforcefield\u001b[0m \u001b[0;34m=\u001b[0m \u001b[0mForceField\u001b[0m\u001b[0;34m(\u001b[0m\u001b[0mos\u001b[0m\u001b[0;34m.\u001b[0m\u001b[0mpath\u001b[0m\u001b[0;34m.\u001b[0m\u001b[0mjoin\u001b[0m\u001b[0;34m(\u001b[0m\u001b[0mROOT_DIR_PATH\u001b[0m\u001b[0;34m,\u001b[0m \u001b[0mself\u001b[0m\u001b[0;34m.\u001b[0m\u001b[0m_trainingset\u001b[0m\u001b[0;34m.\u001b[0m\u001b[0m_FF\u001b[0m\u001b[0;34m)\u001b[0m\u001b[0;34m)\u001b[0m\u001b[0;34m\u001b[0m\u001b[0;34m\u001b[0m\u001b[0m\n\u001b[0m\u001b[1;32m    425\u001b[0m         \u001b[0;32mif\u001b[0m \u001b[0mtrainingset\u001b[0m \u001b[0;32mis\u001b[0m \u001b[0;32mNone\u001b[0m\u001b[0;34m:\u001b[0m\u001b[0;34m\u001b[0m\u001b[0;34m\u001b[0m\u001b[0m\n\u001b[1;32m    426\u001b[0m             \u001b[0mself\u001b[0m\u001b[0;34m.\u001b[0m\u001b[0m_trainingset\u001b[0m \u001b[0;34m=\u001b[0m \u001b[0mTrainingSet\u001b[0m\u001b[0;34m(\u001b[0m\u001b[0;34m)\u001b[0m\u001b[0;34m\u001b[0m\u001b[0;34m\u001b[0m\u001b[0m\n",
      "\u001b[0;31mAttributeError\u001b[0m: 'NoneType' object has no attribute '_FF'"
     ]
    }
   ],
   "source": [
    "test=rp.Molecule(datei)\n",
    "\n",
    "test._bonds\n",
    "test._atoms\n"
   ]
  },
  {
   "cell_type": "code",
   "execution_count": null,
   "metadata": {
    "pycharm": {
     "is_executing": false
    }
   },
   "outputs": [],
   "source": [
    "import openforcefield.topology as off\n",
    "test2=off.Molecule.from_smiles(\"c1ccccc1\")\n",
    "test.add_conformer_from_mol2(datei)\n",
    "test.conformers\n",
    "\n",
    "\n",
    "\n",
    "\n"
   ]
  },
  {
   "cell_type": "code",
   "execution_count": null,
   "metadata": {
    "pycharm": {
     "is_executing": false,
     "metadata": false,
     "name": "#%%\n"
    }
   },
   "outputs": [],
   "source": [
    "espfile='/home/mschauperl/programs/resppol/resppol/tmp/butanol/conf0/molecule0.gesp'\n",
    "test.conformers[0].add_polESP(espfile, \"vector\")\n",
    "#test.conformers[0].add_baseESP(espfile)\n"
   ]
  },
  {
   "cell_type": "code",
   "execution_count": null,
   "metadata": {
    "pycharm": {
     "is_executing": false
    }
   },
   "outputs": [],
   "source": [
    "from __future__ import print_function\n",
    "from openeye import oechem\n",
    "\n",
    "mol = oechem.OEGraphMol()\n",
    "oechem.OESmilesToMol(mol, \"c1cocc1\")\n",
    "\n",
    "print(\"atoms\")\n",
    "for atom in mol.GetAtoms():\n",
    "    print(atom.GetAtomicNum())\n",
    "print(\"bonds\")\n",
    "for bond in mol.GetBonds():\n",
    "    print(bond.GetOrder())"
   ]
  },
  {
   "cell_type": "code",
   "execution_count": null,
   "metadata": {
    "pycharm": {
     "is_executing": false
    }
   },
   "outputs": [],
   "source": [
    "from openforcefield.typing.engines.smirnoff.forcefield import ForceField\n",
    "#from openforcefield.utils import get_data_filename\n",
    "import os\n",
    "os.getcwd()\n",
    "print(\"mytest2\")"
   ]
  },
  {
   "cell_type": "code",
   "execution_count": null,
   "metadata": {
    "pycharm": {
     "is_executing": false,
     "metadata": false,
     "name": "#%%\n"
    }
   },
   "outputs": [],
   "source": []
  },
  {
   "cell_type": "code",
   "execution_count": null,
   "metadata": {
    "pycharm": {
     "is_executing": false
    }
   },
   "outputs": [],
   "source": [
    "\n",
    "from openforcefield.topology import Molecule, Topology\n",
    "from openforcefield.typing.engines.smirnoff import ForceField\n",
    "\n",
    "# Create a simple molecule from SMILES and turn it into a topology.\n",
    "molecule = Molecule.from_file(datei)\n",
    "topology = Topology.from_molecules([molecule])\n",
    "\n",
    "# Let's label using the smirnoff99Frosst force field\n",
    "forcefield = ForceField('../tmp/BCCPOL.offxml')\n",
    "# Run the molecule labeling\n",
    "#|print(forcefield.get_handler('vdW').parameters)\n",
    "molecule_force_list = forcefield.label_molecules(topology)\n",
    "\n",
    "\n",
    "\n",
    "\n",
    "# Print out a formatted description of the parameters applied to this molecule\n",
    "for mol_idx, mol_forces in enumerate(molecule_force_list):\n",
    "    print(f'Forces for molecule {mol_idx}')\n",
    "    for force_tag, force_dict in mol_forces.items():\n",
    "        print(f\"\\n{force_tag}:\")\n",
    "        for (atom_indices, parameter) in force_dict.items():\n",
    "            atomstr=''\n",
    "            for idx in atom_indices:\n",
    "                atomstr += '%3s' % idx\n",
    "            print(\"atoms: %s  parameter_id: %s  smirks %s\" % (atomstr, parameter.id, parameter.smirks) )"
   ]
  },
  {
   "cell_type": "code",
   "execution_count": null,
   "metadata": {
    "pycharm": {
     "is_executing": false
    }
   },
   "outputs": [],
   "source": [
    "import numpy as np\n",
    "np.array(molecule.conformers[0]._value)[0]\n"
   ]
  },
  {
   "cell_type": "code",
   "execution_count": null,
   "metadata": {
    "pycharm": {
     "is_executing": false
    }
   },
   "outputs": [],
   "source": [
    "print(test.chemical_eq_atoms)"
   ]
  },
  {
   "cell_type": "code",
   "execution_count": null,
   "metadata": {
    "pycharm": {
     "is_executing": false,
     "metadata": false,
     "name": "#%%\n"
    }
   },
   "outputs": [],
   "source": [
    "for i, properties in enumerate(molecule_force_list[0]['Bonds'].items()):\n",
    "            atom_indices, parameter=properties\n",
    "            print(atom_indices)"
   ]
  },
  {
   "cell_type": "code",
   "execution_count": null,
   "metadata": {
    "pycharm": {
     "is_executing": true,
     "metadata": false,
     "name": "#%%\n"
    }
   },
   "outputs": [],
   "source": [
    "\n",
    "molecule_force_list[0]\n",
    "for i, properties in enumerate(molecule_force_list[0]['vdW'].items()):\n",
    "            atom_index, parameter=properties\n",
    "            print(atom_index)"
   ]
  },
  {
   "cell_type": "code",
   "execution_count": null,
   "metadata": {
    "pycharm": {
     "is_executing": false,
     "metadata": false,
     "name": "#%%\n"
    }
   },
   "outputs": [],
   "source": [
    "from __future__ import print_function\n",
    "from openeye import oechem\n",
    "\n",
    "def find_eq_atoms(f1):\n",
    "    \"\"\"\n",
    "    Finds all equivalent atoms in a molecule. \n",
    "    :return\n",
    "    Array of pairs of equivalent atoms. \n",
    "    \n",
    "    Parameters:\n",
    "    ----------\n",
    "        f1: string\n",
    "            Path to mol2 file\n",
    "    \n",
    "    :TODO Include rdkit support for this function\n",
    "    \"\"\"\n",
    "    \n",
    "    #Initialize Molecules\n",
    "    mol1 = oechem.OEGraphMol()\n",
    "    mol2 = oechem.OEGraphMol()\n",
    "\n",
    "    # Open Input File Stream\n",
    "    ifs1 = oechem.oemolistream(f1)\n",
    "    ifs2 = oechem.oemolistream(f1)\n",
    "\n",
    "    # Read from IFS to molecules\n",
    "    oechem.OEReadMol2File(ifs1,mol1)\n",
    "    oechem.OEReadMol2File(ifs2,mol2)\n",
    "\n",
    "    qmol = oechem.OEQMol()\n",
    "    \n",
    "    # build OEQMol from OEGRAPHMOLECULE\n",
    "    oechem.OEBuildMDLQueryExpressions(qmol,mol2)\n",
    "    ss2=oechem.OESubSearch(qmol)\n",
    "    oechem.OEPrepareSearch(mol1, ss2)\n",
    "    \n",
    "    # Store the equivalent atoms\n",
    "    eq_atoms=[[]for i in range(mol1.NumAtoms())]\n",
    "    \n",
    "    # Goes through all matches and compares the atom indeces. \n",
    "    for count, match in enumerate(ss2.Match(mol1)):\n",
    "        for ma in match.GetAtoms():\n",
    "            # if 2 atoms are not the same atoms\n",
    "            if ma.pattern.GetIdx() != ma.target.GetIdx():\n",
    "                    # and the pair is not stored yet\n",
    "                    if ma.target.GetIdx() not in eq_atoms[ma.pattern.GetIdx()]:\n",
    "                        # save it to the array\n",
    "                        eq_atoms[ma.pattern.GetIdx()].append(ma.target.GetIdx())\n",
    "    \n",
    "    # goes through the array and returns pairs of equivalent atoms\n",
    "    sorted_eq_atoms=[]                \n",
    "    for i,ele in enumerate(eq_atoms):\n",
    "        if ele!=[]:\n",
    "            for element in ele:\n",
    "                # Making sure we have not already covered this pair of atoms\n",
    "                if [element,i] not in sorted_eq_atoms:\n",
    "                    sorted_eq_atoms.append([i,element])\n",
    "            \n",
    "    \n",
    "    return(sorted_eq_atoms)\n",
    "find_eq_atoms(datei)"
   ]
  },
  {
   "cell_type": "code",
   "execution_count": null,
   "metadata": {
    "pycharm": {
     "metadata": false,
     "name": "#%%\n"
    }
   },
   "outputs": [],
   "source": [
    "\n"
   ]
  },
  {
   "cell_type": "code",
   "execution_count": null,
   "metadata": {},
   "outputs": [],
   "source": []
  }
 ],
 "metadata": {
  "kernelspec": {
   "display_name": "Python (resppol)",
   "language": "python",
   "name": "resppol"
  },
  "language_info": {
   "codemirror_mode": {
    "name": "ipython",
    "version": 3
   },
   "file_extension": ".py",
   "mimetype": "text/x-python",
   "name": "python",
   "nbconvert_exporter": "python",
   "pygments_lexer": "ipython3",
   "version": "3.6.7"
  },
  "pycharm": {
   "stem_cell": {
    "cell_type": "raw",
    "metadata": {
     "collapsed": false
    },
    "source": []
   }
  }
 },
 "nbformat": 4,
 "nbformat_minor": 1
}
