{
 "cells": [
  {
   "cell_type": "code",
   "execution_count": 1,
   "metadata": {
    "pycharm": {
     "is_executing": false
    }
   },
   "outputs": [],
   "source": [
    "\n",
    "\n",
    "import resppol.rpol\n",
    "\n"
   ]
  },
  {
   "cell_type": "code",
   "execution_count": 2,
   "metadata": {
    "pycharm": {
     "is_executing": false
    }
   },
   "outputs": [],
   "source": [
    "datei='/home/michael/resppol/resppol/tmp/butanolsybyl.mol2'\n"
   ]
  },
  {
   "cell_type": "code",
   "execution_count": 3,
   "metadata": {
    "pycharm": {
     "is_executing": false
    }
   },
   "outputs": [
    {
     "data": {
      "text/plain": [
       "[<resppol.rpol.Atom at 0x7f213334b668>,\n",
       " <resppol.rpol.Atom at 0x7f213334bd68>,\n",
       " <resppol.rpol.Atom at 0x7f213334bf28>,\n",
       " <resppol.rpol.Atom at 0x7f213334b6a0>,\n",
       " <resppol.rpol.Atom at 0x7f2133348eb8>,\n",
       " <resppol.rpol.Atom at 0x7f21333485c0>,\n",
       " <resppol.rpol.Atom at 0x7f2133348198>,\n",
       " <resppol.rpol.Atom at 0x7f2133348cf8>,\n",
       " <resppol.rpol.Atom at 0x7f2133348908>,\n",
       " <resppol.rpol.Atom at 0x7f2133348748>,\n",
       " <resppol.rpol.Atom at 0x7f2133348160>,\n",
       " <resppol.rpol.Atom at 0x7f2133348828>]"
      ]
     },
     "execution_count": 3,
     "metadata": {},
     "output_type": "execute_result"
    }
   ],
   "source": [
    "test=resppol.rpol.Molecule(datei)\n",
    "\n",
    "test._bonds\n",
    "test._atoms\n"
   ]
  },
  {
   "cell_type": "code",
   "execution_count": 4,
   "metadata": {
    "pycharm": {
     "is_executing": false
    }
   },
   "outputs": [
    {
     "data": {
      "text/plain": [
       "[<resppol.rpol.Conformer at 0x7f2133335b38>]"
      ]
     },
     "execution_count": 4,
     "metadata": {},
     "output_type": "execute_result"
    }
   ],
   "source": [
    "import openforcefield.topology as off\n",
    "test2=off.Molecule.from_smiles(\"c1ccccc1\")\n",
    "test.add_conformer_from_mol2(datei)\n",
    "test.conformers\n",
    "\n",
    "\n",
    "\n",
    "\n"
   ]
  },
  {
   "cell_type": "code",
   "execution_count": 5,
   "metadata": {
    "pycharm": {
     "is_executing": false,
     "metadata": false,
     "name": "#%%\n"
    }
   },
   "outputs": [],
   "source": [
    "espfile='/home/michael/resppol/resppol/tmp/butanol/conf0/molecule0.gesp'\n",
    "test.conformers[0].add_polESP(espfile, \"vector\")\n",
    "#test.conformers[0].add_baseESP(espfile)\n"
   ]
  },
  {
   "cell_type": "code",
   "execution_count": 6,
   "metadata": {
    "pycharm": {
     "is_executing": false
    }
   },
   "outputs": [
    {
     "name": "stdout",
     "output_type": "stream",
     "text": [
      "atoms\n",
      "6\n",
      "6\n",
      "8\n",
      "6\n",
      "6\n",
      "bonds\n",
      "1\n",
      "2\n",
      "1\n",
      "1\n",
      "2\n"
     ]
    }
   ],
   "source": [
    "from __future__ import print_function\n",
    "from openeye import oechem\n",
    "\n",
    "mol = oechem.OEGraphMol()\n",
    "oechem.OESmilesToMol(mol, \"c1cocc1\")\n",
    "\n",
    "print(\"atoms\")\n",
    "for atom in mol.GetAtoms():\n",
    "    print(atom.GetAtomicNum())\n",
    "print(\"bonds\")\n",
    "for bond in mol.GetBonds():\n",
    "    print(bond.GetOrder())"
   ]
  },
  {
   "cell_type": "code",
   "execution_count": 7,
   "metadata": {
    "pycharm": {
     "is_executing": false
    }
   },
   "outputs": [
    {
     "name": "stdout",
     "output_type": "stream",
     "text": [
      "mytest2\n"
     ]
    }
   ],
   "source": [
    "from openforcefield.typing.engines.smirnoff.forcefield import ForceField\n",
    "from openforcefield.utils import get_data_filename\n",
    "import os\n",
    "os.getcwd()\n",
    "print(\"mytest2\")"
   ]
  },
  {
   "cell_type": "code",
   "execution_count": null,
   "metadata": {
    "pycharm": {
     "is_executing": false,
     "metadata": false,
     "name": "#%%\n"
    }
   },
   "outputs": [],
   "source": []
  },
  {
   "cell_type": "code",
   "execution_count": 15,
   "metadata": {
    "pycharm": {
     "is_executing": false
    }
   },
   "outputs": [
    {
     "name": "stdout",
     "output_type": "stream",
     "text": [
      "[<vdWType with smirks: [#1:1]  epsilon: 0.0157 kcal/mol  id: n1  sigma: 1.069078461768407 A  >, <vdWType with smirks: [#1:1]-[#6]  epsilon: 0.0157 kcal/mol  id: n2  sigma: 2.649532787749369 A  >, <vdWType with smirks: [#6:1]  epsilon: 0.21 kcal/mol  id: n3  sigma: 3.3996695084235347 A  >, <vdWType with smirks: [#6X4:1]  epsilon: 0.1094 kcal/mol  id: n4  sigma: 3.3996695084235347 A  >, <vdWType with smirks: [#8:1]  epsilon: 0.21 kcal/mol  id: n5  sigma: 2.959921901149463 A  >, <vdWType with smirks: [#7:1]  epsilon: 0.17 kcal/mol  id: n6  sigma: 3.249998523775958 A  >, <vdWType with smirks: [#16:1]  epsilon: 0.25 kcal/mol  id: n7  sigma: 3.563594872561357 A  >, <vdWType with smirks: [#15:1]  epsilon: 0.2 kcal/mol  id: n8  sigma: 3.741774616189425 A  >, <vdWType with smirks: [#9:1]  epsilon: 0.061 kcal/mol  id: n9  sigma: 3.1181455134911875 A  >, <vdWType with smirks: [#17:1]  epsilon: 0.265 kcal/mol  id: n10  sigma: 3.4709414058747616 A  >, <vdWType with smirks: [#35:1]  epsilon: 0.32 kcal/mol  id: n11  sigma: 3.9555903085431066 A  >, <vdWType with smirks: [#53:1]  epsilon: 0.4 kcal/mol  id: n12  sigma: 4.187223975259594 A  >, <vdWType with smirks: [#3+1:1]  epsilon: 0.0279896 kcal/mol  id: n13  sigma: 1.8263423721876955 A  >, <vdWType with smirks: [#11+1:1]  epsilon: 0.0874393 kcal/mol  id: n14  sigma: 2.439280690268249 A  >, <vdWType with smirks: [#19+1:1]  epsilon: 0.1936829 kcal/mol  id: n15  sigma: 3.037964628858557 A  >, <vdWType with smirks: [#37+1:1]  epsilon: 0.3278219 kcal/mol  id: n16  sigma: 3.23039875197687 A  >, <vdWType with smirks: [#55+1:1]  epsilon: 0.4065394 kcal/mol  id: n17  sigma: 3.5208317340906206 A  >]\n",
      "Forces for molecule 0\n",
      "\n",
      "Bonds:\n",
      "atoms:   0  1  parameter_id: b1  smirks [#6X4:1]-[#6X4:2]\n",
      "atoms:   0  4  parameter_id: b83  smirks [#6X4:1]-[#1:2]\n",
      "atoms:   0  5  parameter_id: b83  smirks [#6X4:1]-[#1:2]\n",
      "atoms:   0  6  parameter_id: b83  smirks [#6X4:1]-[#1:2]\n",
      "atoms:   1  2  parameter_id: b1  smirks [#6X4:1]-[#6X4:2]\n",
      "atoms:   1  7  parameter_id: b83  smirks [#6X4:1]-[#1:2]\n",
      "atoms:   1  8  parameter_id: b83  smirks [#6X4:1]-[#1:2]\n",
      "atoms:   2  3  parameter_id: b14  smirks [#6:1]-[#8:2]\n",
      "atoms:   2  9  parameter_id: b83  smirks [#6X4:1]-[#1:2]\n",
      "atoms:   2 10  parameter_id: b83  smirks [#6X4:1]-[#1:2]\n",
      "atoms:   3 11  parameter_id: b87  smirks [#8:1]-[#1:2]\n",
      "\n",
      "vdW:\n",
      "atoms:   0  parameter_id: n4  smirks [#6X4:1]\n",
      "atoms:   1  parameter_id: n4  smirks [#6X4:1]\n",
      "atoms:   2  parameter_id: n4  smirks [#6X4:1]\n",
      "atoms:   3  parameter_id: n5  smirks [#8:1]\n",
      "atoms:   4  parameter_id: n2  smirks [#1:1]-[#6]\n",
      "atoms:   5  parameter_id: n2  smirks [#1:1]-[#6]\n",
      "atoms:   6  parameter_id: n2  smirks [#1:1]-[#6]\n",
      "atoms:   7  parameter_id: n2  smirks [#1:1]-[#6]\n",
      "atoms:   8  parameter_id: n2  smirks [#1:1]-[#6]\n",
      "atoms:   9  parameter_id: n2  smirks [#1:1]-[#6]\n",
      "atoms:  10  parameter_id: n2  smirks [#1:1]-[#6]\n",
      "atoms:  11  parameter_id: n1  smirks [#1:1]\n"
     ]
    }
   ],
   "source": [
    "\n",
    "from openforcefield.topology import Molecule, Topology\n",
    "from openforcefield.typing.engines.smirnoff import ForceField\n",
    "\n",
    "# Create a simple molecule from SMILES and turn it into a topology.\n",
    "molecule = Molecule.from_file(datei)\n",
    "topology = Topology.from_molecules([molecule])\n",
    "\n",
    "# Let's label using the smirnoff99Frosst force field\n",
    "forcefield = ForceField('../tmp/BCCPOL.offxml')\n",
    "# Run the molecule labeling\n",
    "print(forcefield.get_handler('vdW').parameters)\n",
    "molecule_force_list = forcefield.label_molecules(topology)\n",
    "\n",
    "\n",
    "\n",
    "\n",
    "# Print out a formatted description of the parameters applied to this molecule\n",
    "for mol_idx, mol_forces in enumerate(molecule_force_list):\n",
    "    print(f'Forces for molecule {mol_idx}')\n",
    "    for force_tag, force_dict in mol_forces.items():\n",
    "        print(f\"\\n{force_tag}:\")\n",
    "        for (atom_indices, parameter) in force_dict.items():\n",
    "            atomstr=''\n",
    "            for idx in atom_indices:\n",
    "                atomstr += '%3s' % idx\n",
    "            print(\"atoms: %s  parameter_id: %s  smirks %s\" % (atomstr, parameter.id, parameter.smirks) )"
   ]
  },
  {
   "cell_type": "code",
   "execution_count": 9,
   "metadata": {
    "pycharm": {
     "is_executing": false
    }
   },
   "outputs": [
    {
     "data": {
      "text/plain": [
       "array([-1.86500001e+00, -1.51999995e-01,  1.00000005e-03])"
      ]
     },
     "execution_count": 9,
     "metadata": {},
     "output_type": "execute_result"
    }
   ],
   "source": [
    "import numpy as np\n",
    "np.array(molecule.conformers[0]._value)[0]\n"
   ]
  },
  {
   "cell_type": "code",
   "execution_count": 10,
   "metadata": {
    "pycharm": {
     "is_executing": false
    }
   },
   "outputs": [
    {
     "name": "stdout",
     "output_type": "stream",
     "text": [
      "[[4, 6], [5, 6], [7, 8], [9, 10]]\n"
     ]
    }
   ],
   "source": [
    "print(test.chemical_eq_atoms)"
   ]
  },
  {
   "cell_type": "code",
   "execution_count": 11,
   "metadata": {
    "pycharm": {
     "is_executing": false,
     "metadata": false,
     "name": "#%%\n"
    }
   },
   "outputs": [
    {
     "name": "stdout",
     "output_type": "stream",
     "text": [
      "(0, 1)\n",
      "(0, 4)\n",
      "(0, 5)\n",
      "(0, 6)\n",
      "(1, 2)\n",
      "(1, 7)\n",
      "(1, 8)\n",
      "(2, 3)\n",
      "(2, 9)\n",
      "(2, 10)\n",
      "(3, 11)\n"
     ]
    }
   ],
   "source": [
    "for i, properties in enumerate(molecule_force_list[0]['Bonds'].items()):\n",
    "            atom_indices, parameter=properties\n",
    "            print(atom_indices)"
   ]
  },
  {
   "cell_type": "code",
   "execution_count": 12,
   "metadata": {
    "pycharm": {
     "is_executing": true,
     "metadata": false,
     "name": "#%%\n"
    }
   },
   "outputs": [
    {
     "name": "stdout",
     "output_type": "stream",
     "text": [
      "(0,)\n",
      "(1,)\n",
      "(2,)\n",
      "(3,)\n",
      "(4,)\n",
      "(5,)\n",
      "(6,)\n",
      "(7,)\n",
      "(8,)\n",
      "(9,)\n",
      "(10,)\n",
      "(11,)\n"
     ]
    }
   ],
   "source": [
    "\n",
    "molecule_force_list[0]\n",
    "for i, properties in enumerate(molecule_force_list[0]['vdW'].items()):\n",
    "            atom_index, parameter=properties\n",
    "            print(atom_index)"
   ]
  },
  {
   "cell_type": "code",
   "execution_count": 13,
   "metadata": {
    "pycharm": {
     "is_executing": false,
     "metadata": false,
     "name": "#%%\n"
    }
   },
   "outputs": [
    {
     "ename": "NameError",
     "evalue": "name 'match_atoms' is not defined",
     "output_type": "error",
     "traceback": [
      "\u001b[0;31m---------------------------------------------------------------------------\u001b[0m",
      "\u001b[0;31mNameError\u001b[0m                                 Traceback (most recent call last)",
      "\u001b[0;32m<ipython-input-13-ff838184832f>\u001b[0m in \u001b[0;36m<module>\u001b[0;34m\u001b[0m\n\u001b[1;32m     59\u001b[0m \u001b[0;34m\u001b[0m\u001b[0m\n\u001b[1;32m     60\u001b[0m     \u001b[0;32mreturn\u001b[0m\u001b[0;34m(\u001b[0m\u001b[0msorted_eq_atoms\u001b[0m\u001b[0;34m)\u001b[0m\u001b[0;34m\u001b[0m\u001b[0;34m\u001b[0m\u001b[0m\n\u001b[0;32m---> 61\u001b[0;31m \u001b[0mmatch_atoms\u001b[0m\u001b[0;34m(\u001b[0m\u001b[0mdatei\u001b[0m\u001b[0;34m)\u001b[0m\u001b[0;34m\u001b[0m\u001b[0;34m\u001b[0m\u001b[0m\n\u001b[0m",
      "\u001b[0;31mNameError\u001b[0m: name 'match_atoms' is not defined"
     ]
    }
   ],
   "source": [
    "from __future__ import print_function\n",
    "from openeye import oechem\n",
    "\n",
    "def find_eq_atoms(f1):\n",
    "    \"\"\"\n",
    "    Finds all equivalent atoms in a molecule. \n",
    "    :return\n",
    "    Array of pairs of equivalent atoms. \n",
    "    \n",
    "    Parameters:\n",
    "    ----------\n",
    "        f1: string\n",
    "            Path to mol2 file\n",
    "    \n",
    "    :TODO Include rdkit support for this function\n",
    "    \"\"\"\n",
    "    \n",
    "    #Initialize Molecules\n",
    "    mol1 = oechem.OEGraphMol()\n",
    "    mol2 = oechem.OEGraphMol()\n",
    "\n",
    "    # Open Input File Stream\n",
    "    ifs1 = oechem.oemolistream(f1)\n",
    "    ifs2 = oechem.oemolistream(f1)\n",
    "\n",
    "    # Read from IFS to molecules\n",
    "    oechem.OEReadMol2File(ifs1,mol1)\n",
    "    oechem.OEReadMol2File(ifs2,mol2)\n",
    "\n",
    "    qmol = oechem.OEQMol()\n",
    "    \n",
    "    # build OEQMol from OEGRAPHMOLECULE\n",
    "    oechem.OEBuildMDLQueryExpressions(qmol,mol2)\n",
    "    ss2=oechem.OESubSearch(qmol)\n",
    "    oechem.OEPrepareSearch(mol1, ss2)\n",
    "    \n",
    "    # Store the equivalent atoms\n",
    "    eq_atoms=[[]for i in range(mol1.NumAtoms())]\n",
    "    \n",
    "    # Goes through all matches and compares the atom indeces. \n",
    "    for count, match in enumerate(ss2.Match(mol1)):\n",
    "        for ma in match.GetAtoms():\n",
    "            # if 2 atoms are not the same atoms\n",
    "            if ma.pattern.GetIdx() != ma.target.GetIdx():\n",
    "                    # and the pair is not stored yet\n",
    "                    if ma.target.GetIdx() not in eq_atoms[ma.pattern.GetIdx()]:\n",
    "                        # save it to the array\n",
    "                        eq_atoms[ma.pattern.GetIdx()].append(ma.target.GetIdx())\n",
    "    \n",
    "    # goes through the array and returns pairs of equivalent atoms\n",
    "    sorted_eq_atoms=[]                \n",
    "    for i,ele in enumerate(eq_atoms):\n",
    "        if ele!=[]:\n",
    "            for element in ele:\n",
    "                # Making sure we have not already covered this pair of atoms\n",
    "                if [element,i] not in sorted_eq_atoms:\n",
    "                    sorted_eq_atoms.append([i,element])\n",
    "            \n",
    "    \n",
    "    return(sorted_eq_atoms)\n",
    "match_atoms(datei)"
   ]
  },
  {
   "cell_type": "code",
   "execution_count": null,
   "metadata": {
    "pycharm": {
     "metadata": false,
     "name": "#%%\n"
    }
   },
   "outputs": [],
   "source": [
    "\n"
   ]
  }
 ],
 "metadata": {
  "kernelspec": {
   "display_name": "openff",
   "language": "python",
   "name": "openff"
  },
  "language_info": {
   "codemirror_mode": {
    "name": "ipython",
    "version": 3
   },
   "file_extension": ".py",
   "mimetype": "text/x-python",
   "name": "python",
   "nbconvert_exporter": "python",
   "pygments_lexer": "ipython3",
   "version": "3.6.7"
  }
 },
 "nbformat": 4,
 "nbformat_minor": 1
}
