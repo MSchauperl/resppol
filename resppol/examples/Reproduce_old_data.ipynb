{
 "cells": [
  {
   "cell_type": "markdown",
   "metadata": {},
   "source": [
    "# Reproduce old data\n",
    "I rewrote the whole code. This is for comparison if the new code agrees with the old code. I have some examples in the tests but i wanted to make sure it actually agrees also for real examples. I find some disrepancies earlier not sure if I fixed them. "
   ]
  },
  {
   "cell_type": "code",
   "execution_count": 1,
   "metadata": {
    "pycharm": {
     "is_executing": false
    }
   },
   "outputs": [
    {
     "name": "stderr",
     "output_type": "stream",
     "text": [
      "Unable to load toolkit <openforcefield.utils.toolkits.AmberToolsToolkitWrapper object at 0x7f89e03c1390>.\n"
     ]
    },
    {
     "data": {
      "text/plain": [
       "'/home/mschauperl/programs/resppol/resppol/resppol.py'"
      ]
     },
     "execution_count": 1,
     "metadata": {},
     "output_type": "execute_result"
    }
   ],
   "source": [
    "#import resppol\n",
    "import resppol.resppol\n",
    "import os\n",
    "from pint import UnitRegistry\n",
    "ureg = UnitRegistry()\n",
    "Q_ = ureg.Quantity\n",
    "ureg.define('bohr = 0.52917721067 * angstrom')\n",
    "dir(resppol.resppol)\n",
    "resppol.resppol.__file__"
   ]
  },
  {
   "cell_type": "markdown",
   "metadata": {},
   "source": [
    "A quite simple example. Only fitting charges. This is to test the fixed charge unit of the new and old code. And with testing I actually mean comparing."
   ]
  },
  {
   "cell_type": "code",
   "execution_count": 2,
   "metadata": {
    "pycharm": {
     "is_executing": false
    }
   },
   "outputs": [
    {
     "name": "stdout",
     "output_type": "stream",
     "text": [
      "Read in Molecule 1\n",
      "[-0.08919635  0.1370444   0.2032554  -0.55391132  0.01755167  0.01755167  0.01755167 -0.03314256 -0.03314256 -0.00794214 -0.00794214  0.33232226  2.39338683 -0.08841168  0.01484838 -0.15332037  0.60207582] elementary_charge\n"
     ]
    }
   ],
   "source": [
    "alldirections=[['X+',[-0.01,0.0,0.0]],['X-',[0.01,0.0,0.0]],['Y+',[0.0,-0.01,0.0]],['Y-',[0.0,0.01,0.0]],['Z+',[0.0,0.0,-0.01]],['Z-',[0.0,0.0,0.01]]]\n",
    "ROOT_DIR_PATH='/home/mschauperl/kirk/charge_method/medium_set/'\n",
    "test = resppol.resppol.TrainingSet(mode='q_alpha',SCF= False, thole = False, FF='resppol/data/test_data/BCCelementPOL.offxml')\n",
    "\n",
    "\n",
    "for nmol in range(1,2,1):\n",
    "    print('Read in Molecule {}'.format(nmol))\n",
    "    nconf=0\n",
    "    datei = os.path.join(ROOT_DIR_PATH, 'molecule{}/conf0/mp2_0.mol2'.format(nmol))\n",
    "    test.add_molecule(datei)\n",
    "    directory=os.path.join(ROOT_DIR_PATH,'molecule{}'.format(nmol))\n",
    "    for dire in os.listdir(directory):\n",
    "        if os.path.isdir(os.path.join(directory,dire)):\n",
    "            datei = os.path.join(ROOT_DIR_PATH, 'molecule{0}/conf{1}/mp2_{1}.mol2'.format(nmol,nconf))\n",
    "            test.molecules[nmol-1].add_conformer_from_mol2(datei)\n",
    "            espfile = os.path.join(ROOT_DIR_PATH, 'molecule{0}/conf{1}/molecule{1}.gesp'.format(nmol,nconf))\n",
    "            test.molecules[nmol-1].conformers[nconf].add_baseESP(espfile)\n",
    "            for direction,vector in alldirections:\n",
    "                espfile = os.path.join(ROOT_DIR_PATH, 'molecule{}/conf{}/molecule_{}.gesp'.format(nmol,nconf,direction))\n",
    "                test.molecules[nmol-1].conformers[nconf].add_polESP(espfile, e_field=Q_(vector, 'elementary_charge / bohr / bohr'))\n",
    "            nconf+=1\n",
    "test.optimize_charges()\n",
    "print(test.q)"
   ]
  },
  {
   "cell_type": "code",
   "execution_count": 3,
   "metadata": {
    "pycharm": {
     "is_executing": true
    },
    "scrolled": true
   },
   "outputs": [
    {
     "name": "stdout",
     "output_type": "stream",
     "text": [
      "Read in Molecule 1\n",
      "Read in /home/mschauperl/kirk/charge_method/medium_set/molecule1/conf0/molecule0.gesp\n",
      "Read in /home/mschauperl/kirk/charge_method/medium_set/molecule1/conf0/molecule_X+.gesp [-0.01, 0.0, 0.0]\n",
      "Read in /home/mschauperl/kirk/charge_method/medium_set/molecule1/conf0/molecule_X-.gesp [0.01, 0.0, 0.0]\n",
      "Read in /home/mschauperl/kirk/charge_method/medium_set/molecule1/conf0/molecule_Y+.gesp [0.0, -0.01, 0.0]\n",
      "Read in /home/mschauperl/kirk/charge_method/medium_set/molecule1/conf0/molecule_Y-.gesp [0.0, 0.01, 0.0]\n",
      "Read in /home/mschauperl/kirk/charge_method/medium_set/molecule1/conf0/molecule_Z+.gesp [0.0, 0.0, -0.01]\n",
      "Read in /home/mschauperl/kirk/charge_method/medium_set/molecule1/conf0/molecule_Z-.gesp [0.0, 0.0, 0.01]\n",
      "Read in /home/mschauperl/kirk/charge_method/medium_set/molecule1/conf1/molecule1.gesp\n",
      "Read in /home/mschauperl/kirk/charge_method/medium_set/molecule1/conf1/molecule_X+.gesp [-0.01, 0.0, 0.0]\n",
      "Read in /home/mschauperl/kirk/charge_method/medium_set/molecule1/conf1/molecule_X-.gesp [0.01, 0.0, 0.0]\n",
      "Read in /home/mschauperl/kirk/charge_method/medium_set/molecule1/conf1/molecule_Y+.gesp [0.0, -0.01, 0.0]\n",
      "Read in /home/mschauperl/kirk/charge_method/medium_set/molecule1/conf1/molecule_Y-.gesp [0.0, 0.01, 0.0]\n",
      "Read in /home/mschauperl/kirk/charge_method/medium_set/molecule1/conf1/molecule_Z+.gesp [0.0, 0.0, -0.01]\n",
      "Read in /home/mschauperl/kirk/charge_method/medium_set/molecule1/conf1/molecule_Z-.gesp [0.0, 0.0, 0.01]\n",
      "Read in /home/mschauperl/kirk/charge_method/medium_set/molecule1/conf2/molecule2.gesp\n",
      "Read in /home/mschauperl/kirk/charge_method/medium_set/molecule1/conf2/molecule_X+.gesp [-0.01, 0.0, 0.0]\n",
      "Read in /home/mschauperl/kirk/charge_method/medium_set/molecule1/conf2/molecule_X-.gesp [0.01, 0.0, 0.0]\n",
      "Read in /home/mschauperl/kirk/charge_method/medium_set/molecule1/conf2/molecule_Y+.gesp [0.0, -0.01, 0.0]\n",
      "Read in /home/mschauperl/kirk/charge_method/medium_set/molecule1/conf2/molecule_Y-.gesp [0.0, 0.01, 0.0]\n",
      "Read in /home/mschauperl/kirk/charge_method/medium_set/molecule1/conf2/molecule_Z+.gesp [0.0, 0.0, -0.01]\n",
      "Read in /home/mschauperl/kirk/charge_method/medium_set/molecule1/conf2/molecule_Z-.gesp [0.0, 0.0, 0.01]\n",
      "Read in /home/mschauperl/kirk/charge_method/medium_set/molecule1/conf3/molecule3.gesp\n",
      "Read in /home/mschauperl/kirk/charge_method/medium_set/molecule1/conf3/molecule_X+.gesp [-0.01, 0.0, 0.0]\n",
      "Read in /home/mschauperl/kirk/charge_method/medium_set/molecule1/conf3/molecule_X-.gesp [0.01, 0.0, 0.0]\n",
      "Read in /home/mschauperl/kirk/charge_method/medium_set/molecule1/conf3/molecule_Y+.gesp [0.0, -0.01, 0.0]\n",
      "Read in /home/mschauperl/kirk/charge_method/medium_set/molecule1/conf3/molecule_Y-.gesp [0.0, 0.01, 0.0]\n",
      "Read in /home/mschauperl/kirk/charge_method/medium_set/molecule1/conf3/molecule_Z+.gesp [0.0, 0.0, -0.01]\n",
      "Read in /home/mschauperl/kirk/charge_method/medium_set/molecule1/conf3/molecule_Z-.gesp [0.0, 0.0, 0.01]\n",
      "Read in /home/mschauperl/kirk/charge_method/medium_set/molecule1/conf4/molecule4.gesp\n",
      "Read in /home/mschauperl/kirk/charge_method/medium_set/molecule1/conf4/molecule_X+.gesp [-0.01, 0.0, 0.0]\n",
      "Read in /home/mschauperl/kirk/charge_method/medium_set/molecule1/conf4/molecule_X-.gesp [0.01, 0.0, 0.0]\n",
      "Read in /home/mschauperl/kirk/charge_method/medium_set/molecule1/conf4/molecule_Y+.gesp [0.0, -0.01, 0.0]\n",
      "Read in /home/mschauperl/kirk/charge_method/medium_set/molecule1/conf4/molecule_Y-.gesp [0.0, 0.01, 0.0]\n"
     ]
    },
    {
     "name": "stderr",
     "output_type": "stream",
     "text": [
      "2019-11-08 15:38:13,186  - WARNING - Enter loop with counter 0\n"
     ]
    },
    {
     "name": "stdout",
     "output_type": "stream",
     "text": [
      "Read in /home/mschauperl/kirk/charge_method/medium_set/molecule1/conf4/molecule_Z+.gesp [0.0, 0.0, -0.01]\n",
      "Read in /home/mschauperl/kirk/charge_method/medium_set/molecule1/conf4/molecule_Z-.gesp [0.0, 0.0, 0.01]\n",
      "Enter loop with counter 0\n"
     ]
    },
    {
     "name": "stderr",
     "output_type": "stream",
     "text": [
      "2019-11-08 15:38:13,216  - WARNING - I do not have AM1-type charges\n"
     ]
    },
    {
     "name": "stdout",
     "output_type": "stream",
     "text": [
      "0.0\n",
      "I do not have AM1-type charges\n"
     ]
    },
    {
     "name": "stderr",
     "output_type": "stream",
     "text": [
      "2019-11-08 15:38:13,570  - WARNING - I do not have AM1-type charges\n"
     ]
    },
    {
     "name": "stdout",
     "output_type": "stream",
     "text": [
      "I do not have AM1-type charges\n"
     ]
    },
    {
     "name": "stderr",
     "output_type": "stream",
     "text": [
      "2019-11-08 15:38:13,883  - WARNING - I do not have AM1-type charges\n"
     ]
    },
    {
     "name": "stdout",
     "output_type": "stream",
     "text": [
      "I do not have AM1-type charges\n"
     ]
    },
    {
     "name": "stderr",
     "output_type": "stream",
     "text": [
      "2019-11-08 15:38:14,499  - WARNING - I do not have AM1-type charges\n"
     ]
    },
    {
     "name": "stdout",
     "output_type": "stream",
     "text": [
      "I do not have AM1-type charges\n"
     ]
    },
    {
     "name": "stderr",
     "output_type": "stream",
     "text": [
      "2019-11-08 15:38:14,849  - WARNING - I do not have AM1-type charges\n"
     ]
    },
    {
     "name": "stdout",
     "output_type": "stream",
     "text": [
      "I do not have AM1-type charges\n"
     ]
    },
    {
     "name": "stderr",
     "output_type": "stream",
     "text": [
      "2019-11-08 15:38:15,277  - INFO - Molekule 1\n"
     ]
    },
    {
     "name": "stdout",
     "output_type": "stream",
     "text": [
      "Molekule 1\n"
     ]
    },
    {
     "name": "stderr",
     "output_type": "stream",
     "text": [
      "2019-11-08 15:38:15,282  - INFO - Charges:\n"
     ]
    },
    {
     "name": "stdout",
     "output_type": "stream",
     "text": [
      "Charges:\n"
     ]
    },
    {
     "name": "stderr",
     "output_type": "stream",
     "text": [
      "2019-11-08 15:38:15,287  - INFO - [0.08919635 0.1370444  0.2032554  0.55391132 0.01755167 0.01755167\n",
      " 0.01755167 0.03314256 0.03314256 0.00794214 0.00794214 0.33232226]\n"
     ]
    },
    {
     "name": "stdout",
     "output_type": "stream",
     "text": [
      "[0.08919635 0.1370444  0.2032554  0.55391132 0.01755167 0.01755167\n",
      " 0.01755167 0.03314256 0.03314256 0.00794214 0.00794214 0.33232226]\n"
     ]
    },
    {
     "name": "stderr",
     "output_type": "stream",
     "text": [
      "2019-11-08 15:38:15,293  - INFO - Dipoles:\n"
     ]
    },
    {
     "name": "stdout",
     "output_type": "stream",
     "text": [
      "Dipoles:\n"
     ]
    },
    {
     "name": "stderr",
     "output_type": "stream",
     "text": [
      "2019-11-08 15:38:15,297  - INFO - [0. 0. 0. 0. 0. 0. 0. 0. 0. 0. 0. 0. 0. 0. 0. 0. 0. 0. 0. 0. 0. 0. 0. 0.\n",
      " 0. 0. 0. 0. 0. 0. 0. 0. 0. 0. 0. 0.]\n"
     ]
    },
    {
     "name": "stdout",
     "output_type": "stream",
     "text": [
      "[0. 0. 0. 0. 0. 0. 0. 0. 0. 0. 0. 0. 0. 0. 0. 0. 0. 0. 0. 0. 0. 0. 0. 0.\n",
      " 0. 0. 0. 0. 0. 0. 0. 0. 0. 0. 0. 0.]\n"
     ]
    },
    {
     "name": "stderr",
     "output_type": "stream",
     "text": [
      "2019-11-08 15:38:15,303  - WARNING - This ist step number 1\n"
     ]
    },
    {
     "name": "stdout",
     "output_type": "stream",
     "text": [
      "This ist step number 1\n"
     ]
    },
    {
     "name": "stderr",
     "output_type": "stream",
     "text": [
      "2019-11-08 15:38:15,307  - WARNING - Enter loop with counter 1\n"
     ]
    },
    {
     "name": "stdout",
     "output_type": "stream",
     "text": [
      "Enter loop with counter 1\n",
      "[[11552.45967262 11181.48051374 10762.70221099 ...     0.\n",
      "      0.             0.        ]\n",
      " [11181.48051374 11419.24170029 11142.2524872  ...     0.\n",
      "      0.             0.        ]\n",
      " [10762.70221099 11142.2524872  11455.55891212 ...     0.\n",
      "      0.             0.        ]\n",
      " ...\n",
      " [    0.             0.             0.         ...     0.\n",
      "      0.             0.        ]\n",
      " [    0.             0.             0.         ...     0.\n",
      "      0.             0.        ]\n",
      " [    0.             0.             0.         ...     0.\n",
      "      0.             0.        ]]\n"
     ]
    },
    {
     "name": "stderr",
     "output_type": "stream",
     "text": [
      "2019-11-08 15:38:17,331  - INFO - Molekule 2\n"
     ]
    },
    {
     "name": "stdout",
     "output_type": "stream",
     "text": [
      "Molekule 2\n"
     ]
    },
    {
     "name": "stderr",
     "output_type": "stream",
     "text": [
      "2019-11-08 15:38:17,334  - INFO - Charges:\n"
     ]
    },
    {
     "name": "stdout",
     "output_type": "stream",
     "text": [
      "Charges:\n"
     ]
    },
    {
     "name": "stderr",
     "output_type": "stream",
     "text": [
      "2019-11-08 15:38:17,336  - INFO - [0.0147514  0.08677667 0.0588114  0.0095256  0.01060391 0.01060391\n",
      " 0.01060391 0.01845733 0.01845733 0.01530739 0.01530739 0.01413066]\n"
     ]
    },
    {
     "name": "stdout",
     "output_type": "stream",
     "text": [
      "[0.0147514  0.08677667 0.0588114  0.0095256  0.01060391 0.01060391\n",
      " 0.01060391 0.01845733 0.01845733 0.01530739 0.01530739 0.01413066]\n"
     ]
    },
    {
     "name": "stderr",
     "output_type": "stream",
     "text": [
      "2019-11-08 15:38:17,340  - INFO - Dipoles:\n"
     ]
    },
    {
     "name": "stdout",
     "output_type": "stream",
     "text": [
      "Dipoles:\n"
     ]
    },
    {
     "name": "stderr",
     "output_type": "stream",
     "text": [
      "2019-11-08 15:38:17,359  - INFO - [0. 0. 0. 0. 0. 0. 0. 0. 0. 0. 0. 0. 0. 0. 0. 0. 0. 0. 0. 0. 0. 0. 0. 0.\n",
      " 0. 0. 0. 0. 0. 0. 0. 0. 0. 0. 0. 0.]\n"
     ]
    },
    {
     "name": "stdout",
     "output_type": "stream",
     "text": [
      "[0. 0. 0. 0. 0. 0. 0. 0. 0. 0. 0. 0. 0. 0. 0. 0. 0. 0. 0. 0. 0. 0. 0. 0.\n",
      " 0. 0. 0. 0. 0. 0. 0. 0. 0. 0. 0. 0.]\n"
     ]
    },
    {
     "name": "stderr",
     "output_type": "stream",
     "text": [
      "2019-11-08 15:38:17,367  - WARNING - This ist step number 2\n"
     ]
    },
    {
     "name": "stdout",
     "output_type": "stream",
     "text": [
      "This ist step number 2\n"
     ]
    },
    {
     "name": "stderr",
     "output_type": "stream",
     "text": [
      "2019-11-08 15:38:17,375  - WARNING - Enter loop with counter 2\n"
     ]
    },
    {
     "name": "stdout",
     "output_type": "stream",
     "text": [
      "Enter loop with counter 2\n",
      "[[11552.45967262 11181.48051374 10762.70221099 ...     0.\n",
      "      0.             0.        ]\n",
      " [11181.48051374 11419.24170029 11142.2524872  ...     0.\n",
      "      0.             0.        ]\n",
      " [10762.70221099 11142.2524872  11455.55891212 ...     0.\n",
      "      0.             0.        ]\n",
      " ...\n",
      " [    0.             0.             0.         ...     0.\n",
      "      0.             0.        ]\n",
      " [    0.             0.             0.         ...     0.\n",
      "      0.             0.        ]\n",
      " [    0.             0.             0.         ...     0.\n",
      "      0.             0.        ]]\n"
     ]
    },
    {
     "name": "stderr",
     "output_type": "stream",
     "text": [
      "2019-11-08 15:38:19,461  - INFO - Molekule 3\n"
     ]
    },
    {
     "name": "stdout",
     "output_type": "stream",
     "text": [
      "Molekule 3\n"
     ]
    },
    {
     "name": "stderr",
     "output_type": "stream",
     "text": [
      "2019-11-08 15:38:19,465  - INFO - Charges:\n"
     ]
    },
    {
     "name": "stdout",
     "output_type": "stream",
     "text": [
      "Charges:\n"
     ]
    },
    {
     "name": "stderr",
     "output_type": "stream",
     "text": [
      "2019-11-08 15:38:19,468  - INFO - [0.00063925 0.00955406 0.01252121 0.00491647 0.00010209 0.00010209\n",
      " 0.00010209 0.00309556 0.00309556 0.00573233 0.00573233 0.00016398]\n"
     ]
    },
    {
     "name": "stdout",
     "output_type": "stream",
     "text": [
      "[0.00063925 0.00955406 0.01252121 0.00491647 0.00010209 0.00010209\n",
      " 0.00010209 0.00309556 0.00309556 0.00573233 0.00573233 0.00016398]\n"
     ]
    },
    {
     "name": "stderr",
     "output_type": "stream",
     "text": [
      "2019-11-08 15:38:19,472  - INFO - Dipoles:\n"
     ]
    },
    {
     "name": "stdout",
     "output_type": "stream",
     "text": [
      "Dipoles:\n"
     ]
    },
    {
     "name": "stderr",
     "output_type": "stream",
     "text": [
      "2019-11-08 15:38:19,475  - INFO - [0. 0. 0. 0. 0. 0. 0. 0. 0. 0. 0. 0. 0. 0. 0. 0. 0. 0. 0. 0. 0. 0. 0. 0.\n",
      " 0. 0. 0. 0. 0. 0. 0. 0. 0. 0. 0. 0.]\n"
     ]
    },
    {
     "name": "stdout",
     "output_type": "stream",
     "text": [
      "[0. 0. 0. 0. 0. 0. 0. 0. 0. 0. 0. 0. 0. 0. 0. 0. 0. 0. 0. 0. 0. 0. 0. 0.\n",
      " 0. 0. 0. 0. 0. 0. 0. 0. 0. 0. 0. 0.]\n"
     ]
    },
    {
     "name": "stderr",
     "output_type": "stream",
     "text": [
      "2019-11-08 15:38:19,479  - WARNING - This ist step number 3\n"
     ]
    },
    {
     "name": "stdout",
     "output_type": "stream",
     "text": [
      "This ist step number 3\n"
     ]
    },
    {
     "name": "stderr",
     "output_type": "stream",
     "text": [
      "2019-11-08 15:38:19,483  - WARNING - Enter loop with counter 3\n"
     ]
    },
    {
     "name": "stdout",
     "output_type": "stream",
     "text": [
      "Enter loop with counter 3\n",
      "[[11552.45967262 11181.48051374 10762.70221099 ...     0.\n",
      "      0.             0.        ]\n",
      " [11181.48051374 11419.24170029 11142.2524872  ...     0.\n",
      "      0.             0.        ]\n",
      " [10762.70221099 11142.2524872  11455.55891212 ...     0.\n",
      "      0.             0.        ]\n",
      " ...\n",
      " [    0.             0.             0.         ...     0.\n",
      "      0.             0.        ]\n",
      " [    0.             0.             0.         ...     0.\n",
      "      0.             0.        ]\n",
      " [    0.             0.             0.         ...     0.\n",
      "      0.             0.        ]]\n"
     ]
    },
    {
     "name": "stderr",
     "output_type": "stream",
     "text": [
      "2019-11-08 15:38:21,239  - INFO - Molekule 4\n"
     ]
    },
    {
     "name": "stdout",
     "output_type": "stream",
     "text": [
      "Molekule 4\n"
     ]
    },
    {
     "name": "stderr",
     "output_type": "stream",
     "text": [
      "2019-11-08 15:38:21,240  - INFO - Charges:\n"
     ]
    },
    {
     "name": "stdout",
     "output_type": "stream",
     "text": [
      "Charges:\n"
     ]
    },
    {
     "name": "stderr",
     "output_type": "stream",
     "text": [
      "2019-11-08 15:38:21,248  - INFO - [1.67237502e-03 4.44191544e-03 3.23902664e-03 1.00134229e-03\n",
      " 1.01971601e-03 1.01971601e-03 1.01971601e-03 1.50953907e-03\n",
      " 1.50953907e-03 1.14443161e-03 1.14443161e-03 1.51145924e-05]\n"
     ]
    },
    {
     "name": "stdout",
     "output_type": "stream",
     "text": [
      "[1.67237502e-03 4.44191544e-03 3.23902664e-03 1.00134229e-03\n",
      " 1.01971601e-03 1.01971601e-03 1.01971601e-03 1.50953907e-03\n",
      " 1.50953907e-03 1.14443161e-03 1.14443161e-03 1.51145924e-05]\n"
     ]
    },
    {
     "name": "stderr",
     "output_type": "stream",
     "text": [
      "2019-11-08 15:38:21,250  - INFO - Dipoles:\n"
     ]
    },
    {
     "name": "stdout",
     "output_type": "stream",
     "text": [
      "Dipoles:\n"
     ]
    },
    {
     "name": "stderr",
     "output_type": "stream",
     "text": [
      "2019-11-08 15:38:21,252  - INFO - [0. 0. 0. 0. 0. 0. 0. 0. 0. 0. 0. 0. 0. 0. 0. 0. 0. 0. 0. 0. 0. 0. 0. 0.\n",
      " 0. 0. 0. 0. 0. 0. 0. 0. 0. 0. 0. 0.]\n"
     ]
    },
    {
     "name": "stdout",
     "output_type": "stream",
     "text": [
      "[0. 0. 0. 0. 0. 0. 0. 0. 0. 0. 0. 0. 0. 0. 0. 0. 0. 0. 0. 0. 0. 0. 0. 0.\n",
      " 0. 0. 0. 0. 0. 0. 0. 0. 0. 0. 0. 0.]\n"
     ]
    },
    {
     "name": "stderr",
     "output_type": "stream",
     "text": [
      "2019-11-08 15:38:21,258  - WARNING - This ist step number 4\n"
     ]
    },
    {
     "name": "stdout",
     "output_type": "stream",
     "text": [
      "This ist step number 4\n"
     ]
    },
    {
     "name": "stderr",
     "output_type": "stream",
     "text": [
      "2019-11-08 15:38:21,261  - WARNING - Enter loop with counter 4\n"
     ]
    },
    {
     "name": "stdout",
     "output_type": "stream",
     "text": [
      "Enter loop with counter 4\n",
      "[[11552.45967262 11181.48051374 10762.70221099 ...     0.\n",
      "      0.             0.        ]\n",
      " [11181.48051374 11419.24170029 11142.2524872  ...     0.\n",
      "      0.             0.        ]\n",
      " [10762.70221099 11142.2524872  11455.55891212 ...     0.\n",
      "      0.             0.        ]\n",
      " ...\n",
      " [    0.             0.             0.         ...     0.\n",
      "      0.             0.        ]\n",
      " [    0.             0.             0.         ...     0.\n",
      "      0.             0.        ]\n",
      " [    0.             0.             0.         ...     0.\n",
      "      0.             0.        ]]\n"
     ]
    },
    {
     "name": "stderr",
     "output_type": "stream",
     "text": [
      "2019-11-08 15:38:23,693  - INFO - Molekule 5\n"
     ]
    },
    {
     "name": "stdout",
     "output_type": "stream",
     "text": [
      "Molekule 5\n"
     ]
    },
    {
     "name": "stderr",
     "output_type": "stream",
     "text": [
      "2019-11-08 15:38:23,694  - INFO - Charges:\n"
     ]
    },
    {
     "name": "stdout",
     "output_type": "stream",
     "text": [
      "Charges:\n"
     ]
    },
    {
     "name": "stderr",
     "output_type": "stream",
     "text": [
      "2019-11-08 15:38:23,703  - INFO - [9.61545376e-04 2.04516012e-03 1.16161342e-03 4.81545017e-04\n",
      " 4.04255769e-04 4.04255769e-04 4.04255769e-04 6.84054709e-04\n",
      " 6.84054709e-04 5.43846441e-04 5.43846441e-04 1.82042945e-05]\n"
     ]
    },
    {
     "name": "stdout",
     "output_type": "stream",
     "text": [
      "[9.61545376e-04 2.04516012e-03 1.16161342e-03 4.81545017e-04\n",
      " 4.04255769e-04 4.04255769e-04 4.04255769e-04 6.84054709e-04\n",
      " 6.84054709e-04 5.43846441e-04 5.43846441e-04 1.82042945e-05]\n"
     ]
    },
    {
     "name": "stderr",
     "output_type": "stream",
     "text": [
      "2019-11-08 15:38:23,707  - INFO - Dipoles:\n"
     ]
    },
    {
     "name": "stdout",
     "output_type": "stream",
     "text": [
      "Dipoles:\n"
     ]
    },
    {
     "name": "stderr",
     "output_type": "stream",
     "text": [
      "2019-11-08 15:38:23,709  - INFO - [0. 0. 0. 0. 0. 0. 0. 0. 0. 0. 0. 0. 0. 0. 0. 0. 0. 0. 0. 0. 0. 0. 0. 0.\n",
      " 0. 0. 0. 0. 0. 0. 0. 0. 0. 0. 0. 0.]\n"
     ]
    },
    {
     "name": "stdout",
     "output_type": "stream",
     "text": [
      "[0. 0. 0. 0. 0. 0. 0. 0. 0. 0. 0. 0. 0. 0. 0. 0. 0. 0. 0. 0. 0. 0. 0. 0.\n",
      " 0. 0. 0. 0. 0. 0. 0. 0. 0. 0. 0. 0.]\n"
     ]
    },
    {
     "name": "stderr",
     "output_type": "stream",
     "text": [
      "2019-11-08 15:38:23,713  - WARNING - This ist step number 5\n"
     ]
    },
    {
     "name": "stdout",
     "output_type": "stream",
     "text": [
      "This ist step number 5\n"
     ]
    },
    {
     "name": "stderr",
     "output_type": "stream",
     "text": [
      "2019-11-08 15:38:23,721  - WARNING - Enter loop with counter 5\n"
     ]
    },
    {
     "name": "stdout",
     "output_type": "stream",
     "text": [
      "Enter loop with counter 5\n",
      "[[11552.45967262 11181.48051374 10762.70221099 ...     0.\n",
      "      0.             0.        ]\n",
      " [11181.48051374 11419.24170029 11142.2524872  ...     0.\n",
      "      0.             0.        ]\n",
      " [10762.70221099 11142.2524872  11455.55891212 ...     0.\n",
      "      0.             0.        ]\n",
      " ...\n",
      " [    0.             0.             0.         ...     0.\n",
      "      0.             0.        ]\n",
      " [    0.             0.             0.         ...     0.\n",
      "      0.             0.        ]\n",
      " [    0.             0.             0.         ...     0.\n",
      "      0.             0.        ]]\n"
     ]
    },
    {
     "name": "stderr",
     "output_type": "stream",
     "text": [
      "2019-11-08 15:38:25,528  - INFO - Molekule 6\n"
     ]
    },
    {
     "name": "stdout",
     "output_type": "stream",
     "text": [
      "Molekule 6\n"
     ]
    },
    {
     "name": "stderr",
     "output_type": "stream",
     "text": [
      "2019-11-08 15:38:25,530  - INFO - Charges:\n"
     ]
    },
    {
     "name": "stdout",
     "output_type": "stream",
     "text": [
      "Charges:\n"
     ]
    },
    {
     "name": "stderr",
     "output_type": "stream",
     "text": [
      "2019-11-08 15:38:25,531  - INFO - [3.55221125e-04 9.08752245e-04 4.89924843e-04 1.96445526e-04\n",
      " 1.66142232e-04 1.66142232e-04 1.66142232e-04 3.01121519e-04\n",
      " 3.01121519e-04 2.25167782e-04 2.25167782e-04 6.44739008e-06]\n"
     ]
    },
    {
     "name": "stdout",
     "output_type": "stream",
     "text": [
      "[3.55221125e-04 9.08752245e-04 4.89924843e-04 1.96445526e-04\n",
      " 1.66142232e-04 1.66142232e-04 1.66142232e-04 3.01121519e-04\n",
      " 3.01121519e-04 2.25167782e-04 2.25167782e-04 6.44739008e-06]\n"
     ]
    },
    {
     "name": "stderr",
     "output_type": "stream",
     "text": [
      "2019-11-08 15:38:25,533  - INFO - Dipoles:\n"
     ]
    },
    {
     "name": "stdout",
     "output_type": "stream",
     "text": [
      "Dipoles:\n"
     ]
    },
    {
     "name": "stderr",
     "output_type": "stream",
     "text": [
      "2019-11-08 15:38:25,535  - INFO - [0. 0. 0. 0. 0. 0. 0. 0. 0. 0. 0. 0. 0. 0. 0. 0. 0. 0. 0. 0. 0. 0. 0. 0.\n",
      " 0. 0. 0. 0. 0. 0. 0. 0. 0. 0. 0. 0.]\n"
     ]
    },
    {
     "name": "stdout",
     "output_type": "stream",
     "text": [
      "[0. 0. 0. 0. 0. 0. 0. 0. 0. 0. 0. 0. 0. 0. 0. 0. 0. 0. 0. 0. 0. 0. 0. 0.\n",
      " 0. 0. 0. 0. 0. 0. 0. 0. 0. 0. 0. 0.]\n"
     ]
    },
    {
     "name": "stderr",
     "output_type": "stream",
     "text": [
      "2019-11-08 15:38:25,537  - WARNING - This ist step number 6\n"
     ]
    },
    {
     "name": "stdout",
     "output_type": "stream",
     "text": [
      "This ist step number 6\n"
     ]
    },
    {
     "name": "stderr",
     "output_type": "stream",
     "text": [
      "2019-11-08 15:38:25,538  - WARNING - Enter loop with counter 6\n"
     ]
    },
    {
     "name": "stdout",
     "output_type": "stream",
     "text": [
      "Enter loop with counter 6\n",
      "[[11552.45967262 11181.48051374 10762.70221099 ...     0.\n",
      "      0.             0.        ]\n",
      " [11181.48051374 11419.24170029 11142.2524872  ...     0.\n",
      "      0.             0.        ]\n",
      " [10762.70221099 11142.2524872  11455.55891212 ...     0.\n",
      "      0.             0.        ]\n",
      " ...\n",
      " [    0.             0.             0.         ...     0.\n",
      "      0.             0.        ]\n",
      " [    0.             0.             0.         ...     0.\n",
      "      0.             0.        ]\n",
      " [    0.             0.             0.         ...     0.\n",
      "      0.             0.        ]]\n"
     ]
    },
    {
     "name": "stderr",
     "output_type": "stream",
     "text": [
      "2019-11-08 15:38:27,341  - INFO - Molekule 7\n"
     ]
    },
    {
     "name": "stdout",
     "output_type": "stream",
     "text": [
      "Molekule 7\n"
     ]
    },
    {
     "name": "stderr",
     "output_type": "stream",
     "text": [
      "2019-11-08 15:38:27,342  - INFO - Charges:\n"
     ]
    },
    {
     "name": "stdout",
     "output_type": "stream",
     "text": [
      "Charges:\n"
     ]
    },
    {
     "name": "stderr",
     "output_type": "stream",
     "text": [
      "2019-11-08 15:38:27,344  - INFO - [1.52190167e-04 3.75669793e-04 2.18467267e-04 8.76238081e-05\n",
      " 7.01355496e-05 7.01355496e-05 7.01355496e-05 1.24400245e-04\n",
      " 1.24400245e-04 9.85478388e-05 9.85478388e-05 2.40060247e-06]\n"
     ]
    },
    {
     "name": "stdout",
     "output_type": "stream",
     "text": [
      "[1.52190167e-04 3.75669793e-04 2.18467267e-04 8.76238081e-05\n",
      " 7.01355496e-05 7.01355496e-05 7.01355496e-05 1.24400245e-04\n",
      " 1.24400245e-04 9.85478388e-05 9.85478388e-05 2.40060247e-06]\n"
     ]
    },
    {
     "name": "stderr",
     "output_type": "stream",
     "text": [
      "2019-11-08 15:38:27,346  - INFO - Dipoles:\n"
     ]
    },
    {
     "name": "stdout",
     "output_type": "stream",
     "text": [
      "Dipoles:\n"
     ]
    },
    {
     "name": "stderr",
     "output_type": "stream",
     "text": [
      "2019-11-08 15:38:27,347  - INFO - [0. 0. 0. 0. 0. 0. 0. 0. 0. 0. 0. 0. 0. 0. 0. 0. 0. 0. 0. 0. 0. 0. 0. 0.\n",
      " 0. 0. 0. 0. 0. 0. 0. 0. 0. 0. 0. 0.]\n"
     ]
    },
    {
     "name": "stdout",
     "output_type": "stream",
     "text": [
      "[0. 0. 0. 0. 0. 0. 0. 0. 0. 0. 0. 0. 0. 0. 0. 0. 0. 0. 0. 0. 0. 0. 0. 0.\n",
      " 0. 0. 0. 0. 0. 0. 0. 0. 0. 0. 0. 0.]\n"
     ]
    },
    {
     "name": "stderr",
     "output_type": "stream",
     "text": [
      "2019-11-08 15:38:27,349  - WARNING - This ist step number 7\n"
     ]
    },
    {
     "name": "stdout",
     "output_type": "stream",
     "text": [
      "This ist step number 7\n"
     ]
    },
    {
     "name": "stderr",
     "output_type": "stream",
     "text": [
      "2019-11-08 15:38:27,351  - WARNING - Enter loop with counter 7\n"
     ]
    },
    {
     "name": "stdout",
     "output_type": "stream",
     "text": [
      "Enter loop with counter 7\n",
      "[[11552.45967262 11181.48051374 10762.70221099 ...     0.\n",
      "      0.             0.        ]\n",
      " [11181.48051374 11419.24170029 11142.2524872  ...     0.\n",
      "      0.             0.        ]\n",
      " [10762.70221099 11142.2524872  11455.55891212 ...     0.\n",
      "      0.             0.        ]\n",
      " ...\n",
      " [    0.             0.             0.         ...     0.\n",
      "      0.             0.        ]\n",
      " [    0.             0.             0.         ...     0.\n",
      "      0.             0.        ]\n",
      " [    0.             0.             0.         ...     0.\n",
      "      0.             0.        ]]\n"
     ]
    },
    {
     "name": "stderr",
     "output_type": "stream",
     "text": [
      "2019-11-08 15:38:29,030  - INFO - Molekule 8\n"
     ]
    },
    {
     "name": "stdout",
     "output_type": "stream",
     "text": [
      "Molekule 8\n"
     ]
    },
    {
     "name": "stderr",
     "output_type": "stream",
     "text": [
      "2019-11-08 15:38:29,031  - INFO - Charges:\n"
     ]
    },
    {
     "name": "stdout",
     "output_type": "stream",
     "text": [
      "Charges:\n"
     ]
    },
    {
     "name": "stderr",
     "output_type": "stream",
     "text": [
      "2019-11-08 15:38:29,033  - INFO - [6.51304446e-05 1.60945028e-04 9.15637405e-05 3.64832338e-05\n",
      " 3.01600647e-05 3.01600647e-05 3.01600647e-05 5.34073527e-05\n",
      " 5.34073527e-05 4.13982883e-05 4.13982883e-05 1.06450289e-06]\n"
     ]
    },
    {
     "name": "stdout",
     "output_type": "stream",
     "text": [
      "[6.51304446e-05 1.60945028e-04 9.15637405e-05 3.64832338e-05\n",
      " 3.01600647e-05 3.01600647e-05 3.01600647e-05 5.34073527e-05\n",
      " 5.34073527e-05 4.13982883e-05 4.13982883e-05 1.06450289e-06]\n"
     ]
    },
    {
     "name": "stderr",
     "output_type": "stream",
     "text": [
      "2019-11-08 15:38:29,035  - INFO - Dipoles:\n"
     ]
    },
    {
     "name": "stdout",
     "output_type": "stream",
     "text": [
      "Dipoles:\n"
     ]
    },
    {
     "name": "stderr",
     "output_type": "stream",
     "text": [
      "2019-11-08 15:38:29,037  - INFO - [0. 0. 0. 0. 0. 0. 0. 0. 0. 0. 0. 0. 0. 0. 0. 0. 0. 0. 0. 0. 0. 0. 0. 0.\n",
      " 0. 0. 0. 0. 0. 0. 0. 0. 0. 0. 0. 0.]\n"
     ]
    },
    {
     "name": "stdout",
     "output_type": "stream",
     "text": [
      "[0. 0. 0. 0. 0. 0. 0. 0. 0. 0. 0. 0. 0. 0. 0. 0. 0. 0. 0. 0. 0. 0. 0. 0.\n",
      " 0. 0. 0. 0. 0. 0. 0. 0. 0. 0. 0. 0.]\n"
     ]
    },
    {
     "name": "stderr",
     "output_type": "stream",
     "text": [
      "2019-11-08 15:38:29,043  - WARNING - This ist step number 8\n"
     ]
    },
    {
     "name": "stdout",
     "output_type": "stream",
     "text": [
      "This ist step number 8\n"
     ]
    },
    {
     "name": "stderr",
     "output_type": "stream",
     "text": [
      "2019-11-08 15:38:29,045  - WARNING - Enter loop with counter 8\n"
     ]
    },
    {
     "name": "stdout",
     "output_type": "stream",
     "text": [
      "Enter loop with counter 8\n",
      "[[11552.45967262 11181.48051374 10762.70221099 ...     0.\n",
      "      0.             0.        ]\n",
      " [11181.48051374 11419.24170029 11142.2524872  ...     0.\n",
      "      0.             0.        ]\n",
      " [10762.70221099 11142.2524872  11455.55891212 ...     0.\n",
      "      0.             0.        ]\n",
      " ...\n",
      " [    0.             0.             0.         ...     0.\n",
      "      0.             0.        ]\n",
      " [    0.             0.             0.         ...     0.\n",
      "      0.             0.        ]\n",
      " [    0.             0.             0.         ...     0.\n",
      "      0.             0.        ]]\n"
     ]
    },
    {
     "name": "stderr",
     "output_type": "stream",
     "text": [
      "2019-11-08 15:38:30,692  - INFO - Molekule 9\n"
     ]
    },
    {
     "name": "stdout",
     "output_type": "stream",
     "text": [
      "Molekule 9\n"
     ]
    },
    {
     "name": "stderr",
     "output_type": "stream",
     "text": [
      "2019-11-08 15:38:30,694  - INFO - Charges:\n"
     ]
    },
    {
     "name": "stdout",
     "output_type": "stream",
     "text": [
      "Charges:\n"
     ]
    },
    {
     "name": "stderr",
     "output_type": "stream",
     "text": [
      "2019-11-08 15:38:30,696  - INFO - [2.77506842e-05 6.84183724e-05 3.90558375e-05 1.56277608e-05\n",
      " 1.27978938e-05 1.27978938e-05 1.27978938e-05 2.26887592e-05\n",
      " 2.26887592e-05 1.76859242e-05 1.76859242e-05 4.54085198e-07]\n"
     ]
    },
    {
     "name": "stdout",
     "output_type": "stream",
     "text": [
      "[2.77506842e-05 6.84183724e-05 3.90558375e-05 1.56277608e-05\n",
      " 1.27978938e-05 1.27978938e-05 1.27978938e-05 2.26887592e-05\n",
      " 2.26887592e-05 1.76859242e-05 1.76859242e-05 4.54085198e-07]\n"
     ]
    },
    {
     "name": "stderr",
     "output_type": "stream",
     "text": [
      "2019-11-08 15:38:30,698  - INFO - Dipoles:\n"
     ]
    },
    {
     "name": "stdout",
     "output_type": "stream",
     "text": [
      "Dipoles:\n"
     ]
    },
    {
     "name": "stderr",
     "output_type": "stream",
     "text": [
      "2019-11-08 15:38:30,708  - INFO - [0. 0. 0. 0. 0. 0. 0. 0. 0. 0. 0. 0. 0. 0. 0. 0. 0. 0. 0. 0. 0. 0. 0. 0.\n",
      " 0. 0. 0. 0. 0. 0. 0. 0. 0. 0. 0. 0.]\n"
     ]
    },
    {
     "name": "stdout",
     "output_type": "stream",
     "text": [
      "[0. 0. 0. 0. 0. 0. 0. 0. 0. 0. 0. 0. 0. 0. 0. 0. 0. 0. 0. 0. 0. 0. 0. 0.\n",
      " 0. 0. 0. 0. 0. 0. 0. 0. 0. 0. 0. 0.]\n"
     ]
    },
    {
     "name": "stderr",
     "output_type": "stream",
     "text": [
      "2019-11-08 15:38:30,710  - WARNING - This ist step number 9\n"
     ]
    },
    {
     "name": "stdout",
     "output_type": "stream",
     "text": [
      "This ist step number 9\n"
     ]
    },
    {
     "name": "stderr",
     "output_type": "stream",
     "text": [
      "2019-11-08 15:38:30,713  - WARNING - Enter loop with counter 9\n"
     ]
    },
    {
     "name": "stdout",
     "output_type": "stream",
     "text": [
      "Enter loop with counter 9\n",
      "[[11552.45967262 11181.48051374 10762.70221099 ...     0.\n",
      "      0.             0.        ]\n",
      " [11181.48051374 11419.24170029 11142.2524872  ...     0.\n",
      "      0.             0.        ]\n",
      " [10762.70221099 11142.2524872  11455.55891212 ...     0.\n",
      "      0.             0.        ]\n",
      " ...\n",
      " [    0.             0.             0.         ...     0.\n",
      "      0.             0.        ]\n",
      " [    0.             0.             0.         ...     0.\n",
      "      0.             0.        ]\n",
      " [    0.             0.             0.         ...     0.\n",
      "      0.             0.        ]]\n"
     ]
    },
    {
     "name": "stderr",
     "output_type": "stream",
     "text": [
      "2019-11-08 15:38:32,357  - INFO - Molekule 10\n"
     ]
    },
    {
     "name": "stdout",
     "output_type": "stream",
     "text": [
      "Molekule 10\n"
     ]
    },
    {
     "name": "stderr",
     "output_type": "stream",
     "text": [
      "2019-11-08 15:38:32,359  - INFO - Charges:\n"
     ]
    },
    {
     "name": "stdout",
     "output_type": "stream",
     "text": [
      "Charges:\n"
     ]
    },
    {
     "name": "stderr",
     "output_type": "stream",
     "text": [
      "2019-11-08 15:38:32,360  - INFO - [1.17937781e-05 2.91370903e-05 1.66086106e-05 6.63741058e-06\n",
      " 5.44907077e-06 5.44907077e-06 5.44907077e-06 9.66326166e-06\n",
      " 9.66326166e-06 7.51769736e-06 7.51769736e-06 1.92937993e-07]\n"
     ]
    },
    {
     "name": "stdout",
     "output_type": "stream",
     "text": [
      "[1.17937781e-05 2.91370903e-05 1.66086106e-05 6.63741058e-06\n",
      " 5.44907077e-06 5.44907077e-06 5.44907077e-06 9.66326166e-06\n",
      " 9.66326166e-06 7.51769736e-06 7.51769736e-06 1.92937993e-07]\n"
     ]
    },
    {
     "name": "stderr",
     "output_type": "stream",
     "text": [
      "2019-11-08 15:38:32,362  - INFO - Dipoles:\n"
     ]
    },
    {
     "name": "stdout",
     "output_type": "stream",
     "text": [
      "Dipoles:\n"
     ]
    },
    {
     "name": "stderr",
     "output_type": "stream",
     "text": [
      "2019-11-08 15:38:32,364  - INFO - [0. 0. 0. 0. 0. 0. 0. 0. 0. 0. 0. 0. 0. 0. 0. 0. 0. 0. 0. 0. 0. 0. 0. 0.\n",
      " 0. 0. 0. 0. 0. 0. 0. 0. 0. 0. 0. 0.]\n"
     ]
    },
    {
     "name": "stdout",
     "output_type": "stream",
     "text": [
      "[0. 0. 0. 0. 0. 0. 0. 0. 0. 0. 0. 0. 0. 0. 0. 0. 0. 0. 0. 0. 0. 0. 0. 0.\n",
      " 0. 0. 0. 0. 0. 0. 0. 0. 0. 0. 0. 0.]\n"
     ]
    },
    {
     "name": "stderr",
     "output_type": "stream",
     "text": [
      "2019-11-08 15:38:32,366  - WARNING - This ist step number 10\n"
     ]
    },
    {
     "name": "stdout",
     "output_type": "stream",
     "text": [
      "This ist step number 10\n"
     ]
    },
    {
     "name": "stderr",
     "output_type": "stream",
     "text": [
      "2019-11-08 15:38:32,368  - WARNING - Enter loop with counter 10\n"
     ]
    },
    {
     "name": "stdout",
     "output_type": "stream",
     "text": [
      "Enter loop with counter 10\n",
      "[[11552.45967262 11181.48051374 10762.70221099 ...     0.\n",
      "      0.             0.        ]\n",
      " [11181.48051374 11419.24170029 11142.2524872  ...     0.\n",
      "      0.             0.        ]\n",
      " [10762.70221099 11142.2524872  11455.55891212 ...     0.\n",
      "      0.             0.        ]\n",
      " ...\n",
      " [    0.             0.             0.         ...     0.\n",
      "      0.             0.        ]\n",
      " [    0.             0.             0.         ...     0.\n",
      "      0.             0.        ]\n",
      " [    0.             0.             0.         ...     0.\n",
      "      0.             0.        ]]\n"
     ]
    },
    {
     "name": "stderr",
     "output_type": "stream",
     "text": [
      "2019-11-08 15:38:34,008  - WARNING - This ist step number 11\n"
     ]
    },
    {
     "name": "stdout",
     "output_type": "stream",
     "text": [
      "This ist step number 11\n"
     ]
    }
   ],
   "source": [
    "alldirections=[['X+',[-0.01,0.0,0.0]],['X-',[0.01,0.0,0.0]],['Y+',[0.0,-0.01,0.0]],['Y-',[0.0,0.01,0.0]],['Z+',[0.0,0.0,-0.01]],['Z-',[0.0,0.0,0.01]]]\n",
    "ROOT_DIR_PATH='/home/mschauperl/kirk/charge_method/medium_set/'\n",
    "test = resppol.resppol.TrainingSet(mode='q_alpha',SCF= False, thole = False, FF='resppol/data/test_data/BCCelementPOL.offxml')\n",
    "\n",
    "\n",
    "for nmol in range(1,2,1):\n",
    "    print('Read in Molecule {}'.format(nmol))\n",
    "    nconf=0\n",
    "    datei = os.path.join(ROOT_DIR_PATH, 'molecule{}/conf0/mp2_0.mol2'.format(nmol))\n",
    "    test.add_molecule(datei)\n",
    "    directory=os.path.join(ROOT_DIR_PATH,'molecule{}'.format(nmol))\n",
    "    for dire in os.listdir(directory):\n",
    "        if os.path.isdir(os.path.join(directory,dire)):\n",
    "            datei = os.path.join(ROOT_DIR_PATH, 'molecule{0}/conf{1}/mp2_{1}.mol2'.format(nmol,nconf))\n",
    "            test.molecules[nmol-1].add_conformer_from_mol2(datei)\n",
    "            espfile = os.path.join(ROOT_DIR_PATH, 'molecule{0}/conf{1}/molecule{1}.gesp'.format(nmol,nconf))\n",
    "            test.molecules[nmol-1].conformers[nconf].add_baseESP(espfile)\n",
    "            print(\"Read in {}\".format(espfile))\n",
    "            for direction,vector in alldirections:\n",
    "                espfile = os.path.join(ROOT_DIR_PATH, 'molecule{}/conf{}/molecule_{}.gesp'.format(nmol,nconf,direction))\n",
    "                test.molecules[nmol-1].conformers[nconf].add_polESP(espfile, e_field=Q_(vector, 'elementary_charge / bohr / bohr'))\n",
    "                print(\"Read in {} {}\".format(espfile,vector))\n",
    "            nconf+=1\n",
    "test.optimize_charges_alpha()"
   ]
  },
  {
   "cell_type": "code",
   "execution_count": 4,
   "metadata": {},
   "outputs": [
    {
     "name": "stdout",
     "output_type": "stream",
     "text": [
      "Read in Molecule 1\n",
      "Read in Molecule 2\n"
     ]
    },
    {
     "name": "stderr",
     "output_type": "stream",
     "text": [
      "2019-11-08 14:52:37,908  - WARNING - Enter loop with counter 0\n"
     ]
    },
    {
     "name": "stdout",
     "output_type": "stream",
     "text": [
      "Enter loop with counter 0\n"
     ]
    },
    {
     "name": "stderr",
     "output_type": "stream",
     "text": [
      "2019-11-08 14:52:37,952  - WARNING - I do not have AM1-type charges\n"
     ]
    },
    {
     "name": "stdout",
     "output_type": "stream",
     "text": [
      "I do not have AM1-type charges\n"
     ]
    },
    {
     "name": "stderr",
     "output_type": "stream",
     "text": [
      "2019-11-08 14:52:38,359  - WARNING - I do not have AM1-type charges\n"
     ]
    },
    {
     "name": "stdout",
     "output_type": "stream",
     "text": [
      "I do not have AM1-type charges\n"
     ]
    },
    {
     "name": "stderr",
     "output_type": "stream",
     "text": [
      "2019-11-08 14:52:38,736  - WARNING - I do not have AM1-type charges\n"
     ]
    },
    {
     "name": "stdout",
     "output_type": "stream",
     "text": [
      "I do not have AM1-type charges\n"
     ]
    },
    {
     "name": "stderr",
     "output_type": "stream",
     "text": [
      "2019-11-08 14:52:39,098  - WARNING - I do not have AM1-type charges\n"
     ]
    },
    {
     "name": "stdout",
     "output_type": "stream",
     "text": [
      "I do not have AM1-type charges\n"
     ]
    },
    {
     "name": "stderr",
     "output_type": "stream",
     "text": [
      "2019-11-08 14:52:39,653  - WARNING - I do not have AM1-type charges\n"
     ]
    },
    {
     "name": "stdout",
     "output_type": "stream",
     "text": [
      "I do not have AM1-type charges\n"
     ]
    },
    {
     "name": "stderr",
     "output_type": "stream",
     "text": [
      "2019-11-08 14:52:40,020  - WARNING - I do not have AM1-type charges\n"
     ]
    },
    {
     "name": "stdout",
     "output_type": "stream",
     "text": [
      "I do not have AM1-type charges\n"
     ]
    },
    {
     "name": "stderr",
     "output_type": "stream",
     "text": [
      "2019-11-08 14:52:40,626  - WARNING - This ist step number 1\n"
     ]
    },
    {
     "name": "stdout",
     "output_type": "stream",
     "text": [
      "This ist step number 1\n"
     ]
    },
    {
     "name": "stderr",
     "output_type": "stream",
     "text": [
      "2019-11-08 14:52:40,632  - WARNING - This ist step number 1\n"
     ]
    },
    {
     "name": "stdout",
     "output_type": "stream",
     "text": [
      "This ist step number 1\n"
     ]
    },
    {
     "name": "stderr",
     "output_type": "stream",
     "text": [
      "2019-11-08 14:52:40,636  - WARNING - Enter loop with counter 1\n"
     ]
    },
    {
     "name": "stdout",
     "output_type": "stream",
     "text": [
      "Enter loop with counter 1\n"
     ]
    },
    {
     "name": "stderr",
     "output_type": "stream",
     "text": [
      "2019-11-08 14:52:43,586  - WARNING - This ist step number 2\n"
     ]
    },
    {
     "name": "stdout",
     "output_type": "stream",
     "text": [
      "This ist step number 2\n"
     ]
    },
    {
     "name": "stderr",
     "output_type": "stream",
     "text": [
      "2019-11-08 14:52:43,588  - WARNING - This ist step number 2\n"
     ]
    },
    {
     "name": "stdout",
     "output_type": "stream",
     "text": [
      "This ist step number 2\n"
     ]
    },
    {
     "name": "stderr",
     "output_type": "stream",
     "text": [
      "2019-11-08 14:52:43,589  - WARNING - Enter loop with counter 2\n"
     ]
    },
    {
     "name": "stdout",
     "output_type": "stream",
     "text": [
      "Enter loop with counter 2\n"
     ]
    },
    {
     "name": "stderr",
     "output_type": "stream",
     "text": [
      "2019-11-08 14:52:46,005  - WARNING - This ist step number 3\n"
     ]
    },
    {
     "name": "stdout",
     "output_type": "stream",
     "text": [
      "This ist step number 3\n"
     ]
    },
    {
     "name": "stderr",
     "output_type": "stream",
     "text": [
      "2019-11-08 14:52:46,007  - WARNING - This ist step number 3\n"
     ]
    },
    {
     "name": "stdout",
     "output_type": "stream",
     "text": [
      "This ist step number 3\n"
     ]
    },
    {
     "name": "stderr",
     "output_type": "stream",
     "text": [
      "2019-11-08 14:52:46,009  - WARNING - Enter loop with counter 3\n"
     ]
    },
    {
     "name": "stdout",
     "output_type": "stream",
     "text": [
      "Enter loop with counter 3\n"
     ]
    },
    {
     "name": "stderr",
     "output_type": "stream",
     "text": [
      "2019-11-08 14:52:48,537  - WARNING - This ist step number 4\n"
     ]
    },
    {
     "name": "stdout",
     "output_type": "stream",
     "text": [
      "This ist step number 4\n"
     ]
    },
    {
     "name": "stderr",
     "output_type": "stream",
     "text": [
      "2019-11-08 14:52:48,539  - WARNING - This ist step number 4\n"
     ]
    },
    {
     "name": "stdout",
     "output_type": "stream",
     "text": [
      "This ist step number 4\n"
     ]
    },
    {
     "name": "stderr",
     "output_type": "stream",
     "text": [
      "2019-11-08 14:52:48,541  - WARNING - Enter loop with counter 4\n"
     ]
    },
    {
     "name": "stdout",
     "output_type": "stream",
     "text": [
      "Enter loop with counter 4\n"
     ]
    },
    {
     "name": "stderr",
     "output_type": "stream",
     "text": [
      "2019-11-08 14:52:51,052  - WARNING - This ist step number 5\n"
     ]
    },
    {
     "name": "stdout",
     "output_type": "stream",
     "text": [
      "This ist step number 5\n"
     ]
    },
    {
     "name": "stderr",
     "output_type": "stream",
     "text": [
      "2019-11-08 14:52:51,054  - WARNING - This ist step number 5\n"
     ]
    },
    {
     "name": "stdout",
     "output_type": "stream",
     "text": [
      "This ist step number 5\n"
     ]
    },
    {
     "name": "stderr",
     "output_type": "stream",
     "text": [
      "2019-11-08 14:52:51,056  - WARNING - Enter loop with counter 5\n"
     ]
    },
    {
     "name": "stdout",
     "output_type": "stream",
     "text": [
      "Enter loop with counter 5\n"
     ]
    },
    {
     "name": "stderr",
     "output_type": "stream",
     "text": [
      "2019-11-08 14:52:53,542  - WARNING - This ist step number 6\n"
     ]
    },
    {
     "name": "stdout",
     "output_type": "stream",
     "text": [
      "This ist step number 6\n"
     ]
    },
    {
     "name": "stderr",
     "output_type": "stream",
     "text": [
      "2019-11-08 14:52:53,544  - WARNING - This ist step number 6\n"
     ]
    },
    {
     "name": "stdout",
     "output_type": "stream",
     "text": [
      "This ist step number 6\n"
     ]
    },
    {
     "name": "stderr",
     "output_type": "stream",
     "text": [
      "2019-11-08 14:52:53,546  - WARNING - Enter loop with counter 6\n"
     ]
    },
    {
     "name": "stdout",
     "output_type": "stream",
     "text": [
      "Enter loop with counter 6\n"
     ]
    },
    {
     "name": "stderr",
     "output_type": "stream",
     "text": [
      "2019-11-08 14:52:56,032  - WARNING - This ist step number 7\n"
     ]
    },
    {
     "name": "stdout",
     "output_type": "stream",
     "text": [
      "This ist step number 7\n"
     ]
    },
    {
     "name": "stderr",
     "output_type": "stream",
     "text": [
      "2019-11-08 14:52:56,034  - WARNING - This ist step number 7\n"
     ]
    },
    {
     "name": "stdout",
     "output_type": "stream",
     "text": [
      "This ist step number 7\n"
     ]
    },
    {
     "name": "stderr",
     "output_type": "stream",
     "text": [
      "2019-11-08 14:52:56,036  - WARNING - Enter loop with counter 7\n"
     ]
    },
    {
     "name": "stdout",
     "output_type": "stream",
     "text": [
      "Enter loop with counter 7\n"
     ]
    },
    {
     "name": "stderr",
     "output_type": "stream",
     "text": [
      "2019-11-08 14:52:58,551  - WARNING - This ist step number 8\n"
     ]
    },
    {
     "name": "stdout",
     "output_type": "stream",
     "text": [
      "This ist step number 8\n"
     ]
    },
    {
     "name": "stderr",
     "output_type": "stream",
     "text": [
      "2019-11-08 14:52:58,553  - WARNING - This ist step number 8\n"
     ]
    },
    {
     "name": "stdout",
     "output_type": "stream",
     "text": [
      "This ist step number 8\n"
     ]
    },
    {
     "name": "stderr",
     "output_type": "stream",
     "text": [
      "2019-11-08 14:52:58,555  - WARNING - Enter loop with counter 8\n"
     ]
    },
    {
     "name": "stdout",
     "output_type": "stream",
     "text": [
      "Enter loop with counter 8\n"
     ]
    },
    {
     "name": "stderr",
     "output_type": "stream",
     "text": [
      "2019-11-08 14:53:01,049  - WARNING - This ist step number 9\n"
     ]
    },
    {
     "name": "stdout",
     "output_type": "stream",
     "text": [
      "This ist step number 9\n"
     ]
    },
    {
     "name": "stderr",
     "output_type": "stream",
     "text": [
      "2019-11-08 14:53:01,051  - WARNING - This ist step number 9\n"
     ]
    },
    {
     "name": "stdout",
     "output_type": "stream",
     "text": [
      "This ist step number 9\n"
     ]
    },
    {
     "name": "stderr",
     "output_type": "stream",
     "text": [
      "2019-11-08 14:53:01,053  - WARNING - Enter loop with counter 9\n"
     ]
    },
    {
     "name": "stdout",
     "output_type": "stream",
     "text": [
      "Enter loop with counter 9\n"
     ]
    },
    {
     "name": "stderr",
     "output_type": "stream",
     "text": [
      "2019-11-08 14:53:03,615  - WARNING - This ist step number 10\n"
     ]
    },
    {
     "name": "stdout",
     "output_type": "stream",
     "text": [
      "This ist step number 10\n"
     ]
    },
    {
     "name": "stderr",
     "output_type": "stream",
     "text": [
      "2019-11-08 14:53:03,617  - WARNING - This ist step number 10\n"
     ]
    },
    {
     "name": "stdout",
     "output_type": "stream",
     "text": [
      "This ist step number 10\n"
     ]
    }
   ],
   "source": [
    "alldirections=[['X+',[-0.01,0.0,0.0]],['X-',[0.01,0.0,0.0]],['Y+',[0.0,-0.01,0.0]],['Y-',[0.0,0.01,0.0]],['Z+',[0.0,0.0,-0.01]],['Z-',[0.0,0.0,0.01]]]\n",
    "ROOT_DIR_PATH='/home/mschauperl/kirk/charge_method/medium_set/'\n",
    "test = resppol.resppol.TrainingSet(mode='q_alpha',SCF= False, thole = False, FF='resppol/data/test_data/BCCelementPOL.offxml')\n",
    "\n",
    "\n",
    "for nmol in range(1,3,1):\n",
    "    print('Read in Molecule {}'.format(nmol))\n",
    "    nconf=0\n",
    "    datei = os.path.join(ROOT_DIR_PATH, 'molecule{}/conf0/mp2_0.mol2'.format(nmol))\n",
    "    test.add_molecule(datei)\n",
    "    directory=os.path.join(ROOT_DIR_PATH,'molecule{}'.format(nmol))\n",
    "    for dire in os.listdir(directory):\n",
    "        if os.path.isdir(os.path.join(directory,dire)):\n",
    "            datei = os.path.join(ROOT_DIR_PATH, 'molecule{0}/conf{1}/mp2_{1}.mol2'.format(nmol,nconf))\n",
    "            test.molecules[nmol-1].add_conformer_from_mol2(datei)\n",
    "            espfile = os.path.join(ROOT_DIR_PATH, 'molecule{0}/conf{1}/molecule{1}.gesp'.format(nmol,nconf))\n",
    "            test.molecules[nmol-1].conformers[nconf].add_baseESP(espfile)\n",
    "            for direction,vector in alldirections:\n",
    "                espfile = os.path.join(ROOT_DIR_PATH, 'molecule{}/conf{}/molecule_{}.gesp'.format(nmol,nconf,direction))\n",
    "                test.molecules[nmol-1].conformers[nconf].add_polESP(espfile, e_field=Q_(vector, 'elementary_charge / bohr / bohr'))\n",
    "            nconf+=1\n",
    "test.optimize_charges_alpha()"
   ]
  },
  {
   "cell_type": "code",
   "execution_count": null,
   "metadata": {
    "pycharm": {
     "is_executing": true
    }
   },
   "outputs": [],
   "source": [
    "\n",
    "\n",
    "for dire in os.listdir(directory):\n",
    "    if os.path.isdir(os.path.join(directory,dire)):\n",
    "        print(dire)"
   ]
  },
  {
   "cell_type": "code",
   "execution_count": null,
   "metadata": {
    "pycharm": {
     "is_executing": true
    }
   },
   "outputs": [],
   "source": [
    "import openforcefield.topology as openff"
   ]
  },
  {
   "cell_type": "code",
   "execution_count": null,
   "metadata": {},
   "outputs": [],
   "source": [
    "from openeye import oechem\n",
    "for i in range(10,23,1):\n",
    "    \n",
    "    print('Molecule {}'.format(i))\n",
    "    oemol = oechem.OEMol()\n",
    "\n",
    "    # Open Input File Stream\n",
    "    ifs = oechem.oemolistream('/home/mschauperl/kirk/charge_method/medium_set/molecule{}/conf0/test.mol2'.format(i))\n",
    "\n",
    "    # Read from IFS to molecule\n",
    "    oechem.OEReadMol2File(ifs, oemol)\n",
    "\n",
    "    offmol = openff.Molecule.from_openeye(oemol)\n",
    "    offtop = openff.Topology.from_molecules(offmol)"
   ]
  },
  {
   "cell_type": "code",
   "execution_count": null,
   "metadata": {},
   "outputs": [],
   "source": [
    "offmol=openff.Molecule.from_file('/home/mschauperl/kirk/charge_method/medium_set/molecule10/conf0/mp2_0.mol2')"
   ]
  },
  {
   "cell_type": "code",
   "execution_count": null,
   "metadata": {},
   "outputs": [],
   "source": [
    "oechem.OEMolToSmiles(oemol)"
   ]
  },
  {
   "cell_type": "code",
   "execution_count": null,
   "metadata": {},
   "outputs": [],
   "source": [
    "offmol = openff.Molecule.from_openeye(oemol)\n",
    "offtop = openff.Topology.from_molecules(offmol)"
   ]
  },
  {
   "cell_type": "code",
   "execution_count": null,
   "metadata": {},
   "outputs": [],
   "source": []
  }
 ],
 "metadata": {
  "kernelspec": {
   "display_name": "Python (resppol)",
   "language": "python",
   "name": "resppol"
  },
  "language_info": {
   "codemirror_mode": {
    "name": "ipython",
    "version": 3
   },
   "file_extension": ".py",
   "mimetype": "text/x-python",
   "name": "python",
   "nbconvert_exporter": "python",
   "pygments_lexer": "ipython3",
   "version": "3.6.7"
  }
 },
 "nbformat": 4,
 "nbformat_minor": 2
}
