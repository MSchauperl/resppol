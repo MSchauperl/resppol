{
 "cells": [
  {
   "cell_type": "code",
   "execution_count": 1,
   "metadata": {},
   "outputs": [
    {
     "data": {
      "text/plain": [
       "'/home/mschauperl/programs/resppol/resppol/resppol.py'"
      ]
     },
     "execution_count": 1,
     "metadata": {},
     "output_type": "execute_result"
    }
   ],
   "source": [
    "#import resppol\n",
    "import resppol.resppol\n",
    "import os\n",
    "from pint import UnitRegistry\n",
    "ureg = UnitRegistry()\n",
    "Q_ = ureg.Quantity\n",
    "ureg.define('bohr = 0.52917721067 * angstrom')\n",
    "dir(resppol.resppol)\n",
    "resppol.resppol.__file__"
   ]
  },
  {
   "cell_type": "code",
   "execution_count": 2,
   "metadata": {},
   "outputs": [
    {
     "name": "stderr",
     "output_type": "stream",
     "text": [
      "2019-11-13 14:51:17,854  - INFO - Charge Dipole interactions are scaled using the following parameters None. \n"
     ]
    },
    {
     "name": "stdout",
     "output_type": "stream",
     "text": [
      "Charge Dipole interactions are scaled using the following parameters None. \n"
     ]
    },
    {
     "name": "stderr",
     "output_type": "stream",
     "text": [
      "2019-11-13 14:51:17,856  - INFO - If non are specified the default is 0.0, 0.0, 0.8333. This means that 1-2 and 1-3 interactions are neglected and 1-4 are scaled by a factor 0.8333. \n"
     ]
    },
    {
     "name": "stdout",
     "output_type": "stream",
     "text": [
      "If non are specified the default is 0.0, 0.0, 0.8333. This means that 1-2 and 1-3 interactions are neglected and 1-4 are scaled by a factor 0.8333. \n"
     ]
    },
    {
     "name": "stderr",
     "output_type": "stream",
     "text": [
      "2019-11-13 14:51:17,856  - INFO - Running in Mode: q_alpha\n"
     ]
    },
    {
     "name": "stdout",
     "output_type": "stream",
     "text": [
      "Running in Mode: q_alpha\n"
     ]
    },
    {
     "name": "stderr",
     "output_type": "stream",
     "text": [
      "2019-11-13 14:51:17,873  - INFO - The forcefield used for this run is /home/mschauperl/programs/resppol/resppol/../resppol/data/test_data/BCCelementPOL.offxml \n"
     ]
    },
    {
     "name": "stdout",
     "output_type": "stream",
     "text": [
      "The forcefield used for this run is /home/mschauperl/programs/resppol/resppol/../resppol/data/test_data/BCCelementPOL.offxml \n"
     ]
    }
   ],
   "source": [
    "alldirections=[['X+',[-0.01,0.0,0.0]],['X-',[0.01,0.0,0.0]],['Y+',[0.0,-0.01,0.0]],['Y-',[0.0,0.01,0.0]],['Z+',[0.0,0.0,-0.01]],['Z-',[0.0,0.0,0.01]]]\n",
    "ROOT_DIR_PATH='/home/mschauperl/kirk/charge_method/medium_set/'\n",
    "test = resppol.resppol.TrainingSet(mode='q_alpha',SCF= False, thole = False, FF='resppol/data/test_data/BCCelementPOL.offxml')\n",
    "\n"
   ]
  },
  {
   "cell_type": "code",
   "execution_count": 3,
   "metadata": {},
   "outputs": [
    {
     "name": "stderr",
     "output_type": "stream",
     "text": [
      "2019-11-13 14:51:17,881  - INFO - Charge Dipole interactions are scaled using the following parameters None. \n"
     ]
    },
    {
     "name": "stdout",
     "output_type": "stream",
     "text": [
      "Charge Dipole interactions are scaled using the following parameters None. \n"
     ]
    },
    {
     "name": "stderr",
     "output_type": "stream",
     "text": [
      "2019-11-13 14:51:17,881  - INFO - If non are specified the default is 0.0, 0.0, 0.8333. This means that 1-2 and 1-3 interactions are neglected and 1-4 are scaled by a factor 0.8333. \n"
     ]
    },
    {
     "name": "stdout",
     "output_type": "stream",
     "text": [
      "If non are specified the default is 0.0, 0.0, 0.8333. This means that 1-2 and 1-3 interactions are neglected and 1-4 are scaled by a factor 0.8333. \n"
     ]
    },
    {
     "name": "stderr",
     "output_type": "stream",
     "text": [
      "2019-11-13 14:51:17,882  - INFO - Running in Mode: q_alpha\n"
     ]
    },
    {
     "name": "stdout",
     "output_type": "stream",
     "text": [
      "Running in Mode: q_alpha\n"
     ]
    },
    {
     "name": "stderr",
     "output_type": "stream",
     "text": [
      "2019-11-13 14:51:17,956  - INFO - The forcefield used for this run is /home/mschauperl/programs/resppol/resppol/../resppol/data/test_data/BCCPOL.offxml \n"
     ]
    },
    {
     "name": "stdout",
     "output_type": "stream",
     "text": [
      "The forcefield used for this run is /home/mschauperl/programs/resppol/resppol/../resppol/data/test_data/BCCPOL.offxml \n"
     ]
    },
    {
     "name": "stderr",
     "output_type": "stream",
     "text": [
      "2019-11-13 14:51:18,037  - INFO - Add bond with type b14 between atom 0 and atom 1\n"
     ]
    },
    {
     "name": "stdout",
     "output_type": "stream",
     "text": [
      "Add bond with type b14 between atom 0 and atom 1\n"
     ]
    },
    {
     "name": "stderr",
     "output_type": "stream",
     "text": [
      "2019-11-13 14:51:18,038  - INFO - Add atom type n3 on atom 0\n"
     ]
    },
    {
     "name": "stdout",
     "output_type": "stream",
     "text": [
      "Add atom type n3 on atom 0\n"
     ]
    },
    {
     "name": "stderr",
     "output_type": "stream",
     "text": [
      "2019-11-13 14:51:18,039  - INFO - Add atom type n5 on atom 1\n"
     ]
    },
    {
     "name": "stdout",
     "output_type": "stream",
     "text": [
      "Add atom type n5 on atom 1\n"
     ]
    },
    {
     "name": "stderr",
     "output_type": "stream",
     "text": [
      "2019-11-13 14:51:18,040  - INFO - Added molecule number 0 from file /home/mschauperl/programs/resppol/resppol/data/fast_test_data/test2.mol2.\n"
     ]
    },
    {
     "name": "stdout",
     "output_type": "stream",
     "text": [
      "Added molecule number 0 from file /home/mschauperl/programs/resppol/resppol/data/fast_test_data/test2.mol2.\n"
     ]
    },
    {
     "name": "stderr",
     "output_type": "stream",
     "text": [
      "2019-11-13 14:51:18,121  - INFO - Add bond with type b14 between atom 0 and atom 1\n"
     ]
    },
    {
     "name": "stdout",
     "output_type": "stream",
     "text": [
      "Add bond with type b14 between atom 0 and atom 1\n"
     ]
    },
    {
     "name": "stderr",
     "output_type": "stream",
     "text": [
      "2019-11-13 14:51:18,122  - INFO - Add atom type n3 on atom 0\n"
     ]
    },
    {
     "name": "stdout",
     "output_type": "stream",
     "text": [
      "Add atom type n3 on atom 0\n"
     ]
    },
    {
     "name": "stderr",
     "output_type": "stream",
     "text": [
      "2019-11-13 14:51:18,123  - INFO - Add atom type n5 on atom 1\n"
     ]
    },
    {
     "name": "stdout",
     "output_type": "stream",
     "text": [
      "Add atom type n5 on atom 1\n"
     ]
    },
    {
     "name": "stderr",
     "output_type": "stream",
     "text": [
      "2019-11-13 14:51:18,124  - INFO - Added molecule number 1 from file /home/mschauperl/programs/resppol/resppol/data/fast_test_data/test2.mol2.\n"
     ]
    },
    {
     "name": "stdout",
     "output_type": "stream",
     "text": [
      "Added molecule number 1 from file /home/mschauperl/programs/resppol/resppol/data/fast_test_data/test2.mol2.\n"
     ]
    },
    {
     "name": "stderr",
     "output_type": "stream",
     "text": [
      "2019-11-13 14:51:18,126  - INFO - Added conformation 0 to molecule 0\n"
     ]
    },
    {
     "name": "stdout",
     "output_type": "stream",
     "text": [
      "Added conformation 0 to molecule 0\n"
     ]
    },
    {
     "name": "stderr",
     "output_type": "stream",
     "text": [
      "2019-11-13 14:51:18,127  - INFO - Added conformation 0 to molecule 1\n"
     ]
    },
    {
     "name": "stdout",
     "output_type": "stream",
     "text": [
      "Added conformation 0 to molecule 1\n"
     ]
    },
    {
     "name": "stderr",
     "output_type": "stream",
     "text": [
      "2019-11-13 14:51:18,130  - WARNING - NO AM1 charges are definied\n"
     ]
    },
    {
     "name": "stdout",
     "output_type": "stream",
     "text": [
      "NO AM1 charges are definied\n"
     ]
    },
    {
     "name": "stderr",
     "output_type": "stream",
     "text": [
      "2019-11-13 14:51:18,131  - WARNING - NO AM1 charges are definied\n"
     ]
    },
    {
     "name": "stdout",
     "output_type": "stream",
     "text": [
      "NO AM1 charges are definied\n"
     ]
    },
    {
     "name": "stderr",
     "output_type": "stream",
     "text": [
      "2019-11-13 14:51:18,131  - WARNING - Optimization Step 0\n"
     ]
    },
    {
     "name": "stdout",
     "output_type": "stream",
     "text": [
      "Optimization Step 0\n"
     ]
    },
    {
     "name": "stderr",
     "output_type": "stream",
     "text": [
      "2019-11-13 14:51:18,132  - WARNING - I do not have AM1-type charges\n"
     ]
    },
    {
     "name": "stdout",
     "output_type": "stream",
     "text": [
      "I do not have AM1-type charges\n"
     ]
    },
    {
     "name": "stderr",
     "output_type": "stream",
     "text": [
      "2019-11-13 14:51:18,786  - INFO - Build matrix X BCC for molecule 0\n"
     ]
    },
    {
     "name": "stdout",
     "output_type": "stream",
     "text": [
      "Build matrix X BCC for molecule 0\n"
     ]
    },
    {
     "name": "stderr",
     "output_type": "stream",
     "text": [
      "2019-11-13 14:51:18,787  - WARNING - I do not have AM1-type charges\n"
     ]
    },
    {
     "name": "stdout",
     "output_type": "stream",
     "text": [
      "I do not have AM1-type charges\n"
     ]
    },
    {
     "name": "stderr",
     "output_type": "stream",
     "text": [
      "2019-11-13 14:51:19,423  - INFO - Build matrix X BCC for molecule 1\n"
     ]
    },
    {
     "name": "stdout",
     "output_type": "stream",
     "text": [
      "Build matrix X BCC for molecule 1\n"
     ]
    },
    {
     "name": "stderr",
     "output_type": "stream",
     "text": [
      "2019-11-13 14:51:19,427  - INFO - Build vector Y BCC for molecule 0\n"
     ]
    },
    {
     "name": "stdout",
     "output_type": "stream",
     "text": [
      "Build vector Y BCC for molecule 0\n"
     ]
    },
    {
     "name": "stderr",
     "output_type": "stream",
     "text": [
      "2019-11-13 14:51:19,431  - INFO - Build vector Y BCC for molecule 1\n"
     ]
    },
    {
     "name": "stdout",
     "output_type": "stream",
     "text": [
      "Build vector Y BCC for molecule 1\n"
     ]
    },
    {
     "name": "stderr",
     "output_type": "stream",
     "text": [
      "2019-11-13 14:51:19,446  - INFO - Updating Bccs for all molecules\n"
     ]
    },
    {
     "name": "stdout",
     "output_type": "stream",
     "text": [
      "Updating Bccs for all molecules\n"
     ]
    },
    {
     "name": "stderr",
     "output_type": "stream",
     "text": [
      "2019-11-13 14:51:19,447  - INFO - Optimization step 1: BCCs\n"
     ]
    },
    {
     "name": "stdout",
     "output_type": "stream",
     "text": [
      "Optimization step 1: BCCs\n"
     ]
    },
    {
     "name": "stderr",
     "output_type": "stream",
     "text": [
      "2019-11-13 14:51:19,449  - INFO - [0.         0.         0.         0.         0.         0.\n",
      " 0.         0.         0.         0.         0.         0.\n",
      " 0.         8.63304618 0.         0.         0.         0.\n",
      " 0.         0.         0.         0.         0.         0.\n",
      " 0.         0.         0.         0.         0.         0.\n",
      " 0.         0.         0.         0.         0.         0.\n",
      " 0.         0.         0.         0.         0.         0.\n",
      " 0.         0.         0.         0.         0.         0.\n",
      " 0.         0.         0.         0.         0.         0.\n",
      " 0.         0.         0.         0.         0.         0.\n",
      " 0.         0.         0.         0.         0.         0.\n",
      " 0.         0.         0.         0.         0.         0.\n",
      " 0.         0.         0.         0.         0.         0.\n",
      " 0.         0.         0.         0.         0.         0.\n",
      " 0.         0.         0.        ]\n"
     ]
    },
    {
     "name": "stdout",
     "output_type": "stream",
     "text": [
      "[0.         0.         0.         0.         0.         0.\n",
      " 0.         0.         0.         0.         0.         0.\n",
      " 0.         8.63304618 0.         0.         0.         0.\n",
      " 0.         0.         0.         0.         0.         0.\n",
      " 0.         0.         0.         0.         0.         0.\n",
      " 0.         0.         0.         0.         0.         0.\n",
      " 0.         0.         0.         0.         0.         0.\n",
      " 0.         0.         0.         0.         0.         0.\n",
      " 0.         0.         0.         0.         0.         0.\n",
      " 0.         0.         0.         0.         0.         0.\n",
      " 0.         0.         0.         0.         0.         0.\n",
      " 0.         0.         0.         0.         0.         0.\n",
      " 0.         0.         0.         0.         0.         0.\n",
      " 0.         0.         0.         0.         0.         0.\n",
      " 0.         0.         0.        ]\n"
     ]
    },
    {
     "name": "stderr",
     "output_type": "stream",
     "text": [
      "2019-11-13 14:51:19,453  - INFO - Optimization step 1: Dipoles\n"
     ]
    },
    {
     "name": "stdout",
     "output_type": "stream",
     "text": [
      "Optimization step 1: Dipoles\n"
     ]
    },
    {
     "name": "stderr",
     "output_type": "stream",
     "text": [
      "2019-11-13 14:51:19,454  - INFO - [0.         0.         3.40047223 0.         3.40047223 0.\n",
      " 0.         0.         0.         0.         0.         0.\n",
      " 0.         0.         0.         0.         0.        ]\n"
     ]
    },
    {
     "name": "stdout",
     "output_type": "stream",
     "text": [
      "[0.         0.         3.40047223 0.         3.40047223 0.\n",
      " 0.         0.         0.         0.         0.         0.\n",
      " 0.         0.         0.         0.         0.        ]\n"
     ]
    },
    {
     "name": "stderr",
     "output_type": "stream",
     "text": [
      "2019-11-13 14:51:19,457  - WARNING - Optimization Step 1\n"
     ]
    },
    {
     "name": "stdout",
     "output_type": "stream",
     "text": [
      "Optimization Step 1\n"
     ]
    },
    {
     "name": "stderr",
     "output_type": "stream",
     "text": [
      "2019-11-13 14:51:20,190  - INFO - Build matrix X BCC for molecule 0\n"
     ]
    },
    {
     "name": "stdout",
     "output_type": "stream",
     "text": [
      "Build matrix X BCC for molecule 0\n"
     ]
    },
    {
     "name": "stderr",
     "output_type": "stream",
     "text": [
      "2019-11-13 14:51:20,857  - INFO - Build matrix X BCC for molecule 1\n"
     ]
    },
    {
     "name": "stdout",
     "output_type": "stream",
     "text": [
      "Build matrix X BCC for molecule 1\n"
     ]
    },
    {
     "name": "stderr",
     "output_type": "stream",
     "text": [
      "2019-11-13 14:51:20,861  - INFO - Build vector Y BCC for molecule 0\n"
     ]
    },
    {
     "name": "stdout",
     "output_type": "stream",
     "text": [
      "Build vector Y BCC for molecule 0\n"
     ]
    },
    {
     "name": "stderr",
     "output_type": "stream",
     "text": [
      "2019-11-13 14:51:20,865  - INFO - Build vector Y BCC for molecule 1\n"
     ]
    },
    {
     "name": "stdout",
     "output_type": "stream",
     "text": [
      "Build vector Y BCC for molecule 1\n"
     ]
    },
    {
     "name": "stderr",
     "output_type": "stream",
     "text": [
      "2019-11-13 14:51:20,871  - INFO - Updating Bccs for all molecules\n"
     ]
    },
    {
     "name": "stdout",
     "output_type": "stream",
     "text": [
      "Updating Bccs for all molecules\n"
     ]
    },
    {
     "name": "stderr",
     "output_type": "stream",
     "text": [
      "2019-11-13 14:51:20,872  - INFO - Optimization step 2: BCCs\n"
     ]
    },
    {
     "name": "stdout",
     "output_type": "stream",
     "text": [
      "Optimization step 2: BCCs\n"
     ]
    },
    {
     "name": "stderr",
     "output_type": "stream",
     "text": [
      "2019-11-13 14:51:20,874  - INFO - [0.         0.         0.         0.         0.         0.\n",
      " 0.         0.         0.         0.         0.         0.\n",
      " 0.         8.63304618 0.         0.         0.         0.\n",
      " 0.         0.         0.         0.         0.         0.\n",
      " 0.         0.         0.         0.         0.         0.\n",
      " 0.         0.         0.         0.         0.         0.\n",
      " 0.         0.         0.         0.         0.         0.\n",
      " 0.         0.         0.         0.         0.         0.\n",
      " 0.         0.         0.         0.         0.         0.\n",
      " 0.         0.         0.         0.         0.         0.\n",
      " 0.         0.         0.         0.         0.         0.\n",
      " 0.         0.         0.         0.         0.         0.\n",
      " 0.         0.         0.         0.         0.         0.\n",
      " 0.         0.         0.         0.         0.         0.\n",
      " 0.         0.         0.        ]\n"
     ]
    },
    {
     "name": "stdout",
     "output_type": "stream",
     "text": [
      "[0.         0.         0.         0.         0.         0.\n",
      " 0.         0.         0.         0.         0.         0.\n",
      " 0.         8.63304618 0.         0.         0.         0.\n",
      " 0.         0.         0.         0.         0.         0.\n",
      " 0.         0.         0.         0.         0.         0.\n",
      " 0.         0.         0.         0.         0.         0.\n",
      " 0.         0.         0.         0.         0.         0.\n",
      " 0.         0.         0.         0.         0.         0.\n",
      " 0.         0.         0.         0.         0.         0.\n",
      " 0.         0.         0.         0.         0.         0.\n",
      " 0.         0.         0.         0.         0.         0.\n",
      " 0.         0.         0.         0.         0.         0.\n",
      " 0.         0.         0.         0.         0.         0.\n",
      " 0.         0.         0.         0.         0.         0.\n",
      " 0.         0.         0.        ]\n"
     ]
    },
    {
     "name": "stderr",
     "output_type": "stream",
     "text": [
      "2019-11-13 14:51:20,879  - INFO - Optimization step 2: Dipoles\n"
     ]
    },
    {
     "name": "stdout",
     "output_type": "stream",
     "text": [
      "Optimization step 2: Dipoles\n"
     ]
    },
    {
     "name": "stderr",
     "output_type": "stream",
     "text": [
      "2019-11-13 14:51:20,880  - INFO - [0.         0.         3.40047223 0.         3.40047223 0.\n",
      " 0.         0.         0.         0.         0.         0.\n",
      " 0.         0.         0.         0.         0.        ]\n"
     ]
    },
    {
     "name": "stdout",
     "output_type": "stream",
     "text": [
      "[0.         0.         3.40047223 0.         3.40047223 0.\n",
      " 0.         0.         0.         0.         0.         0.\n",
      " 0.         0.         0.         0.         0.        ]\n"
     ]
    }
   ],
   "source": [
    "ROOT_DIR_PATH='/home/mschauperl/programs/resppol/'\n",
    "\n",
    "datei = os.path.join(ROOT_DIR_PATH, 'resppol/data/fast_test_data/test2.mol2')\n",
    "test = resppol.resppol.TrainingSet(mode='q_alpha')\n",
    "test.add_molecule(datei)\n",
    "test.add_molecule(datei)\n",
    "test.molecules[0].add_conformer_from_mol2(datei)\n",
    "test.molecules[1].add_conformer_from_mol2(datei)\n",
    "espfile = os.path.join(ROOT_DIR_PATH, 'resppol/data/fast_test_data/test3.gesp')\n",
    "test.molecules[0].conformers[0].add_baseESP(espfile)\n",
    "test.molecules[1].conformers[0].add_baseESP(espfile)\n",
    "espfile = os.path.join(ROOT_DIR_PATH, 'resppol/data/fast_test_data/test3_Z+.gesp')\n",
    "test.molecules[0].conformers[0].add_polESP(espfile,\n",
    "                                           e_field=Q_([0.0, 0.0, 1.0], 'elementary_charge / bohr / bohr'))\n",
    "test.molecules[1].conformers[0].add_polESP(espfile,\n",
    "                                           e_field=Q_([0.0, 0.0, 1.0], 'elementary_charge / bohr / bohr'))\n",
    "espfile = os.path.join(ROOT_DIR_PATH, 'resppol/data/fast_test_data/test3_Z-.gesp')\n",
    "test.molecules[0].conformers[0].add_polESP(espfile,\n",
    "                                           e_field=Q_([0.0, 0.0, -1.0], 'elementary_charge / bohr / bohr'))\n",
    "test.molecules[1].conformers[0].add_polESP(espfile,\n",
    "                                           e_field=Q_([0.0, 0.0, -1.0], 'elementary_charge / bohr / bohr'))\n",
    "test.optimize_bcc_alpha()\n"
   ]
  },
  {
   "cell_type": "code",
   "execution_count": 4,
   "metadata": {},
   "outputs": [
    {
     "name": "stderr",
     "output_type": "stream",
     "text": [
      "2019-11-13 14:51:20,898  - INFO - Charge Dipole interactions are scaled using the following parameters None. \n"
     ]
    },
    {
     "name": "stdout",
     "output_type": "stream",
     "text": [
      "Charge Dipole interactions are scaled using the following parameters None. \n"
     ]
    },
    {
     "name": "stderr",
     "output_type": "stream",
     "text": [
      "2019-11-13 14:51:20,900  - INFO - If non are specified the default is 0.0, 0.0, 0.8333. This means that 1-2 and 1-3 interactions are neglected and 1-4 are scaled by a factor 0.8333. \n"
     ]
    },
    {
     "name": "stdout",
     "output_type": "stream",
     "text": [
      "If non are specified the default is 0.0, 0.0, 0.8333. This means that 1-2 and 1-3 interactions are neglected and 1-4 are scaled by a factor 0.8333. \n"
     ]
    },
    {
     "name": "stderr",
     "output_type": "stream",
     "text": [
      "2019-11-13 14:51:20,901  - INFO - Running in Mode: q_alpha\n"
     ]
    },
    {
     "name": "stdout",
     "output_type": "stream",
     "text": [
      "Running in Mode: q_alpha\n"
     ]
    },
    {
     "name": "stderr",
     "output_type": "stream",
     "text": [
      "2019-11-13 14:51:20,921  - INFO - The forcefield used for this run is /home/mschauperl/programs/resppol/resppol/../resppol/data/test_data/BCCelementPOL.offxml \n"
     ]
    },
    {
     "name": "stdout",
     "output_type": "stream",
     "text": [
      "The forcefield used for this run is /home/mschauperl/programs/resppol/resppol/../resppol/data/test_data/BCCelementPOL.offxml \n"
     ]
    },
    {
     "name": "stderr",
     "output_type": "stream",
     "text": [
      "2019-11-13 14:51:20,999  - INFO - Add bond with type b1 between atom 0 and atom 4\n"
     ]
    },
    {
     "name": "stdout",
     "output_type": "stream",
     "text": [
      "Read in Molecule 1\n",
      "Add bond with type b1 between atom 0 and atom 4\n"
     ]
    },
    {
     "name": "stderr",
     "output_type": "stream",
     "text": [
      "2019-11-13 14:51:21,000  - INFO - Add bond with type b1 between atom 0 and atom 5\n"
     ]
    },
    {
     "name": "stdout",
     "output_type": "stream",
     "text": [
      "Add bond with type b1 between atom 0 and atom 5\n"
     ]
    },
    {
     "name": "stderr",
     "output_type": "stream",
     "text": [
      "2019-11-13 14:51:21,001  - INFO - Add bond with type b1 between atom 0 and atom 6\n"
     ]
    },
    {
     "name": "stdout",
     "output_type": "stream",
     "text": [
      "Add bond with type b1 between atom 0 and atom 6\n"
     ]
    },
    {
     "name": "stderr",
     "output_type": "stream",
     "text": [
      "2019-11-13 14:51:21,002  - INFO - Add bond with type b1 between atom 1 and atom 7\n"
     ]
    },
    {
     "name": "stdout",
     "output_type": "stream",
     "text": [
      "Add bond with type b1 between atom 1 and atom 7\n"
     ]
    },
    {
     "name": "stderr",
     "output_type": "stream",
     "text": [
      "2019-11-13 14:51:21,003  - INFO - Add bond with type b1 between atom 1 and atom 8\n"
     ]
    },
    {
     "name": "stdout",
     "output_type": "stream",
     "text": [
      "Add bond with type b1 between atom 1 and atom 8\n"
     ]
    },
    {
     "name": "stderr",
     "output_type": "stream",
     "text": [
      "2019-11-13 14:51:21,003  - INFO - Add bond with type b3 between atom 2 and atom 3\n"
     ]
    },
    {
     "name": "stdout",
     "output_type": "stream",
     "text": [
      "Add bond with type b3 between atom 2 and atom 3\n"
     ]
    },
    {
     "name": "stderr",
     "output_type": "stream",
     "text": [
      "2019-11-13 14:51:21,004  - INFO - Add bond with type b1 between atom 2 and atom 9\n"
     ]
    },
    {
     "name": "stdout",
     "output_type": "stream",
     "text": [
      "Add bond with type b1 between atom 2 and atom 9\n"
     ]
    },
    {
     "name": "stderr",
     "output_type": "stream",
     "text": [
      "2019-11-13 14:51:21,005  - INFO - Add bond with type b1 between atom 2 and atom 10\n"
     ]
    },
    {
     "name": "stdout",
     "output_type": "stream",
     "text": [
      "Add bond with type b1 between atom 2 and atom 10\n"
     ]
    },
    {
     "name": "stderr",
     "output_type": "stream",
     "text": [
      "2019-11-13 14:51:21,005  - INFO - Add bond with type b5 between atom 3 and atom 11\n"
     ]
    },
    {
     "name": "stdout",
     "output_type": "stream",
     "text": [
      "Add bond with type b5 between atom 3 and atom 11\n"
     ]
    },
    {
     "name": "stderr",
     "output_type": "stream",
     "text": [
      "2019-11-13 14:51:21,006  - INFO - Add atom type n3 on atom 0\n"
     ]
    },
    {
     "name": "stdout",
     "output_type": "stream",
     "text": [
      "Add atom type n3 on atom 0\n"
     ]
    },
    {
     "name": "stderr",
     "output_type": "stream",
     "text": [
      "2019-11-13 14:51:21,007  - INFO - Add atom type n3 on atom 1\n"
     ]
    },
    {
     "name": "stdout",
     "output_type": "stream",
     "text": [
      "Add atom type n3 on atom 1\n"
     ]
    },
    {
     "name": "stderr",
     "output_type": "stream",
     "text": [
      "2019-11-13 14:51:21,008  - INFO - Add atom type n3 on atom 2\n"
     ]
    },
    {
     "name": "stdout",
     "output_type": "stream",
     "text": [
      "Add atom type n3 on atom 2\n"
     ]
    },
    {
     "name": "stderr",
     "output_type": "stream",
     "text": [
      "2019-11-13 14:51:21,009  - INFO - Add atom type n5 on atom 3\n"
     ]
    },
    {
     "name": "stdout",
     "output_type": "stream",
     "text": [
      "Add atom type n5 on atom 3\n"
     ]
    },
    {
     "name": "stderr",
     "output_type": "stream",
     "text": [
      "2019-11-13 14:51:21,009  - INFO - Add atom type n1 on atom 4\n"
     ]
    },
    {
     "name": "stdout",
     "output_type": "stream",
     "text": [
      "Add atom type n1 on atom 4\n"
     ]
    },
    {
     "name": "stderr",
     "output_type": "stream",
     "text": [
      "2019-11-13 14:51:21,010  - INFO - Add atom type n1 on atom 5\n"
     ]
    },
    {
     "name": "stdout",
     "output_type": "stream",
     "text": [
      "Add atom type n1 on atom 5\n"
     ]
    },
    {
     "name": "stderr",
     "output_type": "stream",
     "text": [
      "2019-11-13 14:51:21,010  - INFO - Add atom type n1 on atom 6\n"
     ]
    },
    {
     "name": "stdout",
     "output_type": "stream",
     "text": [
      "Add atom type n1 on atom 6\n"
     ]
    },
    {
     "name": "stderr",
     "output_type": "stream",
     "text": [
      "2019-11-13 14:51:21,011  - INFO - Add atom type n1 on atom 7\n"
     ]
    },
    {
     "name": "stdout",
     "output_type": "stream",
     "text": [
      "Add atom type n1 on atom 7\n"
     ]
    },
    {
     "name": "stderr",
     "output_type": "stream",
     "text": [
      "2019-11-13 14:51:21,011  - INFO - Add atom type n1 on atom 8\n"
     ]
    },
    {
     "name": "stdout",
     "output_type": "stream",
     "text": [
      "Add atom type n1 on atom 8\n"
     ]
    },
    {
     "name": "stderr",
     "output_type": "stream",
     "text": [
      "2019-11-13 14:51:21,012  - INFO - Add atom type n1 on atom 9\n"
     ]
    },
    {
     "name": "stdout",
     "output_type": "stream",
     "text": [
      "Add atom type n1 on atom 9\n"
     ]
    },
    {
     "name": "stderr",
     "output_type": "stream",
     "text": [
      "2019-11-13 14:51:21,013  - INFO - Add atom type n1 on atom 10\n"
     ]
    },
    {
     "name": "stdout",
     "output_type": "stream",
     "text": [
      "Add atom type n1 on atom 10\n"
     ]
    },
    {
     "name": "stderr",
     "output_type": "stream",
     "text": [
      "2019-11-13 14:51:21,013  - INFO - Add atom type n1 on atom 11\n"
     ]
    },
    {
     "name": "stdout",
     "output_type": "stream",
     "text": [
      "Add atom type n1 on atom 11\n"
     ]
    },
    {
     "name": "stderr",
     "output_type": "stream",
     "text": [
      "2019-11-13 14:51:21,025  - INFO - Added molecule number 0 from file /home/mschauperl/kirk/charge_method/medium_set/molecule1/conf0/mp2_0.mol2.\n"
     ]
    },
    {
     "name": "stdout",
     "output_type": "stream",
     "text": [
      "Added molecule number 0 from file /home/mschauperl/kirk/charge_method/medium_set/molecule1/conf0/mp2_0.mol2.\n"
     ]
    },
    {
     "name": "stderr",
     "output_type": "stream",
     "text": [
      "2019-11-13 14:51:21,045  - INFO - Added conformation 0 to molecule 0\n"
     ]
    },
    {
     "name": "stdout",
     "output_type": "stream",
     "text": [
      "Added conformation 0 to molecule 0\n",
      "Read in /home/mschauperl/kirk/charge_method/medium_set/molecule1/conf0/molecule0.gesp\n",
      "Read in /home/mschauperl/kirk/charge_method/medium_set/molecule1/conf0/molecule_X+.gesp [-0.01, 0.0, 0.0]\n",
      "Read in /home/mschauperl/kirk/charge_method/medium_set/molecule1/conf0/molecule_X-.gesp [0.01, 0.0, 0.0]\n",
      "Read in /home/mschauperl/kirk/charge_method/medium_set/molecule1/conf0/molecule_Y+.gesp [0.0, -0.01, 0.0]\n",
      "Read in /home/mschauperl/kirk/charge_method/medium_set/molecule1/conf0/molecule_Y-.gesp [0.0, 0.01, 0.0]\n",
      "Read in /home/mschauperl/kirk/charge_method/medium_set/molecule1/conf0/molecule_Z+.gesp [0.0, 0.0, -0.01]\n"
     ]
    },
    {
     "name": "stderr",
     "output_type": "stream",
     "text": [
      "2019-11-13 14:51:21,656  - INFO - Added conformation 1 to molecule 0\n"
     ]
    },
    {
     "name": "stdout",
     "output_type": "stream",
     "text": [
      "Read in /home/mschauperl/kirk/charge_method/medium_set/molecule1/conf0/molecule_Z-.gesp [0.0, 0.0, 0.01]\n",
      "Added conformation 1 to molecule 0\n",
      "Read in /home/mschauperl/kirk/charge_method/medium_set/molecule1/conf1/molecule1.gesp\n",
      "Read in /home/mschauperl/kirk/charge_method/medium_set/molecule1/conf1/molecule_X+.gesp [-0.01, 0.0, 0.0]\n",
      "Read in /home/mschauperl/kirk/charge_method/medium_set/molecule1/conf1/molecule_X-.gesp [0.01, 0.0, 0.0]\n",
      "Read in /home/mschauperl/kirk/charge_method/medium_set/molecule1/conf1/molecule_Y+.gesp [0.0, -0.01, 0.0]\n",
      "Read in /home/mschauperl/kirk/charge_method/medium_set/molecule1/conf1/molecule_Y-.gesp [0.0, 0.01, 0.0]\n",
      "Read in /home/mschauperl/kirk/charge_method/medium_set/molecule1/conf1/molecule_Z+.gesp [0.0, 0.0, -0.01]\n"
     ]
    },
    {
     "name": "stderr",
     "output_type": "stream",
     "text": [
      "2019-11-13 14:51:22,289  - INFO - Added conformation 2 to molecule 0\n"
     ]
    },
    {
     "name": "stdout",
     "output_type": "stream",
     "text": [
      "Read in /home/mschauperl/kirk/charge_method/medium_set/molecule1/conf1/molecule_Z-.gesp [0.0, 0.0, 0.01]\n",
      "Added conformation 2 to molecule 0\n",
      "Read in /home/mschauperl/kirk/charge_method/medium_set/molecule1/conf2/molecule2.gesp\n",
      "Read in /home/mschauperl/kirk/charge_method/medium_set/molecule1/conf2/molecule_X+.gesp [-0.01, 0.0, 0.0]\n",
      "Read in /home/mschauperl/kirk/charge_method/medium_set/molecule1/conf2/molecule_X-.gesp [0.01, 0.0, 0.0]\n",
      "Read in /home/mschauperl/kirk/charge_method/medium_set/molecule1/conf2/molecule_Y+.gesp [0.0, -0.01, 0.0]\n",
      "Read in /home/mschauperl/kirk/charge_method/medium_set/molecule1/conf2/molecule_Y-.gesp [0.0, 0.01, 0.0]\n",
      "Read in /home/mschauperl/kirk/charge_method/medium_set/molecule1/conf2/molecule_Z+.gesp [0.0, 0.0, -0.01]\n"
     ]
    },
    {
     "name": "stderr",
     "output_type": "stream",
     "text": [
      "2019-11-13 14:51:22,879  - INFO - Added conformation 3 to molecule 0\n"
     ]
    },
    {
     "name": "stdout",
     "output_type": "stream",
     "text": [
      "Read in /home/mschauperl/kirk/charge_method/medium_set/molecule1/conf2/molecule_Z-.gesp [0.0, 0.0, 0.01]\n",
      "Added conformation 3 to molecule 0\n",
      "Read in /home/mschauperl/kirk/charge_method/medium_set/molecule1/conf3/molecule3.gesp\n",
      "Read in /home/mschauperl/kirk/charge_method/medium_set/molecule1/conf3/molecule_X+.gesp [-0.01, 0.0, 0.0]\n",
      "Read in /home/mschauperl/kirk/charge_method/medium_set/molecule1/conf3/molecule_X-.gesp [0.01, 0.0, 0.0]\n",
      "Read in /home/mschauperl/kirk/charge_method/medium_set/molecule1/conf3/molecule_Y+.gesp [0.0, -0.01, 0.0]\n"
     ]
    },
    {
     "name": "stderr",
     "output_type": "stream",
     "text": [
      "2019-11-13 14:51:23,726  - INFO - Added conformation 4 to molecule 0\n"
     ]
    },
    {
     "name": "stdout",
     "output_type": "stream",
     "text": [
      "Read in /home/mschauperl/kirk/charge_method/medium_set/molecule1/conf3/molecule_Y-.gesp [0.0, 0.01, 0.0]\n",
      "Read in /home/mschauperl/kirk/charge_method/medium_set/molecule1/conf3/molecule_Z+.gesp [0.0, 0.0, -0.01]\n",
      "Read in /home/mschauperl/kirk/charge_method/medium_set/molecule1/conf3/molecule_Z-.gesp [0.0, 0.0, 0.01]\n",
      "Added conformation 4 to molecule 0\n",
      "Read in /home/mschauperl/kirk/charge_method/medium_set/molecule1/conf4/molecule4.gesp\n",
      "Read in /home/mschauperl/kirk/charge_method/medium_set/molecule1/conf4/molecule_X+.gesp [-0.01, 0.0, 0.0]\n",
      "Read in /home/mschauperl/kirk/charge_method/medium_set/molecule1/conf4/molecule_X-.gesp [0.01, 0.0, 0.0]\n",
      "Read in /home/mschauperl/kirk/charge_method/medium_set/molecule1/conf4/molecule_Y+.gesp [0.0, -0.01, 0.0]\n",
      "Read in /home/mschauperl/kirk/charge_method/medium_set/molecule1/conf4/molecule_Y-.gesp [0.0, 0.01, 0.0]\n",
      "Read in /home/mschauperl/kirk/charge_method/medium_set/molecule1/conf4/molecule_Z+.gesp [0.0, 0.0, -0.01]\n",
      "Read in /home/mschauperl/kirk/charge_method/medium_set/molecule1/conf4/molecule_Z-.gesp [0.0, 0.0, 0.01]\n"
     ]
    },
    {
     "name": "stderr",
     "output_type": "stream",
     "text": [
      "2019-11-13 14:51:28,056  - WARNING - Optimization Step 0\n"
     ]
    },
    {
     "name": "stdout",
     "output_type": "stream",
     "text": [
      "Optimization Step 0\n"
     ]
    },
    {
     "name": "stderr",
     "output_type": "stream",
     "text": [
      "2019-11-13 14:58:39,841  - INFO - Build matrix X BCC for molecule 0\n"
     ]
    },
    {
     "name": "stdout",
     "output_type": "stream",
     "text": [
      "Build matrix X BCC for molecule 0\n"
     ]
    },
    {
     "name": "stderr",
     "output_type": "stream",
     "text": [
      "2019-11-13 14:58:40,461  - INFO - Build vector Y BCC for molecule 0\n"
     ]
    },
    {
     "name": "stdout",
     "output_type": "stream",
     "text": [
      "Build vector Y BCC for molecule 0\n"
     ]
    },
    {
     "name": "stderr",
     "output_type": "stream",
     "text": [
      "2019-11-13 14:58:40,466  - INFO - Updating Bccs for all molecules\n"
     ]
    },
    {
     "name": "stdout",
     "output_type": "stream",
     "text": [
      "Updating Bccs for all molecules\n"
     ]
    },
    {
     "name": "stderr",
     "output_type": "stream",
     "text": [
      "2019-11-13 14:58:40,468  - INFO - Optimization step 1: BCCs\n"
     ]
    },
    {
     "name": "stdout",
     "output_type": "stream",
     "text": [
      "Optimization step 1: BCCs\n"
     ]
    },
    {
     "name": "stderr",
     "output_type": "stream",
     "text": [
      "2019-11-13 14:58:40,469  - INFO - [ 0.07154976  0.         -0.02319416  0.          0.05663201  0.        ]\n"
     ]
    },
    {
     "name": "stdout",
     "output_type": "stream",
     "text": [
      "[ 0.07154976  0.         -0.02319416  0.          0.05663201  0.        ]\n"
     ]
    },
    {
     "name": "stderr",
     "output_type": "stream",
     "text": [
      "2019-11-13 14:58:40,472  - INFO - Optimization step 1: Dipoles\n"
     ]
    },
    {
     "name": "stdout",
     "output_type": "stream",
     "text": [
      "Optimization step 1: Dipoles\n"
     ]
    },
    {
     "name": "stderr",
     "output_type": "stream",
     "text": [
      "2019-11-13 14:58:40,474  - INFO - [ 0.63107459 -0.16602307  0.          1.34612661  0.          0.\n",
      "  0.          0.          0.          0.          0.          0.\n",
      "  0.          0.          0.          0.        ]\n"
     ]
    },
    {
     "name": "stdout",
     "output_type": "stream",
     "text": [
      "[ 0.63107459 -0.16602307  0.          1.34612661  0.          0.\n",
      "  0.          0.          0.          0.          0.          0.\n",
      "  0.          0.          0.          0.        ]\n"
     ]
    },
    {
     "name": "stderr",
     "output_type": "stream",
     "text": [
      "2019-11-13 14:58:40,476  - WARNING - Optimization Step 1\n"
     ]
    },
    {
     "name": "stdout",
     "output_type": "stream",
     "text": [
      "Optimization Step 1\n"
     ]
    },
    {
     "name": "stderr",
     "output_type": "stream",
     "text": [
      "2019-11-13 15:07:06,474  - INFO - Build matrix X BCC for molecule 0\n"
     ]
    },
    {
     "name": "stdout",
     "output_type": "stream",
     "text": [
      "Build matrix X BCC for molecule 0\n"
     ]
    },
    {
     "name": "stderr",
     "output_type": "stream",
     "text": [
      "2019-11-13 15:07:07,065  - INFO - Build vector Y BCC for molecule 0\n"
     ]
    },
    {
     "name": "stdout",
     "output_type": "stream",
     "text": [
      "Build vector Y BCC for molecule 0\n"
     ]
    },
    {
     "name": "stderr",
     "output_type": "stream",
     "text": [
      "2019-11-13 15:07:07,074  - INFO - Updating Bccs for all molecules\n"
     ]
    },
    {
     "name": "stdout",
     "output_type": "stream",
     "text": [
      "Updating Bccs for all molecules\n"
     ]
    },
    {
     "name": "stderr",
     "output_type": "stream",
     "text": [
      "2019-11-13 15:07:07,079  - INFO - Optimization step 2: BCCs\n"
     ]
    },
    {
     "name": "stdout",
     "output_type": "stream",
     "text": [
      "Optimization step 2: BCCs\n"
     ]
    },
    {
     "name": "stderr",
     "output_type": "stream",
     "text": [
      "2019-11-13 15:07:07,083  - INFO - [ 0.08513293  0.         -0.00640749  0.          0.05776904  0.        ]\n"
     ]
    },
    {
     "name": "stdout",
     "output_type": "stream",
     "text": [
      "[ 0.08513293  0.         -0.00640749  0.          0.05776904  0.        ]\n"
     ]
    },
    {
     "name": "stderr",
     "output_type": "stream",
     "text": [
      "2019-11-13 15:07:07,088  - INFO - Optimization step 2: Dipoles\n"
     ]
    },
    {
     "name": "stdout",
     "output_type": "stream",
     "text": [
      "Optimization step 2: Dipoles\n"
     ]
    },
    {
     "name": "stderr",
     "output_type": "stream",
     "text": [
      "2019-11-13 15:07:07,090  - INFO - [ 0.51345489 -0.18182275  0.          1.53759705  0.          0.\n",
      "  0.          0.          0.          0.          0.          0.\n",
      "  0.          0.          0.          0.        ]\n"
     ]
    },
    {
     "name": "stdout",
     "output_type": "stream",
     "text": [
      "[ 0.51345489 -0.18182275  0.          1.53759705  0.          0.\n",
      "  0.          0.          0.          0.          0.          0.\n",
      "  0.          0.          0.          0.        ]\n"
     ]
    },
    {
     "name": "stderr",
     "output_type": "stream",
     "text": [
      "2019-11-13 15:07:07,093  - WARNING - Optimization Step 2\n"
     ]
    },
    {
     "name": "stdout",
     "output_type": "stream",
     "text": [
      "Optimization Step 2\n"
     ]
    },
    {
     "name": "stderr",
     "output_type": "stream",
     "text": [
      "2019-11-13 15:18:37,114  - INFO - Build matrix X BCC for molecule 0\n"
     ]
    },
    {
     "name": "stdout",
     "output_type": "stream",
     "text": [
      "Build matrix X BCC for molecule 0\n"
     ]
    },
    {
     "name": "stderr",
     "output_type": "stream",
     "text": [
      "2019-11-13 15:18:38,437  - INFO - Build vector Y BCC for molecule 0\n"
     ]
    },
    {
     "name": "stdout",
     "output_type": "stream",
     "text": [
      "Build vector Y BCC for molecule 0\n"
     ]
    },
    {
     "name": "stderr",
     "output_type": "stream",
     "text": [
      "2019-11-13 15:18:38,442  - INFO - Updating Bccs for all molecules\n"
     ]
    },
    {
     "name": "stdout",
     "output_type": "stream",
     "text": [
      "Updating Bccs for all molecules\n"
     ]
    },
    {
     "name": "stderr",
     "output_type": "stream",
     "text": [
      "2019-11-13 15:18:38,444  - INFO - Optimization step 3: BCCs\n"
     ]
    },
    {
     "name": "stdout",
     "output_type": "stream",
     "text": [
      "Optimization step 3: BCCs\n"
     ]
    },
    {
     "name": "stderr",
     "output_type": "stream",
     "text": [
      "2019-11-13 15:18:38,445  - INFO - [0.09276697 0.         0.00081892 0.         0.056644   0.        ]\n"
     ]
    },
    {
     "name": "stdout",
     "output_type": "stream",
     "text": [
      "[0.09276697 0.         0.00081892 0.         0.056644   0.        ]\n"
     ]
    },
    {
     "name": "stderr",
     "output_type": "stream",
     "text": [
      "2019-11-13 15:18:38,448  - INFO - Optimization step 3: Dipoles\n"
     ]
    },
    {
     "name": "stdout",
     "output_type": "stream",
     "text": [
      "Optimization step 3: Dipoles\n"
     ]
    },
    {
     "name": "stderr",
     "output_type": "stream",
     "text": [
      "2019-11-13 15:18:38,450  - INFO - [ 0.48353537 -0.18007609  0.          1.50694771  0.          0.\n",
      "  0.          0.          0.          0.          0.          0.\n",
      "  0.          0.          0.          0.        ]\n"
     ]
    },
    {
     "name": "stdout",
     "output_type": "stream",
     "text": [
      "[ 0.48353537 -0.18007609  0.          1.50694771  0.          0.\n",
      "  0.          0.          0.          0.          0.          0.\n",
      "  0.          0.          0.          0.        ]\n"
     ]
    },
    {
     "name": "stderr",
     "output_type": "stream",
     "text": [
      "2019-11-13 15:18:38,453  - WARNING - Optimization Step 3\n"
     ]
    },
    {
     "name": "stdout",
     "output_type": "stream",
     "text": [
      "Optimization Step 3\n"
     ]
    },
    {
     "name": "stderr",
     "output_type": "stream",
     "text": [
      "2019-11-13 15:28:08,818  - INFO - Build matrix X BCC for molecule 0\n"
     ]
    },
    {
     "name": "stdout",
     "output_type": "stream",
     "text": [
      "Build matrix X BCC for molecule 0\n"
     ]
    },
    {
     "name": "stderr",
     "output_type": "stream",
     "text": [
      "2019-11-13 15:28:09,370  - INFO - Build vector Y BCC for molecule 0\n"
     ]
    },
    {
     "name": "stdout",
     "output_type": "stream",
     "text": [
      "Build vector Y BCC for molecule 0\n"
     ]
    },
    {
     "name": "stderr",
     "output_type": "stream",
     "text": [
      "2019-11-13 15:28:09,377  - INFO - Updating Bccs for all molecules\n"
     ]
    },
    {
     "name": "stdout",
     "output_type": "stream",
     "text": [
      "Updating Bccs for all molecules\n"
     ]
    },
    {
     "name": "stderr",
     "output_type": "stream",
     "text": [
      "2019-11-13 15:28:09,379  - INFO - Optimization step 4: BCCs\n"
     ]
    },
    {
     "name": "stdout",
     "output_type": "stream",
     "text": [
      "Optimization step 4: BCCs\n"
     ]
    },
    {
     "name": "stderr",
     "output_type": "stream",
     "text": [
      "2019-11-13 15:28:09,380  - INFO - [0.09772947 0.         0.00509198 0.         0.05570275 0.        ]\n"
     ]
    },
    {
     "name": "stdout",
     "output_type": "stream",
     "text": [
      "[0.09772947 0.         0.00509198 0.         0.05570275 0.        ]\n"
     ]
    },
    {
     "name": "stderr",
     "output_type": "stream",
     "text": [
      "2019-11-13 15:28:09,383  - INFO - Optimization step 4: Dipoles\n"
     ]
    },
    {
     "name": "stdout",
     "output_type": "stream",
     "text": [
      "Optimization step 4: Dipoles\n"
     ]
    },
    {
     "name": "stderr",
     "output_type": "stream",
     "text": [
      "2019-11-13 15:28:09,385  - INFO - [ 0.47016424 -0.17856394  0.          1.47778709  0.          0.\n",
      "  0.          0.          0.          0.          0.          0.\n",
      "  0.          0.          0.          0.        ]\n"
     ]
    },
    {
     "name": "stdout",
     "output_type": "stream",
     "text": [
      "[ 0.47016424 -0.17856394  0.          1.47778709  0.          0.\n",
      "  0.          0.          0.          0.          0.          0.\n",
      "  0.          0.          0.          0.        ]\n"
     ]
    },
    {
     "name": "stderr",
     "output_type": "stream",
     "text": [
      "2019-11-13 15:28:09,388  - WARNING - Optimization Step 4\n"
     ]
    },
    {
     "name": "stdout",
     "output_type": "stream",
     "text": [
      "Optimization Step 4\n"
     ]
    },
    {
     "name": "stderr",
     "output_type": "stream",
     "text": [
      "2019-11-13 15:35:07,509  - INFO - Build matrix X BCC for molecule 0\n"
     ]
    },
    {
     "name": "stdout",
     "output_type": "stream",
     "text": [
      "Build matrix X BCC for molecule 0\n"
     ]
    },
    {
     "name": "stderr",
     "output_type": "stream",
     "text": [
      "2019-11-13 15:35:08,146  - INFO - Build vector Y BCC for molecule 0\n"
     ]
    },
    {
     "name": "stdout",
     "output_type": "stream",
     "text": [
      "Build vector Y BCC for molecule 0\n"
     ]
    },
    {
     "name": "stderr",
     "output_type": "stream",
     "text": [
      "2019-11-13 15:35:08,159  - INFO - Updating Bccs for all molecules\n"
     ]
    },
    {
     "name": "stdout",
     "output_type": "stream",
     "text": [
      "Updating Bccs for all molecules\n"
     ]
    },
    {
     "name": "stderr",
     "output_type": "stream",
     "text": [
      "2019-11-13 15:35:08,161  - INFO - Optimization step 5: BCCs\n"
     ]
    },
    {
     "name": "stdout",
     "output_type": "stream",
     "text": [
      "Optimization step 5: BCCs\n"
     ]
    },
    {
     "name": "stderr",
     "output_type": "stream",
     "text": [
      "2019-11-13 15:35:08,163  - INFO - [0.10127821 0.         0.00795472 0.         0.05497023 0.        ]\n"
     ]
    },
    {
     "name": "stdout",
     "output_type": "stream",
     "text": [
      "[0.10127821 0.         0.00795472 0.         0.05497023 0.        ]\n"
     ]
    },
    {
     "name": "stderr",
     "output_type": "stream",
     "text": [
      "2019-11-13 15:35:08,165  - INFO - Optimization step 5: Dipoles\n"
     ]
    },
    {
     "name": "stdout",
     "output_type": "stream",
     "text": [
      "Optimization step 5: Dipoles\n"
     ]
    },
    {
     "name": "stderr",
     "output_type": "stream",
     "text": [
      "2019-11-13 15:35:08,167  - INFO - [ 0.46289787 -0.17766095  0.          1.4550789   0.          0.\n",
      "  0.          0.          0.          0.          0.          0.\n",
      "  0.          0.          0.          0.        ]\n"
     ]
    },
    {
     "name": "stdout",
     "output_type": "stream",
     "text": [
      "[ 0.46289787 -0.17766095  0.          1.4550789   0.          0.\n",
      "  0.          0.          0.          0.          0.          0.\n",
      "  0.          0.          0.          0.        ]\n"
     ]
    },
    {
     "name": "stderr",
     "output_type": "stream",
     "text": [
      "2019-11-13 15:35:08,171  - WARNING - Optimization Step 5\n"
     ]
    },
    {
     "name": "stdout",
     "output_type": "stream",
     "text": [
      "Optimization Step 5\n"
     ]
    },
    {
     "name": "stderr",
     "output_type": "stream",
     "text": [
      "2019-11-13 15:42:31,154  - INFO - Build matrix X BCC for molecule 0\n"
     ]
    },
    {
     "name": "stdout",
     "output_type": "stream",
     "text": [
      "Build matrix X BCC for molecule 0\n"
     ]
    },
    {
     "name": "stderr",
     "output_type": "stream",
     "text": [
      "2019-11-13 15:42:31,744  - INFO - Build vector Y BCC for molecule 0\n"
     ]
    },
    {
     "name": "stdout",
     "output_type": "stream",
     "text": [
      "Build vector Y BCC for molecule 0\n"
     ]
    },
    {
     "name": "stderr",
     "output_type": "stream",
     "text": [
      "2019-11-13 15:42:31,749  - INFO - Updating Bccs for all molecules\n"
     ]
    },
    {
     "name": "stdout",
     "output_type": "stream",
     "text": [
      "Updating Bccs for all molecules\n"
     ]
    },
    {
     "name": "stderr",
     "output_type": "stream",
     "text": [
      "2019-11-13 15:42:31,751  - INFO - Optimization step 6: BCCs\n"
     ]
    },
    {
     "name": "stdout",
     "output_type": "stream",
     "text": [
      "Optimization step 6: BCCs\n"
     ]
    },
    {
     "name": "stderr",
     "output_type": "stream",
     "text": [
      "2019-11-13 15:42:31,752  - INFO - [0.10397507 0.         0.01001907 0.         0.0543902  0.        ]\n"
     ]
    },
    {
     "name": "stdout",
     "output_type": "stream",
     "text": [
      "[0.10397507 0.         0.01001907 0.         0.0543902  0.        ]\n"
     ]
    },
    {
     "name": "stderr",
     "output_type": "stream",
     "text": [
      "2019-11-13 15:42:31,755  - INFO - Optimization step 6: Dipoles\n"
     ]
    },
    {
     "name": "stdout",
     "output_type": "stream",
     "text": [
      "Optimization step 6: Dipoles\n"
     ]
    },
    {
     "name": "stderr",
     "output_type": "stream",
     "text": [
      "2019-11-13 15:42:31,756  - INFO - [ 0.45850958 -0.17715617  0.          1.43719822  0.          0.\n",
      "  0.          0.          0.          0.          0.          0.\n",
      "  0.          0.          0.          0.        ]\n"
     ]
    },
    {
     "name": "stdout",
     "output_type": "stream",
     "text": [
      "[ 0.45850958 -0.17715617  0.          1.43719822  0.          0.\n",
      "  0.          0.          0.          0.          0.          0.\n",
      "  0.          0.          0.          0.        ]\n"
     ]
    },
    {
     "name": "stderr",
     "output_type": "stream",
     "text": [
      "2019-11-13 15:42:31,759  - WARNING - Optimization Step 6\n"
     ]
    },
    {
     "name": "stdout",
     "output_type": "stream",
     "text": [
      "Optimization Step 6\n"
     ]
    },
    {
     "name": "stderr",
     "output_type": "stream",
     "text": [
      "2019-11-13 15:49:06,433  - INFO - Build matrix X BCC for molecule 0\n"
     ]
    },
    {
     "name": "stdout",
     "output_type": "stream",
     "text": [
      "Build matrix X BCC for molecule 0\n"
     ]
    },
    {
     "name": "stderr",
     "output_type": "stream",
     "text": [
      "2019-11-13 15:49:07,018  - INFO - Build vector Y BCC for molecule 0\n"
     ]
    },
    {
     "name": "stdout",
     "output_type": "stream",
     "text": [
      "Build vector Y BCC for molecule 0\n"
     ]
    },
    {
     "name": "stderr",
     "output_type": "stream",
     "text": [
      "2019-11-13 15:49:07,025  - INFO - Updating Bccs for all molecules\n"
     ]
    },
    {
     "name": "stdout",
     "output_type": "stream",
     "text": [
      "Updating Bccs for all molecules\n"
     ]
    },
    {
     "name": "stderr",
     "output_type": "stream",
     "text": [
      "2019-11-13 15:49:07,027  - INFO - Optimization step 7: BCCs\n"
     ]
    },
    {
     "name": "stdout",
     "output_type": "stream",
     "text": [
      "Optimization step 7: BCCs\n"
     ]
    },
    {
     "name": "stderr",
     "output_type": "stream",
     "text": [
      "2019-11-13 15:49:07,029  - INFO - [0.10611257 0.         0.0115835  0.         0.05391936 0.        ]\n"
     ]
    },
    {
     "name": "stdout",
     "output_type": "stream",
     "text": [
      "[0.10611257 0.         0.0115835  0.         0.05391936 0.        ]\n"
     ]
    },
    {
     "name": "stderr",
     "output_type": "stream",
     "text": [
      "2019-11-13 15:49:07,031  - INFO - Optimization step 7: Dipoles\n"
     ]
    },
    {
     "name": "stdout",
     "output_type": "stream",
     "text": [
      "Optimization step 7: Dipoles\n"
     ]
    },
    {
     "name": "stderr",
     "output_type": "stream",
     "text": [
      "2019-11-13 15:49:07,033  - INFO - [ 0.45567979 -0.17689479  0.          1.42272689  0.          0.\n",
      "  0.          0.          0.          0.          0.          0.\n",
      "  0.          0.          0.          0.        ]\n"
     ]
    },
    {
     "name": "stdout",
     "output_type": "stream",
     "text": [
      "[ 0.45567979 -0.17689479  0.          1.42272689  0.          0.\n",
      "  0.          0.          0.          0.          0.          0.\n",
      "  0.          0.          0.          0.        ]\n"
     ]
    },
    {
     "name": "stderr",
     "output_type": "stream",
     "text": [
      "2019-11-13 15:49:07,036  - WARNING - Optimization Step 7\n"
     ]
    },
    {
     "name": "stdout",
     "output_type": "stream",
     "text": [
      "Optimization Step 7\n"
     ]
    },
    {
     "name": "stderr",
     "output_type": "stream",
     "text": [
      "2019-11-13 15:56:12,842  - INFO - Build matrix X BCC for molecule 0\n"
     ]
    },
    {
     "name": "stdout",
     "output_type": "stream",
     "text": [
      "Build matrix X BCC for molecule 0\n"
     ]
    },
    {
     "name": "stderr",
     "output_type": "stream",
     "text": [
      "2019-11-13 15:56:13,456  - INFO - Build vector Y BCC for molecule 0\n"
     ]
    },
    {
     "name": "stdout",
     "output_type": "stream",
     "text": [
      "Build vector Y BCC for molecule 0\n"
     ]
    },
    {
     "name": "stderr",
     "output_type": "stream",
     "text": [
      "2019-11-13 15:56:13,463  - INFO - Updating Bccs for all molecules\n"
     ]
    },
    {
     "name": "stdout",
     "output_type": "stream",
     "text": [
      "Updating Bccs for all molecules\n"
     ]
    },
    {
     "name": "stderr",
     "output_type": "stream",
     "text": [
      "2019-11-13 15:56:13,465  - INFO - Optimization step 8: BCCs\n"
     ]
    },
    {
     "name": "stdout",
     "output_type": "stream",
     "text": [
      "Optimization step 8: BCCs\n"
     ]
    },
    {
     "name": "stderr",
     "output_type": "stream",
     "text": [
      "2019-11-13 15:56:13,466  - INFO - [0.1078598  0.         0.01281269 0.         0.05352849 0.        ]\n"
     ]
    },
    {
     "name": "stdout",
     "output_type": "stream",
     "text": [
      "[0.1078598  0.         0.01281269 0.         0.05352849 0.        ]\n"
     ]
    },
    {
     "name": "stderr",
     "output_type": "stream",
     "text": [
      "2019-11-13 15:56:13,469  - INFO - Optimization step 8: Dipoles\n"
     ]
    },
    {
     "name": "stdout",
     "output_type": "stream",
     "text": [
      "Optimization step 8: Dipoles\n"
     ]
    },
    {
     "name": "stderr",
     "output_type": "stream",
     "text": [
      "2019-11-13 15:56:13,471  - INFO - [ 0.45377395 -0.17678363  0.          1.41071639  0.          0.\n",
      "  0.          0.          0.          0.          0.          0.\n",
      "  0.          0.          0.          0.        ]\n"
     ]
    },
    {
     "name": "stdout",
     "output_type": "stream",
     "text": [
      "[ 0.45377395 -0.17678363  0.          1.41071639  0.          0.\n",
      "  0.          0.          0.          0.          0.          0.\n",
      "  0.          0.          0.          0.        ]\n"
     ]
    },
    {
     "name": "stderr",
     "output_type": "stream",
     "text": [
      "2019-11-13 15:56:13,473  - WARNING - Optimization Step 8\n"
     ]
    },
    {
     "name": "stdout",
     "output_type": "stream",
     "text": [
      "Optimization Step 8\n"
     ]
    },
    {
     "name": "stderr",
     "output_type": "stream",
     "text": [
      "2019-11-13 16:03:03,608  - INFO - Build matrix X BCC for molecule 0\n"
     ]
    },
    {
     "name": "stdout",
     "output_type": "stream",
     "text": [
      "Build matrix X BCC for molecule 0\n"
     ]
    },
    {
     "name": "stderr",
     "output_type": "stream",
     "text": [
      "2019-11-13 16:03:04,182  - INFO - Build vector Y BCC for molecule 0\n"
     ]
    },
    {
     "name": "stdout",
     "output_type": "stream",
     "text": [
      "Build vector Y BCC for molecule 0\n"
     ]
    },
    {
     "name": "stderr",
     "output_type": "stream",
     "text": [
      "2019-11-13 16:03:04,190  - INFO - Updating Bccs for all molecules\n"
     ]
    },
    {
     "name": "stdout",
     "output_type": "stream",
     "text": [
      "Updating Bccs for all molecules\n"
     ]
    },
    {
     "name": "stderr",
     "output_type": "stream",
     "text": [
      "2019-11-13 16:03:04,192  - INFO - Optimization step 9: BCCs\n"
     ]
    },
    {
     "name": "stdout",
     "output_type": "stream",
     "text": [
      "Optimization step 9: BCCs\n"
     ]
    },
    {
     "name": "stderr",
     "output_type": "stream",
     "text": [
      "2019-11-13 16:03:04,193  - INFO - [0.1093221 0.        0.0138055 0.        0.0531978 0.       ]\n"
     ]
    },
    {
     "name": "stdout",
     "output_type": "stream",
     "text": [
      "[0.1093221 0.        0.0138055 0.        0.0531978 0.       ]\n"
     ]
    },
    {
     "name": "stderr",
     "output_type": "stream",
     "text": [
      "2019-11-13 16:03:04,197  - INFO - Optimization step 9: Dipoles\n"
     ]
    },
    {
     "name": "stdout",
     "output_type": "stream",
     "text": [
      "Optimization step 9: Dipoles\n"
     ]
    },
    {
     "name": "stderr",
     "output_type": "stream",
     "text": [
      "2019-11-13 16:03:04,199  - INFO - [ 0.45245216 -0.17676696  0.          1.40053825  0.          0.\n",
      "  0.          0.          0.          0.          0.          0.\n",
      "  0.          0.          0.          0.        ]\n"
     ]
    },
    {
     "name": "stdout",
     "output_type": "stream",
     "text": [
      "[ 0.45245216 -0.17676696  0.          1.40053825  0.          0.\n",
      "  0.          0.          0.          0.          0.          0.\n",
      "  0.          0.          0.          0.        ]\n"
     ]
    },
    {
     "name": "stderr",
     "output_type": "stream",
     "text": [
      "2019-11-13 16:03:04,202  - WARNING - Optimization Step 9\n"
     ]
    },
    {
     "name": "stdout",
     "output_type": "stream",
     "text": [
      "Optimization Step 9\n"
     ]
    },
    {
     "name": "stderr",
     "output_type": "stream",
     "text": [
      "2019-11-13 16:10:26,340  - INFO - Build matrix X BCC for molecule 0\n"
     ]
    },
    {
     "name": "stdout",
     "output_type": "stream",
     "text": [
      "Build matrix X BCC for molecule 0\n"
     ]
    },
    {
     "name": "stderr",
     "output_type": "stream",
     "text": [
      "2019-11-13 16:10:26,900  - INFO - Build vector Y BCC for molecule 0\n"
     ]
    },
    {
     "name": "stdout",
     "output_type": "stream",
     "text": [
      "Build vector Y BCC for molecule 0\n"
     ]
    },
    {
     "name": "stderr",
     "output_type": "stream",
     "text": [
      "2019-11-13 16:10:26,906  - INFO - Updating Bccs for all molecules\n"
     ]
    },
    {
     "name": "stdout",
     "output_type": "stream",
     "text": [
      "Updating Bccs for all molecules\n"
     ]
    },
    {
     "name": "stderr",
     "output_type": "stream",
     "text": [
      "2019-11-13 16:10:26,908  - INFO - Optimization step 10: BCCs\n"
     ]
    },
    {
     "name": "stdout",
     "output_type": "stream",
     "text": [
      "Optimization step 10: BCCs\n"
     ]
    },
    {
     "name": "stderr",
     "output_type": "stream",
     "text": [
      "2019-11-13 16:10:26,909  - INFO - [0.11056895 0.         0.01462508 0.         0.05291357 0.        ]\n"
     ]
    },
    {
     "name": "stdout",
     "output_type": "stream",
     "text": [
      "[0.11056895 0.         0.01462508 0.         0.05291357 0.        ]\n"
     ]
    },
    {
     "name": "stderr",
     "output_type": "stream",
     "text": [
      "2019-11-13 16:10:26,912  - INFO - Optimization step 10: Dipoles\n"
     ]
    },
    {
     "name": "stdout",
     "output_type": "stream",
     "text": [
      "Optimization step 10: Dipoles\n"
     ]
    },
    {
     "name": "stderr",
     "output_type": "stream",
     "text": [
      "2019-11-13 16:10:26,914  - INFO - [ 0.45151765 -0.1768106   0.          1.39176476  0.          0.\n",
      "  0.          0.          0.          0.          0.          0.\n",
      "  0.          0.          0.          0.        ]\n"
     ]
    },
    {
     "name": "stdout",
     "output_type": "stream",
     "text": [
      "[ 0.45151765 -0.1768106   0.          1.39176476  0.          0.\n",
      "  0.          0.          0.          0.          0.          0.\n",
      "  0.          0.          0.          0.        ]\n"
     ]
    }
   ],
   "source": [
    "alldirections=[['X+',[-0.01,0.0,0.0]],['X-',[0.01,0.0,0.0]],['Y+',[0.0,-0.01,0.0]],['Y-',[0.0,0.01,0.0]],['Z+',[0.0,0.0,-0.01]],['Z-',[0.0,0.0,0.01]]]\n",
    "ROOT_DIR_PATH='/home/mschauperl/kirk/charge_method/medium_set/'\n",
    "test = resppol.resppol.TrainingSet(mode='q_alpha',SCF= False, thole = False, FF='resppol/data/test_data/BCCelementPOL.offxml')\n",
    "\n",
    "\n",
    "for nmol in range(1,2,1):\n",
    "    print('Read in Molecule {}'.format(nmol))\n",
    "    nconf=0\n",
    "    datei = os.path.join(ROOT_DIR_PATH, 'molecule{}/conf0/mp2_0.mol2'.format(nmol))\n",
    "    am1_datei = os.path.join(ROOT_DIR_PATH, 'molecule{}/conf0/mp2_0.mol2'.format(nmol))\n",
    "    test.add_molecule(datei, am1_mol2_file=am1_datei)\n",
    "    directory=os.path.join(ROOT_DIR_PATH,'molecule{}'.format(nmol))\n",
    "    for dire in os.listdir(directory):\n",
    "        if os.path.isdir(os.path.join(directory,dire)):\n",
    "            datei = os.path.join(ROOT_DIR_PATH, 'molecule{0}/conf{1}/mp2_{1}.mol2'.format(nmol,nconf))\n",
    "            test.molecules[nmol-1].add_conformer_from_mol2(datei)\n",
    "            espfile = os.path.join(ROOT_DIR_PATH, 'molecule{0}/conf{1}/molecule{1}.gesp'.format(nmol,nconf))\n",
    "            test.molecules[nmol-1].conformers[nconf].add_baseESP(espfile)\n",
    "            print(\"Read in {}\".format(espfile))\n",
    "            for direction,vector in alldirections:\n",
    "                espfile = os.path.join(ROOT_DIR_PATH, 'molecule{}/conf{}/molecule_{}.gesp'.format(nmol,nconf,direction))\n",
    "                test.molecules[nmol-1].conformers[nconf].add_polESP(espfile, e_field=Q_(vector, 'elementary_charge / bohr / bohr'))\n",
    "                print(\"Read in {} {}\".format(espfile,vector))\n",
    "            nconf+=1\n",
    "test.optimize_bcc_alpha()"
   ]
  },
  {
   "cell_type": "code",
   "execution_count": null,
   "metadata": {},
   "outputs": [],
   "source": []
  }
 ],
 "metadata": {
  "kernelspec": {
   "display_name": "Python (resppol)",
   "language": "python",
   "name": "resppol"
  },
  "language_info": {
   "codemirror_mode": {
    "name": "ipython",
    "version": 3
   },
   "file_extension": ".py",
   "mimetype": "text/x-python",
   "name": "python",
   "nbconvert_exporter": "python",
   "pygments_lexer": "ipython3",
   "version": "3.6.7"
  }
 },
 "nbformat": 4,
 "nbformat_minor": 2
}
